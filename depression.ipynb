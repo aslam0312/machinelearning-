{
 "cells": [
  {
   "cell_type": "code",
   "execution_count": 881,
   "metadata": {},
   "outputs": [],
   "source": [
    "import pandas as pd\n",
    "import matplotlib.pyplot as plt\n",
    "import seaborn as sns\n",
    "import numpy as np"
   ]
  },
  {
   "cell_type": "code",
   "execution_count": 882,
   "metadata": {},
   "outputs": [],
   "source": [
    "df=df = pd.read_csv('StudentDepressionDataset.csv')"
   ]
  },
  {
   "cell_type": "code",
   "execution_count": 883,
   "metadata": {},
   "outputs": [
    {
     "data": {
      "text/html": [
       "<div>\n",
       "<style scoped>\n",
       "    .dataframe tbody tr th:only-of-type {\n",
       "        vertical-align: middle;\n",
       "    }\n",
       "\n",
       "    .dataframe tbody tr th {\n",
       "        vertical-align: top;\n",
       "    }\n",
       "\n",
       "    .dataframe thead th {\n",
       "        text-align: right;\n",
       "    }\n",
       "</style>\n",
       "<table border=\"1\" class=\"dataframe\">\n",
       "  <thead>\n",
       "    <tr style=\"text-align: right;\">\n",
       "      <th></th>\n",
       "      <th>id</th>\n",
       "      <th>Gender</th>\n",
       "      <th>Age</th>\n",
       "      <th>City</th>\n",
       "      <th>Profession</th>\n",
       "      <th>Academic Pressure</th>\n",
       "      <th>Work Pressure</th>\n",
       "      <th>CGPA</th>\n",
       "      <th>Study Satisfaction</th>\n",
       "      <th>Job Satisfaction</th>\n",
       "      <th>Sleep Duration</th>\n",
       "      <th>Dietary Habits</th>\n",
       "      <th>Degree</th>\n",
       "      <th>Have you ever had suicidal thoughts ?</th>\n",
       "      <th>Work/Study Hours</th>\n",
       "      <th>Financial Stress</th>\n",
       "      <th>Family History of Mental Illness</th>\n",
       "      <th>Depression</th>\n",
       "    </tr>\n",
       "  </thead>\n",
       "  <tbody>\n",
       "    <tr>\n",
       "      <th>13799</th>\n",
       "      <td>69876</td>\n",
       "      <td>Male</td>\n",
       "      <td>34.0</td>\n",
       "      <td>Kanpur</td>\n",
       "      <td>Student</td>\n",
       "      <td>3.0</td>\n",
       "      <td>0.0</td>\n",
       "      <td>8.59</td>\n",
       "      <td>2.0</td>\n",
       "      <td>0.0</td>\n",
       "      <td>Less than 5 hours</td>\n",
       "      <td>Unhealthy</td>\n",
       "      <td>B.Com</td>\n",
       "      <td>Yes</td>\n",
       "      <td>8.0</td>\n",
       "      <td>3.0</td>\n",
       "      <td>No</td>\n",
       "      <td>1</td>\n",
       "    </tr>\n",
       "    <tr>\n",
       "      <th>823</th>\n",
       "      <td>4243</td>\n",
       "      <td>Female</td>\n",
       "      <td>29.0</td>\n",
       "      <td>Meerut</td>\n",
       "      <td>Student</td>\n",
       "      <td>4.0</td>\n",
       "      <td>0.0</td>\n",
       "      <td>8.96</td>\n",
       "      <td>3.0</td>\n",
       "      <td>0.0</td>\n",
       "      <td>More than 8 hours</td>\n",
       "      <td>Unhealthy</td>\n",
       "      <td>B.Tech</td>\n",
       "      <td>No</td>\n",
       "      <td>9.0</td>\n",
       "      <td>2.0</td>\n",
       "      <td>No</td>\n",
       "      <td>0</td>\n",
       "    </tr>\n",
       "    <tr>\n",
       "      <th>15983</th>\n",
       "      <td>80804</td>\n",
       "      <td>Male</td>\n",
       "      <td>30.0</td>\n",
       "      <td>Ludhiana</td>\n",
       "      <td>Student</td>\n",
       "      <td>3.0</td>\n",
       "      <td>0.0</td>\n",
       "      <td>6.47</td>\n",
       "      <td>4.0</td>\n",
       "      <td>0.0</td>\n",
       "      <td>Less than 5 hours</td>\n",
       "      <td>Moderate</td>\n",
       "      <td>M.Com</td>\n",
       "      <td>Yes</td>\n",
       "      <td>11.0</td>\n",
       "      <td>5.0</td>\n",
       "      <td>No</td>\n",
       "      <td>1</td>\n",
       "    </tr>\n",
       "  </tbody>\n",
       "</table>\n",
       "</div>"
      ],
      "text/plain": [
       "          id  Gender   Age      City Profession  Academic Pressure  \\\n",
       "13799  69876    Male  34.0    Kanpur    Student                3.0   \n",
       "823     4243  Female  29.0    Meerut    Student                4.0   \n",
       "15983  80804    Male  30.0  Ludhiana    Student                3.0   \n",
       "\n",
       "       Work Pressure  CGPA  Study Satisfaction  Job Satisfaction  \\\n",
       "13799            0.0  8.59                 2.0               0.0   \n",
       "823              0.0  8.96                 3.0               0.0   \n",
       "15983            0.0  6.47                 4.0               0.0   \n",
       "\n",
       "          Sleep Duration Dietary Habits  Degree  \\\n",
       "13799  Less than 5 hours      Unhealthy   B.Com   \n",
       "823    More than 8 hours      Unhealthy  B.Tech   \n",
       "15983  Less than 5 hours       Moderate   M.Com   \n",
       "\n",
       "      Have you ever had suicidal thoughts ?  Work/Study Hours  \\\n",
       "13799                                   Yes               8.0   \n",
       "823                                      No               9.0   \n",
       "15983                                   Yes              11.0   \n",
       "\n",
       "       Financial Stress Family History of Mental Illness  Depression  \n",
       "13799               3.0                               No           1  \n",
       "823                 2.0                               No           0  \n",
       "15983               5.0                               No           1  "
      ]
     },
     "execution_count": 883,
     "metadata": {},
     "output_type": "execute_result"
    }
   ],
   "source": [
    "df.sample(3)"
   ]
  },
  {
   "cell_type": "code",
   "execution_count": 884,
   "metadata": {},
   "outputs": [
    {
     "data": {
      "text/plain": [
       "(27901, 17)"
      ]
     },
     "execution_count": 884,
     "metadata": {},
     "output_type": "execute_result"
    }
   ],
   "source": [
    "# remove id column as it is not needed\n",
    "df.drop('id', axis=1, inplace=True)\n",
    "df.shape\n",
    "\n"
   ]
  },
  {
   "cell_type": "code",
   "execution_count": 885,
   "metadata": {},
   "outputs": [
    {
     "data": {
      "text/plain": [
       "Gender                                     2\n",
       "Age                                       34\n",
       "City                                      52\n",
       "Profession                                14\n",
       "Academic Pressure                          6\n",
       "Work Pressure                              3\n",
       "CGPA                                     332\n",
       "Study Satisfaction                         6\n",
       "Job Satisfaction                           5\n",
       "Sleep Duration                             5\n",
       "Dietary Habits                             4\n",
       "Degree                                    28\n",
       "Have you ever had suicidal thoughts ?      2\n",
       "Work/Study Hours                          13\n",
       "Financial Stress                           5\n",
       "Family History of Mental Illness           2\n",
       "Depression                                 2\n",
       "dtype: int64"
      ]
     },
     "execution_count": 885,
     "metadata": {},
     "output_type": "execute_result"
    }
   ],
   "source": [
    "df.nunique()"
   ]
  },
  {
   "cell_type": "code",
   "execution_count": 886,
   "metadata": {},
   "outputs": [
    {
     "name": "stdout",
     "output_type": "stream",
     "text": [
      "Number of Missing Values in Each Column:\n",
      " Gender                                   0\n",
      "Age                                      0\n",
      "City                                     0\n",
      "Profession                               0\n",
      "Academic Pressure                        0\n",
      "Work Pressure                            0\n",
      "CGPA                                     0\n",
      "Study Satisfaction                       0\n",
      "Job Satisfaction                         0\n",
      "Sleep Duration                           0\n",
      "Dietary Habits                           0\n",
      "Degree                                   0\n",
      "Have you ever had suicidal thoughts ?    0\n",
      "Work/Study Hours                         0\n",
      "Financial Stress                         3\n",
      "Family History of Mental Illness         0\n",
      "Depression                               0\n",
      "dtype: int64\n"
     ]
    }
   ],
   "source": [
    "missing_values_count = df.isnull().sum()\n",
    "print(\"Number of Missing Values in Each Column:\\n\", missing_values_count)"
   ]
  },
  {
   "cell_type": "code",
   "execution_count": 887,
   "metadata": {},
   "outputs": [
    {
     "name": "stderr",
     "output_type": "stream",
     "text": [
      "C:\\Users\\aslam\\AppData\\Local\\Temp\\ipykernel_33520\\3258471088.py:2: FutureWarning: A value is trying to be set on a copy of a DataFrame or Series through chained assignment using an inplace method.\n",
      "The behavior will change in pandas 3.0. This inplace method will never work because the intermediate object on which we are setting values always behaves as a copy.\n",
      "\n",
      "For example, when doing 'df[col].method(value, inplace=True)', try using 'df.method({col: value}, inplace=True)' or df[col] = df[col].method(value) instead, to perform the operation inplace on the original object.\n",
      "\n",
      "\n",
      "  df['Financial Stress'].fillna(df['Financial Stress'].mean(), inplace=True)\n"
     ]
    },
    {
     "data": {
      "text/plain": [
       "Gender                                   0\n",
       "Age                                      0\n",
       "City                                     0\n",
       "Profession                               0\n",
       "Academic Pressure                        0\n",
       "Work Pressure                            0\n",
       "CGPA                                     0\n",
       "Study Satisfaction                       0\n",
       "Job Satisfaction                         0\n",
       "Sleep Duration                           0\n",
       "Dietary Habits                           0\n",
       "Degree                                   0\n",
       "Have you ever had suicidal thoughts ?    0\n",
       "Work/Study Hours                         0\n",
       "Financial Stress                         0\n",
       "Family History of Mental Illness         0\n",
       "Depression                               0\n",
       "dtype: int64"
      ]
     },
     "execution_count": 887,
     "metadata": {},
     "output_type": "execute_result"
    }
   ],
   "source": [
    "# make missing values of financial stress to be the mean of the column\n",
    "df['Financial Stress'].fillna(df['Financial Stress'].mean(), inplace=True)\n",
    "# ensure that there are no missing values\n",
    "df.isnull().sum()\n"
   ]
  },
  {
   "cell_type": "code",
   "execution_count": 888,
   "metadata": {},
   "outputs": [
    {
     "data": {
      "text/plain": [
       "(27901, 17)"
      ]
     },
     "execution_count": 888,
     "metadata": {},
     "output_type": "execute_result"
    }
   ],
   "source": [
    "df.shape"
   ]
  },
  {
   "cell_type": "code",
   "execution_count": 889,
   "metadata": {},
   "outputs": [
    {
     "data": {
      "text/plain": [
       "Financial Stress\n",
       "5.000000    6715\n",
       "4.000000    5775\n",
       "3.000000    5226\n",
       "1.000000    5121\n",
       "2.000000    5061\n",
       "3.139867       3\n",
       "Name: count, dtype: int64"
      ]
     },
     "execution_count": 889,
     "metadata": {},
     "output_type": "execute_result"
    }
   ],
   "source": [
    "# checking unique values in financial stress column\n",
    "df['Financial Stress'].value_counts()"
   ]
  },
  {
   "cell_type": "code",
   "execution_count": 890,
   "metadata": {},
   "outputs": [],
   "source": [
    "# removing rows with values of age appearing less than or equal to 4 times as they are not enough to make a good prediction\n",
    "df = df[df['Financial Stress'].map(df['Financial Stress'].value_counts()) >=4]"
   ]
  },
  {
   "cell_type": "code",
   "execution_count": 891,
   "metadata": {},
   "outputs": [
    {
     "data": {
      "text/plain": [
       "(27898, 17)"
      ]
     },
     "execution_count": 891,
     "metadata": {},
     "output_type": "execute_result"
    }
   ],
   "source": [
    "df.shape"
   ]
  },
  {
   "cell_type": "code",
   "execution_count": 892,
   "metadata": {},
   "outputs": [],
   "source": [
    "# while evaluating the df.nununique()\n",
    "# job satisfaction is mostly 0, so we can drop it, as it will not be useful\n",
    "# profession is mostly student, so we can drop it, as it will not be useful\n",
    "# work pressure is mostly 0, so we can drop it, as it will not be useful\n",
    "df.drop(['Job Satisfaction', 'Profession','Work Pressure'], axis=1, inplace=True)\n"
   ]
  },
  {
   "cell_type": "code",
   "execution_count": 893,
   "metadata": {},
   "outputs": [
    {
     "data": {
      "text/plain": [
       "(27898, 14)"
      ]
     },
     "execution_count": 893,
     "metadata": {},
     "output_type": "execute_result"
    }
   ],
   "source": [
    "df.shape"
   ]
  },
  {
   "cell_type": "code",
   "execution_count": 894,
   "metadata": {},
   "outputs": [],
   "source": [
    "#  Remove Rows with 'Others' in Sleep Duration, Dietary Habits, Degree as they appear to less times\n",
    "#  reminder better to do a visual for the others\n",
    "df = df[~df['Sleep Duration'].str.contains('Others', na=False)]\n",
    "df = df[~df['Dietary Habits'].str.contains('Others', na=False)]\n",
    "df = df[~df['Degree'].str.contains('Others', na=False)]\n",
    "\n",
    "#  Remove Rows with Study Satisfaction Value Equal to 0\n",
    "df = df[df['Study Satisfaction'] != 0]\n",
    "\n",
    "# check the shape of the data after cleaning\n",
    "df.shape\n"
   ]
  },
  {
   "cell_type": "code",
   "execution_count": 896,
   "metadata": {},
   "outputs": [
    {
     "data": {
      "text/plain": [
       "Gender                                     2\n",
       "Age                                       34\n",
       "City                                      52\n",
       "Academic Pressure                          6\n",
       "CGPA                                     332\n",
       "Study Satisfaction                         5\n",
       "Sleep Duration                             4\n",
       "Dietary Habits                             3\n",
       "Degree                                    27\n",
       "Have you ever had suicidal thoughts ?      2\n",
       "Work/Study Hours                          13\n",
       "Financial Stress                           5\n",
       "Family History of Mental Illness           2\n",
       "Depression                                 2\n",
       "dtype: int64"
      ]
     },
     "execution_count": 896,
     "metadata": {},
     "output_type": "execute_result"
    }
   ],
   "source": [
    "df.nunique()"
   ]
  },
  {
   "cell_type": "code",
   "execution_count": 897,
   "metadata": {},
   "outputs": [
    {
     "data": {
      "text/plain": [
       "Age\n",
       "24.0    2254\n",
       "20.0    2230\n",
       "28.0    2126\n",
       "29.0    1946\n",
       "33.0    1890\n",
       "25.0    1781\n",
       "21.0    1724\n",
       "23.0    1638\n",
       "18.0    1581\n",
       "19.0    1559\n",
       "34.0    1464\n",
       "27.0    1457\n",
       "31.0    1423\n",
       "32.0    1255\n",
       "22.0    1157\n",
       "26.0    1152\n",
       "30.0    1138\n",
       "35.0      10\n",
       "38.0       7\n",
       "36.0       7\n",
       "42.0       4\n",
       "39.0       3\n",
       "48.0       3\n",
       "46.0       2\n",
       "43.0       2\n",
       "37.0       2\n",
       "44.0       1\n",
       "51.0       1\n",
       "49.0       1\n",
       "58.0       1\n",
       "54.0       1\n",
       "59.0       1\n",
       "56.0       1\n",
       "41.0       1\n",
       "Name: count, dtype: int64"
      ]
     },
     "execution_count": 897,
     "metadata": {},
     "output_type": "execute_result"
    }
   ],
   "source": [
    "df['Age'].value_counts()"
   ]
  },
  {
   "cell_type": "code",
   "execution_count": 898,
   "metadata": {},
   "outputs": [],
   "source": [
    "# removing rows with values of age appearing less than or equal to 10 times as they are not enough to make a good prediction\n",
    "df = df[df['Age'].map(df['Age'].value_counts()) >= 11]\n",
    "\n",
    "# check the shape of the data after cleaning\n",
    "df.shape"
   ]
  },
  {
   "cell_type": "code",
   "execution_count": 900,
   "metadata": {},
   "outputs": [
    {
     "data": {
      "text/plain": [
       "Gender                                     2\n",
       "Age                                       17\n",
       "City                                      52\n",
       "Academic Pressure                          6\n",
       "CGPA                                     331\n",
       "Study Satisfaction                         5\n",
       "Sleep Duration                             4\n",
       "Dietary Habits                             3\n",
       "Degree                                    27\n",
       "Have you ever had suicidal thoughts ?      2\n",
       "Work/Study Hours                          13\n",
       "Financial Stress                           5\n",
       "Family History of Mental Illness           2\n",
       "Depression                                 2\n",
       "dtype: int64"
      ]
     },
     "execution_count": 900,
     "metadata": {},
     "output_type": "execute_result"
    }
   ],
   "source": [
    "df.nunique()"
   ]
  },
  {
   "cell_type": "code",
   "execution_count": 901,
   "metadata": {},
   "outputs": [
    {
     "data": {
      "text/plain": [
       "City\n",
       "Kalyan                1565\n",
       "Srinagar              1365\n",
       "Hyderabad             1335\n",
       "Vasai-Virar           1286\n",
       "Lucknow               1150\n",
       "Thane                 1138\n",
       "Ludhiana              1106\n",
       "Agra                  1089\n",
       "Surat                 1076\n",
       "Kolkata               1055\n",
       "Jaipur                1035\n",
       "Patna                  999\n",
       "Pune                   966\n",
       "Visakhapatnam          964\n",
       "Ahmedabad              944\n",
       "Bhopal                 929\n",
       "Chennai                883\n",
       "Meerut                 820\n",
       "Rajkot                 810\n",
       "Bangalore              765\n",
       "Delhi                  765\n",
       "Ghaziabad              741\n",
       "Mumbai                 694\n",
       "Vadodara               690\n",
       "Varanasi               682\n",
       "Nagpur                 646\n",
       "Indore                 642\n",
       "Kanpur                 607\n",
       "Nashik                 544\n",
       "Faridabad              458\n",
       "Saanvi                   2\n",
       "Bhavna                   2\n",
       "City                     2\n",
       "Harsha                   2\n",
       "Less Delhi               1\n",
       "M.Tech                   1\n",
       "3.0                      1\n",
       "Less than 5 Kalyan       1\n",
       "Mira                     1\n",
       "Vaanya                   1\n",
       "Gaurav                   1\n",
       "Harsh                    1\n",
       "Reyansh                  1\n",
       "Kibara                   1\n",
       "Rashi                    1\n",
       "ME                       1\n",
       "M.Com                    1\n",
       "Nalyan                   1\n",
       "Mihir                    1\n",
       "Nalini                   1\n",
       "Nandini                  1\n",
       "Khaziabad                1\n",
       "Name: count, dtype: int64"
      ]
     },
     "execution_count": 901,
     "metadata": {},
     "output_type": "execute_result"
    }
   ],
   "source": [
    "df['City'].value_counts()"
   ]
  },
  {
   "cell_type": "code",
   "execution_count": 902,
   "metadata": {},
   "outputs": [],
   "source": [
    "# removing rows with values of City appearing less than or equal to 3 times as they are not enough to make a good prediction\n",
    "df = df[df['City'].map(df['City'].value_counts()) >= 3]"
   ]
  },
  {
   "cell_type": "code",
   "execution_count": 903,
   "metadata": {},
   "outputs": [
    {
     "data": {
      "text/plain": [
       "(27749, 14)"
      ]
     },
     "execution_count": 903,
     "metadata": {},
     "output_type": "execute_result"
    }
   ],
   "source": [
    "df.shape"
   ]
  },
  {
   "cell_type": "code",
   "execution_count": 904,
   "metadata": {},
   "outputs": [
    {
     "data": {
      "text/plain": [
       "Degree\n",
       "Class 12    6054\n",
       "B.Ed        1859\n",
       "B.Com       1501\n",
       "B.Arch      1474\n",
       "BCA         1429\n",
       "MSc         1185\n",
       "B.Tech      1151\n",
       "MCA         1037\n",
       "M.Tech      1018\n",
       "BHM          923\n",
       "BSc          882\n",
       "M.Ed         815\n",
       "B.Pharm      809\n",
       "M.Com        731\n",
       "BBA          696\n",
       "MBBS         689\n",
       "LLB          668\n",
       "BE           609\n",
       "BA           595\n",
       "M.Pharm      580\n",
       "MD           569\n",
       "MBA          560\n",
       "MA           544\n",
       "PhD          515\n",
       "LLM          481\n",
       "MHM          191\n",
       "ME           184\n",
       "Name: count, dtype: int64"
      ]
     },
     "execution_count": 904,
     "metadata": {},
     "output_type": "execute_result"
    }
   ],
   "source": [
    "# there is too  many degrees, so we can group them into 3 categories by using our existing knowledge of degrees\n",
    "df['Degree'].value_counts()\n"
   ]
  },
  {
   "cell_type": "code",
   "execution_count": 905,
   "metadata": {},
   "outputs": [],
   "source": [
    "# we can see that there are many degrees, so we can group them into 3 categories for better encoding later \n",
    "\n",
    "# making class 12th as higher secondary\n",
    "df['Degree'] = df['Degree'].replace('Class 12th', 'Higher Secondary')\n"
   ]
  },
  {
   "cell_type": "code",
   "execution_count": 906,
   "metadata": {},
   "outputs": [],
   "source": [
    "# making bachelors\n",
    "bachelors_replacements = {\n",
    "    'B.Ed': 'Bachelor',\n",
    "    'B.Com': 'Bachelor',\n",
    "    'B.Pharm': 'Bachelor',\n",
    "    'BCA': 'Bachelor',\n",
    "    'BE': 'Bachelor',\n",
    "    'BHM': 'Bachelor',\n",
    "    'MBBS': 'Bachelor', \n",
    "    'LLB': 'Bachelor',\n",
    "    'BA': 'Bachelor',\n",
    "    'B.Arch': 'Bachelor',\n",
    "    'BBA': 'Bachelor',\n",
    "    'B.Tech': 'Bachelor',\n",
    "    'BSc': 'Bachelor',\n",
    "}\n",
    "\n",
    "# Apply replacements\n",
    "df['Degree'] = df['Degree'].replace(bachelors_replacements)"
   ]
  },
  {
   "cell_type": "code",
   "execution_count": 907,
   "metadata": {},
   "outputs": [],
   "source": [
    "# making masters\n",
    "master_replacements = {\n",
    "    'M.Tech': 'Master',\n",
    "    'MCA': 'Master',\n",
    "    'MBA': 'Master',\n",
    "    'MSc': 'Master',\n",
    "    'M.Com': 'Master',\n",
    "    'MA': 'Master',\n",
    "    'MHM': 'Master',\n",
    "    'M.Arch': 'Master',\n",
    "    'M.Pharm': 'Master',\n",
    "    'ME': 'Master',  \n",
    "    'LLM': 'Master',\n",
    "    'MD': 'Master',  \n",
    "    'M.Ed': 'Master',\n",
    "    'PhD': 'Master' \n",
    "}\n",
    "\n",
    "# Apply replacements\n",
    "df['Degree'] = df['Degree'].replace(master_replacements)\n",
    "\n"
   ]
  },
  {
   "cell_type": "code",
   "execution_count": 908,
   "metadata": {},
   "outputs": [
    {
     "data": {
      "text/html": [
       "<div>\n",
       "<style scoped>\n",
       "    .dataframe tbody tr th:only-of-type {\n",
       "        vertical-align: middle;\n",
       "    }\n",
       "\n",
       "    .dataframe tbody tr th {\n",
       "        vertical-align: top;\n",
       "    }\n",
       "\n",
       "    .dataframe thead th {\n",
       "        text-align: right;\n",
       "    }\n",
       "</style>\n",
       "<table border=\"1\" class=\"dataframe\">\n",
       "  <thead>\n",
       "    <tr style=\"text-align: right;\">\n",
       "      <th></th>\n",
       "      <th>Gender</th>\n",
       "      <th>Age</th>\n",
       "      <th>City</th>\n",
       "      <th>Academic Pressure</th>\n",
       "      <th>CGPA</th>\n",
       "      <th>Study Satisfaction</th>\n",
       "      <th>Sleep Duration</th>\n",
       "      <th>Dietary Habits</th>\n",
       "      <th>Degree</th>\n",
       "      <th>Have you ever had suicidal thoughts ?</th>\n",
       "      <th>Work/Study Hours</th>\n",
       "      <th>Financial Stress</th>\n",
       "      <th>Family History of Mental Illness</th>\n",
       "      <th>Depression</th>\n",
       "    </tr>\n",
       "  </thead>\n",
       "  <tbody>\n",
       "    <tr>\n",
       "      <th>4751</th>\n",
       "      <td>Male</td>\n",
       "      <td>33.0</td>\n",
       "      <td>Nagpur</td>\n",
       "      <td>4.0</td>\n",
       "      <td>6.75</td>\n",
       "      <td>2.0</td>\n",
       "      <td>Less than 5 hours</td>\n",
       "      <td>Moderate</td>\n",
       "      <td>Master</td>\n",
       "      <td>No</td>\n",
       "      <td>0.0</td>\n",
       "      <td>1.0</td>\n",
       "      <td>Yes</td>\n",
       "      <td>0</td>\n",
       "    </tr>\n",
       "    <tr>\n",
       "      <th>10985</th>\n",
       "      <td>Female</td>\n",
       "      <td>22.0</td>\n",
       "      <td>Kolkata</td>\n",
       "      <td>4.0</td>\n",
       "      <td>7.14</td>\n",
       "      <td>1.0</td>\n",
       "      <td>Less than 5 hours</td>\n",
       "      <td>Healthy</td>\n",
       "      <td>Master</td>\n",
       "      <td>Yes</td>\n",
       "      <td>10.0</td>\n",
       "      <td>3.0</td>\n",
       "      <td>No</td>\n",
       "      <td>1</td>\n",
       "    </tr>\n",
       "    <tr>\n",
       "      <th>9702</th>\n",
       "      <td>Male</td>\n",
       "      <td>19.0</td>\n",
       "      <td>Chennai</td>\n",
       "      <td>2.0</td>\n",
       "      <td>7.83</td>\n",
       "      <td>5.0</td>\n",
       "      <td>7-8 hours</td>\n",
       "      <td>Healthy</td>\n",
       "      <td>Class 12</td>\n",
       "      <td>Yes</td>\n",
       "      <td>7.0</td>\n",
       "      <td>5.0</td>\n",
       "      <td>Yes</td>\n",
       "      <td>1</td>\n",
       "    </tr>\n",
       "  </tbody>\n",
       "</table>\n",
       "</div>"
      ],
      "text/plain": [
       "       Gender   Age     City  Academic Pressure  CGPA  Study Satisfaction  \\\n",
       "4751     Male  33.0   Nagpur                4.0  6.75                 2.0   \n",
       "10985  Female  22.0  Kolkata                4.0  7.14                 1.0   \n",
       "9702     Male  19.0  Chennai                2.0  7.83                 5.0   \n",
       "\n",
       "          Sleep Duration Dietary Habits    Degree  \\\n",
       "4751   Less than 5 hours       Moderate    Master   \n",
       "10985  Less than 5 hours        Healthy    Master   \n",
       "9702           7-8 hours        Healthy  Class 12   \n",
       "\n",
       "      Have you ever had suicidal thoughts ?  Work/Study Hours  \\\n",
       "4751                                     No               0.0   \n",
       "10985                                   Yes              10.0   \n",
       "9702                                    Yes               7.0   \n",
       "\n",
       "       Financial Stress Family History of Mental Illness  Depression  \n",
       "4751                1.0                              Yes           0  \n",
       "10985               3.0                               No           1  \n",
       "9702                5.0                              Yes           1  "
      ]
     },
     "execution_count": 908,
     "metadata": {},
     "output_type": "execute_result"
    }
   ],
   "source": [
    "df.sample(3)"
   ]
  },
  {
   "cell_type": "code",
   "execution_count": 909,
   "metadata": {},
   "outputs": [],
   "source": [
    "# doing one hot encoding for the categorical variables\n",
    "df = pd.get_dummies(df, columns=['City', 'Degree', 'Sleep Duration', 'Dietary Habits'])\n"
   ]
  },
  {
   "cell_type": "code",
   "execution_count": 910,
   "metadata": {},
   "outputs": [
    {
     "data": {
      "text/plain": [
       "(27749, 50)"
      ]
     },
     "execution_count": 910,
     "metadata": {},
     "output_type": "execute_result"
    }
   ],
   "source": [
    "df.shape"
   ]
  },
  {
   "cell_type": "code",
   "execution_count": 911,
   "metadata": {},
   "outputs": [
    {
     "name": "stdout",
     "output_type": "stream",
     "text": [
      "<class 'pandas.core.frame.DataFrame'>\n",
      "Index: 27749 entries, 0 to 27900\n",
      "Data columns (total 50 columns):\n",
      " #   Column                                 Non-Null Count  Dtype  \n",
      "---  ------                                 --------------  -----  \n",
      " 0   Gender                                 27749 non-null  object \n",
      " 1   Age                                    27749 non-null  float64\n",
      " 2   Academic Pressure                      27749 non-null  float64\n",
      " 3   CGPA                                   27749 non-null  float64\n",
      " 4   Study Satisfaction                     27749 non-null  float64\n",
      " 5   Have you ever had suicidal thoughts ?  27749 non-null  object \n",
      " 6   Work/Study Hours                       27749 non-null  float64\n",
      " 7   Financial Stress                       27749 non-null  float64\n",
      " 8   Family History of Mental Illness       27749 non-null  object \n",
      " 9   Depression                             27749 non-null  int64  \n",
      " 10  City_Agra                              27749 non-null  bool   \n",
      " 11  City_Ahmedabad                         27749 non-null  bool   \n",
      " 12  City_Bangalore                         27749 non-null  bool   \n",
      " 13  City_Bhopal                            27749 non-null  bool   \n",
      " 14  City_Chennai                           27749 non-null  bool   \n",
      " 15  City_Delhi                             27749 non-null  bool   \n",
      " 16  City_Faridabad                         27749 non-null  bool   \n",
      " 17  City_Ghaziabad                         27749 non-null  bool   \n",
      " 18  City_Hyderabad                         27749 non-null  bool   \n",
      " 19  City_Indore                            27749 non-null  bool   \n",
      " 20  City_Jaipur                            27749 non-null  bool   \n",
      " 21  City_Kalyan                            27749 non-null  bool   \n",
      " 22  City_Kanpur                            27749 non-null  bool   \n",
      " 23  City_Kolkata                           27749 non-null  bool   \n",
      " 24  City_Lucknow                           27749 non-null  bool   \n",
      " 25  City_Ludhiana                          27749 non-null  bool   \n",
      " 26  City_Meerut                            27749 non-null  bool   \n",
      " 27  City_Mumbai                            27749 non-null  bool   \n",
      " 28  City_Nagpur                            27749 non-null  bool   \n",
      " 29  City_Nashik                            27749 non-null  bool   \n",
      " 30  City_Patna                             27749 non-null  bool   \n",
      " 31  City_Pune                              27749 non-null  bool   \n",
      " 32  City_Rajkot                            27749 non-null  bool   \n",
      " 33  City_Srinagar                          27749 non-null  bool   \n",
      " 34  City_Surat                             27749 non-null  bool   \n",
      " 35  City_Thane                             27749 non-null  bool   \n",
      " 36  City_Vadodara                          27749 non-null  bool   \n",
      " 37  City_Varanasi                          27749 non-null  bool   \n",
      " 38  City_Vasai-Virar                       27749 non-null  bool   \n",
      " 39  City_Visakhapatnam                     27749 non-null  bool   \n",
      " 40  Degree_Bachelor                        27749 non-null  bool   \n",
      " 41  Degree_Class 12                        27749 non-null  bool   \n",
      " 42  Degree_Master                          27749 non-null  bool   \n",
      " 43  Sleep Duration_5-6 hours               27749 non-null  bool   \n",
      " 44  Sleep Duration_7-8 hours               27749 non-null  bool   \n",
      " 45  Sleep Duration_Less than 5 hours       27749 non-null  bool   \n",
      " 46  Sleep Duration_More than 8 hours       27749 non-null  bool   \n",
      " 47  Dietary Habits_Healthy                 27749 non-null  bool   \n",
      " 48  Dietary Habits_Moderate                27749 non-null  bool   \n",
      " 49  Dietary Habits_Unhealthy               27749 non-null  bool   \n",
      "dtypes: bool(40), float64(6), int64(1), object(3)\n",
      "memory usage: 3.4+ MB\n"
     ]
    }
   ],
   "source": [
    "df.info ()"
   ]
  },
  {
   "cell_type": "code",
   "execution_count": 912,
   "metadata": {},
   "outputs": [],
   "source": [
    "# mental illness,sucidial thoughts, and gender are objects but only got 2 answers but in string  so we can convert them to binary\n",
    "df['Family History of Mental Illness'] = df['Family History of Mental Illness'].map({'Yes': 1, 'No': 0})\n",
    "df['Have you ever had suicidal thoughts ?'] = df['Have you ever had suicidal thoughts ?'].map({'Yes': 1, 'No': 0})\n",
    "df['Gender']=df['Gender'].map({'Male':1 , 'Female':0})\n",
    "\n"
   ]
  },
  {
   "cell_type": "code",
   "execution_count": 913,
   "metadata": {},
   "outputs": [],
   "source": [
    "# split data into X and y\n",
    "X=df.drop('Depression', axis=1)\n",
    "y=df['Depression']\n"
   ]
  },
  {
   "cell_type": "code",
   "execution_count": 914,
   "metadata": {},
   "outputs": [],
   "source": [
    "# split data into train and test\n",
    "from sklearn.model_selection import train_test_split\n",
    "X_train, X_test, y_train, y_test = train_test_split(X, y, test_size=0.2, random_state=42)\n"
   ]
  },
  {
   "cell_type": "code",
   "execution_count": 915,
   "metadata": {},
   "outputs": [
    {
     "name": "stdout",
     "output_type": "stream",
     "text": [
      "Accuracy: 0.8367567567567568\n",
      "Mean Squared Error: 0.16324324324324324\n",
      "Mean Absolute Error: 0.16324324324324324\n"
     ]
    }
   ],
   "source": [
    "# logistic regression\n",
    "from sklearn.linear_model import LogisticRegression\n",
    "from sklearn.metrics import accuracy_score\n",
    "from sklearn.metrics import classification_report\n",
    "\n",
    "LR=LogisticRegression(solver='lbfgs', max_iter=1000)\n",
    "LR.fit(X_train, y_train)\n",
    "y_pred_LR=LR.predict(X_test)\n",
    "accuracy=accuracy_score(y_test, y_pred_LR)\n",
    "print('Accuracy:', accuracy)\n",
    "\n",
    "\n",
    "\n",
    "# mse\n",
    "from sklearn.metrics import mean_squared_error\n",
    "mse_LR=mean_squared_error(y_test, y_pred_LR)\n",
    "print('Mean Squared Error:', mse_LR)\n",
    "\n",
    "\n",
    "# mae\n",
    "from sklearn.metrics import mean_absolute_error\n",
    "mae_LR=mean_absolute_error(y_test, y_pred_LR)\n",
    "print('Mean Absolute Error:', mae_LR)\n",
    "\n",
    "\n",
    "\n"
   ]
  },
  {
   "cell_type": "code",
   "execution_count": 916,
   "metadata": {},
   "outputs": [
    {
     "name": "stdout",
     "output_type": "stream",
     "text": [
      "              precision    recall  f1-score   support\n",
      "\n",
      "           0       0.82      0.78      0.80      2296\n",
      "           1       0.85      0.88      0.86      3254\n",
      "\n",
      "    accuracy                           0.84      5550\n",
      "   macro avg       0.83      0.83      0.83      5550\n",
      "weighted avg       0.84      0.84      0.84      5550\n",
      "\n"
     ]
    }
   ],
   "source": [
    "print (classification_report(y_test,y_pred_LR))"
   ]
  },
  {
   "cell_type": "code",
   "execution_count": 917,
   "metadata": {},
   "outputs": [
    {
     "name": "stdout",
     "output_type": "stream",
     "text": [
      "Accuracy: 0.8369369369369369\n",
      "Mean Squared Error: 0.16306306306306306\n",
      "Mean Absolute Error: 0.16306306306306306\n"
     ]
    }
   ],
   "source": [
    "# linear discriminant analysis\n",
    "from sklearn.discriminant_analysis import LinearDiscriminantAnalysis\n",
    "from sklearn.metrics import accuracy_score\n",
    "\n",
    "LDA=LinearDiscriminantAnalysis()\n",
    "LDA.fit(X_train, y_train)\n",
    "y_pred_LDA=LDA.predict(X_test)\n",
    "accuracy=accuracy_score(y_test, y_pred_LDA)\n",
    "print('Accuracy:', accuracy)\n",
    "\n",
    "\n",
    "\n",
    "\n",
    "# mse\n",
    "from sklearn.metrics import mean_squared_error\n",
    "mse_LDA=mean_squared_error(y_test, y_pred_LDA)\n",
    "print('Mean Squared Error:', mse_LDA)\n",
    "\n",
    "# mae\n",
    "from sklearn.metrics import mean_absolute_error\n",
    "mae_LDA=mean_absolute_error(y_test, y_pred_LDA)\n",
    "print('Mean Absolute Error:', mae_LDA)\n"
   ]
  },
  {
   "cell_type": "code",
   "execution_count": 918,
   "metadata": {},
   "outputs": [
    {
     "name": "stdout",
     "output_type": "stream",
     "text": [
      "Accuracy: 0.7972972972972973\n",
      "Mean Squared Error: 0.20270270270270271\n",
      "Mean Absolute Error: 0.20270270270270271\n"
     ]
    }
   ],
   "source": [
    "# k neighbors classifier\n",
    "from sklearn.neighbors import KNeighborsClassifier\n",
    "from sklearn.metrics import accuracy_score\n",
    "\n",
    "KNN=KNeighborsClassifier()\n",
    "KNN.fit(X_train, y_train)\n",
    "y_pred_KNN=KNN.predict(X_test)\n",
    "accuracy=accuracy_score(y_test, y_pred_KNN)\n",
    "print('Accuracy:', accuracy)\n",
    "\n",
    "# mse\n",
    "from sklearn.metrics import mean_squared_error\n",
    "mse_KNN=mean_squared_error(y_test, y_pred_KNN)\n",
    "print('Mean Squared Error:', mse_KNN)\n",
    "\n",
    "# mae\n",
    "from sklearn.metrics import mean_absolute_error\n",
    "mae_KNN=mean_absolute_error(y_test, y_pred_KNN)\n",
    "print('Mean Absolute Error:', mae_KNN)\n",
    "\n"
   ]
  },
  {
   "cell_type": "code",
   "execution_count": 919,
   "metadata": {},
   "outputs": [
    {
     "name": "stdout",
     "output_type": "stream",
     "text": [
      "Accuracy: 0.7609009009009009\n",
      "mae: 0.2390990990990991\n",
      "mse: 0.2390990990990991\n"
     ]
    }
   ],
   "source": [
    "# decision tree classifier\n",
    "from sklearn.tree import DecisionTreeClassifier\n",
    "from sklearn.metrics import accuracy_score\n",
    "\n",
    "DTC=DecisionTreeClassifier()\n",
    "DTC.fit(X_train, y_train)\n",
    "y_pred_DTC=DTC.predict(X_test)\n",
    "accuracy=accuracy_score(y_test, y_pred_DTC)\n",
    "print('Accuracy:', accuracy)\n",
    "\n",
    "# mae\n",
    "from sklearn.metrics import mean_absolute_error\n",
    "mae=mean_absolute_error(y_test, y_pred_DTC)\n",
    "print('mae:',mae)\n",
    "\n",
    "# mse\n",
    "from sklearn.metrics import mean_squared_error\n",
    "mse=mean_squared_error(y_test, y_pred_DTC)\n",
    "print('mse:',mse)\n",
    "\n"
   ]
  },
  {
   "cell_type": "code",
   "execution_count": 920,
   "metadata": {},
   "outputs": [
    {
     "name": "stdout",
     "output_type": "stream",
     "text": [
      "Accuracy: 0.7612612612612613\n",
      "Mean Squared Error: 0.23873873873873874\n",
      "Mean Absolute Error: 0.23873873873873874\n"
     ]
    }
   ],
   "source": [
    "# guassian naive bayes\n",
    "from sklearn.naive_bayes import GaussianNB\n",
    "from sklearn.metrics import accuracy_score\n",
    "\n",
    "GNB=GaussianNB()\n",
    "GNB.fit(X_train, y_train)\n",
    "y_pred_GNB=GNB.predict(X_test)\n",
    "\n",
    "accuracy=accuracy_score(y_test, y_pred_GNB)\n",
    "print('Accuracy:', accuracy)\n",
    "\n",
    "# mse\n",
    "from sklearn.metrics import mean_squared_error\n",
    "mse_GNB=mean_squared_error(y_test, y_pred_GNB)\n",
    "print('Mean Squared Error:', mse_GNB)\n",
    "\n",
    "# mae\n",
    "from sklearn.metrics import mean_absolute_error\n",
    "mae_GNB=mean_absolute_error(y_test, y_pred_GNB)\n",
    "print('Mean Absolute Error:', mae_GNB)\n",
    "\n"
   ]
  },
  {
   "cell_type": "code",
   "execution_count": 921,
   "metadata": {},
   "outputs": [
    {
     "name": "stdout",
     "output_type": "stream",
     "text": [
      "Accuracy: 0.8356756756756757\n",
      "Mean Squared Error: 0.1643243243243243\n",
      "Mean Absolute Error: 0.1643243243243243\n"
     ]
    }
   ],
   "source": [
    "# svc\n",
    "from sklearn.svm import SVC\n",
    "from sklearn.metrics import accuracy_score\n",
    "\n",
    "SVM=SVC(gamma='auto')\n",
    "SVM.fit(X_train, y_train)\n",
    "y_pred_SVC=SVM.predict(X_test)\n",
    "accuracy=accuracy_score(y_test, y_pred_SVC)\n",
    "print('Accuracy:', accuracy)\n",
    "\n",
    "# mse\n",
    "from sklearn.metrics import mean_squared_error\n",
    "mse_SVC=mean_squared_error(y_test, y_pred_SVC)\n",
    "print('Mean Squared Error:', mse_SVC)\n",
    "\n",
    "\n",
    "# mae\n",
    "from sklearn.metrics import mean_absolute_error\n",
    "mae_SVC=mean_absolute_error(y_test, y_pred_SVC)\n",
    "print('Mean Absolute Error:', mae_SVC)\n",
    "\n"
   ]
  },
  {
   "cell_type": "code",
   "execution_count": 922,
   "metadata": {},
   "outputs": [
    {
     "data": {
      "text/plain": [
       "['model.pkl']"
      ]
     },
     "execution_count": 922,
     "metadata": {},
     "output_type": "execute_result"
    }
   ],
   "source": [
    "# dumping the model\n",
    "import joblib\n",
    "# choosing lr as the best model since the accuracy is the highest\n",
    "joblib.dump(LR, 'model.pkl')\n"
   ]
  },
  {
   "cell_type": "code",
   "execution_count": 830,
   "metadata": {},
   "outputs": [],
   "source": [
    "\n"
   ]
  },
  {
   "cell_type": "code",
   "execution_count": null,
   "metadata": {},
   "outputs": [],
   "source": []
  },
  {
   "cell_type": "code",
   "execution_count": null,
   "metadata": {},
   "outputs": [],
   "source": [
    "\n",
    "\n",
    "\n"
   ]
  },
  {
   "cell_type": "code",
   "execution_count": null,
   "metadata": {},
   "outputs": [],
   "source": []
  }
 ],
 "metadata": {
  "kernelspec": {
   "display_name": "Python 3",
   "language": "python",
   "name": "python3"
  },
  "language_info": {
   "codemirror_mode": {
    "name": "ipython",
    "version": 3
   },
   "file_extension": ".py",
   "mimetype": "text/x-python",
   "name": "python",
   "nbconvert_exporter": "python",
   "pygments_lexer": "ipython3",
   "version": "3.11.9"
  }
 },
 "nbformat": 4,
 "nbformat_minor": 2
}
