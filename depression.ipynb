{
 "cells": [
  {
   "cell_type": "code",
   "execution_count": 242,
   "metadata": {},
   "outputs": [],
   "source": [
    "import pandas as pd\n",
    "import matplotlib.pyplot as plt\n",
    "import seaborn as sns\n",
    "import numpy as np"
   ]
  },
  {
   "cell_type": "code",
   "execution_count": 243,
   "metadata": {},
   "outputs": [],
   "source": [
    "df=df = pd.read_csv('StudentDepressionDataset.csv')"
   ]
  },
  {
   "cell_type": "code",
   "execution_count": 244,
   "metadata": {},
   "outputs": [
    {
     "data": {
      "text/html": [
       "<div>\n",
       "<style scoped>\n",
       "    .dataframe tbody tr th:only-of-type {\n",
       "        vertical-align: middle;\n",
       "    }\n",
       "\n",
       "    .dataframe tbody tr th {\n",
       "        vertical-align: top;\n",
       "    }\n",
       "\n",
       "    .dataframe thead th {\n",
       "        text-align: right;\n",
       "    }\n",
       "</style>\n",
       "<table border=\"1\" class=\"dataframe\">\n",
       "  <thead>\n",
       "    <tr style=\"text-align: right;\">\n",
       "      <th></th>\n",
       "      <th>id</th>\n",
       "      <th>Gender</th>\n",
       "      <th>Age</th>\n",
       "      <th>City</th>\n",
       "      <th>Profession</th>\n",
       "      <th>Academic Pressure</th>\n",
       "      <th>Work Pressure</th>\n",
       "      <th>CGPA</th>\n",
       "      <th>Study Satisfaction</th>\n",
       "      <th>Job Satisfaction</th>\n",
       "      <th>Sleep Duration</th>\n",
       "      <th>Dietary Habits</th>\n",
       "      <th>Degree</th>\n",
       "      <th>Have you ever had suicidal thoughts ?</th>\n",
       "      <th>Work/Study Hours</th>\n",
       "      <th>Financial Stress</th>\n",
       "      <th>Family History of Mental Illness</th>\n",
       "      <th>Depression</th>\n",
       "    </tr>\n",
       "  </thead>\n",
       "  <tbody>\n",
       "    <tr>\n",
       "      <th>24483</th>\n",
       "      <td>123272</td>\n",
       "      <td>Female</td>\n",
       "      <td>33.0</td>\n",
       "      <td>Ahmedabad</td>\n",
       "      <td>Student</td>\n",
       "      <td>4.0</td>\n",
       "      <td>0.0</td>\n",
       "      <td>5.79</td>\n",
       "      <td>4.0</td>\n",
       "      <td>0.0</td>\n",
       "      <td>7-8 hours</td>\n",
       "      <td>Unhealthy</td>\n",
       "      <td>LLM</td>\n",
       "      <td>No</td>\n",
       "      <td>9.0</td>\n",
       "      <td>5.0</td>\n",
       "      <td>No</td>\n",
       "      <td>1</td>\n",
       "    </tr>\n",
       "    <tr>\n",
       "      <th>1656</th>\n",
       "      <td>8548</td>\n",
       "      <td>Female</td>\n",
       "      <td>20.0</td>\n",
       "      <td>Vadodara</td>\n",
       "      <td>Student</td>\n",
       "      <td>3.0</td>\n",
       "      <td>0.0</td>\n",
       "      <td>8.63</td>\n",
       "      <td>4.0</td>\n",
       "      <td>0.0</td>\n",
       "      <td>7-8 hours</td>\n",
       "      <td>Unhealthy</td>\n",
       "      <td>M.Tech</td>\n",
       "      <td>No</td>\n",
       "      <td>6.0</td>\n",
       "      <td>4.0</td>\n",
       "      <td>Yes</td>\n",
       "      <td>0</td>\n",
       "    </tr>\n",
       "    <tr>\n",
       "      <th>27701</th>\n",
       "      <td>139634</td>\n",
       "      <td>Female</td>\n",
       "      <td>21.0</td>\n",
       "      <td>Srinagar</td>\n",
       "      <td>Student</td>\n",
       "      <td>5.0</td>\n",
       "      <td>0.0</td>\n",
       "      <td>7.92</td>\n",
       "      <td>1.0</td>\n",
       "      <td>0.0</td>\n",
       "      <td>Less than 5 hours</td>\n",
       "      <td>Moderate</td>\n",
       "      <td>M.Com</td>\n",
       "      <td>Yes</td>\n",
       "      <td>12.0</td>\n",
       "      <td>5.0</td>\n",
       "      <td>No</td>\n",
       "      <td>1</td>\n",
       "    </tr>\n",
       "  </tbody>\n",
       "</table>\n",
       "</div>"
      ],
      "text/plain": [
       "           id  Gender   Age       City Profession  Academic Pressure  \\\n",
       "24483  123272  Female  33.0  Ahmedabad    Student                4.0   \n",
       "1656     8548  Female  20.0   Vadodara    Student                3.0   \n",
       "27701  139634  Female  21.0   Srinagar    Student                5.0   \n",
       "\n",
       "       Work Pressure  CGPA  Study Satisfaction  Job Satisfaction  \\\n",
       "24483            0.0  5.79                 4.0               0.0   \n",
       "1656             0.0  8.63                 4.0               0.0   \n",
       "27701            0.0  7.92                 1.0               0.0   \n",
       "\n",
       "          Sleep Duration Dietary Habits  Degree  \\\n",
       "24483          7-8 hours      Unhealthy     LLM   \n",
       "1656           7-8 hours      Unhealthy  M.Tech   \n",
       "27701  Less than 5 hours       Moderate   M.Com   \n",
       "\n",
       "      Have you ever had suicidal thoughts ?  Work/Study Hours  \\\n",
       "24483                                    No               9.0   \n",
       "1656                                     No               6.0   \n",
       "27701                                   Yes              12.0   \n",
       "\n",
       "       Financial Stress Family History of Mental Illness  Depression  \n",
       "24483               5.0                               No           1  \n",
       "1656                4.0                              Yes           0  \n",
       "27701               5.0                               No           1  "
      ]
     },
     "execution_count": 244,
     "metadata": {},
     "output_type": "execute_result"
    }
   ],
   "source": [
    "df.sample(3)"
   ]
  },
  {
   "cell_type": "code",
   "execution_count": 245,
   "metadata": {},
   "outputs": [
    {
     "data": {
      "text/plain": [
       "Index(['id', 'Gender', 'Age', 'City', 'Profession', 'Academic_Pressure',\n",
       "       'Work_Pressure', 'CGPA', 'Study_Satisfaction', 'Job_Satisfaction',\n",
       "       'Sleep_Duration', 'Dietary_Habits', 'Degree',\n",
       "       'Have_you_ever_had_suicidal_thoughts_', 'Work/Study_Hours',\n",
       "       'Financial_Stress', 'Family_History_of_Mental_Illness', 'Depression'],\n",
       "      dtype='object')"
      ]
     },
     "execution_count": 245,
     "metadata": {},
     "output_type": "execute_result"
    }
   ],
   "source": [
    "# CHANGING THE NAME OF THE COLUMNS WITH ? SUCH AS 'Have_you_ever_had_suicidal_thoughts' TO 'Have_you_ever_had_suicidal_thoughts'\n",
    "df.columns = df.columns.str.replace('?', '')\n",
    "# CHANGING THE NAME OF THE COLUMNS WITH GAP WITHOUT SPACE SUCH AS 'Financial Stress' TO 'Financial_Stress', 'Study Satisfaction' TO 'Study_Satisfaction'\n",
    "df.columns = df.columns.str.replace(' ', '_')\n",
    "\n",
    "df.columns"
   ]
  },
  {
   "cell_type": "code",
   "execution_count": 246,
   "metadata": {},
   "outputs": [
    {
     "data": {
      "text/plain": [
       "(27901, 17)"
      ]
     },
     "execution_count": 246,
     "metadata": {},
     "output_type": "execute_result"
    }
   ],
   "source": [
    "# remove id column as it is not needed\n",
    "df.drop('id', axis=1, inplace=True)\n",
    "df.shape\n",
    "\n"
   ]
  },
  {
   "cell_type": "code",
   "execution_count": 247,
   "metadata": {},
   "outputs": [
    {
     "data": {
      "text/plain": [
       "Gender                                    2\n",
       "Age                                      34\n",
       "City                                     52\n",
       "Profession                               14\n",
       "Academic_Pressure                         6\n",
       "Work_Pressure                             3\n",
       "CGPA                                    332\n",
       "Study_Satisfaction                        6\n",
       "Job_Satisfaction                          5\n",
       "Sleep_Duration                            5\n",
       "Dietary_Habits                            4\n",
       "Degree                                   28\n",
       "Have_you_ever_had_suicidal_thoughts_      2\n",
       "Work/Study_Hours                         13\n",
       "Financial_Stress                          5\n",
       "Family_History_of_Mental_Illness          2\n",
       "Depression                                2\n",
       "dtype: int64"
      ]
     },
     "execution_count": 247,
     "metadata": {},
     "output_type": "execute_result"
    }
   ],
   "source": [
    "df.nunique()"
   ]
  },
  {
   "cell_type": "code",
   "execution_count": 248,
   "metadata": {},
   "outputs": [
    {
     "name": "stdout",
     "output_type": "stream",
     "text": [
      "Number of Missing Values in Each Column:\n",
      " Gender                                  0\n",
      "Age                                     0\n",
      "City                                    0\n",
      "Profession                              0\n",
      "Academic_Pressure                       0\n",
      "Work_Pressure                           0\n",
      "CGPA                                    0\n",
      "Study_Satisfaction                      0\n",
      "Job_Satisfaction                        0\n",
      "Sleep_Duration                          0\n",
      "Dietary_Habits                          0\n",
      "Degree                                  0\n",
      "Have_you_ever_had_suicidal_thoughts_    0\n",
      "Work/Study_Hours                        0\n",
      "Financial_Stress                        3\n",
      "Family_History_of_Mental_Illness        0\n",
      "Depression                              0\n",
      "dtype: int64\n"
     ]
    }
   ],
   "source": [
    "missing_values_count = df.isnull().sum()\n",
    "print(\"Number of Missing Values in Each Column:\\n\", missing_values_count)"
   ]
  },
  {
   "cell_type": "code",
   "execution_count": 249,
   "metadata": {},
   "outputs": [
    {
     "name": "stderr",
     "output_type": "stream",
     "text": [
      "C:\\Users\\aslam\\AppData\\Local\\Temp\\ipykernel_39420\\3794617652.py:2: FutureWarning: A value is trying to be set on a copy of a DataFrame or Series through chained assignment using an inplace method.\n",
      "The behavior will change in pandas 3.0. This inplace method will never work because the intermediate object on which we are setting values always behaves as a copy.\n",
      "\n",
      "For example, when doing 'df[col].method(value, inplace=True)', try using 'df.method({col: value}, inplace=True)' or df[col] = df[col].method(value) instead, to perform the operation inplace on the original object.\n",
      "\n",
      "\n",
      "  df['Financial_Stress'].fillna(df['Financial_Stress'].mean(), inplace=True)\n"
     ]
    },
    {
     "data": {
      "text/plain": [
       "Gender                                  0\n",
       "Age                                     0\n",
       "City                                    0\n",
       "Profession                              0\n",
       "Academic_Pressure                       0\n",
       "Work_Pressure                           0\n",
       "CGPA                                    0\n",
       "Study_Satisfaction                      0\n",
       "Job_Satisfaction                        0\n",
       "Sleep_Duration                          0\n",
       "Dietary_Habits                          0\n",
       "Degree                                  0\n",
       "Have_you_ever_had_suicidal_thoughts_    0\n",
       "Work/Study_Hours                        0\n",
       "Financial_Stress                        0\n",
       "Family_History_of_Mental_Illness        0\n",
       "Depression                              0\n",
       "dtype: int64"
      ]
     },
     "execution_count": 249,
     "metadata": {},
     "output_type": "execute_result"
    }
   ],
   "source": [
    "# make missing values of financial stress to be the mean of the column\n",
    "df['Financial_Stress'].fillna(df['Financial_Stress'].mean(), inplace=True)\n",
    "# ensure that there are no missing values\n",
    "df.isnull().sum()\n"
   ]
  },
  {
   "cell_type": "code",
   "execution_count": 250,
   "metadata": {},
   "outputs": [
    {
     "data": {
      "text/plain": [
       "(27901, 17)"
      ]
     },
     "execution_count": 250,
     "metadata": {},
     "output_type": "execute_result"
    }
   ],
   "source": [
    "df.shape"
   ]
  },
  {
   "cell_type": "code",
   "execution_count": 251,
   "metadata": {},
   "outputs": [
    {
     "data": {
      "text/plain": [
       "Financial_Stress\n",
       "5.000000    6715\n",
       "4.000000    5775\n",
       "3.000000    5226\n",
       "1.000000    5121\n",
       "2.000000    5061\n",
       "3.139867       3\n",
       "Name: count, dtype: int64"
      ]
     },
     "execution_count": 251,
     "metadata": {},
     "output_type": "execute_result"
    }
   ],
   "source": [
    "# checking unique values in financial stress column\n",
    "df['Financial_Stress'].value_counts()"
   ]
  },
  {
   "cell_type": "code",
   "execution_count": 252,
   "metadata": {},
   "outputs": [
    {
     "data": {
      "image/png": "[encoded data removed]",
      "text/plain": [
       "<Figure size 640x480 with 1 Axes>"
      ]
     },
     "metadata": {},
     "output_type": "display_data"
    }
   ],
   "source": [
    "# visual for  value COUNT of Financial_Stress\n",
    "\n",
    "financialstresscount=df['Financial_Stress'].value_counts()\n",
    "\n",
    "# plot\n",
    "\n",
    "plt.bar(financialstresscount.index,financialstresscount)\n",
    "plt.xlabel('FEATURES')\n",
    "plt.ylabel('count of FC values')\n",
    "plt.title('FC Value Count')\n",
    "plt.show()"
   ]
  },
  {
   "cell_type": "code",
   "execution_count": 171,
   "metadata": {},
   "outputs": [],
   "source": [
    "# removing rows with values of age appearing less than or equal to 4 times as they are not enough to make a good prediction\n",
    "df = df[df['Financial_Stress'].map(df['Financial_Stress'].value_counts()) >=4]"
   ]
  },
  {
   "cell_type": "code",
   "execution_count": 172,
   "metadata": {},
   "outputs": [
    {
     "data": {
      "text/html": [
       "<div>\n",
       "<style scoped>\n",
       "    .dataframe tbody tr th:only-of-type {\n",
       "        vertical-align: middle;\n",
       "    }\n",
       "\n",
       "    .dataframe tbody tr th {\n",
       "        vertical-align: top;\n",
       "    }\n",
       "\n",
       "    .dataframe thead th {\n",
       "        text-align: right;\n",
       "    }\n",
       "</style>\n",
       "<table border=\"1\" class=\"dataframe\">\n",
       "  <thead>\n",
       "    <tr style=\"text-align: right;\">\n",
       "      <th></th>\n",
       "      <th>Gender</th>\n",
       "      <th>Age</th>\n",
       "      <th>City</th>\n",
       "      <th>Profession</th>\n",
       "      <th>Academic_Pressure</th>\n",
       "      <th>Work_Pressure</th>\n",
       "      <th>CGPA</th>\n",
       "      <th>Study_Satisfaction</th>\n",
       "      <th>Job_Satisfaction</th>\n",
       "      <th>Sleep_Duration</th>\n",
       "      <th>Dietary_Habits</th>\n",
       "      <th>Degree</th>\n",
       "      <th>Have_you_ever_had_suicidal_thoughts_</th>\n",
       "      <th>Work/Study_Hours</th>\n",
       "      <th>Financial_Stress</th>\n",
       "      <th>Family_History_of_Mental_Illness</th>\n",
       "      <th>Depression</th>\n",
       "    </tr>\n",
       "  </thead>\n",
       "  <tbody>\n",
       "    <tr>\n",
       "      <th>22099</th>\n",
       "      <td>Male</td>\n",
       "      <td>22.0</td>\n",
       "      <td>Bhopal</td>\n",
       "      <td>Student</td>\n",
       "      <td>3.0</td>\n",
       "      <td>0.0</td>\n",
       "      <td>7.04</td>\n",
       "      <td>2.0</td>\n",
       "      <td>0.0</td>\n",
       "      <td>5-6 hours</td>\n",
       "      <td>Healthy</td>\n",
       "      <td>B.Com</td>\n",
       "      <td>Yes</td>\n",
       "      <td>12.0</td>\n",
       "      <td>4.0</td>\n",
       "      <td>Yes</td>\n",
       "      <td>1</td>\n",
       "    </tr>\n",
       "    <tr>\n",
       "      <th>21424</th>\n",
       "      <td>Female</td>\n",
       "      <td>24.0</td>\n",
       "      <td>Vasai-Virar</td>\n",
       "      <td>Student</td>\n",
       "      <td>5.0</td>\n",
       "      <td>0.0</td>\n",
       "      <td>7.52</td>\n",
       "      <td>3.0</td>\n",
       "      <td>0.0</td>\n",
       "      <td>5-6 hours</td>\n",
       "      <td>Moderate</td>\n",
       "      <td>MBBS</td>\n",
       "      <td>Yes</td>\n",
       "      <td>3.0</td>\n",
       "      <td>5.0</td>\n",
       "      <td>No</td>\n",
       "      <td>1</td>\n",
       "    </tr>\n",
       "    <tr>\n",
       "      <th>14458</th>\n",
       "      <td>Male</td>\n",
       "      <td>18.0</td>\n",
       "      <td>Patna</td>\n",
       "      <td>Student</td>\n",
       "      <td>4.0</td>\n",
       "      <td>0.0</td>\n",
       "      <td>5.16</td>\n",
       "      <td>4.0</td>\n",
       "      <td>0.0</td>\n",
       "      <td>Less than 5 hours</td>\n",
       "      <td>Unhealthy</td>\n",
       "      <td>Class 12</td>\n",
       "      <td>No</td>\n",
       "      <td>8.0</td>\n",
       "      <td>5.0</td>\n",
       "      <td>No</td>\n",
       "      <td>1</td>\n",
       "    </tr>\n",
       "  </tbody>\n",
       "</table>\n",
       "</div>"
      ],
      "text/plain": [
       "       Gender   Age         City Profession  Academic_Pressure  Work_Pressure  \\\n",
       "22099    Male  22.0       Bhopal    Student                3.0            0.0   \n",
       "21424  Female  24.0  Vasai-Virar    Student                5.0            0.0   \n",
       "14458    Male  18.0        Patna    Student                4.0            0.0   \n",
       "\n",
       "       CGPA  Study_Satisfaction  Job_Satisfaction     Sleep_Duration  \\\n",
       "22099  7.04                 2.0               0.0          5-6 hours   \n",
       "21424  7.52                 3.0               0.0          5-6 hours   \n",
       "14458  5.16                 4.0               0.0  Less than 5 hours   \n",
       "\n",
       "      Dietary_Habits    Degree Have_you_ever_had_suicidal_thoughts_  \\\n",
       "22099        Healthy     B.Com                                  Yes   \n",
       "21424       Moderate      MBBS                                  Yes   \n",
       "14458      Unhealthy  Class 12                                   No   \n",
       "\n",
       "       Work/Study_Hours  Financial_Stress Family_History_of_Mental_Illness  \\\n",
       "22099              12.0               4.0                              Yes   \n",
       "21424               3.0               5.0                               No   \n",
       "14458               8.0               5.0                               No   \n",
       "\n",
       "       Depression  \n",
       "22099           1  \n",
       "21424           1  \n",
       "14458           1  "
      ]
     },
     "execution_count": 172,
     "metadata": {},
     "output_type": "execute_result"
    }
   ],
   "source": [
    "df.sample(3)"
   ]
  },
  {
   "cell_type": "code",
   "execution_count": 173,
   "metadata": {},
   "outputs": [],
   "source": [
    "# while evaluating the df.nununique()\n",
    "# job satisfaction is mostly 0, so we can drop it, as it will not be useful\n",
    "# profession is mostly student, so we can drop it, as it will not be useful\n",
    "# work pressure is mostly 0, so we can drop it, as it will not be useful\n",
    "df.drop(['Job_Satisfaction', 'Profession','Work_Pressure'], axis=1, inplace=True)\n"
   ]
  },
  {
   "cell_type": "code",
   "execution_count": 174,
   "metadata": {},
   "outputs": [
    {
     "data": {
      "text/plain": [
       "(27898, 14)"
      ]
     },
     "execution_count": 174,
     "metadata": {},
     "output_type": "execute_result"
    }
   ],
   "source": [
    "df.shape"
   ]
  },
  {
   "cell_type": "code",
   "execution_count": 175,
   "metadata": {},
   "outputs": [
    {
     "data": {
      "text/plain": [
       "(27823, 14)"
      ]
     },
     "execution_count": 175,
     "metadata": {},
     "output_type": "execute_result"
    }
   ],
   "source": [
    "#  Remove Rows with 'Others' in Sleep Duration, Dietary Habits, Degree as they appear to less times\n",
    "#  reminder better to do a visual for the others\n",
    "df = df[~df['Sleep_Duration'].str.contains('Others', na=False)]\n",
    "df = df[~df['Dietary_Habits'].str.contains('Others', na=False)]\n",
    "df = df[~df['Degree'].str.contains('Others', na=False)]\n",
    "\n",
    "#  Remove Rows with Study Satisfaction Value Equal to 0\n",
    "df = df[df['Study_Satisfaction'] != 0]\n",
    "\n",
    "# check the shape of the data after cleaning\n",
    "df.shape\n"
   ]
  },
  {
   "cell_type": "code",
   "execution_count": 176,
   "metadata": {},
   "outputs": [
    {
     "data": {
      "text/plain": [
       "Gender                                    2\n",
       "Age                                      34\n",
       "City                                     52\n",
       "Academic_Pressure                         6\n",
       "CGPA                                    332\n",
       "Study_Satisfaction                        5\n",
       "Sleep_Duration                            4\n",
       "Dietary_Habits                            3\n",
       "Degree                                   27\n",
       "Have_you_ever_had_suicidal_thoughts_      2\n",
       "Work/Study_Hours                         13\n",
       "Financial_Stress                          5\n",
       "Family_History_of_Mental_Illness          2\n",
       "Depression                                2\n",
       "dtype: int64"
      ]
     },
     "execution_count": 176,
     "metadata": {},
     "output_type": "execute_result"
    }
   ],
   "source": [
    "df.nunique()"
   ]
  },
  {
   "cell_type": "code",
   "execution_count": 177,
   "metadata": {},
   "outputs": [
    {
     "data": {
      "text/plain": [
       "Age\n",
       "24.0    2254\n",
       "20.0    2230\n",
       "28.0    2126\n",
       "29.0    1946\n",
       "33.0    1890\n",
       "25.0    1781\n",
       "21.0    1724\n",
       "23.0    1638\n",
       "18.0    1581\n",
       "19.0    1559\n",
       "34.0    1464\n",
       "27.0    1457\n",
       "31.0    1423\n",
       "32.0    1255\n",
       "22.0    1157\n",
       "26.0    1152\n",
       "30.0    1138\n",
       "35.0      10\n",
       "38.0       7\n",
       "36.0       7\n",
       "42.0       4\n",
       "39.0       3\n",
       "48.0       3\n",
       "46.0       2\n",
       "43.0       2\n",
       "37.0       2\n",
       "44.0       1\n",
       "51.0       1\n",
       "49.0       1\n",
       "58.0       1\n",
       "54.0       1\n",
       "59.0       1\n",
       "56.0       1\n",
       "41.0       1\n",
       "Name: count, dtype: int64"
      ]
     },
     "execution_count": 177,
     "metadata": {},
     "output_type": "execute_result"
    }
   ],
   "source": [
    "df['Age'].value_counts()"
   ]
  },
  {
   "cell_type": "code",
   "execution_count": 178,
   "metadata": {},
   "outputs": [
    {
     "data": {
      "text/plain": [
       "(27775, 14)"
      ]
     },
     "execution_count": 178,
     "metadata": {},
     "output_type": "execute_result"
    }
   ],
   "source": [
    "# removing rows with values of age appearing less than or equal to 10 times as they are not enough to make a good prediction\n",
    "df = df[df['Age'].map(df['Age'].value_counts()) >= 11]\n",
    "\n",
    "# check the shape of the data after cleaning\n",
    "df.shape"
   ]
  },
  {
   "cell_type": "code",
   "execution_count": 179,
   "metadata": {},
   "outputs": [
    {
     "data": {
      "text/plain": [
       "Gender                                    2\n",
       "Age                                      17\n",
       "City                                     52\n",
       "Academic_Pressure                         6\n",
       "CGPA                                    331\n",
       "Study_Satisfaction                        5\n",
       "Sleep_Duration                            4\n",
       "Dietary_Habits                            3\n",
       "Degree                                   27\n",
       "Have_you_ever_had_suicidal_thoughts_      2\n",
       "Work/Study_Hours                         13\n",
       "Financial_Stress                          5\n",
       "Family_History_of_Mental_Illness          2\n",
       "Depression                                2\n",
       "dtype: int64"
      ]
     },
     "execution_count": 179,
     "metadata": {},
     "output_type": "execute_result"
    }
   ],
   "source": [
    "df.nunique()"
   ]
  },
  {
   "cell_type": "code",
   "execution_count": 180,
   "metadata": {},
   "outputs": [
    {
     "data": {
      "text/plain": [
       "City\n",
       "Kalyan                1565\n",
       "Srinagar              1365\n",
       "Hyderabad             1335\n",
       "Vasai-Virar           1286\n",
       "Lucknow               1150\n",
       "Thane                 1138\n",
       "Ludhiana              1106\n",
       "Agra                  1089\n",
       "Surat                 1076\n",
       "Kolkata               1055\n",
       "Jaipur                1035\n",
       "Patna                  999\n",
       "Pune                   966\n",
       "Visakhapatnam          964\n",
       "Ahmedabad              944\n",
       "Bhopal                 929\n",
       "Chennai                883\n",
       "Meerut                 820\n",
       "Rajkot                 810\n",
       "Bangalore              765\n",
       "Delhi                  765\n",
       "Ghaziabad              741\n",
       "Mumbai                 694\n",
       "Vadodara               690\n",
       "Varanasi               682\n",
       "Nagpur                 646\n",
       "Indore                 642\n",
       "Kanpur                 607\n",
       "Nashik                 544\n",
       "Faridabad              458\n",
       "Saanvi                   2\n",
       "Bhavna                   2\n",
       "City                     2\n",
       "Harsha                   2\n",
       "Less Delhi               1\n",
       "M.Tech                   1\n",
       "3.0                      1\n",
       "Less than 5 Kalyan       1\n",
       "Mira                     1\n",
       "Vaanya                   1\n",
       "Gaurav                   1\n",
       "Harsh                    1\n",
       "Reyansh                  1\n",
       "Kibara                   1\n",
       "Rashi                    1\n",
       "ME                       1\n",
       "M.Com                    1\n",
       "Nalyan                   1\n",
       "Mihir                    1\n",
       "Nalini                   1\n",
       "Nandini                  1\n",
       "Khaziabad                1\n",
       "Name: count, dtype: int64"
      ]
     },
     "execution_count": 180,
     "metadata": {},
     "output_type": "execute_result"
    }
   ],
   "source": [
    "df['City'].value_counts()"
   ]
  },
  {
   "cell_type": "code",
   "execution_count": 181,
   "metadata": {},
   "outputs": [],
   "source": [
    "# removing rows with values of City appearing less than or equal to 3 times as they are not enough to make a good prediction\n",
    "df = df[df['City'].map(df['City'].value_counts()) >= 3]"
   ]
  },
  {
   "cell_type": "code",
   "execution_count": 182,
   "metadata": {},
   "outputs": [
    {
     "data": {
      "text/plain": [
       "(27749, 14)"
      ]
     },
     "execution_count": 182,
     "metadata": {},
     "output_type": "execute_result"
    }
   ],
   "source": [
    "df.shape"
   ]
  },
  {
   "cell_type": "code",
   "execution_count": 183,
   "metadata": {},
   "outputs": [
    {
     "data": {
      "text/plain": [
       "Degree\n",
       "Class 12    6054\n",
       "B.Ed        1859\n",
       "B.Com       1501\n",
       "B.Arch      1474\n",
       "BCA         1429\n",
       "MSc         1185\n",
       "B.Tech      1151\n",
       "MCA         1037\n",
       "M.Tech      1018\n",
       "BHM          923\n",
       "BSc          882\n",
       "M.Ed         815\n",
       "B.Pharm      809\n",
       "M.Com        731\n",
       "BBA          696\n",
       "MBBS         689\n",
       "LLB          668\n",
       "BE           609\n",
       "BA           595\n",
       "M.Pharm      580\n",
       "MD           569\n",
       "MBA          560\n",
       "MA           544\n",
       "PhD          515\n",
       "LLM          481\n",
       "MHM          191\n",
       "ME           184\n",
       "Name: count, dtype: int64"
      ]
     },
     "execution_count": 183,
     "metadata": {},
     "output_type": "execute_result"
    }
   ],
   "source": [
    "# there is too  many degrees, so we can group them into 3 categories by using our existing knowledge of degrees\n",
    "df['Degree'].value_counts()\n"
   ]
  },
  {
   "cell_type": "code",
   "execution_count": 184,
   "metadata": {},
   "outputs": [],
   "source": [
    "# we can see that there are many degrees, so we can group them into 3 categories for better encoding later \n",
    "\n",
    "# making class 12th as higher secondary\n",
    "df['Degree'] = df['Degree'].replace('Class 12th', 'Higher Secondary')\n"
   ]
  },
  {
   "cell_type": "code",
   "execution_count": 185,
   "metadata": {},
   "outputs": [],
   "source": [
    "# making bachelors\n",
    "bachelors_replacements = {\n",
    "    'B.Ed': 'Bachelor',\n",
    "    'B.Com': 'Bachelor',\n",
    "    'B.Pharm': 'Bachelor',\n",
    "    'BCA': 'Bachelor',\n",
    "    'BE': 'Bachelor',\n",
    "    'BHM': 'Bachelor',\n",
    "    'MBBS': 'Bachelor', \n",
    "    'LLB': 'Bachelor',\n",
    "    'BA': 'Bachelor',\n",
    "    'B.Arch': 'Bachelor',\n",
    "    'BBA': 'Bachelor',\n",
    "    'B.Tech': 'Bachelor',\n",
    "    'BSc': 'Bachelor',\n",
    "}\n",
    "\n",
    "# Apply replacements\n",
    "df['Degree'] = df['Degree'].replace(bachelors_replacements)"
   ]
  },
  {
   "cell_type": "code",
   "execution_count": 186,
   "metadata": {},
   "outputs": [],
   "source": [
    "# making masters\n",
    "master_replacements = {\n",
    "    'M.Tech': 'Master',\n",
    "    'MCA': 'Master',\n",
    "    'MBA': 'Master',\n",
    "    'MSc': 'Master',\n",
    "    'M.Com': 'Master',\n",
    "    'MA': 'Master',\n",
    "    'MHM': 'Master',\n",
    "    'M.Arch': 'Master',\n",
    "    'M.Pharm': 'Master',\n",
    "    'ME': 'Master',  \n",
    "    'LLM': 'Master',\n",
    "    'MD': 'Master',  \n",
    "    'M.Ed': 'Master',\n",
    "    'PhD': 'Master' \n",
    "}\n",
    "\n",
    "# Apply replacements\n",
    "df['Degree'] = df['Degree'].replace(master_replacements)\n",
    "\n"
   ]
  },
  {
   "cell_type": "code",
   "execution_count": 187,
   "metadata": {},
   "outputs": [
    {
     "data": {
      "text/html": [
       "<div>\n",
       "<style scoped>\n",
       "    .dataframe tbody tr th:only-of-type {\n",
       "        vertical-align: middle;\n",
       "    }\n",
       "\n",
       "    .dataframe tbody tr th {\n",
       "        vertical-align: top;\n",
       "    }\n",
       "\n",
       "    .dataframe thead th {\n",
       "        text-align: right;\n",
       "    }\n",
       "</style>\n",
       "<table border=\"1\" class=\"dataframe\">\n",
       "  <thead>\n",
       "    <tr style=\"text-align: right;\">\n",
       "      <th></th>\n",
       "      <th>Gender</th>\n",
       "      <th>Age</th>\n",
       "      <th>City</th>\n",
       "      <th>Academic_Pressure</th>\n",
       "      <th>CGPA</th>\n",
       "      <th>Study_Satisfaction</th>\n",
       "      <th>Sleep_Duration</th>\n",
       "      <th>Dietary_Habits</th>\n",
       "      <th>Degree</th>\n",
       "      <th>Have_you_ever_had_suicidal_thoughts_</th>\n",
       "      <th>Work/Study_Hours</th>\n",
       "      <th>Financial_Stress</th>\n",
       "      <th>Family_History_of_Mental_Illness</th>\n",
       "      <th>Depression</th>\n",
       "    </tr>\n",
       "  </thead>\n",
       "  <tbody>\n",
       "    <tr>\n",
       "      <th>8865</th>\n",
       "      <td>Male</td>\n",
       "      <td>19.0</td>\n",
       "      <td>Bhopal</td>\n",
       "      <td>3.0</td>\n",
       "      <td>8.54</td>\n",
       "      <td>2.0</td>\n",
       "      <td>7-8 hours</td>\n",
       "      <td>Unhealthy</td>\n",
       "      <td>Class 12</td>\n",
       "      <td>Yes</td>\n",
       "      <td>12.0</td>\n",
       "      <td>5.0</td>\n",
       "      <td>Yes</td>\n",
       "      <td>1</td>\n",
       "    </tr>\n",
       "    <tr>\n",
       "      <th>1209</th>\n",
       "      <td>Male</td>\n",
       "      <td>31.0</td>\n",
       "      <td>Ahmedabad</td>\n",
       "      <td>2.0</td>\n",
       "      <td>8.91</td>\n",
       "      <td>1.0</td>\n",
       "      <td>7-8 hours</td>\n",
       "      <td>Moderate</td>\n",
       "      <td>Master</td>\n",
       "      <td>Yes</td>\n",
       "      <td>12.0</td>\n",
       "      <td>4.0</td>\n",
       "      <td>No</td>\n",
       "      <td>1</td>\n",
       "    </tr>\n",
       "    <tr>\n",
       "      <th>21642</th>\n",
       "      <td>Female</td>\n",
       "      <td>33.0</td>\n",
       "      <td>Faridabad</td>\n",
       "      <td>3.0</td>\n",
       "      <td>9.36</td>\n",
       "      <td>5.0</td>\n",
       "      <td>5-6 hours</td>\n",
       "      <td>Healthy</td>\n",
       "      <td>Master</td>\n",
       "      <td>No</td>\n",
       "      <td>10.0</td>\n",
       "      <td>1.0</td>\n",
       "      <td>No</td>\n",
       "      <td>0</td>\n",
       "    </tr>\n",
       "  </tbody>\n",
       "</table>\n",
       "</div>"
      ],
      "text/plain": [
       "       Gender   Age       City  Academic_Pressure  CGPA  Study_Satisfaction  \\\n",
       "8865     Male  19.0     Bhopal                3.0  8.54                 2.0   \n",
       "1209     Male  31.0  Ahmedabad                2.0  8.91                 1.0   \n",
       "21642  Female  33.0  Faridabad                3.0  9.36                 5.0   \n",
       "\n",
       "      Sleep_Duration Dietary_Habits    Degree  \\\n",
       "8865       7-8 hours      Unhealthy  Class 12   \n",
       "1209       7-8 hours       Moderate    Master   \n",
       "21642      5-6 hours        Healthy    Master   \n",
       "\n",
       "      Have_you_ever_had_suicidal_thoughts_  Work/Study_Hours  \\\n",
       "8865                                   Yes              12.0   \n",
       "1209                                   Yes              12.0   \n",
       "21642                                   No              10.0   \n",
       "\n",
       "       Financial_Stress Family_History_of_Mental_Illness  Depression  \n",
       "8865                5.0                              Yes           1  \n",
       "1209                4.0                               No           1  \n",
       "21642               1.0                               No           0  "
      ]
     },
     "execution_count": 187,
     "metadata": {},
     "output_type": "execute_result"
    }
   ],
   "source": [
    "df.sample(3)"
   ]
  },
  {
   "cell_type": "code",
   "execution_count": 188,
   "metadata": {},
   "outputs": [],
   "source": [
    "# mental illness,sucidial thoughts, and gender are objects but only got 2 answers but in string  so we can convert them to binary\n",
    "df['Family_History_of_Mental_Illness'] = df['Family_History_of_Mental_Illness'].map({'Yes': 1, 'No': 0})\n",
    "df['Have_you_ever_had_suicidal_thoughts_'] = df['Have_you_ever_had_suicidal_thoughts_'].map({'Yes': 1, 'No': 0})\n",
    "df['Gender']=df['Gender'].map({'Male':1 , 'Female':0})\n",
    "# renaming for better use\n",
    "df = df.rename(columns={'Work/Study_Hours': 'Work_Study_Hours'})"
   ]
  },
  {
   "cell_type": "code",
   "execution_count": 189,
   "metadata": {},
   "outputs": [
    {
     "data": {
      "text/html": [
       "<div>\n",
       "<style scoped>\n",
       "    .dataframe tbody tr th:only-of-type {\n",
       "        vertical-align: middle;\n",
       "    }\n",
       "\n",
       "    .dataframe tbody tr th {\n",
       "        vertical-align: top;\n",
       "    }\n",
       "\n",
       "    .dataframe thead th {\n",
       "        text-align: right;\n",
       "    }\n",
       "</style>\n",
       "<table border=\"1\" class=\"dataframe\">\n",
       "  <thead>\n",
       "    <tr style=\"text-align: right;\">\n",
       "      <th></th>\n",
       "      <th>Gender</th>\n",
       "      <th>Age</th>\n",
       "      <th>City</th>\n",
       "      <th>Academic_Pressure</th>\n",
       "      <th>CGPA</th>\n",
       "      <th>Study_Satisfaction</th>\n",
       "      <th>Sleep_Duration</th>\n",
       "      <th>Dietary_Habits</th>\n",
       "      <th>Degree</th>\n",
       "      <th>Have_you_ever_had_suicidal_thoughts_</th>\n",
       "      <th>Work_Study_Hours</th>\n",
       "      <th>Financial_Stress</th>\n",
       "      <th>Family_History_of_Mental_Illness</th>\n",
       "      <th>Depression</th>\n",
       "    </tr>\n",
       "  </thead>\n",
       "  <tbody>\n",
       "    <tr>\n",
       "      <th>0</th>\n",
       "      <td>1</td>\n",
       "      <td>33.0</td>\n",
       "      <td>Visakhapatnam</td>\n",
       "      <td>5.0</td>\n",
       "      <td>8.97</td>\n",
       "      <td>2.0</td>\n",
       "      <td>5-6 hours</td>\n",
       "      <td>Healthy</td>\n",
       "      <td>Bachelor</td>\n",
       "      <td>1</td>\n",
       "      <td>3.0</td>\n",
       "      <td>1.0</td>\n",
       "      <td>0</td>\n",
       "      <td>1</td>\n",
       "    </tr>\n",
       "    <tr>\n",
       "      <th>1</th>\n",
       "      <td>0</td>\n",
       "      <td>24.0</td>\n",
       "      <td>Bangalore</td>\n",
       "      <td>2.0</td>\n",
       "      <td>5.90</td>\n",
       "      <td>5.0</td>\n",
       "      <td>5-6 hours</td>\n",
       "      <td>Moderate</td>\n",
       "      <td>Bachelor</td>\n",
       "      <td>0</td>\n",
       "      <td>3.0</td>\n",
       "      <td>2.0</td>\n",
       "      <td>1</td>\n",
       "      <td>0</td>\n",
       "    </tr>\n",
       "    <tr>\n",
       "      <th>2</th>\n",
       "      <td>1</td>\n",
       "      <td>31.0</td>\n",
       "      <td>Srinagar</td>\n",
       "      <td>3.0</td>\n",
       "      <td>7.03</td>\n",
       "      <td>5.0</td>\n",
       "      <td>Less than 5 hours</td>\n",
       "      <td>Healthy</td>\n",
       "      <td>Bachelor</td>\n",
       "      <td>0</td>\n",
       "      <td>9.0</td>\n",
       "      <td>1.0</td>\n",
       "      <td>1</td>\n",
       "      <td>0</td>\n",
       "    </tr>\n",
       "    <tr>\n",
       "      <th>3</th>\n",
       "      <td>0</td>\n",
       "      <td>28.0</td>\n",
       "      <td>Varanasi</td>\n",
       "      <td>3.0</td>\n",
       "      <td>5.59</td>\n",
       "      <td>2.0</td>\n",
       "      <td>7-8 hours</td>\n",
       "      <td>Moderate</td>\n",
       "      <td>Bachelor</td>\n",
       "      <td>1</td>\n",
       "      <td>4.0</td>\n",
       "      <td>5.0</td>\n",
       "      <td>1</td>\n",
       "      <td>1</td>\n",
       "    </tr>\n",
       "    <tr>\n",
       "      <th>4</th>\n",
       "      <td>0</td>\n",
       "      <td>25.0</td>\n",
       "      <td>Jaipur</td>\n",
       "      <td>4.0</td>\n",
       "      <td>8.13</td>\n",
       "      <td>3.0</td>\n",
       "      <td>5-6 hours</td>\n",
       "      <td>Moderate</td>\n",
       "      <td>Master</td>\n",
       "      <td>1</td>\n",
       "      <td>1.0</td>\n",
       "      <td>1.0</td>\n",
       "      <td>0</td>\n",
       "      <td>0</td>\n",
       "    </tr>\n",
       "    <tr>\n",
       "      <th>...</th>\n",
       "      <td>...</td>\n",
       "      <td>...</td>\n",
       "      <td>...</td>\n",
       "      <td>...</td>\n",
       "      <td>...</td>\n",
       "      <td>...</td>\n",
       "      <td>...</td>\n",
       "      <td>...</td>\n",
       "      <td>...</td>\n",
       "      <td>...</td>\n",
       "      <td>...</td>\n",
       "      <td>...</td>\n",
       "      <td>...</td>\n",
       "      <td>...</td>\n",
       "    </tr>\n",
       "    <tr>\n",
       "      <th>27896</th>\n",
       "      <td>0</td>\n",
       "      <td>27.0</td>\n",
       "      <td>Surat</td>\n",
       "      <td>5.0</td>\n",
       "      <td>5.75</td>\n",
       "      <td>5.0</td>\n",
       "      <td>5-6 hours</td>\n",
       "      <td>Unhealthy</td>\n",
       "      <td>Class 12</td>\n",
       "      <td>1</td>\n",
       "      <td>7.0</td>\n",
       "      <td>1.0</td>\n",
       "      <td>1</td>\n",
       "      <td>0</td>\n",
       "    </tr>\n",
       "    <tr>\n",
       "      <th>27897</th>\n",
       "      <td>1</td>\n",
       "      <td>27.0</td>\n",
       "      <td>Ludhiana</td>\n",
       "      <td>2.0</td>\n",
       "      <td>9.40</td>\n",
       "      <td>3.0</td>\n",
       "      <td>Less than 5 hours</td>\n",
       "      <td>Healthy</td>\n",
       "      <td>Master</td>\n",
       "      <td>0</td>\n",
       "      <td>0.0</td>\n",
       "      <td>3.0</td>\n",
       "      <td>1</td>\n",
       "      <td>0</td>\n",
       "    </tr>\n",
       "    <tr>\n",
       "      <th>27898</th>\n",
       "      <td>1</td>\n",
       "      <td>31.0</td>\n",
       "      <td>Faridabad</td>\n",
       "      <td>3.0</td>\n",
       "      <td>6.61</td>\n",
       "      <td>4.0</td>\n",
       "      <td>5-6 hours</td>\n",
       "      <td>Unhealthy</td>\n",
       "      <td>Master</td>\n",
       "      <td>0</td>\n",
       "      <td>12.0</td>\n",
       "      <td>2.0</td>\n",
       "      <td>0</td>\n",
       "      <td>0</td>\n",
       "    </tr>\n",
       "    <tr>\n",
       "      <th>27899</th>\n",
       "      <td>0</td>\n",
       "      <td>18.0</td>\n",
       "      <td>Ludhiana</td>\n",
       "      <td>5.0</td>\n",
       "      <td>6.88</td>\n",
       "      <td>2.0</td>\n",
       "      <td>Less than 5 hours</td>\n",
       "      <td>Healthy</td>\n",
       "      <td>Class 12</td>\n",
       "      <td>1</td>\n",
       "      <td>10.0</td>\n",
       "      <td>5.0</td>\n",
       "      <td>0</td>\n",
       "      <td>1</td>\n",
       "    </tr>\n",
       "    <tr>\n",
       "      <th>27900</th>\n",
       "      <td>1</td>\n",
       "      <td>27.0</td>\n",
       "      <td>Patna</td>\n",
       "      <td>4.0</td>\n",
       "      <td>9.24</td>\n",
       "      <td>1.0</td>\n",
       "      <td>Less than 5 hours</td>\n",
       "      <td>Healthy</td>\n",
       "      <td>Bachelor</td>\n",
       "      <td>1</td>\n",
       "      <td>2.0</td>\n",
       "      <td>3.0</td>\n",
       "      <td>1</td>\n",
       "      <td>1</td>\n",
       "    </tr>\n",
       "  </tbody>\n",
       "</table>\n",
       "<p>27749 rows × 14 columns</p>\n",
       "</div>"
      ],
      "text/plain": [
       "       Gender   Age           City  Academic_Pressure  CGPA  \\\n",
       "0           1  33.0  Visakhapatnam                5.0  8.97   \n",
       "1           0  24.0      Bangalore                2.0  5.90   \n",
       "2           1  31.0       Srinagar                3.0  7.03   \n",
       "3           0  28.0       Varanasi                3.0  5.59   \n",
       "4           0  25.0         Jaipur                4.0  8.13   \n",
       "...       ...   ...            ...                ...   ...   \n",
       "27896       0  27.0          Surat                5.0  5.75   \n",
       "27897       1  27.0       Ludhiana                2.0  9.40   \n",
       "27898       1  31.0      Faridabad                3.0  6.61   \n",
       "27899       0  18.0       Ludhiana                5.0  6.88   \n",
       "27900       1  27.0          Patna                4.0  9.24   \n",
       "\n",
       "       Study_Satisfaction     Sleep_Duration Dietary_Habits    Degree  \\\n",
       "0                     2.0          5-6 hours        Healthy  Bachelor   \n",
       "1                     5.0          5-6 hours       Moderate  Bachelor   \n",
       "2                     5.0  Less than 5 hours        Healthy  Bachelor   \n",
       "3                     2.0          7-8 hours       Moderate  Bachelor   \n",
       "4                     3.0          5-6 hours       Moderate    Master   \n",
       "...                   ...                ...            ...       ...   \n",
       "27896                 5.0          5-6 hours      Unhealthy  Class 12   \n",
       "27897                 3.0  Less than 5 hours        Healthy    Master   \n",
       "27898                 4.0          5-6 hours      Unhealthy    Master   \n",
       "27899                 2.0  Less than 5 hours        Healthy  Class 12   \n",
       "27900                 1.0  Less than 5 hours        Healthy  Bachelor   \n",
       "\n",
       "       Have_you_ever_had_suicidal_thoughts_  Work_Study_Hours  \\\n",
       "0                                         1               3.0   \n",
       "1                                         0               3.0   \n",
       "2                                         0               9.0   \n",
       "3                                         1               4.0   \n",
       "4                                         1               1.0   \n",
       "...                                     ...               ...   \n",
       "27896                                     1               7.0   \n",
       "27897                                     0               0.0   \n",
       "27898                                     0              12.0   \n",
       "27899                                     1              10.0   \n",
       "27900                                     1               2.0   \n",
       "\n",
       "       Financial_Stress  Family_History_of_Mental_Illness  Depression  \n",
       "0                   1.0                                 0           1  \n",
       "1                   2.0                                 1           0  \n",
       "2                   1.0                                 1           0  \n",
       "3                   5.0                                 1           1  \n",
       "4                   1.0                                 0           0  \n",
       "...                 ...                               ...         ...  \n",
       "27896               1.0                                 1           0  \n",
       "27897               3.0                                 1           0  \n",
       "27898               2.0                                 0           0  \n",
       "27899               5.0                                 0           1  \n",
       "27900               3.0                                 1           1  \n",
       "\n",
       "[27749 rows x 14 columns]"
      ]
     },
     "execution_count": 189,
     "metadata": {},
     "output_type": "execute_result"
    }
   ],
   "source": [
    "df"
   ]
  },
  {
   "cell_type": "code",
   "execution_count": 190,
   "metadata": {},
   "outputs": [],
   "source": [
    "# creating a new cdv file with the current df\n",
    "df.to_csv('csv_files/semi_cleaned_depression_file.csv', index=False)"
   ]
  },
  {
   "cell_type": "code",
   "execution_count": 191,
   "metadata": {},
   "outputs": [],
   "source": [
    "# doing one hot encoding for the categorical variables\n",
    "df = pd.get_dummies(df, columns=['City', 'Degree', 'Sleep_Duration', 'Dietary_Habits'])\n"
   ]
  },
  {
   "cell_type": "code",
   "execution_count": 192,
   "metadata": {},
   "outputs": [
    {
     "data": {
      "text/plain": [
       "(27749, 50)"
      ]
     },
     "execution_count": 192,
     "metadata": {},
     "output_type": "execute_result"
    }
   ],
   "source": [
    "df.shape"
   ]
  },
  {
   "cell_type": "code",
   "execution_count": 193,
   "metadata": {},
   "outputs": [
    {
     "name": "stdout",
     "output_type": "stream",
     "text": [
      "<class 'pandas.core.frame.DataFrame'>\n",
      "Index: 27749 entries, 0 to 27900\n",
      "Data columns (total 50 columns):\n",
      " #   Column                                Non-Null Count  Dtype  \n",
      "---  ------                                --------------  -----  \n",
      " 0   Gender                                27749 non-null  int64  \n",
      " 1   Age                                   27749 non-null  float64\n",
      " 2   Academic_Pressure                     27749 non-null  float64\n",
      " 3   CGPA                                  27749 non-null  float64\n",
      " 4   Study_Satisfaction                    27749 non-null  float64\n",
      " 5   Have_you_ever_had_suicidal_thoughts_  27749 non-null  int64  \n",
      " 6   Work_Study_Hours                      27749 non-null  float64\n",
      " 7   Financial_Stress                      27749 non-null  float64\n",
      " 8   Family_History_of_Mental_Illness      27749 non-null  int64  \n",
      " 9   Depression                            27749 non-null  int64  \n",
      " 10  City_Agra                             27749 non-null  bool   \n",
      " 11  City_Ahmedabad                        27749 non-null  bool   \n",
      " 12  City_Bangalore                        27749 non-null  bool   \n",
      " 13  City_Bhopal                           27749 non-null  bool   \n",
      " 14  City_Chennai                          27749 non-null  bool   \n",
      " 15  City_Delhi                            27749 non-null  bool   \n",
      " 16  City_Faridabad                        27749 non-null  bool   \n",
      " 17  City_Ghaziabad                        27749 non-null  bool   \n",
      " 18  City_Hyderabad                        27749 non-null  bool   \n",
      " 19  City_Indore                           27749 non-null  bool   \n",
      " 20  City_Jaipur                           27749 non-null  bool   \n",
      " 21  City_Kalyan                           27749 non-null  bool   \n",
      " 22  City_Kanpur                           27749 non-null  bool   \n",
      " 23  City_Kolkata                          27749 non-null  bool   \n",
      " 24  City_Lucknow                          27749 non-null  bool   \n",
      " 25  City_Ludhiana                         27749 non-null  bool   \n",
      " 26  City_Meerut                           27749 non-null  bool   \n",
      " 27  City_Mumbai                           27749 non-null  bool   \n",
      " 28  City_Nagpur                           27749 non-null  bool   \n",
      " 29  City_Nashik                           27749 non-null  bool   \n",
      " 30  City_Patna                            27749 non-null  bool   \n",
      " 31  City_Pune                             27749 non-null  bool   \n",
      " 32  City_Rajkot                           27749 non-null  bool   \n",
      " 33  City_Srinagar                         27749 non-null  bool   \n",
      " 34  City_Surat                            27749 non-null  bool   \n",
      " 35  City_Thane                            27749 non-null  bool   \n",
      " 36  City_Vadodara                         27749 non-null  bool   \n",
      " 37  City_Varanasi                         27749 non-null  bool   \n",
      " 38  City_Vasai-Virar                      27749 non-null  bool   \n",
      " 39  City_Visakhapatnam                    27749 non-null  bool   \n",
      " 40  Degree_Bachelor                       27749 non-null  bool   \n",
      " 41  Degree_Class 12                       27749 non-null  bool   \n",
      " 42  Degree_Master                         27749 non-null  bool   \n",
      " 43  Sleep_Duration_5-6 hours              27749 non-null  bool   \n",
      " 44  Sleep_Duration_7-8 hours              27749 non-null  bool   \n",
      " 45  Sleep_Duration_Less than 5 hours      27749 non-null  bool   \n",
      " 46  Sleep_Duration_More than 8 hours      27749 non-null  bool   \n",
      " 47  Dietary_Habits_Healthy                27749 non-null  bool   \n",
      " 48  Dietary_Habits_Moderate               27749 non-null  bool   \n",
      " 49  Dietary_Habits_Unhealthy              27749 non-null  bool   \n",
      "dtypes: bool(40), float64(6), int64(4)\n",
      "memory usage: 3.4 MB\n"
     ]
    }
   ],
   "source": [
    "df.info ()"
   ]
  },
  {
   "cell_type": "code",
   "execution_count": 194,
   "metadata": {},
   "outputs": [],
   "source": [
    "# split data into X and y\n",
    "X=df.drop('Depression', axis=1)\n",
    "y=df['Depression']\n"
   ]
  },
  {
   "cell_type": "code",
   "execution_count": 195,
   "metadata": {},
   "outputs": [
    {
     "data": {
      "text/plain": [
       "Gender                                    2\n",
       "Age                                      17\n",
       "Academic_Pressure                         6\n",
       "CGPA                                    331\n",
       "Study_Satisfaction                        5\n",
       "Have_you_ever_had_suicidal_thoughts_      2\n",
       "Work_Study_Hours                         13\n",
       "Financial_Stress                          5\n",
       "Family_History_of_Mental_Illness          2\n",
       "City_Agra                                 2\n",
       "City_Ahmedabad                            2\n",
       "City_Bangalore                            2\n",
       "City_Bhopal                               2\n",
       "City_Chennai                              2\n",
       "City_Delhi                                2\n",
       "City_Faridabad                            2\n",
       "City_Ghaziabad                            2\n",
       "City_Hyderabad                            2\n",
       "City_Indore                               2\n",
       "City_Jaipur                               2\n",
       "City_Kalyan                               2\n",
       "City_Kanpur                               2\n",
       "City_Kolkata                              2\n",
       "City_Lucknow                              2\n",
       "City_Ludhiana                             2\n",
       "City_Meerut                               2\n",
       "City_Mumbai                               2\n",
       "City_Nagpur                               2\n",
       "City_Nashik                               2\n",
       "City_Patna                                2\n",
       "City_Pune                                 2\n",
       "City_Rajkot                               2\n",
       "City_Srinagar                             2\n",
       "City_Surat                                2\n",
       "City_Thane                                2\n",
       "City_Vadodara                             2\n",
       "City_Varanasi                             2\n",
       "City_Vasai-Virar                          2\n",
       "City_Visakhapatnam                        2\n",
       "Degree_Bachelor                           2\n",
       "Degree_Class 12                           2\n",
       "Degree_Master                             2\n",
       "Sleep_Duration_5-6 hours                  2\n",
       "Sleep_Duration_7-8 hours                  2\n",
       "Sleep_Duration_Less than 5 hours          2\n",
       "Sleep_Duration_More than 8 hours          2\n",
       "Dietary_Habits_Healthy                    2\n",
       "Dietary_Habits_Moderate                   2\n",
       "Dietary_Habits_Unhealthy                  2\n",
       "dtype: int64"
      ]
     },
     "execution_count": 195,
     "metadata": {},
     "output_type": "execute_result"
    }
   ],
   "source": [
    "X.nunique()"
   ]
  },
  {
   "cell_type": "code",
   "execution_count": 196,
   "metadata": {},
   "outputs": [
    {
     "data": {
      "text/plain": [
       "Index(['Gender', 'Age', 'Academic_Pressure', 'CGPA', 'Study_Satisfaction',\n",
       "       'Have_you_ever_had_suicidal_thoughts_', 'Work_Study_Hours',\n",
       "       'Financial_Stress', 'Family_History_of_Mental_Illness', 'Depression',\n",
       "       'City_Agra', 'City_Ahmedabad', 'City_Bangalore', 'City_Bhopal',\n",
       "       'City_Chennai', 'City_Delhi', 'City_Faridabad', 'City_Ghaziabad',\n",
       "       'City_Hyderabad', 'City_Indore', 'City_Jaipur', 'City_Kalyan',\n",
       "       'City_Kanpur', 'City_Kolkata', 'City_Lucknow', 'City_Ludhiana',\n",
       "       'City_Meerut', 'City_Mumbai', 'City_Nagpur', 'City_Nashik',\n",
       "       'City_Patna', 'City_Pune', 'City_Rajkot', 'City_Srinagar', 'City_Surat',\n",
       "       'City_Thane', 'City_Vadodara', 'City_Varanasi', 'City_Vasai-Virar',\n",
       "       'City_Visakhapatnam', 'Degree_Bachelor', 'Degree_Class_12',\n",
       "       'Degree_Master', 'Sleep_Duration_5-6_hours', 'Sleep_Duration_7-8_hours',\n",
       "       'Sleep_Duration_Less_than_5_hours', 'Sleep_Duration_More_than_8_hours',\n",
       "       'Dietary_Habits_Healthy', 'Dietary_Habits_Moderate',\n",
       "       'Dietary_Habits_Unhealthy'],\n",
       "      dtype='object')"
      ]
     },
     "execution_count": 196,
     "metadata": {},
     "output_type": "execute_result"
    }
   ],
   "source": [
    "# to make reading the columns easier in streamlit \n",
    "df.columns = df.columns.str.replace(' ', '_')\n",
    "\n",
    "\n",
    "df.columns\n"
   ]
  },
  {
   "cell_type": "code",
   "execution_count": 197,
   "metadata": {},
   "outputs": [
    {
     "data": {
      "text/plain": [
       "Index(['Gender', 'Age', 'Academic_Pressure', 'CGPA', 'Study_Satisfaction',\n",
       "       'Have_you_ever_had_suicidal_thoughts_', 'Work_Study_Hours',\n",
       "       'Financial_Stress', 'Family_History_of_Mental_Illness', 'City_Agra',\n",
       "       'City_Ahmedabad', 'City_Bangalore', 'City_Bhopal', 'City_Chennai',\n",
       "       'City_Delhi', 'City_Faridabad', 'City_Ghaziabad', 'City_Hyderabad',\n",
       "       'City_Indore', 'City_Jaipur', 'City_Kalyan', 'City_Kanpur',\n",
       "       'City_Kolkata', 'City_Lucknow', 'City_Ludhiana', 'City_Meerut',\n",
       "       'City_Mumbai', 'City_Nagpur', 'City_Nashik', 'City_Patna', 'City_Pune',\n",
       "       'City_Rajkot', 'City_Srinagar', 'City_Surat', 'City_Thane',\n",
       "       'City_Vadodara', 'City_Varanasi', 'City_Vasai-Virar',\n",
       "       'City_Visakhapatnam', 'Degree_Bachelor', 'Degree_Class_12',\n",
       "       'Degree_Master', 'Sleep_Duration_5-6_hours', 'Sleep_Duration_7-8_hours',\n",
       "       'Sleep_Duration_Less_than_5_hours', 'Sleep_Duration_More_than_8_hours',\n",
       "       'Dietary_Habits_Healthy', 'Dietary_Habits_Moderate',\n",
       "       'Dietary_Habits_Unhealthy'],\n",
       "      dtype='object')"
      ]
     },
     "execution_count": 197,
     "metadata": {},
     "output_type": "execute_result"
    }
   ],
   "source": [
    "# to make reading the columns easier in streamlit \n",
    "X.columns = X.columns.str.replace(' ', '_')\n",
    "X.columns"
   ]
  },
  {
   "cell_type": "code",
   "execution_count": 198,
   "metadata": {},
   "outputs": [],
   "source": [
    "# creating a new cdv file with the current df\n",
    "df.to_csv('csv_files/update_ohe_file.csv', index=False)"
   ]
  },
  {
   "cell_type": "code",
   "execution_count": 199,
   "metadata": {},
   "outputs": [],
   "source": [
    "# split data into train and test\n",
    "from sklearn.model_selection import train_test_split\n",
    "X_train, X_test, y_train, y_test = train_test_split(X, y, test_size=0.2, random_state=42)\n"
   ]
  },
  {
   "cell_type": "code",
   "execution_count": 200,
   "metadata": {},
   "outputs": [
    {
     "name": "stdout",
     "output_type": "stream",
     "text": [
      "R2 SCORE: 0.5137916579773179\n",
      "Mean Squared Error: 0.11793042725708597\n",
      "Mean Absolute Error: 0.2339308135173673\n",
      "City_Faridabad-0.01%\n",
      "Degree_Class_12-0.01%\n",
      "City_Surat-0.01%\n",
      "City_Bangalore-0.01%\n",
      "City_Kalyan-0.01%\n",
      "City_Mumbai-0.02%\n",
      "Dietary_Habits_Moderate-0.02%\n",
      "City_Thane-0.02%\n",
      "City_Kanpur-0.02%\n",
      "City_Pune-0.02%\n",
      "City_Chennai-0.02%\n",
      "City_Delhi-0.02%\n",
      "City_Vadodara-0.03%\n",
      "City_Visakhapatnam-0.03%\n",
      "City_Ludhiana-0.03%\n",
      "City_Bhopal-0.03%\n",
      "Degree_Master-0.03%\n",
      "Degree_Bachelor-0.03%\n",
      "City_Ghaziabad-0.04%\n",
      "Sleep_Duration_7-8_hours-0.04%\n",
      "City_Meerut-0.04%\n",
      "City_Patna-0.04%\n",
      "City_Srinagar-0.04%\n",
      "City_Kolkata-0.04%\n",
      "City_Vasai-Virar-0.05%\n",
      "City_Agra-0.05%\n",
      "City_Nashik-0.05%\n",
      "City_Varanasi-0.05%\n",
      "Sleep_Duration_5-6_hours-0.05%\n",
      "City_Nagpur-0.05%\n",
      "City_Rajkot-0.05%\n",
      "City_Indore-0.06%\n",
      "City_Lucknow-0.06%\n",
      "Gender-0.07%\n",
      "City_Ahmedabad-0.09%\n",
      "City_Hyderabad-0.09%\n",
      "City_Jaipur-0.11%\n",
      "Sleep_Duration_More_than_8_hours-0.15%\n",
      "Family_History_of_Mental_Illness-0.18%\n",
      "Sleep_Duration_Less_than_5_hours-0.36%\n",
      "Dietary_Habits_Healthy-0.89%\n",
      "CGPA-1.26%\n",
      "Study_Satisfaction-1.40%\n",
      "Dietary_Habits_Unhealthy-1.52%\n",
      "Work_Study_Hours-2.56%\n",
      "Age-4.57%\n",
      "Financial_Stress-9.73%\n",
      "Academic_Pressure-23.79%\n",
      "Have_you_ever_had_suicidal_thoughts_-52.16%\n"
     ]
    }
   ],
   "source": [
    "# gbr \n",
    "\n",
    "# imports\n",
    "from sklearn.ensemble import GradientBoostingRegressor\n",
    "from sklearn import ensemble\n",
    "from sklearn.metrics import r2_score\n",
    "\n",
    "# training model\n",
    "gbr=ensemble.GradientBoostingRegressor(\n",
    "    n_estimators=1000,\n",
    "    learning_rate=0.1,\n",
    "    max_depth=3,\n",
    "    min_samples_split=2,\n",
    "    loss='huber'\n",
    ")\n",
    "gbr.fit(X_train, y_train)\n",
    "\n",
    "# r2 score\n",
    "y_pred_GBR=gbr.predict(X_test)\n",
    "R2_score=r2_score(y_test, y_pred_GBR)\n",
    "print('R2 SCORE:', R2_score)\n",
    "\n",
    "\n",
    "# to check the mean squared error of the model\n",
    "from sklearn.metrics import mean_squared_error\n",
    "mean_squared_error(y_test, y_pred_GBR)\n",
    "print('Mean Squared Error:', mean_squared_error(y_test, y_pred_GBR))\n",
    "\n",
    "# to check the mean absolute error of the model\n",
    "from sklearn.metrics import mean_absolute_error\n",
    "mean_absolute_error(y_test, y_pred_GBR)\n",
    "print('Mean Absolute Error:', mean_absolute_error(y_test, y_pred_GBR))\n",
    "\n",
    "\n",
    "# FEATURE IMPORTANCE\n",
    "# feature_importance\n",
    "\n",
    "feature_columns=np.array(X.columns)\n",
    "\n",
    "importance=gbr.feature_importances_\n",
    "\n",
    "index_by_importance=importance.argsort()\n",
    "\n",
    "for index in index_by_importance:\n",
    "    print(\"{}-{:.2f}%\".format(feature_columns[index],importance[index]*100.0))\n",
    "\n"
   ]
  },
  {
   "cell_type": "code",
   "execution_count": 201,
   "metadata": {},
   "outputs": [
    {
     "name": "stdout",
     "output_type": "stream",
     "text": [
      "<function accuracy_score at 0x000001BB09734AE0>\n",
      "Confusion Matrix:\n",
      " [[1797  499]\n",
      " [ 413 2841]]\n",
      "Classification Report:\n",
      "               precision    recall  f1-score   support\n",
      "\n",
      "           0       0.81      0.78      0.80      2296\n",
      "           1       0.85      0.87      0.86      3254\n",
      "\n",
      "    accuracy                           0.84      5550\n",
      "   macro avg       0.83      0.83      0.83      5550\n",
      "weighted avg       0.84      0.84      0.84      5550\n",
      "\n"
     ]
    }
   ],
   "source": [
    "# GBC \n",
    "\n",
    "# IMPORTS\n",
    "from sklearn.ensemble import GradientBoostingClassifier\n",
    "from sklearn import ensemble\n",
    "\n",
    "# train data\n",
    "gbc=ensemble.GradientBoostingClassifier(\n",
    "    n_estimators=1000,\n",
    "    learning_rate=0.1,\n",
    "    max_depth=3,\n",
    "    min_samples_split=2,\n",
    "    loss='exponential'\n",
    ")\n",
    "gbc.fit(X_train, y_train)\n",
    "\n",
    "# # to check the model accuracy\n",
    "from sklearn.metrics import accuracy_score\n",
    "y_pred = gbc.predict(X_test)\n",
    "accuracy_score(y_test, y_pred)\n",
    "print(accuracy_score)\n",
    "\n",
    "\n",
    "# confusion matrix of the gbc model\n",
    "from sklearn.metrics import confusion_matrix\n",
    "conf_mat_gbc = confusion_matrix(y_test, y_pred)\n",
    "print('Confusion Matrix:\\n', conf_mat_gbc)\n",
    "\n",
    "# classification report of the gbc model\n",
    "from sklearn.metrics import classification_report\n",
    "class_rep_gbc = classification_report(y_test, y_pred)\n",
    "print('Classification Report:\\n', class_rep_gbc)\n",
    "\n"
   ]
  },
  {
   "cell_type": "code",
   "execution_count": 202,
   "metadata": {},
   "outputs": [
    {
     "name": "stdout",
     "output_type": "stream",
     "text": [
      "<function accuracy_score at 0x000001BB09734AE0>\n"
     ]
    }
   ],
   "source": [
    "# # to check the model accuracy\n",
    "from sklearn.metrics import accuracy_score\n",
    "y_pred_gbc = gbc.predict(X_test)\n",
    "accuracy_score(y_test, y_pred_gbc)\n",
    "print(accuracy_score)"
   ]
  },
  {
   "cell_type": "code",
   "execution_count": 203,
   "metadata": {},
   "outputs": [
    {
     "name": "stdout",
     "output_type": "stream",
     "text": [
      "Accuracy: 0.8367567567567568\n",
      "              precision    recall  f1-score   support\n",
      "\n",
      "           0       0.82      0.78      0.80      2296\n",
      "           1       0.85      0.88      0.86      3254\n",
      "\n",
      "    accuracy                           0.84      5550\n",
      "   macro avg       0.83      0.83      0.83      5550\n",
      "weighted avg       0.84      0.84      0.84      5550\n",
      "\n"
     ]
    }
   ],
   "source": [
    "# logistic regression\n",
    "# imports\n",
    "from sklearn.linear_model import LogisticRegression\n",
    "from sklearn.metrics import accuracy_score\n",
    "from sklearn.metrics import classification_report\n",
    "\n",
    "# train data\n",
    "LR=LogisticRegression(solver='lbfgs', max_iter=1000)\n",
    "LR.fit(X_train, y_train)\n",
    "# accuracy score\n",
    "y_pred_LR=LR.predict(X_test)\n",
    "accuracy=accuracy_score(y_test, y_pred_LR)\n",
    "print('Accuracy:', accuracy)\n",
    "\n",
    "# classification report\n",
    "print(classification_report(y_test, y_pred_LR))\n"
   ]
  },
  {
   "cell_type": "code",
   "execution_count": 204,
   "metadata": {},
   "outputs": [
    {
     "name": "stdout",
     "output_type": "stream",
     "text": [
      "Accuracy: 0.8369369369369369\n",
      "              precision    recall  f1-score   support\n",
      "\n",
      "           0       0.82      0.77      0.80      2296\n",
      "           1       0.85      0.88      0.86      3254\n",
      "\n",
      "    accuracy                           0.84      5550\n",
      "   macro avg       0.83      0.83      0.83      5550\n",
      "weighted avg       0.84      0.84      0.84      5550\n",
      "\n"
     ]
    }
   ],
   "source": [
    "print (classification_report(y_test,y_pred_LR))"
   ]
  },
  {
   "cell_type": "code",
   "execution_count": 684,
   "metadata": {},
   "outputs": [
    {
     "name": "stdout",
     "output_type": "stream",
     "text": [
      "Accuracy: 0.8369369369369369\n"
     ]
    }
   ],
   "source": [
    "# linear discriminant analysis\n",
    "\n",
    "# imports\n",
    "from sklearn.discriminant_analysis import LinearDiscriminantAnalysis\n",
    "from sklearn.metrics import accuracy_score\n",
    "\n",
    "\n",
    "# train model\n",
    "LDA=LinearDiscriminantAnalysis()\n",
    "LDA.fit(X_train, y_train)\n",
    "\n",
    "# accuracy\n",
    "y_pred_LDA=LDA.predict(X_test)\n",
    "accuracy=accuracy_score(y_test, y_pred_LDA)\n",
    "print('Accuracy:', accuracy)\n",
    "\n",
    "# classification report\n",
    "print(classification_report(y_test, y_pred_LDA))\n",
    "\n",
    "\n",
    "\n"
   ]
  },
  {
   "cell_type": "code",
   "execution_count": 205,
   "metadata": {},
   "outputs": [
    {
     "name": "stdout",
     "output_type": "stream",
     "text": [
      "Accuracy: 0.7972972972972973\n",
      "              precision    recall  f1-score   support\n",
      "\n",
      "           0       0.79      0.70      0.74      2296\n",
      "           1       0.80      0.87      0.83      3254\n",
      "\n",
      "    accuracy                           0.80      5550\n",
      "   macro avg       0.80      0.78      0.79      5550\n",
      "weighted avg       0.80      0.80      0.80      5550\n",
      "\n"
     ]
    }
   ],
   "source": [
    "# k neighbors classifier\n",
    "\n",
    "# imports\n",
    "from sklearn.neighbors import KNeighborsClassifier\n",
    "from sklearn.metrics import accuracy_score\n",
    "\n",
    "# train data\n",
    "KNN=KNeighborsClassifier()\n",
    "KNN.fit(X_train, y_train)\n",
    "\n",
    "# accuracy\n",
    "y_pred_KNN=KNN.predict(X_test)\n",
    "accuracy=accuracy_score(y_test, y_pred_KNN)\n",
    "print('Accuracy:', accuracy)\n",
    "\n",
    "# classification report\n",
    "print(classification_report(y_test, y_pred_KNN))\n",
    "\n",
    "\n"
   ]
  },
  {
   "cell_type": "code",
   "execution_count": 206,
   "metadata": {},
   "outputs": [
    {
     "name": "stdout",
     "output_type": "stream",
     "text": [
      "Accuracy: 0.7603603603603604\n",
      "              precision    recall  f1-score   support\n",
      "\n",
      "           0       0.71      0.70      0.71      2296\n",
      "           1       0.79      0.80      0.80      3254\n",
      "\n",
      "    accuracy                           0.76      5550\n",
      "   macro avg       0.75      0.75      0.75      5550\n",
      "weighted avg       0.76      0.76      0.76      5550\n",
      "\n",
      "City_Nashik-0.19%\n",
      "City_Mumbai-0.27%\n",
      "City_Kanpur-0.29%\n",
      "City_Meerut-0.29%\n",
      "City_Indore-0.34%\n",
      "City_Ghaziabad-0.36%\n",
      "City_Nagpur-0.37%\n",
      "City_Rajkot-0.37%\n",
      "City_Varanasi-0.38%\n",
      "City_Bangalore-0.41%\n",
      "City_Patna-0.42%\n",
      "City_Vadodara-0.42%\n",
      "City_Delhi-0.45%\n",
      "City_Srinagar-0.45%\n",
      "City_Pune-0.47%\n",
      "City_Faridabad-0.47%\n",
      "City_Thane-0.49%\n",
      "City_Kolkata-0.52%\n",
      "City_Ludhiana-0.53%\n",
      "City_Bhopal-0.53%\n",
      "City_Lucknow-0.54%\n",
      "City_Kalyan-0.54%\n",
      "City_Ahmedabad-0.54%\n",
      "City_Jaipur-0.55%\n",
      "City_Chennai-0.55%\n",
      "City_Hyderabad-0.55%\n",
      "Degree_Class_12-0.58%\n",
      "City_Vasai-Virar-0.58%\n",
      "City_Surat-0.59%\n",
      "Dietary_Habits_Moderate-0.59%\n",
      "City_Visakhapatnam-0.60%\n",
      "City_Agra-0.66%\n",
      "Sleep_Duration_More_than_8_hours-0.74%\n",
      "Sleep_Duration_7-8_hours-0.79%\n",
      "Sleep_Duration_5-6_hours-0.89%\n",
      "Degree_Bachelor-0.98%\n",
      "Degree_Master-0.99%\n",
      "Family_History_of_Mental_Illness-1.02%\n",
      "Sleep_Duration_Less_than_5_hours-1.02%\n",
      "Gender-1.12%\n",
      "Dietary_Habits_Healthy-1.15%\n",
      "Dietary_Habits_Unhealthy-1.30%\n",
      "Study_Satisfaction-3.57%\n",
      "Work_Study_Hours-5.95%\n",
      "Financial_Stress-6.60%\n",
      "Age-6.70%\n",
      "CGPA-8.44%\n",
      "Academic_Pressure-13.63%\n",
      "Have_you_ever_had_suicidal_thoughts_-30.22%\n"
     ]
    }
   ],
   "source": [
    "# decision tree classifier\n",
    "from sklearn.tree import DecisionTreeClassifier\n",
    "from sklearn.metrics import accuracy_score\n",
    "\n",
    "# train data\n",
    "DTC=DecisionTreeClassifier()\n",
    "DTC.fit(X_train, y_train)\n",
    "\n",
    "# accuracy\n",
    "y_pred_DTC=DTC.predict(X_test)\n",
    "accuracy=accuracy_score(y_test, y_pred_DTC)\n",
    "print('Accuracy:', accuracy)\n",
    "\n",
    "# classification report\n",
    "print(classification_report(y_test, y_pred_DTC))\n",
    "\n",
    "# feature importance for dtc\n",
    "\n",
    "feature_columns=np.array(X.columns)\n",
    "\n",
    "dtc_importance=DTC.feature_importances_\n",
    "\n",
    "index_by_importance=dtc_importance.argsort()\n",
    "\n",
    "for index in index_by_importance:\n",
    "    print(\"{}-{:.2f}%\".format(feature_columns[index],dtc_importance[index]*100.0))\n",
    "\n",
    "\n"
   ]
  },
  {
   "cell_type": "code",
   "execution_count": 207,
   "metadata": {},
   "outputs": [
    {
     "name": "stdout",
     "output_type": "stream",
     "text": [
      "Accuracy: 0.7612612612612613\n",
      "              precision    recall  f1-score   support\n",
      "\n",
      "           0       0.70      0.74      0.72      2296\n",
      "           1       0.81      0.77      0.79      3254\n",
      "\n",
      "    accuracy                           0.76      5550\n",
      "   macro avg       0.75      0.76      0.76      5550\n",
      "weighted avg       0.76      0.76      0.76      5550\n",
      "\n"
     ]
    }
   ],
   "source": [
    "# guassian naive bayes\n",
    "from sklearn.naive_bayes import GaussianNB\n",
    "from sklearn.metrics import accuracy_score\n",
    "\n",
    "# train data\n",
    "GNB=GaussianNB()\n",
    "GNB.fit(X_train, y_train)\n",
    "\n",
    "\n",
    "# accuracy\n",
    "y_pred_GNB=GNB.predict(X_test)\n",
    "accuracy=accuracy_score(y_test, y_pred_GNB)\n",
    "print('Accuracy:', accuracy)\n",
    "\n",
    "# classification report\n",
    "print(classification_report(y_test, y_pred_GNB))"
   ]
  },
  {
   "cell_type": "code",
   "execution_count": 208,
   "metadata": {},
   "outputs": [
    {
     "name": "stdout",
     "output_type": "stream",
     "text": [
      "Accuracy: 0.8356756756756757\n",
      "              precision    recall  f1-score   support\n",
      "\n",
      "           0       0.82      0.77      0.79      2296\n",
      "           1       0.84      0.88      0.86      3254\n",
      "\n",
      "    accuracy                           0.84      5550\n",
      "   macro avg       0.83      0.83      0.83      5550\n",
      "weighted avg       0.84      0.84      0.83      5550\n",
      "\n"
     ]
    }
   ],
   "source": [
    "# svc\n",
    "\n",
    "# imports\n",
    "from sklearn.svm import SVC\n",
    "from sklearn.metrics import accuracy_score\n",
    "\n",
    "# train data\n",
    "SVM=SVC(gamma='auto')\n",
    "SVM.fit(X_train, y_train)\n",
    "\n",
    "# accuracy\n",
    "y_pred_SVC=SVM.predict(X_test)\n",
    "accuracy=accuracy_score(y_test, y_pred_SVC)\n",
    "print('Accuracy:', accuracy)\n",
    "\n",
    "# classification report\n",
    "print(classification_report(y_test, y_pred_SVC))"
   ]
  },
  {
   "cell_type": "code",
   "execution_count": 209,
   "metadata": {},
   "outputs": [
    {
     "data": {
      "text/html": [
       "<div>\n",
       "<style scoped>\n",
       "    .dataframe tbody tr th:only-of-type {\n",
       "        vertical-align: middle;\n",
       "    }\n",
       "\n",
       "    .dataframe tbody tr th {\n",
       "        vertical-align: top;\n",
       "    }\n",
       "\n",
       "    .dataframe thead th {\n",
       "        text-align: right;\n",
       "    }\n",
       "</style>\n",
       "<table border=\"1\" class=\"dataframe\">\n",
       "  <thead>\n",
       "    <tr style=\"text-align: right;\">\n",
       "      <th></th>\n",
       "      <th>Gender</th>\n",
       "      <th>Age</th>\n",
       "      <th>Academic_Pressure</th>\n",
       "      <th>CGPA</th>\n",
       "      <th>Study_Satisfaction</th>\n",
       "      <th>Have_you_ever_had_suicidal_thoughts_</th>\n",
       "      <th>Work_Study_Hours</th>\n",
       "      <th>Financial_Stress</th>\n",
       "      <th>Family_History_of_Mental_Illness</th>\n",
       "      <th>Depression</th>\n",
       "    </tr>\n",
       "  </thead>\n",
       "  <tbody>\n",
       "    <tr>\n",
       "      <th>count</th>\n",
       "      <td>27749.000000</td>\n",
       "      <td>27749.000000</td>\n",
       "      <td>27749.000000</td>\n",
       "      <td>27749.000000</td>\n",
       "      <td>27749.000000</td>\n",
       "      <td>27749.000000</td>\n",
       "      <td>27749.000000</td>\n",
       "      <td>27749.000000</td>\n",
       "      <td>27749.000000</td>\n",
       "      <td>27749.000000</td>\n",
       "    </tr>\n",
       "    <tr>\n",
       "      <th>mean</th>\n",
       "      <td>0.557570</td>\n",
       "      <td>25.794263</td>\n",
       "      <td>3.142744</td>\n",
       "      <td>7.658764</td>\n",
       "      <td>2.945151</td>\n",
       "      <td>0.633320</td>\n",
       "      <td>7.162384</td>\n",
       "      <td>3.139428</td>\n",
       "      <td>0.483945</td>\n",
       "      <td>0.586075</td>\n",
       "    </tr>\n",
       "    <tr>\n",
       "      <th>std</th>\n",
       "      <td>0.496684</td>\n",
       "      <td>4.862535</td>\n",
       "      <td>1.380578</td>\n",
       "      <td>1.465673</td>\n",
       "      <td>1.359918</td>\n",
       "      <td>0.481907</td>\n",
       "      <td>3.705626</td>\n",
       "      <td>1.437135</td>\n",
       "      <td>0.499751</td>\n",
       "      <td>0.492544</td>\n",
       "    </tr>\n",
       "    <tr>\n",
       "      <th>min</th>\n",
       "      <td>0.000000</td>\n",
       "      <td>18.000000</td>\n",
       "      <td>0.000000</td>\n",
       "      <td>0.000000</td>\n",
       "      <td>1.000000</td>\n",
       "      <td>0.000000</td>\n",
       "      <td>0.000000</td>\n",
       "      <td>1.000000</td>\n",
       "      <td>0.000000</td>\n",
       "      <td>0.000000</td>\n",
       "    </tr>\n",
       "    <tr>\n",
       "      <th>25%</th>\n",
       "      <td>0.000000</td>\n",
       "      <td>21.000000</td>\n",
       "      <td>2.000000</td>\n",
       "      <td>6.290000</td>\n",
       "      <td>2.000000</td>\n",
       "      <td>0.000000</td>\n",
       "      <td>4.000000</td>\n",
       "      <td>2.000000</td>\n",
       "      <td>0.000000</td>\n",
       "      <td>0.000000</td>\n",
       "    </tr>\n",
       "    <tr>\n",
       "      <th>50%</th>\n",
       "      <td>1.000000</td>\n",
       "      <td>25.000000</td>\n",
       "      <td>3.000000</td>\n",
       "      <td>7.770000</td>\n",
       "      <td>3.000000</td>\n",
       "      <td>1.000000</td>\n",
       "      <td>8.000000</td>\n",
       "      <td>3.000000</td>\n",
       "      <td>0.000000</td>\n",
       "      <td>1.000000</td>\n",
       "    </tr>\n",
       "    <tr>\n",
       "      <th>75%</th>\n",
       "      <td>1.000000</td>\n",
       "      <td>30.000000</td>\n",
       "      <td>4.000000</td>\n",
       "      <td>8.920000</td>\n",
       "      <td>4.000000</td>\n",
       "      <td>1.000000</td>\n",
       "      <td>10.000000</td>\n",
       "      <td>4.000000</td>\n",
       "      <td>1.000000</td>\n",
       "      <td>1.000000</td>\n",
       "    </tr>\n",
       "    <tr>\n",
       "      <th>max</th>\n",
       "      <td>1.000000</td>\n",
       "      <td>34.000000</td>\n",
       "      <td>5.000000</td>\n",
       "      <td>10.000000</td>\n",
       "      <td>5.000000</td>\n",
       "      <td>1.000000</td>\n",
       "      <td>12.000000</td>\n",
       "      <td>5.000000</td>\n",
       "      <td>1.000000</td>\n",
       "      <td>1.000000</td>\n",
       "    </tr>\n",
       "  </tbody>\n",
       "</table>\n",
       "</div>"
      ],
      "text/plain": [
       "             Gender           Age  Academic_Pressure          CGPA  \\\n",
       "count  27749.000000  27749.000000       27749.000000  27749.000000   \n",
       "mean       0.557570     25.794263           3.142744      7.658764   \n",
       "std        0.496684      4.862535           1.380578      1.465673   \n",
       "min        0.000000     18.000000           0.000000      0.000000   \n",
       "25%        0.000000     21.000000           2.000000      6.290000   \n",
       "50%        1.000000     25.000000           3.000000      7.770000   \n",
       "75%        1.000000     30.000000           4.000000      8.920000   \n",
       "max        1.000000     34.000000           5.000000     10.000000   \n",
       "\n",
       "       Study_Satisfaction  Have_you_ever_had_suicidal_thoughts_  \\\n",
       "count        27749.000000                          27749.000000   \n",
       "mean             2.945151                              0.633320   \n",
       "std              1.359918                              0.481907   \n",
       "min              1.000000                              0.000000   \n",
       "25%              2.000000                              0.000000   \n",
       "50%              3.000000                              1.000000   \n",
       "75%              4.000000                              1.000000   \n",
       "max              5.000000                              1.000000   \n",
       "\n",
       "       Work_Study_Hours  Financial_Stress  Family_History_of_Mental_Illness  \\\n",
       "count      27749.000000      27749.000000                      27749.000000   \n",
       "mean           7.162384          3.139428                          0.483945   \n",
       "std            3.705626          1.437135                          0.499751   \n",
       "min            0.000000          1.000000                          0.000000   \n",
       "25%            4.000000          2.000000                          0.000000   \n",
       "50%            8.000000          3.000000                          0.000000   \n",
       "75%           10.000000          4.000000                          1.000000   \n",
       "max           12.000000          5.000000                          1.000000   \n",
       "\n",
       "         Depression  \n",
       "count  27749.000000  \n",
       "mean       0.586075  \n",
       "std        0.492544  \n",
       "min        0.000000  \n",
       "25%        0.000000  \n",
       "50%        1.000000  \n",
       "75%        1.000000  \n",
       "max        1.000000  "
      ]
     },
     "execution_count": 209,
     "metadata": {},
     "output_type": "execute_result"
    }
   ],
   "source": [
    "df.describe()"
   ]
  },
  {
   "cell_type": "code",
   "execution_count": 210,
   "metadata": {},
   "outputs": [
    {
     "data": {
      "text/plain": [
       "['model/LinearRegressionModel.pkl']"
      ]
     },
     "execution_count": 210,
     "metadata": {},
     "output_type": "execute_result"
    }
   ],
   "source": [
    "# dumping the model\n",
    "import joblib\n",
    "# choosing lr as the best model since the accuracy is the highest\n",
    "joblib.dump(LR, 'model/LinearRegressionModel.pkl')\n"
   ]
  },
  {
   "cell_type": "code",
   "execution_count": 211,
   "metadata": {},
   "outputs": [
    {
     "data": {
      "text/plain": [
       "['model/gbrModel.pkl']"
      ]
     },
     "execution_count": 211,
     "metadata": {},
     "output_type": "execute_result"
    }
   ],
   "source": [
    "joblib.dump(gbr,'model/gbrModel.pkl')"
   ]
  },
  {
   "cell_type": "code",
   "execution_count": 212,
   "metadata": {},
   "outputs": [
    {
     "data": {
      "text/plain": [
       "['model/LDAmodel.pkl']"
      ]
     },
     "execution_count": 212,
     "metadata": {},
     "output_type": "execute_result"
    }
   ],
   "source": [
    "joblib.dump(LDA,'model/LDAmodel.pkl')"
   ]
  },
  {
   "cell_type": "code",
   "execution_count": 213,
   "metadata": {},
   "outputs": [],
   "source": [
    "data=pd.read_csv('csv_files/semi_cleaned_depression_file.csv')"
   ]
  },
  {
   "cell_type": "code",
   "execution_count": 214,
   "metadata": {},
   "outputs": [
    {
     "data": {
      "text/html": [
       "<div>\n",
       "<style scoped>\n",
       "    .dataframe tbody tr th:only-of-type {\n",
       "        vertical-align: middle;\n",
       "    }\n",
       "\n",
       "    .dataframe tbody tr th {\n",
       "        vertical-align: top;\n",
       "    }\n",
       "\n",
       "    .dataframe thead th {\n",
       "        text-align: right;\n",
       "    }\n",
       "</style>\n",
       "<table border=\"1\" class=\"dataframe\">\n",
       "  <thead>\n",
       "    <tr style=\"text-align: right;\">\n",
       "      <th></th>\n",
       "      <th>Gender</th>\n",
       "      <th>Age</th>\n",
       "      <th>City</th>\n",
       "      <th>Academic_Pressure</th>\n",
       "      <th>CGPA</th>\n",
       "      <th>Study_Satisfaction</th>\n",
       "      <th>Sleep_Duration</th>\n",
       "      <th>Dietary_Habits</th>\n",
       "      <th>Degree</th>\n",
       "      <th>Have_you_ever_had_suicidal_thoughts_</th>\n",
       "      <th>Work_Study_Hours</th>\n",
       "      <th>Financial_Stress</th>\n",
       "      <th>Family_History_of_Mental_Illness</th>\n",
       "      <th>Depression</th>\n",
       "    </tr>\n",
       "  </thead>\n",
       "  <tbody>\n",
       "    <tr>\n",
       "      <th>0</th>\n",
       "      <td>1</td>\n",
       "      <td>33.0</td>\n",
       "      <td>Visakhapatnam</td>\n",
       "      <td>5.0</td>\n",
       "      <td>8.97</td>\n",
       "      <td>2.0</td>\n",
       "      <td>5-6 hours</td>\n",
       "      <td>Healthy</td>\n",
       "      <td>Bachelor</td>\n",
       "      <td>1</td>\n",
       "      <td>3.0</td>\n",
       "      <td>1.0</td>\n",
       "      <td>0</td>\n",
       "      <td>1</td>\n",
       "    </tr>\n",
       "    <tr>\n",
       "      <th>1</th>\n",
       "      <td>0</td>\n",
       "      <td>24.0</td>\n",
       "      <td>Bangalore</td>\n",
       "      <td>2.0</td>\n",
       "      <td>5.90</td>\n",
       "      <td>5.0</td>\n",
       "      <td>5-6 hours</td>\n",
       "      <td>Moderate</td>\n",
       "      <td>Bachelor</td>\n",
       "      <td>0</td>\n",
       "      <td>3.0</td>\n",
       "      <td>2.0</td>\n",
       "      <td>1</td>\n",
       "      <td>0</td>\n",
       "    </tr>\n",
       "    <tr>\n",
       "      <th>2</th>\n",
       "      <td>1</td>\n",
       "      <td>31.0</td>\n",
       "      <td>Srinagar</td>\n",
       "      <td>3.0</td>\n",
       "      <td>7.03</td>\n",
       "      <td>5.0</td>\n",
       "      <td>Less than 5 hours</td>\n",
       "      <td>Healthy</td>\n",
       "      <td>Bachelor</td>\n",
       "      <td>0</td>\n",
       "      <td>9.0</td>\n",
       "      <td>1.0</td>\n",
       "      <td>1</td>\n",
       "      <td>0</td>\n",
       "    </tr>\n",
       "    <tr>\n",
       "      <th>3</th>\n",
       "      <td>0</td>\n",
       "      <td>28.0</td>\n",
       "      <td>Varanasi</td>\n",
       "      <td>3.0</td>\n",
       "      <td>5.59</td>\n",
       "      <td>2.0</td>\n",
       "      <td>7-8 hours</td>\n",
       "      <td>Moderate</td>\n",
       "      <td>Bachelor</td>\n",
       "      <td>1</td>\n",
       "      <td>4.0</td>\n",
       "      <td>5.0</td>\n",
       "      <td>1</td>\n",
       "      <td>1</td>\n",
       "    </tr>\n",
       "    <tr>\n",
       "      <th>4</th>\n",
       "      <td>0</td>\n",
       "      <td>25.0</td>\n",
       "      <td>Jaipur</td>\n",
       "      <td>4.0</td>\n",
       "      <td>8.13</td>\n",
       "      <td>3.0</td>\n",
       "      <td>5-6 hours</td>\n",
       "      <td>Moderate</td>\n",
       "      <td>Master</td>\n",
       "      <td>1</td>\n",
       "      <td>1.0</td>\n",
       "      <td>1.0</td>\n",
       "      <td>0</td>\n",
       "      <td>0</td>\n",
       "    </tr>\n",
       "    <tr>\n",
       "      <th>...</th>\n",
       "      <td>...</td>\n",
       "      <td>...</td>\n",
       "      <td>...</td>\n",
       "      <td>...</td>\n",
       "      <td>...</td>\n",
       "      <td>...</td>\n",
       "      <td>...</td>\n",
       "      <td>...</td>\n",
       "      <td>...</td>\n",
       "      <td>...</td>\n",
       "      <td>...</td>\n",
       "      <td>...</td>\n",
       "      <td>...</td>\n",
       "      <td>...</td>\n",
       "    </tr>\n",
       "    <tr>\n",
       "      <th>27744</th>\n",
       "      <td>0</td>\n",
       "      <td>27.0</td>\n",
       "      <td>Surat</td>\n",
       "      <td>5.0</td>\n",
       "      <td>5.75</td>\n",
       "      <td>5.0</td>\n",
       "      <td>5-6 hours</td>\n",
       "      <td>Unhealthy</td>\n",
       "      <td>Class 12</td>\n",
       "      <td>1</td>\n",
       "      <td>7.0</td>\n",
       "      <td>1.0</td>\n",
       "      <td>1</td>\n",
       "      <td>0</td>\n",
       "    </tr>\n",
       "    <tr>\n",
       "      <th>27745</th>\n",
       "      <td>1</td>\n",
       "      <td>27.0</td>\n",
       "      <td>Ludhiana</td>\n",
       "      <td>2.0</td>\n",
       "      <td>9.40</td>\n",
       "      <td>3.0</td>\n",
       "      <td>Less than 5 hours</td>\n",
       "      <td>Healthy</td>\n",
       "      <td>Master</td>\n",
       "      <td>0</td>\n",
       "      <td>0.0</td>\n",
       "      <td>3.0</td>\n",
       "      <td>1</td>\n",
       "      <td>0</td>\n",
       "    </tr>\n",
       "    <tr>\n",
       "      <th>27746</th>\n",
       "      <td>1</td>\n",
       "      <td>31.0</td>\n",
       "      <td>Faridabad</td>\n",
       "      <td>3.0</td>\n",
       "      <td>6.61</td>\n",
       "      <td>4.0</td>\n",
       "      <td>5-6 hours</td>\n",
       "      <td>Unhealthy</td>\n",
       "      <td>Master</td>\n",
       "      <td>0</td>\n",
       "      <td>12.0</td>\n",
       "      <td>2.0</td>\n",
       "      <td>0</td>\n",
       "      <td>0</td>\n",
       "    </tr>\n",
       "    <tr>\n",
       "      <th>27747</th>\n",
       "      <td>0</td>\n",
       "      <td>18.0</td>\n",
       "      <td>Ludhiana</td>\n",
       "      <td>5.0</td>\n",
       "      <td>6.88</td>\n",
       "      <td>2.0</td>\n",
       "      <td>Less than 5 hours</td>\n",
       "      <td>Healthy</td>\n",
       "      <td>Class 12</td>\n",
       "      <td>1</td>\n",
       "      <td>10.0</td>\n",
       "      <td>5.0</td>\n",
       "      <td>0</td>\n",
       "      <td>1</td>\n",
       "    </tr>\n",
       "    <tr>\n",
       "      <th>27748</th>\n",
       "      <td>1</td>\n",
       "      <td>27.0</td>\n",
       "      <td>Patna</td>\n",
       "      <td>4.0</td>\n",
       "      <td>9.24</td>\n",
       "      <td>1.0</td>\n",
       "      <td>Less than 5 hours</td>\n",
       "      <td>Healthy</td>\n",
       "      <td>Bachelor</td>\n",
       "      <td>1</td>\n",
       "      <td>2.0</td>\n",
       "      <td>3.0</td>\n",
       "      <td>1</td>\n",
       "      <td>1</td>\n",
       "    </tr>\n",
       "  </tbody>\n",
       "</table>\n",
       "<p>27749 rows × 14 columns</p>\n",
       "</div>"
      ],
      "text/plain": [
       "       Gender   Age           City  Academic_Pressure  CGPA  \\\n",
       "0           1  33.0  Visakhapatnam                5.0  8.97   \n",
       "1           0  24.0      Bangalore                2.0  5.90   \n",
       "2           1  31.0       Srinagar                3.0  7.03   \n",
       "3           0  28.0       Varanasi                3.0  5.59   \n",
       "4           0  25.0         Jaipur                4.0  8.13   \n",
       "...       ...   ...            ...                ...   ...   \n",
       "27744       0  27.0          Surat                5.0  5.75   \n",
       "27745       1  27.0       Ludhiana                2.0  9.40   \n",
       "27746       1  31.0      Faridabad                3.0  6.61   \n",
       "27747       0  18.0       Ludhiana                5.0  6.88   \n",
       "27748       1  27.0          Patna                4.0  9.24   \n",
       "\n",
       "       Study_Satisfaction     Sleep_Duration Dietary_Habits    Degree  \\\n",
       "0                     2.0          5-6 hours        Healthy  Bachelor   \n",
       "1                     5.0          5-6 hours       Moderate  Bachelor   \n",
       "2                     5.0  Less than 5 hours        Healthy  Bachelor   \n",
       "3                     2.0          7-8 hours       Moderate  Bachelor   \n",
       "4                     3.0          5-6 hours       Moderate    Master   \n",
       "...                   ...                ...            ...       ...   \n",
       "27744                 5.0          5-6 hours      Unhealthy  Class 12   \n",
       "27745                 3.0  Less than 5 hours        Healthy    Master   \n",
       "27746                 4.0          5-6 hours      Unhealthy    Master   \n",
       "27747                 2.0  Less than 5 hours        Healthy  Class 12   \n",
       "27748                 1.0  Less than 5 hours        Healthy  Bachelor   \n",
       "\n",
       "       Have_you_ever_had_suicidal_thoughts_  Work_Study_Hours  \\\n",
       "0                                         1               3.0   \n",
       "1                                         0               3.0   \n",
       "2                                         0               9.0   \n",
       "3                                         1               4.0   \n",
       "4                                         1               1.0   \n",
       "...                                     ...               ...   \n",
       "27744                                     1               7.0   \n",
       "27745                                     0               0.0   \n",
       "27746                                     0              12.0   \n",
       "27747                                     1              10.0   \n",
       "27748                                     1               2.0   \n",
       "\n",
       "       Financial_Stress  Family_History_of_Mental_Illness  Depression  \n",
       "0                   1.0                                 0           1  \n",
       "1                   2.0                                 1           0  \n",
       "2                   1.0                                 1           0  \n",
       "3                   5.0                                 1           1  \n",
       "4                   1.0                                 0           0  \n",
       "...                 ...                               ...         ...  \n",
       "27744               1.0                                 1           0  \n",
       "27745               3.0                                 1           0  \n",
       "27746               2.0                                 0           0  \n",
       "27747               5.0                                 0           1  \n",
       "27748               3.0                                 1           1  \n",
       "\n",
       "[27749 rows x 14 columns]"
      ]
     },
     "execution_count": 214,
     "metadata": {},
     "output_type": "execute_result"
    }
   ],
   "source": [
    "data"
   ]
  },
  {
   "cell_type": "code",
   "execution_count": 215,
   "metadata": {},
   "outputs": [],
   "source": [
    "# after the feature importance in another file can say sleep,history,diet,academic and financial stress play big part and suicidal thoughts too \n",
    "# city,gender,degree doesnt affect to much. as they are not above  1.5% in both gbr and dtc\n",
    "# so we can say that the most important features are sleep,history,diet,academic and financial\n",
    "\n",
    "data=data.drop(['City','Gender','Degree',],axis=1)"
   ]
  },
  {
   "cell_type": "code",
   "execution_count": 216,
   "metadata": {},
   "outputs": [
    {
     "data": {
      "text/plain": [
       "Age                                      17\n",
       "Academic_Pressure                         6\n",
       "CGPA                                    331\n",
       "Study_Satisfaction                        5\n",
       "Sleep_Duration                            4\n",
       "Dietary_Habits                            3\n",
       "Have_you_ever_had_suicidal_thoughts_      2\n",
       "Work_Study_Hours                         13\n",
       "Financial_Stress                          5\n",
       "Family_History_of_Mental_Illness          2\n",
       "Depression                                2\n",
       "dtype: int64"
      ]
     },
     "execution_count": 216,
     "metadata": {},
     "output_type": "execute_result"
    }
   ],
   "source": [
    "data.nunique()"
   ]
  },
  {
   "cell_type": "code",
   "execution_count": 217,
   "metadata": {},
   "outputs": [
    {
     "data": {
      "text/plain": [
       "Age                                     float64\n",
       "Academic_Pressure                       float64\n",
       "CGPA                                    float64\n",
       "Study_Satisfaction                      float64\n",
       "Sleep_Duration                           object\n",
       "Dietary_Habits                           object\n",
       "Have_you_ever_had_suicidal_thoughts_      int64\n",
       "Work_Study_Hours                        float64\n",
       "Financial_Stress                        float64\n",
       "Family_History_of_Mental_Illness          int64\n",
       "Depression                                int64\n",
       "dtype: object"
      ]
     },
     "execution_count": 217,
     "metadata": {},
     "output_type": "execute_result"
    }
   ],
   "source": [
    "data.dtypes"
   ]
  },
  {
   "cell_type": "code",
   "execution_count": 218,
   "metadata": {},
   "outputs": [
    {
     "name": "stdout",
     "output_type": "stream",
     "text": [
      "Number of Missing Values in Each Column:\n",
      " Age                                     0\n",
      "Academic_Pressure                       0\n",
      "CGPA                                    0\n",
      "Study_Satisfaction                      0\n",
      "Sleep_Duration                          0\n",
      "Dietary_Habits                          0\n",
      "Have_you_ever_had_suicidal_thoughts_    0\n",
      "Work_Study_Hours                        0\n",
      "Financial_Stress                        0\n",
      "Family_History_of_Mental_Illness        0\n",
      "Depression                              0\n",
      "dtype: int64\n"
     ]
    }
   ],
   "source": [
    "missing_values_count = data.isnull().sum()\n",
    "print(\"Number of Missing Values in Each Column:\\n\", missing_values_count)"
   ]
  },
  {
   "cell_type": "code",
   "execution_count": 219,
   "metadata": {},
   "outputs": [],
   "source": [
    "# this is the clean dataset after data cleaning and exploration\n",
    "\n",
    "data.to_csv('csv_files/final_depression_dataset.csv',index=False)"
   ]
  },
  {
   "cell_type": "code",
   "execution_count": 220,
   "metadata": {},
   "outputs": [],
   "source": [
    "# since sleep and diet is object with more than 2 value we do one hard encoding on them before training the data\n",
    "\n",
    "data = pd.get_dummies(data, columns=[ 'Sleep_Duration', 'Dietary_Habits'])"
   ]
  },
  {
   "cell_type": "code",
   "execution_count": 221,
   "metadata": {},
   "outputs": [
    {
     "data": {
      "text/html": [
       "<div>\n",
       "<style scoped>\n",
       "    .dataframe tbody tr th:only-of-type {\n",
       "        vertical-align: middle;\n",
       "    }\n",
       "\n",
       "    .dataframe tbody tr th {\n",
       "        vertical-align: top;\n",
       "    }\n",
       "\n",
       "    .dataframe thead th {\n",
       "        text-align: right;\n",
       "    }\n",
       "</style>\n",
       "<table border=\"1\" class=\"dataframe\">\n",
       "  <thead>\n",
       "    <tr style=\"text-align: right;\">\n",
       "      <th></th>\n",
       "      <th>Age</th>\n",
       "      <th>Academic_Pressure</th>\n",
       "      <th>CGPA</th>\n",
       "      <th>Study_Satisfaction</th>\n",
       "      <th>Have_you_ever_had_suicidal_thoughts_</th>\n",
       "      <th>Work_Study_Hours</th>\n",
       "      <th>Financial_Stress</th>\n",
       "      <th>Family_History_of_Mental_Illness</th>\n",
       "      <th>Depression</th>\n",
       "      <th>Sleep_Duration_5-6 hours</th>\n",
       "      <th>Sleep_Duration_7-8 hours</th>\n",
       "      <th>Sleep_Duration_Less than 5 hours</th>\n",
       "      <th>Sleep_Duration_More than 8 hours</th>\n",
       "      <th>Dietary_Habits_Healthy</th>\n",
       "      <th>Dietary_Habits_Moderate</th>\n",
       "      <th>Dietary_Habits_Unhealthy</th>\n",
       "    </tr>\n",
       "  </thead>\n",
       "  <tbody>\n",
       "    <tr>\n",
       "      <th>14380</th>\n",
       "      <td>21.0</td>\n",
       "      <td>5.0</td>\n",
       "      <td>8.04</td>\n",
       "      <td>1.0</td>\n",
       "      <td>1</td>\n",
       "      <td>6.0</td>\n",
       "      <td>2.0</td>\n",
       "      <td>1</td>\n",
       "      <td>1</td>\n",
       "      <td>False</td>\n",
       "      <td>False</td>\n",
       "      <td>False</td>\n",
       "      <td>True</td>\n",
       "      <td>False</td>\n",
       "      <td>False</td>\n",
       "      <td>True</td>\n",
       "    </tr>\n",
       "    <tr>\n",
       "      <th>16360</th>\n",
       "      <td>34.0</td>\n",
       "      <td>3.0</td>\n",
       "      <td>7.13</td>\n",
       "      <td>3.0</td>\n",
       "      <td>1</td>\n",
       "      <td>10.0</td>\n",
       "      <td>1.0</td>\n",
       "      <td>1</td>\n",
       "      <td>0</td>\n",
       "      <td>False</td>\n",
       "      <td>False</td>\n",
       "      <td>False</td>\n",
       "      <td>True</td>\n",
       "      <td>False</td>\n",
       "      <td>True</td>\n",
       "      <td>False</td>\n",
       "    </tr>\n",
       "    <tr>\n",
       "      <th>7482</th>\n",
       "      <td>24.0</td>\n",
       "      <td>4.0</td>\n",
       "      <td>5.16</td>\n",
       "      <td>2.0</td>\n",
       "      <td>0</td>\n",
       "      <td>0.0</td>\n",
       "      <td>1.0</td>\n",
       "      <td>0</td>\n",
       "      <td>0</td>\n",
       "      <td>False</td>\n",
       "      <td>False</td>\n",
       "      <td>True</td>\n",
       "      <td>False</td>\n",
       "      <td>False</td>\n",
       "      <td>True</td>\n",
       "      <td>False</td>\n",
       "    </tr>\n",
       "  </tbody>\n",
       "</table>\n",
       "</div>"
      ],
      "text/plain": [
       "        Age  Academic_Pressure  CGPA  Study_Satisfaction  \\\n",
       "14380  21.0                5.0  8.04                 1.0   \n",
       "16360  34.0                3.0  7.13                 3.0   \n",
       "7482   24.0                4.0  5.16                 2.0   \n",
       "\n",
       "       Have_you_ever_had_suicidal_thoughts_  Work_Study_Hours  \\\n",
       "14380                                     1               6.0   \n",
       "16360                                     1              10.0   \n",
       "7482                                      0               0.0   \n",
       "\n",
       "       Financial_Stress  Family_History_of_Mental_Illness  Depression  \\\n",
       "14380               2.0                                 1           1   \n",
       "16360               1.0                                 1           0   \n",
       "7482                1.0                                 0           0   \n",
       "\n",
       "       Sleep_Duration_5-6 hours  Sleep_Duration_7-8 hours  \\\n",
       "14380                     False                     False   \n",
       "16360                     False                     False   \n",
       "7482                      False                     False   \n",
       "\n",
       "       Sleep_Duration_Less than 5 hours  Sleep_Duration_More than 8 hours  \\\n",
       "14380                             False                              True   \n",
       "16360                             False                              True   \n",
       "7482                               True                             False   \n",
       "\n",
       "       Dietary_Habits_Healthy  Dietary_Habits_Moderate  \\\n",
       "14380                   False                    False   \n",
       "16360                   False                     True   \n",
       "7482                    False                     True   \n",
       "\n",
       "       Dietary_Habits_Unhealthy  \n",
       "14380                      True  \n",
       "16360                     False  \n",
       "7482                      False  "
      ]
     },
     "execution_count": 221,
     "metadata": {},
     "output_type": "execute_result"
    }
   ],
   "source": [
    "data.sample(3)"
   ]
  },
  {
   "cell_type": "code",
   "execution_count": 222,
   "metadata": {},
   "outputs": [],
   "source": [
    "# split data into X and y\n",
    "X=df.drop('Depression', axis=1)\n",
    "y=df['Depression']"
   ]
  },
  {
   "cell_type": "code",
   "execution_count": 223,
   "metadata": {},
   "outputs": [
    {
     "data": {
      "text/plain": [
       "Age                                     float64\n",
       "Academic_Pressure                       float64\n",
       "CGPA                                    float64\n",
       "Study_Satisfaction                      float64\n",
       "Have_you_ever_had_suicidal_thoughts_      int64\n",
       "Work_Study_Hours                        float64\n",
       "Financial_Stress                        float64\n",
       "Family_History_of_Mental_Illness          int64\n",
       "Depression                                int64\n",
       "Sleep_Duration_5-6 hours                   bool\n",
       "Sleep_Duration_7-8 hours                   bool\n",
       "Sleep_Duration_Less than 5 hours           bool\n",
       "Sleep_Duration_More than 8 hours           bool\n",
       "Dietary_Habits_Healthy                     bool\n",
       "Dietary_Habits_Moderate                    bool\n",
       "Dietary_Habits_Unhealthy                   bool\n",
       "dtype: object"
      ]
     },
     "execution_count": 223,
     "metadata": {},
     "output_type": "execute_result"
    }
   ],
   "source": [
    "data.dtypes"
   ]
  },
  {
   "cell_type": "code",
   "execution_count": 224,
   "metadata": {},
   "outputs": [],
   "source": [
    "# split data into train and test\n",
    "from sklearn.model_selection import train_test_split\n",
    "X_train, X_test, y_train, y_test = train_test_split(X, y, test_size=0.3, random_state=42)\n"
   ]
  },
  {
   "cell_type": "code",
   "execution_count": 226,
   "metadata": {},
   "outputs": [
    {
     "name": "stdout",
     "output_type": "stream",
     "text": [
      "0.8378378378378378\n",
      "Confusion Matrix:\n",
      " [[2716  720]\n",
      " [ 630 4259]]\n",
      "Classification Report:\n",
      "               precision    recall  f1-score   support\n",
      "\n",
      "           0       0.81      0.79      0.80      3436\n",
      "           1       0.86      0.87      0.86      4889\n",
      "\n",
      "    accuracy                           0.84      8325\n",
      "   macro avg       0.83      0.83      0.83      8325\n",
      "weighted avg       0.84      0.84      0.84      8325\n",
      "\n"
     ]
    }
   ],
   "source": [
    "# gbc without hyperparameter tuning\n",
    "from sklearn.ensemble import GradientBoostingClassifier\n",
    "from sklearn import ensemble\n",
    "\n",
    "gbc=ensemble.GradientBoostingClassifier(\n",
    "    n_estimators=1000,\n",
    "    learning_rate=0.1,\n",
    "    max_depth=3,\n",
    "    min_samples_split=2,\n",
    "    loss='exponential'\n",
    ")\n",
    "gbc.fit(X_train, y_train)\n",
    "\n",
    "# to check the model accuracy\n",
    "from sklearn.metrics import accuracy_score\n",
    "y_pred_gbc = gbc.predict(X_test)\n",
    "accuracy_score(y_test, y_pred_gbc)\n",
    "print(accuracy_score(y_test, y_pred_gbc))\n",
    "\n",
    "\n",
    "# confusion matrix of the gbc model\n",
    "from sklearn.metrics import confusion_matrix\n",
    "conf_mat_gbc = confusion_matrix(y_test, y_pred_gbc)\n",
    "print('Confusion Matrix:\\n', conf_mat_gbc)\n",
    "\n",
    "# classification report of the gbc model\n",
    "from sklearn.metrics import classification_report\n",
    "class_rep_gbc = classification_report(y_test, y_pred_gbc)\n",
    "print('Classification Report:\\n', class_rep_gbc)"
   ]
  },
  {
   "cell_type": "code",
   "execution_count": 227,
   "metadata": {},
   "outputs": [
    {
     "name": "stdout",
     "output_type": "stream",
     "text": [
      "R2 Score: 0.5203323263528712\n",
      "Mean Squared Error: 0.1162639728189357\n",
      "Mean Absolute Error: 0.23137689910593437\n",
      "City_Thane-0.01%\n",
      "Degree_Class_12-0.01%\n",
      "Dietary_Habits_Moderate-0.02%\n",
      "City_Delhi-0.02%\n",
      "City_Pune-0.02%\n",
      "City_Faridabad-0.02%\n",
      "City_Visakhapatnam-0.02%\n",
      "City_Ludhiana-0.02%\n",
      "City_Kanpur-0.02%\n",
      "City_Bangalore-0.02%\n",
      "City_Patna-0.03%\n",
      "City_Kolkata-0.03%\n",
      "City_Agra-0.03%\n",
      "City_Surat-0.03%\n",
      "City_Bhopal-0.03%\n",
      "Degree_Bachelor-0.03%\n",
      "City_Kalyan-0.03%\n",
      "City_Ghaziabad-0.04%\n",
      "City_Mumbai-0.04%\n",
      "Degree_Master-0.04%\n",
      "City_Nagpur-0.05%\n",
      "City_Vasai-Virar-0.05%\n",
      "Sleep_Duration_7-8_hours-0.05%\n",
      "City_Varanasi-0.05%\n",
      "City_Srinagar-0.05%\n",
      "City_Indore-0.05%\n",
      "City_Vadodara-0.05%\n",
      "City_Nashik-0.06%\n",
      "Gender-0.07%\n",
      "City_Hyderabad-0.07%\n",
      "City_Lucknow-0.07%\n",
      "City_Chennai-0.07%\n",
      "Sleep_Duration_5-6_hours-0.08%\n",
      "City_Meerut-0.08%\n",
      "City_Ahmedabad-0.10%\n",
      "City_Rajkot-0.13%\n",
      "City_Jaipur-0.14%\n",
      "Sleep_Duration_More_than_8_hours-0.16%\n",
      "Family_History_of_Mental_Illness-0.23%\n",
      "Sleep_Duration_Less_than_5_hours-0.38%\n",
      "Dietary_Habits_Healthy-1.03%\n",
      "Study_Satisfaction-1.37%\n",
      "Dietary_Habits_Unhealthy-1.37%\n",
      "CGPA-1.57%\n",
      "Work_Study_Hours-2.56%\n",
      "Age-4.45%\n",
      "Financial_Stress-9.75%\n",
      "Academic_Pressure-23.80%\n",
      "Have_you_ever_had_suicidal_thoughts_-51.62%\n"
     ]
    }
   ],
   "source": [
    "# gbr with hyperparameter tuning\n",
    "\n",
    "from sklearn.ensemble import GradientBoostingRegressor\n",
    "from sklearn import ensemble\n",
    "\n",
    "gbr=ensemble.GradientBoostingRegressor(\n",
    "    n_estimators=1000,\n",
    "    learning_rate=0.1,\n",
    "    max_depth=3,\n",
    "    min_samples_split=2,\n",
    "    loss='huber'\n",
    ")\n",
    "gbr.fit(X_train, y_train)\n",
    "\n",
    "\n",
    "# to check the r2 scoreof the model\n",
    "from sklearn.metrics import r2_score\n",
    "y_pred_GB=gbr.predict(X_test)\n",
    "r2_score(y_test, y_pred_GB)\n",
    "print('R2 Score:', r2_score(y_test, y_pred_GB))\n",
    "\n",
    "# to check the mean squared error of the model\n",
    "from sklearn.metrics import mean_squared_error\n",
    "mean_squared_error(y_test, y_pred_GB)\n",
    "print('Mean Squared Error:', mean_squared_error(y_test, y_pred_GB))\n",
    "\n",
    "# to check the mean absolute error of the model\n",
    "from sklearn.metrics import mean_absolute_error\n",
    "mean_absolute_error(y_test, y_pred_GB)\n",
    "print('Mean Absolute Error:', mean_absolute_error(y_test, y_pred_GB))\n",
    "\n",
    "# feature_importance\n",
    "\n",
    "feature_columns=np.array(X.columns)\n",
    "\n",
    "importance=gbr.feature_importances_\n",
    "\n",
    "index_by_importance=importance.argsort()\n",
    "\n",
    "for index in index_by_importance:\n",
    "    print(\"{}-{:.2f}%\".format(feature_columns[index],importance[index]*100.0))\n",
    "\n",
    "\n"
   ]
  },
  {
   "cell_type": "code",
   "execution_count": 228,
   "metadata": {},
   "outputs": [
    {
     "name": "stdout",
     "output_type": "stream",
     "text": [
      "Accuracy: 0.8387987987987988\n",
      "              precision    recall  f1-score   support\n",
      "\n",
      "           0       0.82      0.79      0.80      3436\n",
      "           1       0.85      0.88      0.86      4889\n",
      "\n",
      "    accuracy                           0.84      8325\n",
      "   macro avg       0.84      0.83      0.83      8325\n",
      "weighted avg       0.84      0.84      0.84      8325\n",
      "\n"
     ]
    }
   ],
   "source": [
    "# logistic regression\n",
    "# imports\n",
    "from sklearn.linear_model import LogisticRegression\n",
    "from sklearn.metrics import accuracy_score\n",
    "from sklearn.metrics import classification_report\n",
    "\n",
    "# train data\n",
    "LR=LogisticRegression(solver='lbfgs', max_iter=1000)\n",
    "LR.fit(X_train, y_train)\n",
    "# accuracy score\n",
    "y_pred_LR=LR.predict(X_test)\n",
    "accuracy=accuracy_score(y_test, y_pred_LR)\n",
    "print('Accuracy:', accuracy)\n",
    "\n",
    "# classification report\n",
    "print(classification_report(y_test, y_pred_LR))"
   ]
  },
  {
   "cell_type": "code",
   "execution_count": 229,
   "metadata": {},
   "outputs": [
    {
     "name": "stdout",
     "output_type": "stream",
     "text": [
      "Accuracy: 0.8387987987987988\n",
      "              precision    recall  f1-score   support\n",
      "\n",
      "           0       0.82      0.78      0.80      3436\n",
      "           1       0.85      0.88      0.87      4889\n",
      "\n",
      "    accuracy                           0.84      8325\n",
      "   macro avg       0.84      0.83      0.83      8325\n",
      "weighted avg       0.84      0.84      0.84      8325\n",
      "\n"
     ]
    }
   ],
   "source": [
    "# linear discriminant analysis\n",
    "\n",
    "# imports\n",
    "from sklearn.discriminant_analysis import LinearDiscriminantAnalysis\n",
    "from sklearn.metrics import accuracy_score\n",
    "\n",
    "# train model\n",
    "LDA=LinearDiscriminantAnalysis()\n",
    "LDA.fit(X_train, y_train)\n",
    "\n",
    "# accuracy\n",
    "y_pred_LDA=LDA.predict(X_test)\n",
    "accuracy=accuracy_score(y_test, y_pred_LDA)\n",
    "print('Accuracy:', accuracy)\n",
    "\n",
    "# classification report\n",
    "print(classification_report(y_test, y_pred_LDA))"
   ]
  },
  {
   "cell_type": "code",
   "execution_count": 230,
   "metadata": {},
   "outputs": [
    {
     "name": "stdout",
     "output_type": "stream",
     "text": [
      "Accuracy: 0.7941141141141141\n",
      "              precision    recall  f1-score   support\n",
      "\n",
      "           0       0.78      0.71      0.74      3436\n",
      "           1       0.81      0.86      0.83      4889\n",
      "\n",
      "    accuracy                           0.79      8325\n",
      "   macro avg       0.79      0.78      0.78      8325\n",
      "weighted avg       0.79      0.79      0.79      8325\n",
      "\n"
     ]
    }
   ],
   "source": [
    "# k neighbors classifier\n",
    "\n",
    "# imports\n",
    "from sklearn.neighbors import KNeighborsClassifier\n",
    "from sklearn.metrics import accuracy_score\n",
    "\n",
    "# train data\n",
    "KNN=KNeighborsClassifier()\n",
    "KNN.fit(X_train, y_train)\n",
    "\n",
    "# accuracy\n",
    "y_pred_KNN=KNN.predict(X_test)\n",
    "accuracy=accuracy_score(y_test, y_pred_KNN)\n",
    "print('Accuracy:', accuracy)\n",
    "\n",
    "# classification report\n",
    "print(classification_report(y_test, y_pred_KNN))"
   ]
  },
  {
   "cell_type": "code",
   "execution_count": 231,
   "metadata": {},
   "outputs": [
    {
     "name": "stdout",
     "output_type": "stream",
     "text": [
      "Accuracy: 0.7662462462462463\n",
      "              precision    recall  f1-score   support\n",
      "\n",
      "           0       0.71      0.73      0.72      3436\n",
      "           1       0.81      0.79      0.80      4889\n",
      "\n",
      "    accuracy                           0.77      8325\n",
      "   macro avg       0.76      0.76      0.76      8325\n",
      "weighted avg       0.77      0.77      0.77      8325\n",
      "\n",
      "City_Nashik-0.22%\n",
      "City_Faridabad-0.30%\n",
      "City_Bangalore-0.31%\n",
      "City_Varanasi-0.33%\n",
      "City_Mumbai-0.35%\n",
      "City_Vadodara-0.35%\n",
      "City_Ghaziabad-0.35%\n",
      "City_Nagpur-0.38%\n",
      "City_Delhi-0.38%\n",
      "City_Indore-0.38%\n",
      "City_Rajkot-0.40%\n",
      "City_Meerut-0.42%\n",
      "City_Chennai-0.45%\n",
      "City_Patna-0.46%\n",
      "City_Thane-0.47%\n",
      "Degree_Class_12-0.47%\n",
      "Dietary_Habits_Moderate-0.49%\n",
      "City_Kolkata-0.49%\n",
      "City_Kanpur-0.51%\n",
      "City_Hyderabad-0.53%\n",
      "City_Lucknow-0.54%\n",
      "City_Pune-0.54%\n",
      "City_Visakhapatnam-0.55%\n",
      "City_Ludhiana-0.57%\n",
      "City_Ahmedabad-0.58%\n",
      "City_Kalyan-0.60%\n",
      "City_Vasai-Virar-0.61%\n",
      "City_Bhopal-0.61%\n",
      "City_Agra-0.64%\n",
      "City_Surat-0.66%\n",
      "City_Jaipur-0.66%\n",
      "City_Srinagar-0.72%\n",
      "Sleep_Duration_5-6_hours-0.83%\n",
      "Sleep_Duration_More_than_8_hours-0.86%\n",
      "Degree_Master-0.89%\n",
      "Degree_Bachelor-0.89%\n",
      "Sleep_Duration_7-8_hours-0.97%\n",
      "Dietary_Habits_Healthy-1.02%\n",
      "Sleep_Duration_Less_than_5_hours-1.09%\n",
      "Gender-1.12%\n",
      "Family_History_of_Mental_Illness-1.20%\n",
      "Dietary_Habits_Unhealthy-1.28%\n",
      "Study_Satisfaction-3.51%\n",
      "Work_Study_Hours-5.49%\n",
      "Age-6.45%\n",
      "Financial_Stress-6.61%\n",
      "CGPA-8.31%\n",
      "Academic_Pressure-13.95%\n",
      "Have_you_ever_had_suicidal_thoughts_-30.22%\n"
     ]
    }
   ],
   "source": [
    "# decision tree classifier\n",
    "from sklearn.tree import DecisionTreeClassifier\n",
    "from sklearn.metrics import accuracy_score\n",
    "\n",
    "# train data\n",
    "DTC=DecisionTreeClassifier()\n",
    "DTC.fit(X_train, y_train)\n",
    "\n",
    "# accuracy\n",
    "y_pred_DTC=DTC.predict(X_test)\n",
    "accuracy=accuracy_score(y_test, y_pred_DTC)\n",
    "print('Accuracy:', accuracy)\n",
    "\n",
    "# classification report\n",
    "print(classification_report(y_test, y_pred_DTC))\n",
    "\n",
    "# feature importance for dtc\n",
    "\n",
    "feature_columns=np.array(X.columns)\n",
    "\n",
    "dtc_importance=DTC.feature_importances_\n",
    "\n",
    "index_by_importance=dtc_importance.argsort()\n",
    "\n",
    "for index in index_by_importance:\n",
    "    print(\"{}-{:.2f}%\".format(feature_columns[index],dtc_importance[index]*100.0))\n"
   ]
  },
  {
   "cell_type": "code",
   "execution_count": 232,
   "metadata": {},
   "outputs": [
    {
     "name": "stdout",
     "output_type": "stream",
     "text": [
      "Accuracy: 0.7577177177177177\n",
      "              precision    recall  f1-score   support\n",
      "\n",
      "           0       0.69      0.75      0.72      3436\n",
      "           1       0.81      0.77      0.79      4889\n",
      "\n",
      "    accuracy                           0.76      8325\n",
      "   macro avg       0.75      0.76      0.75      8325\n",
      "weighted avg       0.76      0.76      0.76      8325\n",
      "\n"
     ]
    }
   ],
   "source": [
    "# guassian naive bayes\n",
    "from sklearn.naive_bayes import GaussianNB\n",
    "from sklearn.metrics import accuracy_score\n",
    "\n",
    "# train data\n",
    "GNB=GaussianNB()\n",
    "GNB.fit(X_train, y_train)\n",
    "\n",
    "\n",
    "# accuracy\n",
    "y_pred_GNB=GNB.predict(X_test)\n",
    "accuracy=accuracy_score(y_test, y_pred_GNB)\n",
    "print('Accuracy:', accuracy)\n",
    "\n",
    "# classification report\n",
    "print(classification_report(y_test, y_pred_GNB))"
   ]
  },
  {
   "cell_type": "code",
   "execution_count": 233,
   "metadata": {},
   "outputs": [
    {
     "name": "stdout",
     "output_type": "stream",
     "text": [
      "Accuracy: 0.8372372372372372\n",
      "              precision    recall  f1-score   support\n",
      "\n",
      "           0       0.82      0.78      0.80      3436\n",
      "           1       0.85      0.88      0.86      4889\n",
      "\n",
      "    accuracy                           0.84      8325\n",
      "   macro avg       0.83      0.83      0.83      8325\n",
      "weighted avg       0.84      0.84      0.84      8325\n",
      "\n"
     ]
    }
   ],
   "source": [
    "# svc\n",
    "\n",
    "# imports\n",
    "from sklearn.svm import SVC\n",
    "from sklearn.metrics import accuracy_score\n",
    "\n",
    "# train data\n",
    "SVM=SVC(gamma='auto')\n",
    "SVM.fit(X_train, y_train)\n",
    "\n",
    "# accuracy\n",
    "y_pred_SVC=SVM.predict(X_test)\n",
    "accuracy=accuracy_score(y_test, y_pred_SVC)\n",
    "print('Accuracy:', accuracy)\n",
    "\n",
    "# classification report\n",
    "print(classification_report(y_test, y_pred_SVC))"
   ]
  },
  {
   "cell_type": "code",
   "execution_count": 236,
   "metadata": {},
   "outputs": [
    {
     "data": {
      "text/plain": [
       "['model/LDAmodel.pkl']"
      ]
     },
     "execution_count": 236,
     "metadata": {},
     "output_type": "execute_result"
    }
   ],
   "source": [
    "joblib.dump(LR, 'model/LinearRegressionModel.pkl')"
   ]
  },
  {
   "cell_type": "code",
   "execution_count": 237,
   "metadata": {},
   "outputs": [
    {
     "data": {
      "text/plain": [
       "['model/LDAmodel.pkl']"
      ]
     },
     "execution_count": 237,
     "metadata": {},
     "output_type": "execute_result"
    }
   ],
   "source": [
    "joblib.dump(LDA,'model/LDAmodel.pkl')"
   ]
  },
  {
   "cell_type": "code",
   "execution_count": 238,
   "metadata": {},
   "outputs": [
    {
     "data": {
      "text/plain": [
       "['model/gbrModel.pkl']"
      ]
     },
     "execution_count": 238,
     "metadata": {},
     "output_type": "execute_result"
    }
   ],
   "source": [
    "joblib.dump(gbr,'model/gbrModel.pkl')"
   ]
  },
  {
   "cell_type": "code",
   "execution_count": 240,
   "metadata": {},
   "outputs": [
    {
     "data": {
      "text/plain": [
       "['model/SVMmodel.pkl']"
      ]
     },
     "execution_count": 240,
     "metadata": {},
     "output_type": "execute_result"
    }
   ],
   "source": [
    "joblib.dump(SVM,'model/SVMmodel.pkl')"
   ]
  }
 ],
 "metadata": {
  "kernelspec": {
   "display_name": "Python 3",
   "language": "python",
   "name": "python3"
  },
  "language_info": {
   "codemirror_mode": {
    "name": "ipython",
    "version": 3
   },
   "file_extension": ".py",
   "mimetype": "text/x-python",
   "name": "python",
   "nbconvert_exporter": "python",
   "pygments_lexer": "ipython3",
   "version": "3.11.9"
  }
 },
 "nbformat": 4,
 "nbformat_minor": 2
}
