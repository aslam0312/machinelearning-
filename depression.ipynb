{
 "cells": [
  {
   "cell_type": "code",
   "execution_count": 642,
   "metadata": {},
   "outputs": [],
   "source": [
    "import pandas as pd\n",
    "import matplotlib.pyplot as plt\n",
    "import seaborn as sns\n",
    "import numpy as np"
   ]
  },
  {
   "cell_type": "code",
   "execution_count": 643,
   "metadata": {},
   "outputs": [],
   "source": [
    "df=df = pd.read_csv('StudentDepressionDataset.csv')"
   ]
  },
  {
   "cell_type": "code",
   "execution_count": 644,
   "metadata": {},
   "outputs": [
    {
     "data": {
      "text/html": [
       "<div>\n",
       "<style scoped>\n",
       "    .dataframe tbody tr th:only-of-type {\n",
       "        vertical-align: middle;\n",
       "    }\n",
       "\n",
       "    .dataframe tbody tr th {\n",
       "        vertical-align: top;\n",
       "    }\n",
       "\n",
       "    .dataframe thead th {\n",
       "        text-align: right;\n",
       "    }\n",
       "</style>\n",
       "<table border=\"1\" class=\"dataframe\">\n",
       "  <thead>\n",
       "    <tr style=\"text-align: right;\">\n",
       "      <th></th>\n",
       "      <th>id</th>\n",
       "      <th>Gender</th>\n",
       "      <th>Age</th>\n",
       "      <th>City</th>\n",
       "      <th>Profession</th>\n",
       "      <th>Academic Pressure</th>\n",
       "      <th>Work Pressure</th>\n",
       "      <th>CGPA</th>\n",
       "      <th>Study Satisfaction</th>\n",
       "      <th>Job Satisfaction</th>\n",
       "      <th>Sleep Duration</th>\n",
       "      <th>Dietary Habits</th>\n",
       "      <th>Degree</th>\n",
       "      <th>Have you ever had suicidal thoughts ?</th>\n",
       "      <th>Work/Study Hours</th>\n",
       "      <th>Financial Stress</th>\n",
       "      <th>Family History of Mental Illness</th>\n",
       "      <th>Depression</th>\n",
       "    </tr>\n",
       "  </thead>\n",
       "  <tbody>\n",
       "    <tr>\n",
       "      <th>10447</th>\n",
       "      <td>52962</td>\n",
       "      <td>Male</td>\n",
       "      <td>24.0</td>\n",
       "      <td>Kolkata</td>\n",
       "      <td>Student</td>\n",
       "      <td>5.0</td>\n",
       "      <td>0.0</td>\n",
       "      <td>7.24</td>\n",
       "      <td>1.0</td>\n",
       "      <td>0.0</td>\n",
       "      <td>Less than 5 hours</td>\n",
       "      <td>Moderate</td>\n",
       "      <td>B.Arch</td>\n",
       "      <td>No</td>\n",
       "      <td>6.0</td>\n",
       "      <td>4.0</td>\n",
       "      <td>No</td>\n",
       "      <td>0</td>\n",
       "    </tr>\n",
       "    <tr>\n",
       "      <th>689</th>\n",
       "      <td>3546</td>\n",
       "      <td>Male</td>\n",
       "      <td>31.0</td>\n",
       "      <td>Patna</td>\n",
       "      <td>Student</td>\n",
       "      <td>5.0</td>\n",
       "      <td>0.0</td>\n",
       "      <td>6.53</td>\n",
       "      <td>2.0</td>\n",
       "      <td>0.0</td>\n",
       "      <td>Less than 5 hours</td>\n",
       "      <td>Unhealthy</td>\n",
       "      <td>Class 12</td>\n",
       "      <td>Yes</td>\n",
       "      <td>6.0</td>\n",
       "      <td>2.0</td>\n",
       "      <td>No</td>\n",
       "      <td>1</td>\n",
       "    </tr>\n",
       "    <tr>\n",
       "      <th>11079</th>\n",
       "      <td>56076</td>\n",
       "      <td>Female</td>\n",
       "      <td>28.0</td>\n",
       "      <td>Vadodara</td>\n",
       "      <td>Student</td>\n",
       "      <td>4.0</td>\n",
       "      <td>0.0</td>\n",
       "      <td>8.74</td>\n",
       "      <td>3.0</td>\n",
       "      <td>0.0</td>\n",
       "      <td>Less than 5 hours</td>\n",
       "      <td>Unhealthy</td>\n",
       "      <td>B.Pharm</td>\n",
       "      <td>Yes</td>\n",
       "      <td>7.0</td>\n",
       "      <td>2.0</td>\n",
       "      <td>Yes</td>\n",
       "      <td>1</td>\n",
       "    </tr>\n",
       "  </tbody>\n",
       "</table>\n",
       "</div>"
      ],
      "text/plain": [
       "          id  Gender   Age      City Profession  Academic Pressure  \\\n",
       "10447  52962    Male  24.0   Kolkata    Student                5.0   \n",
       "689     3546    Male  31.0     Patna    Student                5.0   \n",
       "11079  56076  Female  28.0  Vadodara    Student                4.0   \n",
       "\n",
       "       Work Pressure  CGPA  Study Satisfaction  Job Satisfaction  \\\n",
       "10447            0.0  7.24                 1.0               0.0   \n",
       "689              0.0  6.53                 2.0               0.0   \n",
       "11079            0.0  8.74                 3.0               0.0   \n",
       "\n",
       "          Sleep Duration Dietary Habits    Degree  \\\n",
       "10447  Less than 5 hours       Moderate    B.Arch   \n",
       "689    Less than 5 hours      Unhealthy  Class 12   \n",
       "11079  Less than 5 hours      Unhealthy   B.Pharm   \n",
       "\n",
       "      Have you ever had suicidal thoughts ?  Work/Study Hours  \\\n",
       "10447                                    No               6.0   \n",
       "689                                     Yes               6.0   \n",
       "11079                                   Yes               7.0   \n",
       "\n",
       "       Financial Stress Family History of Mental Illness  Depression  \n",
       "10447               4.0                               No           0  \n",
       "689                 2.0                               No           1  \n",
       "11079               2.0                              Yes           1  "
      ]
     },
     "execution_count": 644,
     "metadata": {},
     "output_type": "execute_result"
    }
   ],
   "source": [
    "df.sample(3)"
   ]
  },
  {
   "cell_type": "code",
   "execution_count": 645,
   "metadata": {},
   "outputs": [
    {
     "data": {
      "text/plain": [
       "Index(['id', 'Gender', 'Age', 'City', 'Profession', 'Academic_Pressure',\n",
       "       'Work_Pressure', 'CGPA', 'Study_Satisfaction', 'Job_Satisfaction',\n",
       "       'Sleep_Duration', 'Dietary_Habits', 'Degree',\n",
       "       'Have_you_ever_had_suicidal_thoughts_', 'Work/Study_Hours',\n",
       "       'Financial_Stress', 'Family_History_of_Mental_Illness', 'Depression'],\n",
       "      dtype='object')"
      ]
     },
     "execution_count": 645,
     "metadata": {},
     "output_type": "execute_result"
    }
   ],
   "source": [
    "# CHANGING THE NAME OF THE COLUMNS WITH ? SUCH AS 'Have_you_ever_had_suicidal_thoughts' TO 'Have_you_ever_had_suicidal_thoughts'\n",
    "df.columns = df.columns.str.replace('?', '')\n",
    "# CHANGING THE NAME OF THE COLUMNS WITH GAP WITHOUT SPACE SUCH AS 'Financial Stress' TO 'Financial_Stress', 'Study Satisfaction' TO 'Study_Satisfaction'\n",
    "df.columns = df.columns.str.replace(' ', '_')\n",
    "\n",
    "df.columns"
   ]
  },
  {
   "cell_type": "code",
   "execution_count": 646,
   "metadata": {},
   "outputs": [
    {
     "data": {
      "text/plain": [
       "(27901, 17)"
      ]
     },
     "execution_count": 646,
     "metadata": {},
     "output_type": "execute_result"
    }
   ],
   "source": [
    "# remove id column as it is not needed\n",
    "df.drop('id', axis=1, inplace=True)\n",
    "df.shape\n",
    "\n"
   ]
  },
  {
   "cell_type": "code",
   "execution_count": 647,
   "metadata": {},
   "outputs": [
    {
     "data": {
      "text/plain": [
       "Gender                                    2\n",
       "Age                                      34\n",
       "City                                     52\n",
       "Profession                               14\n",
       "Academic_Pressure                         6\n",
       "Work_Pressure                             3\n",
       "CGPA                                    332\n",
       "Study_Satisfaction                        6\n",
       "Job_Satisfaction                          5\n",
       "Sleep_Duration                            5\n",
       "Dietary_Habits                            4\n",
       "Degree                                   28\n",
       "Have_you_ever_had_suicidal_thoughts_      2\n",
       "Work/Study_Hours                         13\n",
       "Financial_Stress                          5\n",
       "Family_History_of_Mental_Illness          2\n",
       "Depression                                2\n",
       "dtype: int64"
      ]
     },
     "execution_count": 647,
     "metadata": {},
     "output_type": "execute_result"
    }
   ],
   "source": [
    "df.nunique()"
   ]
  },
  {
   "cell_type": "code",
   "execution_count": 648,
   "metadata": {},
   "outputs": [
    {
     "name": "stdout",
     "output_type": "stream",
     "text": [
      "Number of Missing Values in Each Column:\n",
      " Gender                                  0\n",
      "Age                                     0\n",
      "City                                    0\n",
      "Profession                              0\n",
      "Academic_Pressure                       0\n",
      "Work_Pressure                           0\n",
      "CGPA                                    0\n",
      "Study_Satisfaction                      0\n",
      "Job_Satisfaction                        0\n",
      "Sleep_Duration                          0\n",
      "Dietary_Habits                          0\n",
      "Degree                                  0\n",
      "Have_you_ever_had_suicidal_thoughts_    0\n",
      "Work/Study_Hours                        0\n",
      "Financial_Stress                        3\n",
      "Family_History_of_Mental_Illness        0\n",
      "Depression                              0\n",
      "dtype: int64\n"
     ]
    }
   ],
   "source": [
    "missing_values_count = df.isnull().sum()\n",
    "print(\"Number of Missing Values in Each Column:\\n\", missing_values_count)"
   ]
  },
  {
   "cell_type": "code",
   "execution_count": 649,
   "metadata": {},
   "outputs": [
    {
     "name": "stderr",
     "output_type": "stream",
     "text": [
      "C:\\Users\\aslam\\AppData\\Local\\Temp\\ipykernel_31888\\3794617652.py:2: FutureWarning: A value is trying to be set on a copy of a DataFrame or Series through chained assignment using an inplace method.\n",
      "The behavior will change in pandas 3.0. This inplace method will never work because the intermediate object on which we are setting values always behaves as a copy.\n",
      "\n",
      "For example, when doing 'df[col].method(value, inplace=True)', try using 'df.method({col: value}, inplace=True)' or df[col] = df[col].method(value) instead, to perform the operation inplace on the original object.\n",
      "\n",
      "\n",
      "  df['Financial_Stress'].fillna(df['Financial_Stress'].mean(), inplace=True)\n"
     ]
    },
    {
     "data": {
      "text/plain": [
       "Gender                                  0\n",
       "Age                                     0\n",
       "City                                    0\n",
       "Profession                              0\n",
       "Academic_Pressure                       0\n",
       "Work_Pressure                           0\n",
       "CGPA                                    0\n",
       "Study_Satisfaction                      0\n",
       "Job_Satisfaction                        0\n",
       "Sleep_Duration                          0\n",
       "Dietary_Habits                          0\n",
       "Degree                                  0\n",
       "Have_you_ever_had_suicidal_thoughts_    0\n",
       "Work/Study_Hours                        0\n",
       "Financial_Stress                        0\n",
       "Family_History_of_Mental_Illness        0\n",
       "Depression                              0\n",
       "dtype: int64"
      ]
     },
     "execution_count": 649,
     "metadata": {},
     "output_type": "execute_result"
    }
   ],
   "source": [
    "# make missing values of financial stress to be the mean of the column\n",
    "df['Financial_Stress'].fillna(df['Financial_Stress'].mean(), inplace=True)\n",
    "# ensure that there are no missing values\n",
    "df.isnull().sum()\n"
   ]
  },
  {
   "cell_type": "code",
   "execution_count": 650,
   "metadata": {},
   "outputs": [
    {
     "data": {
      "text/plain": [
       "(27901, 17)"
      ]
     },
     "execution_count": 650,
     "metadata": {},
     "output_type": "execute_result"
    }
   ],
   "source": [
    "df.shape"
   ]
  },
  {
   "cell_type": "code",
   "execution_count": 651,
   "metadata": {},
   "outputs": [
    {
     "data": {
      "text/plain": [
       "Financial_Stress\n",
       "5.000000    6715\n",
       "4.000000    5775\n",
       "3.000000    5226\n",
       "1.000000    5121\n",
       "2.000000    5061\n",
       "3.139867       3\n",
       "Name: count, dtype: int64"
      ]
     },
     "execution_count": 651,
     "metadata": {},
     "output_type": "execute_result"
    }
   ],
   "source": [
    "# checking unique values in financial stress column\n",
    "df['Financial_Stress'].value_counts()"
   ]
  },
  {
   "cell_type": "code",
   "execution_count": 652,
   "metadata": {},
   "outputs": [],
   "source": [
    "# removing rows with values of age appearing less than or equal to 4 times as they are not enough to make a good prediction\n",
    "df = df[df['Financial_Stress'].map(df['Financial_Stress'].value_counts()) >=4]"
   ]
  },
  {
   "cell_type": "code",
   "execution_count": 653,
   "metadata": {},
   "outputs": [
    {
     "data": {
      "text/html": [
       "<div>\n",
       "<style scoped>\n",
       "    .dataframe tbody tr th:only-of-type {\n",
       "        vertical-align: middle;\n",
       "    }\n",
       "\n",
       "    .dataframe tbody tr th {\n",
       "        vertical-align: top;\n",
       "    }\n",
       "\n",
       "    .dataframe thead th {\n",
       "        text-align: right;\n",
       "    }\n",
       "</style>\n",
       "<table border=\"1\" class=\"dataframe\">\n",
       "  <thead>\n",
       "    <tr style=\"text-align: right;\">\n",
       "      <th></th>\n",
       "      <th>Gender</th>\n",
       "      <th>Age</th>\n",
       "      <th>City</th>\n",
       "      <th>Profession</th>\n",
       "      <th>Academic_Pressure</th>\n",
       "      <th>Work_Pressure</th>\n",
       "      <th>CGPA</th>\n",
       "      <th>Study_Satisfaction</th>\n",
       "      <th>Job_Satisfaction</th>\n",
       "      <th>Sleep_Duration</th>\n",
       "      <th>Dietary_Habits</th>\n",
       "      <th>Degree</th>\n",
       "      <th>Have_you_ever_had_suicidal_thoughts_</th>\n",
       "      <th>Work/Study_Hours</th>\n",
       "      <th>Financial_Stress</th>\n",
       "      <th>Family_History_of_Mental_Illness</th>\n",
       "      <th>Depression</th>\n",
       "    </tr>\n",
       "  </thead>\n",
       "  <tbody>\n",
       "    <tr>\n",
       "      <th>17108</th>\n",
       "      <td>Male</td>\n",
       "      <td>33.0</td>\n",
       "      <td>Jaipur</td>\n",
       "      <td>Student</td>\n",
       "      <td>2.0</td>\n",
       "      <td>0.0</td>\n",
       "      <td>7.49</td>\n",
       "      <td>1.0</td>\n",
       "      <td>0.0</td>\n",
       "      <td>More than 8 hours</td>\n",
       "      <td>Moderate</td>\n",
       "      <td>B.Ed</td>\n",
       "      <td>No</td>\n",
       "      <td>3.0</td>\n",
       "      <td>2.0</td>\n",
       "      <td>No</td>\n",
       "      <td>0</td>\n",
       "    </tr>\n",
       "    <tr>\n",
       "      <th>24394</th>\n",
       "      <td>Female</td>\n",
       "      <td>31.0</td>\n",
       "      <td>Srinagar</td>\n",
       "      <td>Student</td>\n",
       "      <td>2.0</td>\n",
       "      <td>0.0</td>\n",
       "      <td>7.26</td>\n",
       "      <td>2.0</td>\n",
       "      <td>0.0</td>\n",
       "      <td>More than 8 hours</td>\n",
       "      <td>Moderate</td>\n",
       "      <td>MBBS</td>\n",
       "      <td>Yes</td>\n",
       "      <td>9.0</td>\n",
       "      <td>4.0</td>\n",
       "      <td>No</td>\n",
       "      <td>0</td>\n",
       "    </tr>\n",
       "    <tr>\n",
       "      <th>1746</th>\n",
       "      <td>Male</td>\n",
       "      <td>25.0</td>\n",
       "      <td>Jaipur</td>\n",
       "      <td>Student</td>\n",
       "      <td>3.0</td>\n",
       "      <td>0.0</td>\n",
       "      <td>5.57</td>\n",
       "      <td>1.0</td>\n",
       "      <td>0.0</td>\n",
       "      <td>More than 8 hours</td>\n",
       "      <td>Healthy</td>\n",
       "      <td>BCA</td>\n",
       "      <td>No</td>\n",
       "      <td>6.0</td>\n",
       "      <td>1.0</td>\n",
       "      <td>No</td>\n",
       "      <td>0</td>\n",
       "    </tr>\n",
       "  </tbody>\n",
       "</table>\n",
       "</div>"
      ],
      "text/plain": [
       "       Gender   Age      City Profession  Academic_Pressure  Work_Pressure  \\\n",
       "17108    Male  33.0    Jaipur    Student                2.0            0.0   \n",
       "24394  Female  31.0  Srinagar    Student                2.0            0.0   \n",
       "1746     Male  25.0    Jaipur    Student                3.0            0.0   \n",
       "\n",
       "       CGPA  Study_Satisfaction  Job_Satisfaction     Sleep_Duration  \\\n",
       "17108  7.49                 1.0               0.0  More than 8 hours   \n",
       "24394  7.26                 2.0               0.0  More than 8 hours   \n",
       "1746   5.57                 1.0               0.0  More than 8 hours   \n",
       "\n",
       "      Dietary_Habits Degree Have_you_ever_had_suicidal_thoughts_  \\\n",
       "17108       Moderate   B.Ed                                   No   \n",
       "24394       Moderate   MBBS                                  Yes   \n",
       "1746         Healthy    BCA                                   No   \n",
       "\n",
       "       Work/Study_Hours  Financial_Stress Family_History_of_Mental_Illness  \\\n",
       "17108               3.0               2.0                               No   \n",
       "24394               9.0               4.0                               No   \n",
       "1746                6.0               1.0                               No   \n",
       "\n",
       "       Depression  \n",
       "17108           0  \n",
       "24394           0  \n",
       "1746            0  "
      ]
     },
     "execution_count": 653,
     "metadata": {},
     "output_type": "execute_result"
    }
   ],
   "source": [
    "df.sample(3)"
   ]
  },
  {
   "cell_type": "code",
   "execution_count": 654,
   "metadata": {},
   "outputs": [],
   "source": [
    "# while evaluating the df.nununique()\n",
    "# job satisfaction is mostly 0, so we can drop it, as it will not be useful\n",
    "# profession is mostly student, so we can drop it, as it will not be useful\n",
    "# work pressure is mostly 0, so we can drop it, as it will not be useful\n",
    "df.drop(['Job_Satisfaction', 'Profession','Work_Pressure'], axis=1, inplace=True)\n"
   ]
  },
  {
   "cell_type": "code",
   "execution_count": 655,
   "metadata": {},
   "outputs": [
    {
     "data": {
      "text/plain": [
       "(27898, 14)"
      ]
     },
     "execution_count": 655,
     "metadata": {},
     "output_type": "execute_result"
    }
   ],
   "source": [
    "df.shape"
   ]
  },
  {
   "cell_type": "code",
   "execution_count": 656,
   "metadata": {},
   "outputs": [
    {
     "data": {
      "text/plain": [
       "(27823, 14)"
      ]
     },
     "execution_count": 656,
     "metadata": {},
     "output_type": "execute_result"
    }
   ],
   "source": [
    "#  Remove Rows with 'Others' in Sleep Duration, Dietary Habits, Degree as they appear to less times\n",
    "#  reminder better to do a visual for the others\n",
    "df = df[~df['Sleep_Duration'].str.contains('Others', na=False)]\n",
    "df = df[~df['Dietary_Habits'].str.contains('Others', na=False)]\n",
    "df = df[~df['Degree'].str.contains('Others', na=False)]\n",
    "\n",
    "#  Remove Rows with Study Satisfaction Value Equal to 0\n",
    "df = df[df['Study_Satisfaction'] != 0]\n",
    "\n",
    "# check the shape of the data after cleaning\n",
    "df.shape\n"
   ]
  },
  {
   "cell_type": "code",
   "execution_count": 657,
   "metadata": {},
   "outputs": [
    {
     "data": {
      "text/plain": [
       "Gender                                    2\n",
       "Age                                      34\n",
       "City                                     52\n",
       "Academic_Pressure                         6\n",
       "CGPA                                    332\n",
       "Study_Satisfaction                        5\n",
       "Sleep_Duration                            4\n",
       "Dietary_Habits                            3\n",
       "Degree                                   27\n",
       "Have_you_ever_had_suicidal_thoughts_      2\n",
       "Work/Study_Hours                         13\n",
       "Financial_Stress                          5\n",
       "Family_History_of_Mental_Illness          2\n",
       "Depression                                2\n",
       "dtype: int64"
      ]
     },
     "execution_count": 657,
     "metadata": {},
     "output_type": "execute_result"
    }
   ],
   "source": [
    "df.nunique()"
   ]
  },
  {
   "cell_type": "code",
   "execution_count": 658,
   "metadata": {},
   "outputs": [
    {
     "data": {
      "text/plain": [
       "Age\n",
       "24.0    2254\n",
       "20.0    2230\n",
       "28.0    2126\n",
       "29.0    1946\n",
       "33.0    1890\n",
       "25.0    1781\n",
       "21.0    1724\n",
       "23.0    1638\n",
       "18.0    1581\n",
       "19.0    1559\n",
       "34.0    1464\n",
       "27.0    1457\n",
       "31.0    1423\n",
       "32.0    1255\n",
       "22.0    1157\n",
       "26.0    1152\n",
       "30.0    1138\n",
       "35.0      10\n",
       "38.0       7\n",
       "36.0       7\n",
       "42.0       4\n",
       "39.0       3\n",
       "48.0       3\n",
       "46.0       2\n",
       "43.0       2\n",
       "37.0       2\n",
       "44.0       1\n",
       "51.0       1\n",
       "49.0       1\n",
       "58.0       1\n",
       "54.0       1\n",
       "59.0       1\n",
       "56.0       1\n",
       "41.0       1\n",
       "Name: count, dtype: int64"
      ]
     },
     "execution_count": 658,
     "metadata": {},
     "output_type": "execute_result"
    }
   ],
   "source": [
    "df['Age'].value_counts()"
   ]
  },
  {
   "cell_type": "code",
   "execution_count": 659,
   "metadata": {},
   "outputs": [
    {
     "data": {
      "text/plain": [
       "(27775, 14)"
      ]
     },
     "execution_count": 659,
     "metadata": {},
     "output_type": "execute_result"
    }
   ],
   "source": [
    "# removing rows with values of age appearing less than or equal to 10 times as they are not enough to make a good prediction\n",
    "df = df[df['Age'].map(df['Age'].value_counts()) >= 11]\n",
    "\n",
    "# check the shape of the data after cleaning\n",
    "df.shape"
   ]
  },
  {
   "cell_type": "code",
   "execution_count": 660,
   "metadata": {},
   "outputs": [
    {
     "data": {
      "text/plain": [
       "Gender                                    2\n",
       "Age                                      17\n",
       "City                                     52\n",
       "Academic_Pressure                         6\n",
       "CGPA                                    331\n",
       "Study_Satisfaction                        5\n",
       "Sleep_Duration                            4\n",
       "Dietary_Habits                            3\n",
       "Degree                                   27\n",
       "Have_you_ever_had_suicidal_thoughts_      2\n",
       "Work/Study_Hours                         13\n",
       "Financial_Stress                          5\n",
       "Family_History_of_Mental_Illness          2\n",
       "Depression                                2\n",
       "dtype: int64"
      ]
     },
     "execution_count": 660,
     "metadata": {},
     "output_type": "execute_result"
    }
   ],
   "source": [
    "df.nunique()"
   ]
  },
  {
   "cell_type": "code",
   "execution_count": 691,
   "metadata": {},
   "outputs": [
    {
     "data": {
      "text/plain": [
       "Depression\n",
       "1    16263\n",
       "0    11486\n",
       "Name: count, dtype: int64"
      ]
     },
     "execution_count": 691,
     "metadata": {},
     "output_type": "execute_result"
    }
   ],
   "source": [
    "df['City'].value_counts()"
   ]
  },
  {
   "cell_type": "code",
   "execution_count": 662,
   "metadata": {},
   "outputs": [],
   "source": [
    "# removing rows with values of City appearing less than or equal to 3 times as they are not enough to make a good prediction\n",
    "df = df[df['City'].map(df['City'].value_counts()) >= 3]"
   ]
  },
  {
   "cell_type": "code",
   "execution_count": 663,
   "metadata": {},
   "outputs": [
    {
     "data": {
      "text/plain": [
       "(27749, 14)"
      ]
     },
     "execution_count": 663,
     "metadata": {},
     "output_type": "execute_result"
    }
   ],
   "source": [
    "df.shape"
   ]
  },
  {
   "cell_type": "code",
   "execution_count": 664,
   "metadata": {},
   "outputs": [
    {
     "data": {
      "text/plain": [
       "Degree\n",
       "Class 12    6054\n",
       "B.Ed        1859\n",
       "B.Com       1501\n",
       "B.Arch      1474\n",
       "BCA         1429\n",
       "MSc         1185\n",
       "B.Tech      1151\n",
       "MCA         1037\n",
       "M.Tech      1018\n",
       "BHM          923\n",
       "BSc          882\n",
       "M.Ed         815\n",
       "B.Pharm      809\n",
       "M.Com        731\n",
       "BBA          696\n",
       "MBBS         689\n",
       "LLB          668\n",
       "BE           609\n",
       "BA           595\n",
       "M.Pharm      580\n",
       "MD           569\n",
       "MBA          560\n",
       "MA           544\n",
       "PhD          515\n",
       "LLM          481\n",
       "MHM          191\n",
       "ME           184\n",
       "Name: count, dtype: int64"
      ]
     },
     "execution_count": 664,
     "metadata": {},
     "output_type": "execute_result"
    }
   ],
   "source": [
    "# there is too  many degrees, so we can group them into 3 categories by using our existing knowledge of degrees\n",
    "df['Degree'].value_counts()\n"
   ]
  },
  {
   "cell_type": "code",
   "execution_count": 665,
   "metadata": {},
   "outputs": [],
   "source": [
    "# we can see that there are many degrees, so we can group them into 3 categories for better encoding later \n",
    "\n",
    "# making class 12th as higher secondary\n",
    "df['Degree'] = df['Degree'].replace('Class 12th', 'Higher Secondary')\n"
   ]
  },
  {
   "cell_type": "code",
   "execution_count": 666,
   "metadata": {},
   "outputs": [],
   "source": [
    "# making bachelors\n",
    "bachelors_replacements = {\n",
    "    'B.Ed': 'Bachelor',\n",
    "    'B.Com': 'Bachelor',\n",
    "    'B.Pharm': 'Bachelor',\n",
    "    'BCA': 'Bachelor',\n",
    "    'BE': 'Bachelor',\n",
    "    'BHM': 'Bachelor',\n",
    "    'MBBS': 'Bachelor', \n",
    "    'LLB': 'Bachelor',\n",
    "    'BA': 'Bachelor',\n",
    "    'B.Arch': 'Bachelor',\n",
    "    'BBA': 'Bachelor',\n",
    "    'B.Tech': 'Bachelor',\n",
    "    'BSc': 'Bachelor',\n",
    "}\n",
    "\n",
    "# Apply replacements\n",
    "df['Degree'] = df['Degree'].replace(bachelors_replacements)"
   ]
  },
  {
   "cell_type": "code",
   "execution_count": 667,
   "metadata": {},
   "outputs": [],
   "source": [
    "# making masters\n",
    "master_replacements = {\n",
    "    'M.Tech': 'Master',\n",
    "    'MCA': 'Master',\n",
    "    'MBA': 'Master',\n",
    "    'MSc': 'Master',\n",
    "    'M.Com': 'Master',\n",
    "    'MA': 'Master',\n",
    "    'MHM': 'Master',\n",
    "    'M.Arch': 'Master',\n",
    "    'M.Pharm': 'Master',\n",
    "    'ME': 'Master',  \n",
    "    'LLM': 'Master',\n",
    "    'MD': 'Master',  \n",
    "    'M.Ed': 'Master',\n",
    "    'PhD': 'Master' \n",
    "}\n",
    "\n",
    "# Apply replacements\n",
    "df['Degree'] = df['Degree'].replace(master_replacements)\n",
    "\n"
   ]
  },
  {
   "cell_type": "code",
   "execution_count": 668,
   "metadata": {},
   "outputs": [
    {
     "data": {
      "text/html": [
       "<div>\n",
       "<style scoped>\n",
       "    .dataframe tbody tr th:only-of-type {\n",
       "        vertical-align: middle;\n",
       "    }\n",
       "\n",
       "    .dataframe tbody tr th {\n",
       "        vertical-align: top;\n",
       "    }\n",
       "\n",
       "    .dataframe thead th {\n",
       "        text-align: right;\n",
       "    }\n",
       "</style>\n",
       "<table border=\"1\" class=\"dataframe\">\n",
       "  <thead>\n",
       "    <tr style=\"text-align: right;\">\n",
       "      <th></th>\n",
       "      <th>Gender</th>\n",
       "      <th>Age</th>\n",
       "      <th>City</th>\n",
       "      <th>Academic_Pressure</th>\n",
       "      <th>CGPA</th>\n",
       "      <th>Study_Satisfaction</th>\n",
       "      <th>Sleep_Duration</th>\n",
       "      <th>Dietary_Habits</th>\n",
       "      <th>Degree</th>\n",
       "      <th>Have_you_ever_had_suicidal_thoughts_</th>\n",
       "      <th>Work/Study_Hours</th>\n",
       "      <th>Financial_Stress</th>\n",
       "      <th>Family_History_of_Mental_Illness</th>\n",
       "      <th>Depression</th>\n",
       "    </tr>\n",
       "  </thead>\n",
       "  <tbody>\n",
       "    <tr>\n",
       "      <th>11612</th>\n",
       "      <td>Female</td>\n",
       "      <td>21.0</td>\n",
       "      <td>Kalyan</td>\n",
       "      <td>4.0</td>\n",
       "      <td>7.88</td>\n",
       "      <td>5.0</td>\n",
       "      <td>Less than 5 hours</td>\n",
       "      <td>Healthy</td>\n",
       "      <td>Bachelor</td>\n",
       "      <td>No</td>\n",
       "      <td>10.0</td>\n",
       "      <td>3.0</td>\n",
       "      <td>Yes</td>\n",
       "      <td>0</td>\n",
       "    </tr>\n",
       "    <tr>\n",
       "      <th>1755</th>\n",
       "      <td>Female</td>\n",
       "      <td>28.0</td>\n",
       "      <td>Pune</td>\n",
       "      <td>3.0</td>\n",
       "      <td>7.14</td>\n",
       "      <td>1.0</td>\n",
       "      <td>More than 8 hours</td>\n",
       "      <td>Unhealthy</td>\n",
       "      <td>Master</td>\n",
       "      <td>Yes</td>\n",
       "      <td>4.0</td>\n",
       "      <td>2.0</td>\n",
       "      <td>No</td>\n",
       "      <td>1</td>\n",
       "    </tr>\n",
       "    <tr>\n",
       "      <th>10050</th>\n",
       "      <td>Male</td>\n",
       "      <td>24.0</td>\n",
       "      <td>Kalyan</td>\n",
       "      <td>3.0</td>\n",
       "      <td>7.77</td>\n",
       "      <td>3.0</td>\n",
       "      <td>5-6 hours</td>\n",
       "      <td>Healthy</td>\n",
       "      <td>Master</td>\n",
       "      <td>Yes</td>\n",
       "      <td>10.0</td>\n",
       "      <td>4.0</td>\n",
       "      <td>No</td>\n",
       "      <td>1</td>\n",
       "    </tr>\n",
       "  </tbody>\n",
       "</table>\n",
       "</div>"
      ],
      "text/plain": [
       "       Gender   Age    City  Academic_Pressure  CGPA  Study_Satisfaction  \\\n",
       "11612  Female  21.0  Kalyan                4.0  7.88                 5.0   \n",
       "1755   Female  28.0    Pune                3.0  7.14                 1.0   \n",
       "10050    Male  24.0  Kalyan                3.0  7.77                 3.0   \n",
       "\n",
       "          Sleep_Duration Dietary_Habits    Degree  \\\n",
       "11612  Less than 5 hours        Healthy  Bachelor   \n",
       "1755   More than 8 hours      Unhealthy    Master   \n",
       "10050          5-6 hours        Healthy    Master   \n",
       "\n",
       "      Have_you_ever_had_suicidal_thoughts_  Work/Study_Hours  \\\n",
       "11612                                   No              10.0   \n",
       "1755                                   Yes               4.0   \n",
       "10050                                  Yes              10.0   \n",
       "\n",
       "       Financial_Stress Family_History_of_Mental_Illness  Depression  \n",
       "11612               3.0                              Yes           0  \n",
       "1755                2.0                               No           1  \n",
       "10050               4.0                               No           1  "
      ]
     },
     "execution_count": 668,
     "metadata": {},
     "output_type": "execute_result"
    }
   ],
   "source": [
    "df.sample(3)"
   ]
  },
  {
   "cell_type": "code",
   "execution_count": 669,
   "metadata": {},
   "outputs": [
    {
     "data": {
      "text/html": [
       "<div>\n",
       "<style scoped>\n",
       "    .dataframe tbody tr th:only-of-type {\n",
       "        vertical-align: middle;\n",
       "    }\n",
       "\n",
       "    .dataframe tbody tr th {\n",
       "        vertical-align: top;\n",
       "    }\n",
       "\n",
       "    .dataframe thead th {\n",
       "        text-align: right;\n",
       "    }\n",
       "</style>\n",
       "<table border=\"1\" class=\"dataframe\">\n",
       "  <thead>\n",
       "    <tr style=\"text-align: right;\">\n",
       "      <th></th>\n",
       "      <th>Gender</th>\n",
       "      <th>Age</th>\n",
       "      <th>City</th>\n",
       "      <th>Academic_Pressure</th>\n",
       "      <th>CGPA</th>\n",
       "      <th>Study_Satisfaction</th>\n",
       "      <th>Sleep_Duration</th>\n",
       "      <th>Dietary_Habits</th>\n",
       "      <th>Degree</th>\n",
       "      <th>Have_you_ever_had_suicidal_thoughts_</th>\n",
       "      <th>Work/Study_Hours</th>\n",
       "      <th>Financial_Stress</th>\n",
       "      <th>Family_History_of_Mental_Illness</th>\n",
       "      <th>Depression</th>\n",
       "    </tr>\n",
       "  </thead>\n",
       "  <tbody>\n",
       "    <tr>\n",
       "      <th>0</th>\n",
       "      <td>Male</td>\n",
       "      <td>33.0</td>\n",
       "      <td>Visakhapatnam</td>\n",
       "      <td>5.0</td>\n",
       "      <td>8.97</td>\n",
       "      <td>2.0</td>\n",
       "      <td>5-6 hours</td>\n",
       "      <td>Healthy</td>\n",
       "      <td>Bachelor</td>\n",
       "      <td>Yes</td>\n",
       "      <td>3.0</td>\n",
       "      <td>1.0</td>\n",
       "      <td>No</td>\n",
       "      <td>1</td>\n",
       "    </tr>\n",
       "    <tr>\n",
       "      <th>1</th>\n",
       "      <td>Female</td>\n",
       "      <td>24.0</td>\n",
       "      <td>Bangalore</td>\n",
       "      <td>2.0</td>\n",
       "      <td>5.90</td>\n",
       "      <td>5.0</td>\n",
       "      <td>5-6 hours</td>\n",
       "      <td>Moderate</td>\n",
       "      <td>Bachelor</td>\n",
       "      <td>No</td>\n",
       "      <td>3.0</td>\n",
       "      <td>2.0</td>\n",
       "      <td>Yes</td>\n",
       "      <td>0</td>\n",
       "    </tr>\n",
       "    <tr>\n",
       "      <th>2</th>\n",
       "      <td>Male</td>\n",
       "      <td>31.0</td>\n",
       "      <td>Srinagar</td>\n",
       "      <td>3.0</td>\n",
       "      <td>7.03</td>\n",
       "      <td>5.0</td>\n",
       "      <td>Less than 5 hours</td>\n",
       "      <td>Healthy</td>\n",
       "      <td>Bachelor</td>\n",
       "      <td>No</td>\n",
       "      <td>9.0</td>\n",
       "      <td>1.0</td>\n",
       "      <td>Yes</td>\n",
       "      <td>0</td>\n",
       "    </tr>\n",
       "    <tr>\n",
       "      <th>3</th>\n",
       "      <td>Female</td>\n",
       "      <td>28.0</td>\n",
       "      <td>Varanasi</td>\n",
       "      <td>3.0</td>\n",
       "      <td>5.59</td>\n",
       "      <td>2.0</td>\n",
       "      <td>7-8 hours</td>\n",
       "      <td>Moderate</td>\n",
       "      <td>Bachelor</td>\n",
       "      <td>Yes</td>\n",
       "      <td>4.0</td>\n",
       "      <td>5.0</td>\n",
       "      <td>Yes</td>\n",
       "      <td>1</td>\n",
       "    </tr>\n",
       "    <tr>\n",
       "      <th>4</th>\n",
       "      <td>Female</td>\n",
       "      <td>25.0</td>\n",
       "      <td>Jaipur</td>\n",
       "      <td>4.0</td>\n",
       "      <td>8.13</td>\n",
       "      <td>3.0</td>\n",
       "      <td>5-6 hours</td>\n",
       "      <td>Moderate</td>\n",
       "      <td>Master</td>\n",
       "      <td>Yes</td>\n",
       "      <td>1.0</td>\n",
       "      <td>1.0</td>\n",
       "      <td>No</td>\n",
       "      <td>0</td>\n",
       "    </tr>\n",
       "    <tr>\n",
       "      <th>...</th>\n",
       "      <td>...</td>\n",
       "      <td>...</td>\n",
       "      <td>...</td>\n",
       "      <td>...</td>\n",
       "      <td>...</td>\n",
       "      <td>...</td>\n",
       "      <td>...</td>\n",
       "      <td>...</td>\n",
       "      <td>...</td>\n",
       "      <td>...</td>\n",
       "      <td>...</td>\n",
       "      <td>...</td>\n",
       "      <td>...</td>\n",
       "      <td>...</td>\n",
       "    </tr>\n",
       "    <tr>\n",
       "      <th>27896</th>\n",
       "      <td>Female</td>\n",
       "      <td>27.0</td>\n",
       "      <td>Surat</td>\n",
       "      <td>5.0</td>\n",
       "      <td>5.75</td>\n",
       "      <td>5.0</td>\n",
       "      <td>5-6 hours</td>\n",
       "      <td>Unhealthy</td>\n",
       "      <td>Class 12</td>\n",
       "      <td>Yes</td>\n",
       "      <td>7.0</td>\n",
       "      <td>1.0</td>\n",
       "      <td>Yes</td>\n",
       "      <td>0</td>\n",
       "    </tr>\n",
       "    <tr>\n",
       "      <th>27897</th>\n",
       "      <td>Male</td>\n",
       "      <td>27.0</td>\n",
       "      <td>Ludhiana</td>\n",
       "      <td>2.0</td>\n",
       "      <td>9.40</td>\n",
       "      <td>3.0</td>\n",
       "      <td>Less than 5 hours</td>\n",
       "      <td>Healthy</td>\n",
       "      <td>Master</td>\n",
       "      <td>No</td>\n",
       "      <td>0.0</td>\n",
       "      <td>3.0</td>\n",
       "      <td>Yes</td>\n",
       "      <td>0</td>\n",
       "    </tr>\n",
       "    <tr>\n",
       "      <th>27898</th>\n",
       "      <td>Male</td>\n",
       "      <td>31.0</td>\n",
       "      <td>Faridabad</td>\n",
       "      <td>3.0</td>\n",
       "      <td>6.61</td>\n",
       "      <td>4.0</td>\n",
       "      <td>5-6 hours</td>\n",
       "      <td>Unhealthy</td>\n",
       "      <td>Master</td>\n",
       "      <td>No</td>\n",
       "      <td>12.0</td>\n",
       "      <td>2.0</td>\n",
       "      <td>No</td>\n",
       "      <td>0</td>\n",
       "    </tr>\n",
       "    <tr>\n",
       "      <th>27899</th>\n",
       "      <td>Female</td>\n",
       "      <td>18.0</td>\n",
       "      <td>Ludhiana</td>\n",
       "      <td>5.0</td>\n",
       "      <td>6.88</td>\n",
       "      <td>2.0</td>\n",
       "      <td>Less than 5 hours</td>\n",
       "      <td>Healthy</td>\n",
       "      <td>Class 12</td>\n",
       "      <td>Yes</td>\n",
       "      <td>10.0</td>\n",
       "      <td>5.0</td>\n",
       "      <td>No</td>\n",
       "      <td>1</td>\n",
       "    </tr>\n",
       "    <tr>\n",
       "      <th>27900</th>\n",
       "      <td>Male</td>\n",
       "      <td>27.0</td>\n",
       "      <td>Patna</td>\n",
       "      <td>4.0</td>\n",
       "      <td>9.24</td>\n",
       "      <td>1.0</td>\n",
       "      <td>Less than 5 hours</td>\n",
       "      <td>Healthy</td>\n",
       "      <td>Bachelor</td>\n",
       "      <td>Yes</td>\n",
       "      <td>2.0</td>\n",
       "      <td>3.0</td>\n",
       "      <td>Yes</td>\n",
       "      <td>1</td>\n",
       "    </tr>\n",
       "  </tbody>\n",
       "</table>\n",
       "<p>27749 rows × 14 columns</p>\n",
       "</div>"
      ],
      "text/plain": [
       "       Gender   Age           City  Academic_Pressure  CGPA  \\\n",
       "0        Male  33.0  Visakhapatnam                5.0  8.97   \n",
       "1      Female  24.0      Bangalore                2.0  5.90   \n",
       "2        Male  31.0       Srinagar                3.0  7.03   \n",
       "3      Female  28.0       Varanasi                3.0  5.59   \n",
       "4      Female  25.0         Jaipur                4.0  8.13   \n",
       "...       ...   ...            ...                ...   ...   \n",
       "27896  Female  27.0          Surat                5.0  5.75   \n",
       "27897    Male  27.0       Ludhiana                2.0  9.40   \n",
       "27898    Male  31.0      Faridabad                3.0  6.61   \n",
       "27899  Female  18.0       Ludhiana                5.0  6.88   \n",
       "27900    Male  27.0          Patna                4.0  9.24   \n",
       "\n",
       "       Study_Satisfaction     Sleep_Duration Dietary_Habits    Degree  \\\n",
       "0                     2.0          5-6 hours        Healthy  Bachelor   \n",
       "1                     5.0          5-6 hours       Moderate  Bachelor   \n",
       "2                     5.0  Less than 5 hours        Healthy  Bachelor   \n",
       "3                     2.0          7-8 hours       Moderate  Bachelor   \n",
       "4                     3.0          5-6 hours       Moderate    Master   \n",
       "...                   ...                ...            ...       ...   \n",
       "27896                 5.0          5-6 hours      Unhealthy  Class 12   \n",
       "27897                 3.0  Less than 5 hours        Healthy    Master   \n",
       "27898                 4.0          5-6 hours      Unhealthy    Master   \n",
       "27899                 2.0  Less than 5 hours        Healthy  Class 12   \n",
       "27900                 1.0  Less than 5 hours        Healthy  Bachelor   \n",
       "\n",
       "      Have_you_ever_had_suicidal_thoughts_  Work/Study_Hours  \\\n",
       "0                                      Yes               3.0   \n",
       "1                                       No               3.0   \n",
       "2                                       No               9.0   \n",
       "3                                      Yes               4.0   \n",
       "4                                      Yes               1.0   \n",
       "...                                    ...               ...   \n",
       "27896                                  Yes               7.0   \n",
       "27897                                   No               0.0   \n",
       "27898                                   No              12.0   \n",
       "27899                                  Yes              10.0   \n",
       "27900                                  Yes               2.0   \n",
       "\n",
       "       Financial_Stress Family_History_of_Mental_Illness  Depression  \n",
       "0                   1.0                               No           1  \n",
       "1                   2.0                              Yes           0  \n",
       "2                   1.0                              Yes           0  \n",
       "3                   5.0                              Yes           1  \n",
       "4                   1.0                               No           0  \n",
       "...                 ...                              ...         ...  \n",
       "27896               1.0                              Yes           0  \n",
       "27897               3.0                              Yes           0  \n",
       "27898               2.0                               No           0  \n",
       "27899               5.0                               No           1  \n",
       "27900               3.0                              Yes           1  \n",
       "\n",
       "[27749 rows x 14 columns]"
      ]
     },
     "execution_count": 669,
     "metadata": {},
     "output_type": "execute_result"
    }
   ],
   "source": [
    "df"
   ]
  },
  {
   "cell_type": "code",
   "execution_count": 670,
   "metadata": {},
   "outputs": [],
   "source": [
    "# doing one hot encoding for the categorical variables\n",
    "df = pd.get_dummies(df, columns=['City', 'Degree', 'Sleep_Duration', 'Dietary_Habits'])\n"
   ]
  },
  {
   "cell_type": "code",
   "execution_count": 671,
   "metadata": {},
   "outputs": [
    {
     "data": {
      "text/plain": [
       "(27749, 50)"
      ]
     },
     "execution_count": 671,
     "metadata": {},
     "output_type": "execute_result"
    }
   ],
   "source": [
    "df.shape"
   ]
  },
  {
   "cell_type": "code",
   "execution_count": 672,
   "metadata": {},
   "outputs": [
    {
     "name": "stdout",
     "output_type": "stream",
     "text": [
      "<class 'pandas.core.frame.DataFrame'>\n",
      "Index: 27749 entries, 0 to 27900\n",
      "Data columns (total 50 columns):\n",
      " #   Column                                Non-Null Count  Dtype  \n",
      "---  ------                                --------------  -----  \n",
      " 0   Gender                                27749 non-null  object \n",
      " 1   Age                                   27749 non-null  float64\n",
      " 2   Academic_Pressure                     27749 non-null  float64\n",
      " 3   CGPA                                  27749 non-null  float64\n",
      " 4   Study_Satisfaction                    27749 non-null  float64\n",
      " 5   Have_you_ever_had_suicidal_thoughts_  27749 non-null  object \n",
      " 6   Work/Study_Hours                      27749 non-null  float64\n",
      " 7   Financial_Stress                      27749 non-null  float64\n",
      " 8   Family_History_of_Mental_Illness      27749 non-null  object \n",
      " 9   Depression                            27749 non-null  int64  \n",
      " 10  City_Agra                             27749 non-null  bool   \n",
      " 11  City_Ahmedabad                        27749 non-null  bool   \n",
      " 12  City_Bangalore                        27749 non-null  bool   \n",
      " 13  City_Bhopal                           27749 non-null  bool   \n",
      " 14  City_Chennai                          27749 non-null  bool   \n",
      " 15  City_Delhi                            27749 non-null  bool   \n",
      " 16  City_Faridabad                        27749 non-null  bool   \n",
      " 17  City_Ghaziabad                        27749 non-null  bool   \n",
      " 18  City_Hyderabad                        27749 non-null  bool   \n",
      " 19  City_Indore                           27749 non-null  bool   \n",
      " 20  City_Jaipur                           27749 non-null  bool   \n",
      " 21  City_Kalyan                           27749 non-null  bool   \n",
      " 22  City_Kanpur                           27749 non-null  bool   \n",
      " 23  City_Kolkata                          27749 non-null  bool   \n",
      " 24  City_Lucknow                          27749 non-null  bool   \n",
      " 25  City_Ludhiana                         27749 non-null  bool   \n",
      " 26  City_Meerut                           27749 non-null  bool   \n",
      " 27  City_Mumbai                           27749 non-null  bool   \n",
      " 28  City_Nagpur                           27749 non-null  bool   \n",
      " 29  City_Nashik                           27749 non-null  bool   \n",
      " 30  City_Patna                            27749 non-null  bool   \n",
      " 31  City_Pune                             27749 non-null  bool   \n",
      " 32  City_Rajkot                           27749 non-null  bool   \n",
      " 33  City_Srinagar                         27749 non-null  bool   \n",
      " 34  City_Surat                            27749 non-null  bool   \n",
      " 35  City_Thane                            27749 non-null  bool   \n",
      " 36  City_Vadodara                         27749 non-null  bool   \n",
      " 37  City_Varanasi                         27749 non-null  bool   \n",
      " 38  City_Vasai-Virar                      27749 non-null  bool   \n",
      " 39  City_Visakhapatnam                    27749 non-null  bool   \n",
      " 40  Degree_Bachelor                       27749 non-null  bool   \n",
      " 41  Degree_Class 12                       27749 non-null  bool   \n",
      " 42  Degree_Master                         27749 non-null  bool   \n",
      " 43  Sleep_Duration_5-6 hours              27749 non-null  bool   \n",
      " 44  Sleep_Duration_7-8 hours              27749 non-null  bool   \n",
      " 45  Sleep_Duration_Less than 5 hours      27749 non-null  bool   \n",
      " 46  Sleep_Duration_More than 8 hours      27749 non-null  bool   \n",
      " 47  Dietary_Habits_Healthy                27749 non-null  bool   \n",
      " 48  Dietary_Habits_Moderate               27749 non-null  bool   \n",
      " 49  Dietary_Habits_Unhealthy              27749 non-null  bool   \n",
      "dtypes: bool(40), float64(6), int64(1), object(3)\n",
      "memory usage: 3.4+ MB\n"
     ]
    }
   ],
   "source": [
    "df.info ()"
   ]
  },
  {
   "cell_type": "code",
   "execution_count": 673,
   "metadata": {},
   "outputs": [],
   "source": [
    "# mental illness,sucidial thoughts, and gender are objects but only got 2 answers but in string  so we can convert them to binary\n",
    "df['Family_History_of_Mental_Illness'] = df['Family_History_of_Mental_Illness'].map({'Yes': 1, 'No': 0})\n",
    "df['Have_you_ever_had_suicidal_thoughts_'] = df['Have_you_ever_had_suicidal_thoughts_'].map({'Yes': 1, 'No': 0})\n",
    "df['Gender']=df['Gender'].map({'Male':1 , 'Female':0})\n",
    "\n"
   ]
  },
  {
   "cell_type": "code",
   "execution_count": 674,
   "metadata": {},
   "outputs": [],
   "source": [
    "# split data into X and y\n",
    "X=df.drop('Depression', axis=1)\n",
    "y=df['Depression']\n"
   ]
  },
  {
   "cell_type": "code",
   "execution_count": 675,
   "metadata": {},
   "outputs": [
    {
     "data": {
      "text/plain": [
       "Gender                                    2\n",
       "Age                                      17\n",
       "Academic_Pressure                         6\n",
       "CGPA                                    331\n",
       "Study_Satisfaction                        5\n",
       "Have_you_ever_had_suicidal_thoughts_      2\n",
       "Work/Study_Hours                         13\n",
       "Financial_Stress                          5\n",
       "Family_History_of_Mental_Illness          2\n",
       "City_Agra                                 2\n",
       "City_Ahmedabad                            2\n",
       "City_Bangalore                            2\n",
       "City_Bhopal                               2\n",
       "City_Chennai                              2\n",
       "City_Delhi                                2\n",
       "City_Faridabad                            2\n",
       "City_Ghaziabad                            2\n",
       "City_Hyderabad                            2\n",
       "City_Indore                               2\n",
       "City_Jaipur                               2\n",
       "City_Kalyan                               2\n",
       "City_Kanpur                               2\n",
       "City_Kolkata                              2\n",
       "City_Lucknow                              2\n",
       "City_Ludhiana                             2\n",
       "City_Meerut                               2\n",
       "City_Mumbai                               2\n",
       "City_Nagpur                               2\n",
       "City_Nashik                               2\n",
       "City_Patna                                2\n",
       "City_Pune                                 2\n",
       "City_Rajkot                               2\n",
       "City_Srinagar                             2\n",
       "City_Surat                                2\n",
       "City_Thane                                2\n",
       "City_Vadodara                             2\n",
       "City_Varanasi                             2\n",
       "City_Vasai-Virar                          2\n",
       "City_Visakhapatnam                        2\n",
       "Degree_Bachelor                           2\n",
       "Degree_Class 12                           2\n",
       "Degree_Master                             2\n",
       "Sleep_Duration_5-6 hours                  2\n",
       "Sleep_Duration_7-8 hours                  2\n",
       "Sleep_Duration_Less than 5 hours          2\n",
       "Sleep_Duration_More than 8 hours          2\n",
       "Dietary_Habits_Healthy                    2\n",
       "Dietary_Habits_Moderate                   2\n",
       "Dietary_Habits_Unhealthy                  2\n",
       "dtype: int64"
      ]
     },
     "execution_count": 675,
     "metadata": {},
     "output_type": "execute_result"
    }
   ],
   "source": [
    "X.nunique()"
   ]
  },
  {
   "cell_type": "code",
   "execution_count": 676,
   "metadata": {},
   "outputs": [
    {
     "data": {
      "text/plain": [
       "Index(['Gender', 'Age', 'Academic_Pressure', 'CGPA', 'Study_Satisfaction',\n",
       "       'Have_you_ever_had_suicidal_thoughts_', 'Work/Study_Hours',\n",
       "       'Financial_Stress', 'Family_History_of_Mental_Illness', 'Depression',\n",
       "       'City_Agra', 'City_Ahmedabad', 'City_Bangalore', 'City_Bhopal',\n",
       "       'City_Chennai', 'City_Delhi', 'City_Faridabad', 'City_Ghaziabad',\n",
       "       'City_Hyderabad', 'City_Indore', 'City_Jaipur', 'City_Kalyan',\n",
       "       'City_Kanpur', 'City_Kolkata', 'City_Lucknow', 'City_Ludhiana',\n",
       "       'City_Meerut', 'City_Mumbai', 'City_Nagpur', 'City_Nashik',\n",
       "       'City_Patna', 'City_Pune', 'City_Rajkot', 'City_Srinagar', 'City_Surat',\n",
       "       'City_Thane', 'City_Vadodara', 'City_Varanasi', 'City_Vasai-Virar',\n",
       "       'City_Visakhapatnam', 'Degree_Bachelor', 'Degree_Class_12',\n",
       "       'Degree_Master', 'Sleep_Duration_5-6_hours', 'Sleep_Duration_7-8_hours',\n",
       "       'Sleep_Duration_Less_than_5_hours', 'Sleep_Duration_More_than_8_hours',\n",
       "       'Dietary_Habits_Healthy', 'Dietary_Habits_Moderate',\n",
       "       'Dietary_Habits_Unhealthy'],\n",
       "      dtype='object')"
      ]
     },
     "execution_count": 676,
     "metadata": {},
     "output_type": "execute_result"
    }
   ],
   "source": [
    "# to make reading the columns easier in streamlit \n",
    "df.columns = df.columns.str.replace(' ', '_')\n",
    "\n",
    "\n",
    "df.columns\n"
   ]
  },
  {
   "cell_type": "code",
   "execution_count": 677,
   "metadata": {},
   "outputs": [
    {
     "data": {
      "text/plain": [
       "Index(['Gender', 'Age', 'Academic_Pressure', 'CGPA', 'Study_Satisfaction',\n",
       "       'Have_you_ever_had_suicidal_thoughts_', 'Work/Study_Hours',\n",
       "       'Financial_Stress', 'Family_History_of_Mental_Illness', 'City_Agra',\n",
       "       'City_Ahmedabad', 'City_Bangalore', 'City_Bhopal', 'City_Chennai',\n",
       "       'City_Delhi', 'City_Faridabad', 'City_Ghaziabad', 'City_Hyderabad',\n",
       "       'City_Indore', 'City_Jaipur', 'City_Kalyan', 'City_Kanpur',\n",
       "       'City_Kolkata', 'City_Lucknow', 'City_Ludhiana', 'City_Meerut',\n",
       "       'City_Mumbai', 'City_Nagpur', 'City_Nashik', 'City_Patna', 'City_Pune',\n",
       "       'City_Rajkot', 'City_Srinagar', 'City_Surat', 'City_Thane',\n",
       "       'City_Vadodara', 'City_Varanasi', 'City_Vasai-Virar',\n",
       "       'City_Visakhapatnam', 'Degree_Bachelor', 'Degree_Class_12',\n",
       "       'Degree_Master', 'Sleep_Duration_5-6_hours', 'Sleep_Duration_7-8_hours',\n",
       "       'Sleep_Duration_Less_than_5_hours', 'Sleep_Duration_More_than_8_hours',\n",
       "       'Dietary_Habits_Healthy', 'Dietary_Habits_Moderate',\n",
       "       'Dietary_Habits_Unhealthy'],\n",
       "      dtype='object')"
      ]
     },
     "execution_count": 677,
     "metadata": {},
     "output_type": "execute_result"
    }
   ],
   "source": [
    "# to make reading the columns easier in streamlit \n",
    "X.columns = X.columns.str.replace(' ', '_')\n",
    "X.columns"
   ]
  },
  {
   "cell_type": "code",
   "execution_count": 678,
   "metadata": {},
   "outputs": [],
   "source": [
    "# change the column work/study hours to work_study_hours\n",
    "df = df.rename(columns={'Work/Study_Hours': 'Work_Study_Hours'})\n",
    "\n",
    "X=X.rename(columns={'Work/Study_Hours': 'Work_Study_Hours'})"
   ]
  },
  {
   "cell_type": "code",
   "execution_count": 679,
   "metadata": {},
   "outputs": [
    {
     "data": {
      "text/plain": [
       "Index(['Gender', 'Age', 'Academic_Pressure', 'CGPA', 'Study_Satisfaction',\n",
       "       'Have_you_ever_had_suicidal_thoughts_', 'Work_Study_Hours',\n",
       "       'Financial_Stress', 'Family_History_of_Mental_Illness', 'Depression',\n",
       "       'City_Agra', 'City_Ahmedabad', 'City_Bangalore', 'City_Bhopal',\n",
       "       'City_Chennai', 'City_Delhi', 'City_Faridabad', 'City_Ghaziabad',\n",
       "       'City_Hyderabad', 'City_Indore', 'City_Jaipur', 'City_Kalyan',\n",
       "       'City_Kanpur', 'City_Kolkata', 'City_Lucknow', 'City_Ludhiana',\n",
       "       'City_Meerut', 'City_Mumbai', 'City_Nagpur', 'City_Nashik',\n",
       "       'City_Patna', 'City_Pune', 'City_Rajkot', 'City_Srinagar', 'City_Surat',\n",
       "       'City_Thane', 'City_Vadodara', 'City_Varanasi', 'City_Vasai-Virar',\n",
       "       'City_Visakhapatnam', 'Degree_Bachelor', 'Degree_Class_12',\n",
       "       'Degree_Master', 'Sleep_Duration_5-6_hours', 'Sleep_Duration_7-8_hours',\n",
       "       'Sleep_Duration_Less_than_5_hours', 'Sleep_Duration_More_than_8_hours',\n",
       "       'Dietary_Habits_Healthy', 'Dietary_Habits_Moderate',\n",
       "       'Dietary_Habits_Unhealthy'],\n",
       "      dtype='object')"
      ]
     },
     "execution_count": 679,
     "metadata": {},
     "output_type": "execute_result"
    }
   ],
   "source": [
    "df.columns"
   ]
  },
  {
   "cell_type": "code",
   "execution_count": 680,
   "metadata": {},
   "outputs": [
    {
     "data": {
      "text/plain": [
       "Index(['Gender', 'Age', 'Academic_Pressure', 'CGPA', 'Study_Satisfaction',\n",
       "       'Have_you_ever_had_suicidal_thoughts_', 'Work_Study_Hours',\n",
       "       'Financial_Stress', 'Family_History_of_Mental_Illness', 'City_Agra',\n",
       "       'City_Ahmedabad', 'City_Bangalore', 'City_Bhopal', 'City_Chennai',\n",
       "       'City_Delhi', 'City_Faridabad', 'City_Ghaziabad', 'City_Hyderabad',\n",
       "       'City_Indore', 'City_Jaipur', 'City_Kalyan', 'City_Kanpur',\n",
       "       'City_Kolkata', 'City_Lucknow', 'City_Ludhiana', 'City_Meerut',\n",
       "       'City_Mumbai', 'City_Nagpur', 'City_Nashik', 'City_Patna', 'City_Pune',\n",
       "       'City_Rajkot', 'City_Srinagar', 'City_Surat', 'City_Thane',\n",
       "       'City_Vadodara', 'City_Varanasi', 'City_Vasai-Virar',\n",
       "       'City_Visakhapatnam', 'Degree_Bachelor', 'Degree_Class_12',\n",
       "       'Degree_Master', 'Sleep_Duration_5-6_hours', 'Sleep_Duration_7-8_hours',\n",
       "       'Sleep_Duration_Less_than_5_hours', 'Sleep_Duration_More_than_8_hours',\n",
       "       'Dietary_Habits_Healthy', 'Dietary_Habits_Moderate',\n",
       "       'Dietary_Habits_Unhealthy'],\n",
       "      dtype='object')"
      ]
     },
     "execution_count": 680,
     "metadata": {},
     "output_type": "execute_result"
    }
   ],
   "source": [
    "X.columns"
   ]
  },
  {
   "cell_type": "code",
   "execution_count": 681,
   "metadata": {},
   "outputs": [],
   "source": [
    "# split data into train and test\n",
    "from sklearn.model_selection import train_test_split\n",
    "X_train, X_test, y_train, y_test = train_test_split(X, y, test_size=0.2, random_state=42)\n"
   ]
  },
  {
   "cell_type": "code",
   "execution_count": 682,
   "metadata": {},
   "outputs": [
    {
     "name": "stdout",
     "output_type": "stream",
     "text": [
      "Accuracy: 0.8367567567567568\n",
      "              precision    recall  f1-score   support\n",
      "\n",
      "           0       0.82      0.78      0.80      2296\n",
      "           1       0.85      0.88      0.86      3254\n",
      "\n",
      "    accuracy                           0.84      5550\n",
      "   macro avg       0.83      0.83      0.83      5550\n",
      "weighted avg       0.84      0.84      0.84      5550\n",
      "\n"
     ]
    }
   ],
   "source": [
    "# logistic regression\n",
    "from sklearn.linear_model import LogisticRegression\n",
    "from sklearn.metrics import accuracy_score\n",
    "from sklearn.metrics import classification_report\n",
    "\n",
    "LR=LogisticRegression(solver='lbfgs', max_iter=1000)\n",
    "LR.fit(X_train, y_train)\n",
    "y_pred_LR=LR.predict(X_test)\n",
    "accuracy=accuracy_score(y_test, y_pred_LR)\n",
    "print('Accuracy:', accuracy)\n",
    "print(classification_report(y_test, y_pred_LR))\n"
   ]
  },
  {
   "cell_type": "code",
   "execution_count": 683,
   "metadata": {},
   "outputs": [
    {
     "name": "stdout",
     "output_type": "stream",
     "text": [
      "              precision    recall  f1-score   support\n",
      "\n",
      "           0       0.82      0.78      0.80      2296\n",
      "           1       0.85      0.88      0.86      3254\n",
      "\n",
      "    accuracy                           0.84      5550\n",
      "   macro avg       0.83      0.83      0.83      5550\n",
      "weighted avg       0.84      0.84      0.84      5550\n",
      "\n"
     ]
    }
   ],
   "source": [
    "print (classification_report(y_test,y_pred_LR))"
   ]
  },
  {
   "cell_type": "code",
   "execution_count": 684,
   "metadata": {},
   "outputs": [
    {
     "name": "stdout",
     "output_type": "stream",
     "text": [
      "Accuracy: 0.8369369369369369\n"
     ]
    }
   ],
   "source": [
    "# linear discriminant analysis\n",
    "from sklearn.discriminant_analysis import LinearDiscriminantAnalysis\n",
    "from sklearn.metrics import accuracy_score\n",
    "\n",
    "LDA=LinearDiscriminantAnalysis()\n",
    "LDA.fit(X_train, y_train)\n",
    "y_pred_LDA=LDA.predict(X_test)\n",
    "accuracy=accuracy_score(y_test, y_pred_LDA)\n",
    "print('Accuracy:', accuracy)\n"
   ]
  },
  {
   "cell_type": "code",
   "execution_count": 685,
   "metadata": {},
   "outputs": [
    {
     "name": "stdout",
     "output_type": "stream",
     "text": [
      "Accuracy: 0.7972972972972973\n"
     ]
    }
   ],
   "source": [
    "# k neighbors classifier\n",
    "from sklearn.neighbors import KNeighborsClassifier\n",
    "from sklearn.metrics import accuracy_score\n",
    "\n",
    "KNN=KNeighborsClassifier()\n",
    "KNN.fit(X_train, y_train)\n",
    "y_pred_KNN=KNN.predict(X_test)\n",
    "accuracy=accuracy_score(y_test, y_pred_KNN)\n",
    "print('Accuracy:', accuracy)\n"
   ]
  },
  {
   "cell_type": "code",
   "execution_count": 686,
   "metadata": {},
   "outputs": [
    {
     "name": "stdout",
     "output_type": "stream",
     "text": [
      "Accuracy: 0.7614414414414414\n"
     ]
    }
   ],
   "source": [
    "# decision tree classifier\n",
    "from sklearn.tree import DecisionTreeClassifier\n",
    "from sklearn.metrics import accuracy_score\n",
    "\n",
    "DTC=DecisionTreeClassifier()\n",
    "DTC.fit(X_train, y_train)\n",
    "y_pred_DTC=DTC.predict(X_test)\n",
    "accuracy=accuracy_score(y_test, y_pred_DTC)\n",
    "print('Accuracy:', accuracy)"
   ]
  },
  {
   "cell_type": "code",
   "execution_count": 687,
   "metadata": {},
   "outputs": [
    {
     "name": "stdout",
     "output_type": "stream",
     "text": [
      "Accuracy: 0.7612612612612613\n"
     ]
    }
   ],
   "source": [
    "# guassian naive bayes\n",
    "from sklearn.naive_bayes import GaussianNB\n",
    "from sklearn.metrics import accuracy_score\n",
    "\n",
    "GNB=GaussianNB()\n",
    "GNB.fit(X_train, y_train)\n",
    "y_pred_GNB=GNB.predict(X_test)\n",
    "\n",
    "accuracy=accuracy_score(y_test, y_pred_GNB)\n",
    "print('Accuracy:', accuracy)"
   ]
  },
  {
   "cell_type": "code",
   "execution_count": 688,
   "metadata": {},
   "outputs": [
    {
     "name": "stdout",
     "output_type": "stream",
     "text": [
      "Accuracy: 0.8356756756756757\n"
     ]
    }
   ],
   "source": [
    "# svc\n",
    "from sklearn.svm import SVC\n",
    "from sklearn.metrics import accuracy_score\n",
    "\n",
    "SVM=SVC(gamma='auto')\n",
    "SVM.fit(X_train, y_train)\n",
    "y_pred_SVC=SVM.predict(X_test)\n",
    "accuracy=accuracy_score(y_test, y_pred_SVC)\n",
    "print('Accuracy:', accuracy)"
   ]
  },
  {
   "cell_type": "code",
   "execution_count": 690,
   "metadata": {},
   "outputs": [
    {
     "data": {
      "text/html": [
       "<div>\n",
       "<style scoped>\n",
       "    .dataframe tbody tr th:only-of-type {\n",
       "        vertical-align: middle;\n",
       "    }\n",
       "\n",
       "    .dataframe tbody tr th {\n",
       "        vertical-align: top;\n",
       "    }\n",
       "\n",
       "    .dataframe thead th {\n",
       "        text-align: right;\n",
       "    }\n",
       "</style>\n",
       "<table border=\"1\" class=\"dataframe\">\n",
       "  <thead>\n",
       "    <tr style=\"text-align: right;\">\n",
       "      <th></th>\n",
       "      <th>Gender</th>\n",
       "      <th>Age</th>\n",
       "      <th>Academic_Pressure</th>\n",
       "      <th>CGPA</th>\n",
       "      <th>Study_Satisfaction</th>\n",
       "      <th>Have_you_ever_had_suicidal_thoughts_</th>\n",
       "      <th>Work_Study_Hours</th>\n",
       "      <th>Financial_Stress</th>\n",
       "      <th>Family_History_of_Mental_Illness</th>\n",
       "      <th>Depression</th>\n",
       "    </tr>\n",
       "  </thead>\n",
       "  <tbody>\n",
       "    <tr>\n",
       "      <th>count</th>\n",
       "      <td>27749.000000</td>\n",
       "      <td>27749.000000</td>\n",
       "      <td>27749.000000</td>\n",
       "      <td>27749.000000</td>\n",
       "      <td>27749.000000</td>\n",
       "      <td>27749.000000</td>\n",
       "      <td>27749.000000</td>\n",
       "      <td>27749.000000</td>\n",
       "      <td>27749.000000</td>\n",
       "      <td>27749.000000</td>\n",
       "    </tr>\n",
       "    <tr>\n",
       "      <th>mean</th>\n",
       "      <td>0.557570</td>\n",
       "      <td>25.794263</td>\n",
       "      <td>3.142744</td>\n",
       "      <td>7.658764</td>\n",
       "      <td>2.945151</td>\n",
       "      <td>0.633320</td>\n",
       "      <td>7.162384</td>\n",
       "      <td>3.139428</td>\n",
       "      <td>0.483945</td>\n",
       "      <td>0.586075</td>\n",
       "    </tr>\n",
       "    <tr>\n",
       "      <th>std</th>\n",
       "      <td>0.496684</td>\n",
       "      <td>4.862535</td>\n",
       "      <td>1.380578</td>\n",
       "      <td>1.465673</td>\n",
       "      <td>1.359918</td>\n",
       "      <td>0.481907</td>\n",
       "      <td>3.705626</td>\n",
       "      <td>1.437135</td>\n",
       "      <td>0.499751</td>\n",
       "      <td>0.492544</td>\n",
       "    </tr>\n",
       "    <tr>\n",
       "      <th>min</th>\n",
       "      <td>0.000000</td>\n",
       "      <td>18.000000</td>\n",
       "      <td>0.000000</td>\n",
       "      <td>0.000000</td>\n",
       "      <td>1.000000</td>\n",
       "      <td>0.000000</td>\n",
       "      <td>0.000000</td>\n",
       "      <td>1.000000</td>\n",
       "      <td>0.000000</td>\n",
       "      <td>0.000000</td>\n",
       "    </tr>\n",
       "    <tr>\n",
       "      <th>25%</th>\n",
       "      <td>0.000000</td>\n",
       "      <td>21.000000</td>\n",
       "      <td>2.000000</td>\n",
       "      <td>6.290000</td>\n",
       "      <td>2.000000</td>\n",
       "      <td>0.000000</td>\n",
       "      <td>4.000000</td>\n",
       "      <td>2.000000</td>\n",
       "      <td>0.000000</td>\n",
       "      <td>0.000000</td>\n",
       "    </tr>\n",
       "    <tr>\n",
       "      <th>50%</th>\n",
       "      <td>1.000000</td>\n",
       "      <td>25.000000</td>\n",
       "      <td>3.000000</td>\n",
       "      <td>7.770000</td>\n",
       "      <td>3.000000</td>\n",
       "      <td>1.000000</td>\n",
       "      <td>8.000000</td>\n",
       "      <td>3.000000</td>\n",
       "      <td>0.000000</td>\n",
       "      <td>1.000000</td>\n",
       "    </tr>\n",
       "    <tr>\n",
       "      <th>75%</th>\n",
       "      <td>1.000000</td>\n",
       "      <td>30.000000</td>\n",
       "      <td>4.000000</td>\n",
       "      <td>8.920000</td>\n",
       "      <td>4.000000</td>\n",
       "      <td>1.000000</td>\n",
       "      <td>10.000000</td>\n",
       "      <td>4.000000</td>\n",
       "      <td>1.000000</td>\n",
       "      <td>1.000000</td>\n",
       "    </tr>\n",
       "    <tr>\n",
       "      <th>max</th>\n",
       "      <td>1.000000</td>\n",
       "      <td>34.000000</td>\n",
       "      <td>5.000000</td>\n",
       "      <td>10.000000</td>\n",
       "      <td>5.000000</td>\n",
       "      <td>1.000000</td>\n",
       "      <td>12.000000</td>\n",
       "      <td>5.000000</td>\n",
       "      <td>1.000000</td>\n",
       "      <td>1.000000</td>\n",
       "    </tr>\n",
       "  </tbody>\n",
       "</table>\n",
       "</div>"
      ],
      "text/plain": [
       "             Gender           Age  Academic_Pressure          CGPA  \\\n",
       "count  27749.000000  27749.000000       27749.000000  27749.000000   \n",
       "mean       0.557570     25.794263           3.142744      7.658764   \n",
       "std        0.496684      4.862535           1.380578      1.465673   \n",
       "min        0.000000     18.000000           0.000000      0.000000   \n",
       "25%        0.000000     21.000000           2.000000      6.290000   \n",
       "50%        1.000000     25.000000           3.000000      7.770000   \n",
       "75%        1.000000     30.000000           4.000000      8.920000   \n",
       "max        1.000000     34.000000           5.000000     10.000000   \n",
       "\n",
       "       Study_Satisfaction  Have_you_ever_had_suicidal_thoughts_  \\\n",
       "count        27749.000000                          27749.000000   \n",
       "mean             2.945151                              0.633320   \n",
       "std              1.359918                              0.481907   \n",
       "min              1.000000                              0.000000   \n",
       "25%              2.000000                              0.000000   \n",
       "50%              3.000000                              1.000000   \n",
       "75%              4.000000                              1.000000   \n",
       "max              5.000000                              1.000000   \n",
       "\n",
       "       Work_Study_Hours  Financial_Stress  Family_History_of_Mental_Illness  \\\n",
       "count      27749.000000      27749.000000                      27749.000000   \n",
       "mean           7.162384          3.139428                          0.483945   \n",
       "std            3.705626          1.437135                          0.499751   \n",
       "min            0.000000          1.000000                          0.000000   \n",
       "25%            4.000000          2.000000                          0.000000   \n",
       "50%            8.000000          3.000000                          0.000000   \n",
       "75%           10.000000          4.000000                          1.000000   \n",
       "max           12.000000          5.000000                          1.000000   \n",
       "\n",
       "         Depression  \n",
       "count  27749.000000  \n",
       "mean       0.586075  \n",
       "std        0.492544  \n",
       "min        0.000000  \n",
       "25%        0.000000  \n",
       "50%        1.000000  \n",
       "75%        1.000000  \n",
       "max        1.000000  "
      ]
     },
     "execution_count": 690,
     "metadata": {},
     "output_type": "execute_result"
    }
   ],
   "source": [
    "df.describe()"
   ]
  },
  {
   "cell_type": "code",
   "execution_count": 689,
   "metadata": {},
   "outputs": [
    {
     "data": {
      "text/plain": [
       "['model.pkl']"
      ]
     },
     "execution_count": 689,
     "metadata": {},
     "output_type": "execute_result"
    }
   ],
   "source": [
    "# dumping the model\n",
    "import joblib\n",
    "# choosing lr as the best model since the accuracy is the highest\n",
    "joblib.dump(LR, 'model.pkl')\n"
   ]
  }
 ],
 "metadata": {
  "kernelspec": {
   "display_name": "Python 3",
   "language": "python",
   "name": "python3"
  },
  "language_info": {
   "codemirror_mode": {
    "name": "ipython",
    "version": 3
   },
   "file_extension": ".py",
   "mimetype": "text/x-python",
   "name": "python",
   "nbconvert_exporter": "python",
   "pygments_lexer": "ipython3",
   "version": "3.11.9"
  }
 },
 "nbformat": 4,
 "nbformat_minor": 2
}
