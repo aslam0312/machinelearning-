{
 "cells": [
  {
   "cell_type": "code",
   "execution_count": 549,
   "metadata": {},
   "outputs": [],
   "source": [
    "import pandas as pd\n",
    "import matplotlib.pyplot as plt\n",
    "import seaborn as sns\n",
    "import numpy as np"
   ]
  },
  {
   "cell_type": "code",
   "execution_count": 550,
   "metadata": {},
   "outputs": [],
   "source": [
    "df=df = pd.read_csv('StudentDepressionDataset.csv')"
   ]
  },
  {
   "cell_type": "code",
   "execution_count": 551,
   "metadata": {},
   "outputs": [
    {
     "data": {
      "text/html": [
       "<div>\n",
       "<style scoped>\n",
       "    .dataframe tbody tr th:only-of-type {\n",
       "        vertical-align: middle;\n",
       "    }\n",
       "\n",
       "    .dataframe tbody tr th {\n",
       "        vertical-align: top;\n",
       "    }\n",
       "\n",
       "    .dataframe thead th {\n",
       "        text-align: right;\n",
       "    }\n",
       "</style>\n",
       "<table border=\"1\" class=\"dataframe\">\n",
       "  <thead>\n",
       "    <tr style=\"text-align: right;\">\n",
       "      <th></th>\n",
       "      <th>id</th>\n",
       "      <th>Gender</th>\n",
       "      <th>Age</th>\n",
       "      <th>City</th>\n",
       "      <th>Profession</th>\n",
       "      <th>Academic Pressure</th>\n",
       "      <th>Work Pressure</th>\n",
       "      <th>CGPA</th>\n",
       "      <th>Study Satisfaction</th>\n",
       "      <th>Job Satisfaction</th>\n",
       "      <th>Sleep Duration</th>\n",
       "      <th>Dietary Habits</th>\n",
       "      <th>Degree</th>\n",
       "      <th>Have you ever had suicidal thoughts ?</th>\n",
       "      <th>Work/Study Hours</th>\n",
       "      <th>Financial Stress</th>\n",
       "      <th>Family History of Mental Illness</th>\n",
       "      <th>Depression</th>\n",
       "    </tr>\n",
       "  </thead>\n",
       "  <tbody>\n",
       "    <tr>\n",
       "      <th>13171</th>\n",
       "      <td>66751</td>\n",
       "      <td>Male</td>\n",
       "      <td>24.0</td>\n",
       "      <td>Nagpur</td>\n",
       "      <td>Student</td>\n",
       "      <td>1.0</td>\n",
       "      <td>0.0</td>\n",
       "      <td>8.58</td>\n",
       "      <td>5.0</td>\n",
       "      <td>0.0</td>\n",
       "      <td>5-6 hours</td>\n",
       "      <td>Healthy</td>\n",
       "      <td>BE</td>\n",
       "      <td>Yes</td>\n",
       "      <td>3.0</td>\n",
       "      <td>5.0</td>\n",
       "      <td>No</td>\n",
       "      <td>0</td>\n",
       "    </tr>\n",
       "    <tr>\n",
       "      <th>2548</th>\n",
       "      <td>13005</td>\n",
       "      <td>Male</td>\n",
       "      <td>20.0</td>\n",
       "      <td>Ludhiana</td>\n",
       "      <td>Student</td>\n",
       "      <td>3.0</td>\n",
       "      <td>0.0</td>\n",
       "      <td>5.37</td>\n",
       "      <td>4.0</td>\n",
       "      <td>0.0</td>\n",
       "      <td>7-8 hours</td>\n",
       "      <td>Healthy</td>\n",
       "      <td>Class 12</td>\n",
       "      <td>Yes</td>\n",
       "      <td>11.0</td>\n",
       "      <td>5.0</td>\n",
       "      <td>Yes</td>\n",
       "      <td>1</td>\n",
       "    </tr>\n",
       "    <tr>\n",
       "      <th>14444</th>\n",
       "      <td>73005</td>\n",
       "      <td>Male</td>\n",
       "      <td>19.0</td>\n",
       "      <td>Hyderabad</td>\n",
       "      <td>Student</td>\n",
       "      <td>1.0</td>\n",
       "      <td>0.0</td>\n",
       "      <td>6.59</td>\n",
       "      <td>2.0</td>\n",
       "      <td>0.0</td>\n",
       "      <td>More than 8 hours</td>\n",
       "      <td>Unhealthy</td>\n",
       "      <td>Class 12</td>\n",
       "      <td>Yes</td>\n",
       "      <td>11.0</td>\n",
       "      <td>3.0</td>\n",
       "      <td>Yes</td>\n",
       "      <td>1</td>\n",
       "    </tr>\n",
       "  </tbody>\n",
       "</table>\n",
       "</div>"
      ],
      "text/plain": [
       "          id Gender   Age       City Profession  Academic Pressure  \\\n",
       "13171  66751   Male  24.0     Nagpur    Student                1.0   \n",
       "2548   13005   Male  20.0   Ludhiana    Student                3.0   \n",
       "14444  73005   Male  19.0  Hyderabad    Student                1.0   \n",
       "\n",
       "       Work Pressure  CGPA  Study Satisfaction  Job Satisfaction  \\\n",
       "13171            0.0  8.58                 5.0               0.0   \n",
       "2548             0.0  5.37                 4.0               0.0   \n",
       "14444            0.0  6.59                 2.0               0.0   \n",
       "\n",
       "          Sleep Duration Dietary Habits    Degree  \\\n",
       "13171          5-6 hours        Healthy        BE   \n",
       "2548           7-8 hours        Healthy  Class 12   \n",
       "14444  More than 8 hours      Unhealthy  Class 12   \n",
       "\n",
       "      Have you ever had suicidal thoughts ?  Work/Study Hours  \\\n",
       "13171                                   Yes               3.0   \n",
       "2548                                    Yes              11.0   \n",
       "14444                                   Yes              11.0   \n",
       "\n",
       "       Financial Stress Family History of Mental Illness  Depression  \n",
       "13171               5.0                               No           0  \n",
       "2548                5.0                              Yes           1  \n",
       "14444               3.0                              Yes           1  "
      ]
     },
     "execution_count": 551,
     "metadata": {},
     "output_type": "execute_result"
    }
   ],
   "source": [
    "df.sample(3)"
   ]
  },
  {
   "cell_type": "code",
   "execution_count": 552,
   "metadata": {},
   "outputs": [
    {
     "data": {
      "text/plain": [
       "Index(['id', 'Gender', 'Age', 'City', 'Profession', 'Academic_Pressure',\n",
       "       'Work_Pressure', 'CGPA', 'Study_Satisfaction', 'Job_Satisfaction',\n",
       "       'Sleep_Duration', 'Dietary_Habits', 'Degree',\n",
       "       'Have_you_ever_had_suicidal_thoughts_', 'Work/Study_Hours',\n",
       "       'Financial_Stress', 'Family_History_of_Mental_Illness', 'Depression'],\n",
       "      dtype='object')"
      ]
     },
     "execution_count": 552,
     "metadata": {},
     "output_type": "execute_result"
    }
   ],
   "source": [
    "# CHANGING THE NAME OF THE COLUMNS WITH ? SUCH AS 'Have_you_ever_had_suicidal_thoughts' TO 'Have_you_ever_had_suicidal_thoughts'\n",
    "df.columns = df.columns.str.replace('?', '')\n",
    "# CHANGING THE NAME OF THE COLUMNS WITH GAP WITHOUT SPACE SUCH AS 'Financial Stress' TO 'Financial_Stress', 'Study Satisfaction' TO 'Study_Satisfaction'\n",
    "df.columns = df.columns.str.replace(' ', '_')\n",
    "\n",
    "df.columns"
   ]
  },
  {
   "cell_type": "code",
   "execution_count": 553,
   "metadata": {},
   "outputs": [
    {
     "data": {
      "text/plain": [
       "(27901, 17)"
      ]
     },
     "execution_count": 553,
     "metadata": {},
     "output_type": "execute_result"
    }
   ],
   "source": [
    "# remove id column as it is not needed\n",
    "df.drop('id', axis=1, inplace=True)\n",
    "df.shape\n",
    "\n"
   ]
  },
  {
   "cell_type": "code",
   "execution_count": 554,
   "metadata": {},
   "outputs": [
    {
     "data": {
      "image/png": "[encoded data removed]",
      "text/plain": [
       "<Figure size 1200x800 with 2 Axes>"
      ]
     },
     "metadata": {},
     "output_type": "display_data"
    }
   ],
   "source": [
    "\n",
    "# heatmap to see which columns need changes\n",
    "\n",
    "plt.figure(figsize=(12, 8))\n",
    "# heatmaps code  \n",
    "sns.heatmap(df.corr(numeric_only=True), cmap=\"YlGnBu\", annot=True, fmt=\".2f\", linewidths=0.5)  # Adjust formatting\n",
    "\n",
    "# Customize heatmap appearance\n",
    "plt.xticks(rotation=45, ha='right')  \n",
    "plt.yticks(rotation=0)  \n",
    "plt.title('Correlation Heatmap (Numeric Features)')\n",
    "plt.tight_layout()\n",
    "# run the code \n",
    "plt.show()"
   ]
  },
  {
   "cell_type": "code",
   "execution_count": 555,
   "metadata": {},
   "outputs": [],
   "source": [
    "# age,work pressure,study satisfaction in numericals gives less correlation\n",
    "# financial stress,work hours,academic pressure has more correlation to depression"
   ]
  },
  {
   "cell_type": "code",
   "execution_count": 556,
   "metadata": {},
   "outputs": [
    {
     "data": {
      "text/plain": [
       "Gender                                    2\n",
       "Age                                      34\n",
       "City                                     52\n",
       "Profession                               14\n",
       "Academic_Pressure                         6\n",
       "Work_Pressure                             3\n",
       "CGPA                                    332\n",
       "Study_Satisfaction                        6\n",
       "Job_Satisfaction                          5\n",
       "Sleep_Duration                            5\n",
       "Dietary_Habits                            4\n",
       "Degree                                   28\n",
       "Have_you_ever_had_suicidal_thoughts_      2\n",
       "Work/Study_Hours                         13\n",
       "Financial_Stress                          5\n",
       "Family_History_of_Mental_Illness          2\n",
       "Depression                                2\n",
       "dtype: int64"
      ]
     },
     "execution_count": 556,
     "metadata": {},
     "output_type": "execute_result"
    }
   ],
   "source": [
    "df.nunique()"
   ]
  },
  {
   "cell_type": "code",
   "execution_count": 557,
   "metadata": {},
   "outputs": [
    {
     "name": "stdout",
     "output_type": "stream",
     "text": [
      "Number of Missing Values in Each Column:\n",
      " Gender                                  0\n",
      "Age                                     0\n",
      "City                                    0\n",
      "Profession                              0\n",
      "Academic_Pressure                       0\n",
      "Work_Pressure                           0\n",
      "CGPA                                    0\n",
      "Study_Satisfaction                      0\n",
      "Job_Satisfaction                        0\n",
      "Sleep_Duration                          0\n",
      "Dietary_Habits                          0\n",
      "Degree                                  0\n",
      "Have_you_ever_had_suicidal_thoughts_    0\n",
      "Work/Study_Hours                        0\n",
      "Financial_Stress                        3\n",
      "Family_History_of_Mental_Illness        0\n",
      "Depression                              0\n",
      "dtype: int64\n"
     ]
    }
   ],
   "source": [
    "missing_values_count = df.isnull().sum()\n",
    "print(\"Number of Missing Values in Each Column:\\n\", missing_values_count)"
   ]
  },
  {
   "cell_type": "code",
   "execution_count": 558,
   "metadata": {},
   "outputs": [
    {
     "name": "stderr",
     "output_type": "stream",
     "text": [
      "C:\\Users\\aslam\\AppData\\Local\\Temp\\ipykernel_39420\\3794617652.py:2: FutureWarning: A value is trying to be set on a copy of a DataFrame or Series through chained assignment using an inplace method.\n",
      "The behavior will change in pandas 3.0. This inplace method will never work because the intermediate object on which we are setting values always behaves as a copy.\n",
      "\n",
      "For example, when doing 'df[col].method(value, inplace=True)', try using 'df.method({col: value}, inplace=True)' or df[col] = df[col].method(value) instead, to perform the operation inplace on the original object.\n",
      "\n",
      "\n",
      "  df['Financial_Stress'].fillna(df['Financial_Stress'].mean(), inplace=True)\n"
     ]
    },
    {
     "data": {
      "text/plain": [
       "Gender                                  0\n",
       "Age                                     0\n",
       "City                                    0\n",
       "Profession                              0\n",
       "Academic_Pressure                       0\n",
       "Work_Pressure                           0\n",
       "CGPA                                    0\n",
       "Study_Satisfaction                      0\n",
       "Job_Satisfaction                        0\n",
       "Sleep_Duration                          0\n",
       "Dietary_Habits                          0\n",
       "Degree                                  0\n",
       "Have_you_ever_had_suicidal_thoughts_    0\n",
       "Work/Study_Hours                        0\n",
       "Financial_Stress                        0\n",
       "Family_History_of_Mental_Illness        0\n",
       "Depression                              0\n",
       "dtype: int64"
      ]
     },
     "execution_count": 558,
     "metadata": {},
     "output_type": "execute_result"
    }
   ],
   "source": [
    "# make missing values of financial stress to be the mean of the column\n",
    "df['Financial_Stress'].fillna(df['Financial_Stress'].mean(), inplace=True)\n",
    "# ensure that there are no missing values\n",
    "df.isnull().sum()\n"
   ]
  },
  {
   "cell_type": "code",
   "execution_count": 559,
   "metadata": {},
   "outputs": [
    {
     "data": {
      "text/plain": [
       "(27901, 17)"
      ]
     },
     "execution_count": 559,
     "metadata": {},
     "output_type": "execute_result"
    }
   ],
   "source": [
    "df.shape"
   ]
  },
  {
   "cell_type": "code",
   "execution_count": 560,
   "metadata": {},
   "outputs": [
    {
     "data": {
      "text/plain": [
       "Financial_Stress\n",
       "5.000000    6715\n",
       "4.000000    5775\n",
       "3.000000    5226\n",
       "1.000000    5121\n",
       "2.000000    5061\n",
       "3.139867       3\n",
       "Name: count, dtype: int64"
      ]
     },
     "execution_count": 560,
     "metadata": {},
     "output_type": "execute_result"
    }
   ],
   "source": [
    "# checking unique values in financial stress column\n",
    "df['Financial_Stress'].value_counts()"
   ]
  },
  {
   "cell_type": "code",
   "execution_count": 561,
   "metadata": {},
   "outputs": [],
   "source": [
    "# removing rows with values of age appearing less than or equal to 4 times as they are not enough to make a good prediction\n",
    "df = df[df['Financial_Stress'].map(df['Financial_Stress'].value_counts()) >=4]"
   ]
  },
  {
   "cell_type": "code",
   "execution_count": 562,
   "metadata": {},
   "outputs": [
    {
     "data": {
      "text/html": [
       "<div>\n",
       "<style scoped>\n",
       "    .dataframe tbody tr th:only-of-type {\n",
       "        vertical-align: middle;\n",
       "    }\n",
       "\n",
       "    .dataframe tbody tr th {\n",
       "        vertical-align: top;\n",
       "    }\n",
       "\n",
       "    .dataframe thead th {\n",
       "        text-align: right;\n",
       "    }\n",
       "</style>\n",
       "<table border=\"1\" class=\"dataframe\">\n",
       "  <thead>\n",
       "    <tr style=\"text-align: right;\">\n",
       "      <th></th>\n",
       "      <th>Gender</th>\n",
       "      <th>Age</th>\n",
       "      <th>City</th>\n",
       "      <th>Profession</th>\n",
       "      <th>Academic_Pressure</th>\n",
       "      <th>Work_Pressure</th>\n",
       "      <th>CGPA</th>\n",
       "      <th>Study_Satisfaction</th>\n",
       "      <th>Job_Satisfaction</th>\n",
       "      <th>Sleep_Duration</th>\n",
       "      <th>Dietary_Habits</th>\n",
       "      <th>Degree</th>\n",
       "      <th>Have_you_ever_had_suicidal_thoughts_</th>\n",
       "      <th>Work/Study_Hours</th>\n",
       "      <th>Financial_Stress</th>\n",
       "      <th>Family_History_of_Mental_Illness</th>\n",
       "      <th>Depression</th>\n",
       "    </tr>\n",
       "  </thead>\n",
       "  <tbody>\n",
       "    <tr>\n",
       "      <th>1020</th>\n",
       "      <td>Male</td>\n",
       "      <td>20.0</td>\n",
       "      <td>Agra</td>\n",
       "      <td>Student</td>\n",
       "      <td>3.0</td>\n",
       "      <td>0.0</td>\n",
       "      <td>7.68</td>\n",
       "      <td>1.0</td>\n",
       "      <td>0.0</td>\n",
       "      <td>More than 8 hours</td>\n",
       "      <td>Healthy</td>\n",
       "      <td>Class 12</td>\n",
       "      <td>Yes</td>\n",
       "      <td>7.0</td>\n",
       "      <td>1.0</td>\n",
       "      <td>No</td>\n",
       "      <td>0</td>\n",
       "    </tr>\n",
       "    <tr>\n",
       "      <th>23243</th>\n",
       "      <td>Male</td>\n",
       "      <td>27.0</td>\n",
       "      <td>Hyderabad</td>\n",
       "      <td>Student</td>\n",
       "      <td>5.0</td>\n",
       "      <td>0.0</td>\n",
       "      <td>7.09</td>\n",
       "      <td>4.0</td>\n",
       "      <td>0.0</td>\n",
       "      <td>7-8 hours</td>\n",
       "      <td>Unhealthy</td>\n",
       "      <td>BBA</td>\n",
       "      <td>Yes</td>\n",
       "      <td>11.0</td>\n",
       "      <td>5.0</td>\n",
       "      <td>Yes</td>\n",
       "      <td>1</td>\n",
       "    </tr>\n",
       "    <tr>\n",
       "      <th>25245</th>\n",
       "      <td>Male</td>\n",
       "      <td>33.0</td>\n",
       "      <td>Patna</td>\n",
       "      <td>Student</td>\n",
       "      <td>5.0</td>\n",
       "      <td>0.0</td>\n",
       "      <td>6.88</td>\n",
       "      <td>3.0</td>\n",
       "      <td>0.0</td>\n",
       "      <td>Less than 5 hours</td>\n",
       "      <td>Unhealthy</td>\n",
       "      <td>LLB</td>\n",
       "      <td>Yes</td>\n",
       "      <td>10.0</td>\n",
       "      <td>5.0</td>\n",
       "      <td>Yes</td>\n",
       "      <td>1</td>\n",
       "    </tr>\n",
       "  </tbody>\n",
       "</table>\n",
       "</div>"
      ],
      "text/plain": [
       "      Gender   Age       City Profession  Academic_Pressure  Work_Pressure  \\\n",
       "1020    Male  20.0       Agra    Student                3.0            0.0   \n",
       "23243   Male  27.0  Hyderabad    Student                5.0            0.0   \n",
       "25245   Male  33.0      Patna    Student                5.0            0.0   \n",
       "\n",
       "       CGPA  Study_Satisfaction  Job_Satisfaction     Sleep_Duration  \\\n",
       "1020   7.68                 1.0               0.0  More than 8 hours   \n",
       "23243  7.09                 4.0               0.0          7-8 hours   \n",
       "25245  6.88                 3.0               0.0  Less than 5 hours   \n",
       "\n",
       "      Dietary_Habits    Degree Have_you_ever_had_suicidal_thoughts_  \\\n",
       "1020         Healthy  Class 12                                  Yes   \n",
       "23243      Unhealthy       BBA                                  Yes   \n",
       "25245      Unhealthy       LLB                                  Yes   \n",
       "\n",
       "       Work/Study_Hours  Financial_Stress Family_History_of_Mental_Illness  \\\n",
       "1020                7.0               1.0                               No   \n",
       "23243              11.0               5.0                              Yes   \n",
       "25245              10.0               5.0                              Yes   \n",
       "\n",
       "       Depression  \n",
       "1020            0  \n",
       "23243           1  \n",
       "25245           1  "
      ]
     },
     "execution_count": 562,
     "metadata": {},
     "output_type": "execute_result"
    }
   ],
   "source": [
    "df.sample(3)"
   ]
  },
  {
   "cell_type": "code",
   "execution_count": 563,
   "metadata": {},
   "outputs": [
    {
     "data": {
      "text/plain": [
       "Gender                                    2\n",
       "Age                                      34\n",
       "City                                     52\n",
       "Profession                               14\n",
       "Academic_Pressure                         6\n",
       "Work_Pressure                             3\n",
       "CGPA                                    332\n",
       "Study_Satisfaction                        6\n",
       "Job_Satisfaction                          5\n",
       "Sleep_Duration                            5\n",
       "Dietary_Habits                            4\n",
       "Degree                                   28\n",
       "Have_you_ever_had_suicidal_thoughts_      2\n",
       "Work/Study_Hours                         13\n",
       "Financial_Stress                          5\n",
       "Family_History_of_Mental_Illness          2\n",
       "Depression                                2\n",
       "dtype: int64"
      ]
     },
     "execution_count": 563,
     "metadata": {},
     "output_type": "execute_result"
    }
   ],
   "source": [
    "df.nunique()"
   ]
  },
  {
   "cell_type": "code",
   "execution_count": 564,
   "metadata": {},
   "outputs": [
    {
     "data": {
      "image/png": "[encoded data removed]",
      "text/plain": [
       "<Figure size 800x800 with 1 Axes>"
      ]
     },
     "metadata": {},
     "output_type": "display_data"
    },
    {
     "data": {
      "image/png": "[encoded data removed]",
      "text/plain": [
       "<Figure size 800x800 with 1 Axes>"
      ]
     },
     "metadata": {},
     "output_type": "display_data"
    },
    {
     "data": {
      "image/png": "[encoded data removed]",
      "text/plain": [
       "<Figure size 800x800 with 1 Axes>"
      ]
     },
     "metadata": {},
     "output_type": "display_data"
    },
    {
     "data": {
      "image/png": "[encoded data removed]",
      "text/plain": [
       "<Figure size 800x800 with 1 Axes>"
      ]
     },
     "metadata": {},
     "output_type": "display_data"
    },
    {
     "data": {
      "image/png": "[encoded data removed]",
      "text/plain": [
       "<Figure size 800x800 with 1 Axes>"
      ]
     },
     "metadata": {},
     "output_type": "display_data"
    },
    {
     "data": {
      "image/png": "[encoded data removed]",
      "text/plain": [
       "<Figure size 800x800 with 1 Axes>"
      ]
     },
     "metadata": {},
     "output_type": "display_data"
    },
    {
     "data": {
      "image/png": "[encoded data removed]",
      "text/plain": [
       "<Figure size 800x800 with 1 Axes>"
      ]
     },
     "metadata": {},
     "output_type": "display_data"
    }
   ],
   "source": [
    "def create_bar_chart(df, column_name):\n",
    "\n",
    "  value_counts = df[column_name].value_counts()\n",
    "  plt.figure(figsize=(8,8 ))  \n",
    "  plt.bar(value_counts.index, value_counts)\n",
    "  plt.xlabel(column_name)\n",
    "  plt.ylabel('Count')\n",
    "  plt.title(f'Distribution of {column_name}')\n",
    "  \n",
    "  plt.show()\n",
    "\n",
    "# Example usage:\n",
    "# Assuming you have a DataFrame named 'df'\n",
    "\n",
    "create_bar_chart(df, 'Job_Satisfaction') \n",
    "create_bar_chart(df, 'Profession')\n",
    "create_bar_chart(df, 'Work_Pressure') \n",
    "create_bar_chart(df,'Sleep_Duration')\n",
    "create_bar_chart(df,'Study_Satisfaction')\n",
    "create_bar_chart(df,'Dietary_Habits')\n",
    "create_bar_chart(df,'Age')\n"
   ]
  },
  {
   "cell_type": "code",
   "execution_count": 565,
   "metadata": {},
   "outputs": [],
   "source": [
    "# while evaluating the df.nununique() and visuals \n",
    "# job satisfaction is mostly 0, so we can drop it, as it will not be useful\n",
    "# profession is mostly student, so we can drop it, as it will not be useful\n",
    "# work pressure is mostly 0, so we can drop it, as it will not be useful\n",
    "df.drop(['Job_Satisfaction', 'Profession','Work_Pressure'], axis=1, inplace=True)\n"
   ]
  },
  {
   "cell_type": "code",
   "execution_count": 566,
   "metadata": {},
   "outputs": [
    {
     "data": {
      "text/plain": [
       "(27823, 14)"
      ]
     },
     "execution_count": 566,
     "metadata": {},
     "output_type": "execute_result"
    }
   ],
   "source": [
    "# from nununique and visual of barchart \n",
    "#  Remove Rows with 'Others' in Sleep Duration, Dietary Habits, Degree as they appear to less times\n",
    "#  reminder better to do a visual for the others\n",
    "df = df[~df['Sleep_Duration'].str.contains('Others', na=False)]\n",
    "df = df[~df['Dietary_Habits'].str.contains('Others', na=False)]\n",
    "df = df[~df['Degree'].str.contains('Others', na=False)]\n",
    "\n",
    "#  Remove Rows with Study Satisfaction Value Equal to 0\n",
    "df = df[df['Study_Satisfaction'] != 0]\n",
    "\n",
    "# check the shape of the data after cleaning\n",
    "df.shape\n"
   ]
  },
  {
   "cell_type": "code",
   "execution_count": 567,
   "metadata": {},
   "outputs": [
    {
     "data": {
      "text/plain": [
       "Gender                                    2\n",
       "Age                                      34\n",
       "City                                     52\n",
       "Academic_Pressure                         6\n",
       "CGPA                                    332\n",
       "Study_Satisfaction                        5\n",
       "Sleep_Duration                            4\n",
       "Dietary_Habits                            3\n",
       "Degree                                   27\n",
       "Have_you_ever_had_suicidal_thoughts_      2\n",
       "Work/Study_Hours                         13\n",
       "Financial_Stress                          5\n",
       "Family_History_of_Mental_Illness          2\n",
       "Depression                                2\n",
       "dtype: int64"
      ]
     },
     "execution_count": 567,
     "metadata": {},
     "output_type": "execute_result"
    }
   ],
   "source": [
    "df.nunique()"
   ]
  },
  {
   "cell_type": "code",
   "execution_count": 568,
   "metadata": {},
   "outputs": [
    {
     "data": {
      "text/plain": [
       "Age\n",
       "24.0    2254\n",
       "20.0    2230\n",
       "28.0    2126\n",
       "29.0    1946\n",
       "33.0    1890\n",
       "25.0    1781\n",
       "21.0    1724\n",
       "23.0    1638\n",
       "18.0    1581\n",
       "19.0    1559\n",
       "34.0    1464\n",
       "27.0    1457\n",
       "31.0    1423\n",
       "32.0    1255\n",
       "22.0    1157\n",
       "26.0    1152\n",
       "30.0    1138\n",
       "35.0      10\n",
       "38.0       7\n",
       "36.0       7\n",
       "42.0       4\n",
       "39.0       3\n",
       "48.0       3\n",
       "46.0       2\n",
       "43.0       2\n",
       "37.0       2\n",
       "44.0       1\n",
       "51.0       1\n",
       "49.0       1\n",
       "58.0       1\n",
       "54.0       1\n",
       "59.0       1\n",
       "56.0       1\n",
       "41.0       1\n",
       "Name: count, dtype: int64"
      ]
     },
     "execution_count": 568,
     "metadata": {},
     "output_type": "execute_result"
    }
   ],
   "source": [
    "df['Age'].value_counts()"
   ]
  },
  {
   "cell_type": "code",
   "execution_count": 569,
   "metadata": {},
   "outputs": [
    {
     "data": {
      "text/plain": [
       "(27775, 14)"
      ]
     },
     "execution_count": 569,
     "metadata": {},
     "output_type": "execute_result"
    }
   ],
   "source": [
    "# from the value counts and the bar chart visuals\n",
    "# removing rows with values of age appearing less than or equal to 10 times as they are not enough to make a good prediction\n",
    "df = df[df['Age'].map(df['Age'].value_counts()) >= 11]\n",
    "\n",
    "# check the shape of the data after cleaning\n",
    "df.shape"
   ]
  },
  {
   "cell_type": "code",
   "execution_count": 570,
   "metadata": {},
   "outputs": [
    {
     "data": {
      "text/plain": [
       "Gender                                    2\n",
       "Age                                      17\n",
       "City                                     52\n",
       "Academic_Pressure                         6\n",
       "CGPA                                    331\n",
       "Study_Satisfaction                        5\n",
       "Sleep_Duration                            4\n",
       "Dietary_Habits                            3\n",
       "Degree                                   27\n",
       "Have_you_ever_had_suicidal_thoughts_      2\n",
       "Work/Study_Hours                         13\n",
       "Financial_Stress                          5\n",
       "Family_History_of_Mental_Illness          2\n",
       "Depression                                2\n",
       "dtype: int64"
      ]
     },
     "execution_count": 570,
     "metadata": {},
     "output_type": "execute_result"
    }
   ],
   "source": [
    "df.nunique()"
   ]
  },
  {
   "cell_type": "code",
   "execution_count": 571,
   "metadata": {},
   "outputs": [],
   "source": [
    "\n",
    "df['City'].value_counts()\n",
    "\n",
    "# using the value counts\n",
    "# removing rows with values of City appearing less than or equal to 3 times as they are not enough to make a good prediction\n",
    "df = df[df['City'].map(df['City'].value_counts()) >= 3]"
   ]
  },
  {
   "cell_type": "code",
   "execution_count": 572,
   "metadata": {},
   "outputs": [],
   "source": [
    "# there is too  many degrees, so we can group them into 3 categories by using our existing knowledge of degrees\n",
    "df['Degree'].value_counts()\n",
    "# we can see that there are many degrees, so we can group them into 3 categories for better encoding later \n",
    "\n",
    "# making class 12th as higher secondary\n",
    "df['Degree'] = df['Degree'].replace('Class 12th', 'Higher Secondary')\n"
   ]
  },
  {
   "cell_type": "code",
   "execution_count": 573,
   "metadata": {},
   "outputs": [],
   "source": [
    "# making bachelors\n",
    "bachelors_replacements = {\n",
    "    'B.Ed': 'Bachelor',\n",
    "    'B.Com': 'Bachelor',\n",
    "    'B.Pharm': 'Bachelor',\n",
    "    'BCA': 'Bachelor',\n",
    "    'BE': 'Bachelor',\n",
    "    'BHM': 'Bachelor',\n",
    "    'MBBS': 'Bachelor', \n",
    "    'LLB': 'Bachelor',\n",
    "    'BA': 'Bachelor',\n",
    "    'B.Arch': 'Bachelor',\n",
    "    'BBA': 'Bachelor',\n",
    "    'B.Tech': 'Bachelor',\n",
    "    'BSc': 'Bachelor',\n",
    "}\n",
    "\n",
    "# Apply replacements\n",
    "df['Degree'] = df['Degree'].replace(bachelors_replacements)"
   ]
  },
  {
   "cell_type": "code",
   "execution_count": 574,
   "metadata": {},
   "outputs": [],
   "source": [
    "# making masters\n",
    "master_replacements = {\n",
    "    'M.Tech': 'Master',\n",
    "    'MCA': 'Master',\n",
    "    'MBA': 'Master',\n",
    "    'MSc': 'Master',\n",
    "    'M.Com': 'Master',\n",
    "    'MA': 'Master',\n",
    "    'MHM': 'Master',\n",
    "    'M.Arch': 'Master',\n",
    "    'M.Pharm': 'Master',\n",
    "    'ME': 'Master',  \n",
    "    'LLM': 'Master',\n",
    "    'MD': 'Master',  \n",
    "    'M.Ed': 'Master',\n",
    "    'PhD': 'Master' \n",
    "}\n",
    "\n",
    "# Apply replacements\n",
    "df['Degree'] = df['Degree'].replace(master_replacements)\n",
    "\n"
   ]
  },
  {
   "cell_type": "code",
   "execution_count": 575,
   "metadata": {},
   "outputs": [],
   "source": [
    "# mental illness,sucidial thoughts, and gender are objects but only got 2 answers but in string  so we can convert them to binary\n",
    "df['Family_History_of_Mental_Illness'] = df['Family_History_of_Mental_Illness'].map({'Yes': 1, 'No': 0})\n",
    "df['Have_you_ever_had_suicidal_thoughts_'] = df['Have_you_ever_had_suicidal_thoughts_'].map({'Yes': 1, 'No': 0})\n",
    "df['Gender']=df['Gender'].map({'Male':1 , 'Female':0})\n",
    "# renaming for better use\n",
    "df = df.rename(columns={'Work/Study_Hours': 'Work_Study_Hours'})"
   ]
  },
  {
   "cell_type": "code",
   "execution_count": 576,
   "metadata": {},
   "outputs": [
    {
     "data": {
      "text/html": [
       "<div>\n",
       "<style scoped>\n",
       "    .dataframe tbody tr th:only-of-type {\n",
       "        vertical-align: middle;\n",
       "    }\n",
       "\n",
       "    .dataframe tbody tr th {\n",
       "        vertical-align: top;\n",
       "    }\n",
       "\n",
       "    .dataframe thead th {\n",
       "        text-align: right;\n",
       "    }\n",
       "</style>\n",
       "<table border=\"1\" class=\"dataframe\">\n",
       "  <thead>\n",
       "    <tr style=\"text-align: right;\">\n",
       "      <th></th>\n",
       "      <th>Gender</th>\n",
       "      <th>Age</th>\n",
       "      <th>City</th>\n",
       "      <th>Academic_Pressure</th>\n",
       "      <th>CGPA</th>\n",
       "      <th>Study_Satisfaction</th>\n",
       "      <th>Sleep_Duration</th>\n",
       "      <th>Dietary_Habits</th>\n",
       "      <th>Degree</th>\n",
       "      <th>Have_you_ever_had_suicidal_thoughts_</th>\n",
       "      <th>Work_Study_Hours</th>\n",
       "      <th>Financial_Stress</th>\n",
       "      <th>Family_History_of_Mental_Illness</th>\n",
       "      <th>Depression</th>\n",
       "    </tr>\n",
       "  </thead>\n",
       "  <tbody>\n",
       "    <tr>\n",
       "      <th>0</th>\n",
       "      <td>1</td>\n",
       "      <td>33.0</td>\n",
       "      <td>Visakhapatnam</td>\n",
       "      <td>5.0</td>\n",
       "      <td>8.97</td>\n",
       "      <td>2.0</td>\n",
       "      <td>5-6 hours</td>\n",
       "      <td>Healthy</td>\n",
       "      <td>Bachelor</td>\n",
       "      <td>1</td>\n",
       "      <td>3.0</td>\n",
       "      <td>1.0</td>\n",
       "      <td>0</td>\n",
       "      <td>1</td>\n",
       "    </tr>\n",
       "    <tr>\n",
       "      <th>1</th>\n",
       "      <td>0</td>\n",
       "      <td>24.0</td>\n",
       "      <td>Bangalore</td>\n",
       "      <td>2.0</td>\n",
       "      <td>5.90</td>\n",
       "      <td>5.0</td>\n",
       "      <td>5-6 hours</td>\n",
       "      <td>Moderate</td>\n",
       "      <td>Bachelor</td>\n",
       "      <td>0</td>\n",
       "      <td>3.0</td>\n",
       "      <td>2.0</td>\n",
       "      <td>1</td>\n",
       "      <td>0</td>\n",
       "    </tr>\n",
       "    <tr>\n",
       "      <th>2</th>\n",
       "      <td>1</td>\n",
       "      <td>31.0</td>\n",
       "      <td>Srinagar</td>\n",
       "      <td>3.0</td>\n",
       "      <td>7.03</td>\n",
       "      <td>5.0</td>\n",
       "      <td>Less than 5 hours</td>\n",
       "      <td>Healthy</td>\n",
       "      <td>Bachelor</td>\n",
       "      <td>0</td>\n",
       "      <td>9.0</td>\n",
       "      <td>1.0</td>\n",
       "      <td>1</td>\n",
       "      <td>0</td>\n",
       "    </tr>\n",
       "    <tr>\n",
       "      <th>3</th>\n",
       "      <td>0</td>\n",
       "      <td>28.0</td>\n",
       "      <td>Varanasi</td>\n",
       "      <td>3.0</td>\n",
       "      <td>5.59</td>\n",
       "      <td>2.0</td>\n",
       "      <td>7-8 hours</td>\n",
       "      <td>Moderate</td>\n",
       "      <td>Bachelor</td>\n",
       "      <td>1</td>\n",
       "      <td>4.0</td>\n",
       "      <td>5.0</td>\n",
       "      <td>1</td>\n",
       "      <td>1</td>\n",
       "    </tr>\n",
       "    <tr>\n",
       "      <th>4</th>\n",
       "      <td>0</td>\n",
       "      <td>25.0</td>\n",
       "      <td>Jaipur</td>\n",
       "      <td>4.0</td>\n",
       "      <td>8.13</td>\n",
       "      <td>3.0</td>\n",
       "      <td>5-6 hours</td>\n",
       "      <td>Moderate</td>\n",
       "      <td>Master</td>\n",
       "      <td>1</td>\n",
       "      <td>1.0</td>\n",
       "      <td>1.0</td>\n",
       "      <td>0</td>\n",
       "      <td>0</td>\n",
       "    </tr>\n",
       "    <tr>\n",
       "      <th>...</th>\n",
       "      <td>...</td>\n",
       "      <td>...</td>\n",
       "      <td>...</td>\n",
       "      <td>...</td>\n",
       "      <td>...</td>\n",
       "      <td>...</td>\n",
       "      <td>...</td>\n",
       "      <td>...</td>\n",
       "      <td>...</td>\n",
       "      <td>...</td>\n",
       "      <td>...</td>\n",
       "      <td>...</td>\n",
       "      <td>...</td>\n",
       "      <td>...</td>\n",
       "    </tr>\n",
       "    <tr>\n",
       "      <th>27896</th>\n",
       "      <td>0</td>\n",
       "      <td>27.0</td>\n",
       "      <td>Surat</td>\n",
       "      <td>5.0</td>\n",
       "      <td>5.75</td>\n",
       "      <td>5.0</td>\n",
       "      <td>5-6 hours</td>\n",
       "      <td>Unhealthy</td>\n",
       "      <td>Class 12</td>\n",
       "      <td>1</td>\n",
       "      <td>7.0</td>\n",
       "      <td>1.0</td>\n",
       "      <td>1</td>\n",
       "      <td>0</td>\n",
       "    </tr>\n",
       "    <tr>\n",
       "      <th>27897</th>\n",
       "      <td>1</td>\n",
       "      <td>27.0</td>\n",
       "      <td>Ludhiana</td>\n",
       "      <td>2.0</td>\n",
       "      <td>9.40</td>\n",
       "      <td>3.0</td>\n",
       "      <td>Less than 5 hours</td>\n",
       "      <td>Healthy</td>\n",
       "      <td>Master</td>\n",
       "      <td>0</td>\n",
       "      <td>0.0</td>\n",
       "      <td>3.0</td>\n",
       "      <td>1</td>\n",
       "      <td>0</td>\n",
       "    </tr>\n",
       "    <tr>\n",
       "      <th>27898</th>\n",
       "      <td>1</td>\n",
       "      <td>31.0</td>\n",
       "      <td>Faridabad</td>\n",
       "      <td>3.0</td>\n",
       "      <td>6.61</td>\n",
       "      <td>4.0</td>\n",
       "      <td>5-6 hours</td>\n",
       "      <td>Unhealthy</td>\n",
       "      <td>Master</td>\n",
       "      <td>0</td>\n",
       "      <td>12.0</td>\n",
       "      <td>2.0</td>\n",
       "      <td>0</td>\n",
       "      <td>0</td>\n",
       "    </tr>\n",
       "    <tr>\n",
       "      <th>27899</th>\n",
       "      <td>0</td>\n",
       "      <td>18.0</td>\n",
       "      <td>Ludhiana</td>\n",
       "      <td>5.0</td>\n",
       "      <td>6.88</td>\n",
       "      <td>2.0</td>\n",
       "      <td>Less than 5 hours</td>\n",
       "      <td>Healthy</td>\n",
       "      <td>Class 12</td>\n",
       "      <td>1</td>\n",
       "      <td>10.0</td>\n",
       "      <td>5.0</td>\n",
       "      <td>0</td>\n",
       "      <td>1</td>\n",
       "    </tr>\n",
       "    <tr>\n",
       "      <th>27900</th>\n",
       "      <td>1</td>\n",
       "      <td>27.0</td>\n",
       "      <td>Patna</td>\n",
       "      <td>4.0</td>\n",
       "      <td>9.24</td>\n",
       "      <td>1.0</td>\n",
       "      <td>Less than 5 hours</td>\n",
       "      <td>Healthy</td>\n",
       "      <td>Bachelor</td>\n",
       "      <td>1</td>\n",
       "      <td>2.0</td>\n",
       "      <td>3.0</td>\n",
       "      <td>1</td>\n",
       "      <td>1</td>\n",
       "    </tr>\n",
       "  </tbody>\n",
       "</table>\n",
       "<p>27749 rows × 14 columns</p>\n",
       "</div>"
      ],
      "text/plain": [
       "       Gender   Age           City  Academic_Pressure  CGPA  \\\n",
       "0           1  33.0  Visakhapatnam                5.0  8.97   \n",
       "1           0  24.0      Bangalore                2.0  5.90   \n",
       "2           1  31.0       Srinagar                3.0  7.03   \n",
       "3           0  28.0       Varanasi                3.0  5.59   \n",
       "4           0  25.0         Jaipur                4.0  8.13   \n",
       "...       ...   ...            ...                ...   ...   \n",
       "27896       0  27.0          Surat                5.0  5.75   \n",
       "27897       1  27.0       Ludhiana                2.0  9.40   \n",
       "27898       1  31.0      Faridabad                3.0  6.61   \n",
       "27899       0  18.0       Ludhiana                5.0  6.88   \n",
       "27900       1  27.0          Patna                4.0  9.24   \n",
       "\n",
       "       Study_Satisfaction     Sleep_Duration Dietary_Habits    Degree  \\\n",
       "0                     2.0          5-6 hours        Healthy  Bachelor   \n",
       "1                     5.0          5-6 hours       Moderate  Bachelor   \n",
       "2                     5.0  Less than 5 hours        Healthy  Bachelor   \n",
       "3                     2.0          7-8 hours       Moderate  Bachelor   \n",
       "4                     3.0          5-6 hours       Moderate    Master   \n",
       "...                   ...                ...            ...       ...   \n",
       "27896                 5.0          5-6 hours      Unhealthy  Class 12   \n",
       "27897                 3.0  Less than 5 hours        Healthy    Master   \n",
       "27898                 4.0          5-6 hours      Unhealthy    Master   \n",
       "27899                 2.0  Less than 5 hours        Healthy  Class 12   \n",
       "27900                 1.0  Less than 5 hours        Healthy  Bachelor   \n",
       "\n",
       "       Have_you_ever_had_suicidal_thoughts_  Work_Study_Hours  \\\n",
       "0                                         1               3.0   \n",
       "1                                         0               3.0   \n",
       "2                                         0               9.0   \n",
       "3                                         1               4.0   \n",
       "4                                         1               1.0   \n",
       "...                                     ...               ...   \n",
       "27896                                     1               7.0   \n",
       "27897                                     0               0.0   \n",
       "27898                                     0              12.0   \n",
       "27899                                     1              10.0   \n",
       "27900                                     1               2.0   \n",
       "\n",
       "       Financial_Stress  Family_History_of_Mental_Illness  Depression  \n",
       "0                   1.0                                 0           1  \n",
       "1                   2.0                                 1           0  \n",
       "2                   1.0                                 1           0  \n",
       "3                   5.0                                 1           1  \n",
       "4                   1.0                                 0           0  \n",
       "...                 ...                               ...         ...  \n",
       "27896               1.0                                 1           0  \n",
       "27897               3.0                                 1           0  \n",
       "27898               2.0                                 0           0  \n",
       "27899               5.0                                 0           1  \n",
       "27900               3.0                                 1           1  \n",
       "\n",
       "[27749 rows x 14 columns]"
      ]
     },
     "execution_count": 576,
     "metadata": {},
     "output_type": "execute_result"
    }
   ],
   "source": [
    "df"
   ]
  },
  {
   "cell_type": "code",
   "execution_count": 577,
   "metadata": {},
   "outputs": [
    {
     "data": {
      "image/png": "[encoded data removed]",
      "text/plain": [
       "<Figure size 1200x800 with 2 Axes>"
      ]
     },
     "metadata": {},
     "output_type": "display_data"
    }
   ],
   "source": [
    "\n",
    "# heatmap to see how the columns correlation changed after the cleaning and exploration\n",
    "\n",
    "plt.figure(figsize=(12, 8))\n",
    "# heatmaps code  \n",
    "sns.heatmap(df.corr(numeric_only=True), cmap=\"YlGnBu\", annot=True, fmt=\".2f\", linewidths=0.5)  # Adjust formatting\n",
    "\n",
    "# Customize heatmap appearance\n",
    "plt.xticks(rotation=45, ha='right')  \n",
    "plt.yticks(rotation=0)  \n",
    "plt.title('Correlation Heatmap (Numeric Features)')\n",
    "plt.tight_layout()\n",
    "# run the code \n",
    "plt.show()"
   ]
  },
  {
   "cell_type": "code",
   "execution_count": 578,
   "metadata": {},
   "outputs": [],
   "source": [
    "# creating a new cdv file with the current df\n",
    "df.to_csv('csv_files/semi_cleaned_depression_file.csv', index=False)"
   ]
  },
  {
   "cell_type": "code",
   "execution_count": 579,
   "metadata": {},
   "outputs": [
    {
     "data": {
      "image/png": "[encoded data removed]",
      "text/plain": [
       "<Figure size 1200x800 with 2 Axes>"
      ]
     },
     "metadata": {},
     "output_type": "display_data"
    }
   ],
   "source": [
    "\n",
    "# heatmap to see which columns need changes\n",
    "\n",
    "plt.figure(figsize=(12, 8))\n",
    "# heatmaps code  \n",
    "sns.heatmap(df.corr(numeric_only=True), cmap=\"YlGnBu\", annot=True, fmt=\".2f\", linewidths=0.5)  # Adjust formatting\n",
    "\n",
    "# Customize heatmap appearance\n",
    "plt.xticks(rotation=45, ha='right')  \n",
    "plt.yticks(rotation=0)  \n",
    "plt.title('Correlation Heatmap (Numeric Features)')\n",
    "plt.tight_layout()\n",
    "# run the code \n",
    "plt.show()"
   ]
  },
  {
   "cell_type": "code",
   "execution_count": 580,
   "metadata": {},
   "outputs": [],
   "source": [
    "# doing one hot encoding for the categorical variables\n",
    "df = pd.get_dummies(df, columns=['City', 'Degree', 'Sleep_Duration', 'Dietary_Habits'])\n"
   ]
  },
  {
   "cell_type": "code",
   "execution_count": 581,
   "metadata": {},
   "outputs": [
    {
     "data": {
      "text/plain": [
       "(27749, 50)"
      ]
     },
     "execution_count": 581,
     "metadata": {},
     "output_type": "execute_result"
    }
   ],
   "source": [
    "df.shape"
   ]
  },
  {
   "cell_type": "code",
   "execution_count": 582,
   "metadata": {},
   "outputs": [
    {
     "name": "stdout",
     "output_type": "stream",
     "text": [
      "<class 'pandas.core.frame.DataFrame'>\n",
      "Index: 27749 entries, 0 to 27900\n",
      "Data columns (total 50 columns):\n",
      " #   Column                                Non-Null Count  Dtype  \n",
      "---  ------                                --------------  -----  \n",
      " 0   Gender                                27749 non-null  int64  \n",
      " 1   Age                                   27749 non-null  float64\n",
      " 2   Academic_Pressure                     27749 non-null  float64\n",
      " 3   CGPA                                  27749 non-null  float64\n",
      " 4   Study_Satisfaction                    27749 non-null  float64\n",
      " 5   Have_you_ever_had_suicidal_thoughts_  27749 non-null  int64  \n",
      " 6   Work_Study_Hours                      27749 non-null  float64\n",
      " 7   Financial_Stress                      27749 non-null  float64\n",
      " 8   Family_History_of_Mental_Illness      27749 non-null  int64  \n",
      " 9   Depression                            27749 non-null  int64  \n",
      " 10  City_Agra                             27749 non-null  bool   \n",
      " 11  City_Ahmedabad                        27749 non-null  bool   \n",
      " 12  City_Bangalore                        27749 non-null  bool   \n",
      " 13  City_Bhopal                           27749 non-null  bool   \n",
      " 14  City_Chennai                          27749 non-null  bool   \n",
      " 15  City_Delhi                            27749 non-null  bool   \n",
      " 16  City_Faridabad                        27749 non-null  bool   \n",
      " 17  City_Ghaziabad                        27749 non-null  bool   \n",
      " 18  City_Hyderabad                        27749 non-null  bool   \n",
      " 19  City_Indore                           27749 non-null  bool   \n",
      " 20  City_Jaipur                           27749 non-null  bool   \n",
      " 21  City_Kalyan                           27749 non-null  bool   \n",
      " 22  City_Kanpur                           27749 non-null  bool   \n",
      " 23  City_Kolkata                          27749 non-null  bool   \n",
      " 24  City_Lucknow                          27749 non-null  bool   \n",
      " 25  City_Ludhiana                         27749 non-null  bool   \n",
      " 26  City_Meerut                           27749 non-null  bool   \n",
      " 27  City_Mumbai                           27749 non-null  bool   \n",
      " 28  City_Nagpur                           27749 non-null  bool   \n",
      " 29  City_Nashik                           27749 non-null  bool   \n",
      " 30  City_Patna                            27749 non-null  bool   \n",
      " 31  City_Pune                             27749 non-null  bool   \n",
      " 32  City_Rajkot                           27749 non-null  bool   \n",
      " 33  City_Srinagar                         27749 non-null  bool   \n",
      " 34  City_Surat                            27749 non-null  bool   \n",
      " 35  City_Thane                            27749 non-null  bool   \n",
      " 36  City_Vadodara                         27749 non-null  bool   \n",
      " 37  City_Varanasi                         27749 non-null  bool   \n",
      " 38  City_Vasai-Virar                      27749 non-null  bool   \n",
      " 39  City_Visakhapatnam                    27749 non-null  bool   \n",
      " 40  Degree_Bachelor                       27749 non-null  bool   \n",
      " 41  Degree_Class 12                       27749 non-null  bool   \n",
      " 42  Degree_Master                         27749 non-null  bool   \n",
      " 43  Sleep_Duration_5-6 hours              27749 non-null  bool   \n",
      " 44  Sleep_Duration_7-8 hours              27749 non-null  bool   \n",
      " 45  Sleep_Duration_Less than 5 hours      27749 non-null  bool   \n",
      " 46  Sleep_Duration_More than 8 hours      27749 non-null  bool   \n",
      " 47  Dietary_Habits_Healthy                27749 non-null  bool   \n",
      " 48  Dietary_Habits_Moderate               27749 non-null  bool   \n",
      " 49  Dietary_Habits_Unhealthy              27749 non-null  bool   \n",
      "dtypes: bool(40), float64(6), int64(4)\n",
      "memory usage: 3.4 MB\n"
     ]
    }
   ],
   "source": [
    "df.info ()"
   ]
  },
  {
   "cell_type": "code",
   "execution_count": 583,
   "metadata": {},
   "outputs": [],
   "source": [
    "# split data into X and y\n",
    "X=df.drop('Depression', axis=1)\n",
    "y=df['Depression']\n"
   ]
  },
  {
   "cell_type": "code",
   "execution_count": 584,
   "metadata": {},
   "outputs": [
    {
     "data": {
      "text/plain": [
       "Gender                                    2\n",
       "Age                                      17\n",
       "Academic_Pressure                         6\n",
       "CGPA                                    331\n",
       "Study_Satisfaction                        5\n",
       "Have_you_ever_had_suicidal_thoughts_      2\n",
       "Work_Study_Hours                         13\n",
       "Financial_Stress                          5\n",
       "Family_History_of_Mental_Illness          2\n",
       "City_Agra                                 2\n",
       "City_Ahmedabad                            2\n",
       "City_Bangalore                            2\n",
       "City_Bhopal                               2\n",
       "City_Chennai                              2\n",
       "City_Delhi                                2\n",
       "City_Faridabad                            2\n",
       "City_Ghaziabad                            2\n",
       "City_Hyderabad                            2\n",
       "City_Indore                               2\n",
       "City_Jaipur                               2\n",
       "City_Kalyan                               2\n",
       "City_Kanpur                               2\n",
       "City_Kolkata                              2\n",
       "City_Lucknow                              2\n",
       "City_Ludhiana                             2\n",
       "City_Meerut                               2\n",
       "City_Mumbai                               2\n",
       "City_Nagpur                               2\n",
       "City_Nashik                               2\n",
       "City_Patna                                2\n",
       "City_Pune                                 2\n",
       "City_Rajkot                               2\n",
       "City_Srinagar                             2\n",
       "City_Surat                                2\n",
       "City_Thane                                2\n",
       "City_Vadodara                             2\n",
       "City_Varanasi                             2\n",
       "City_Vasai-Virar                          2\n",
       "City_Visakhapatnam                        2\n",
       "Degree_Bachelor                           2\n",
       "Degree_Class 12                           2\n",
       "Degree_Master                             2\n",
       "Sleep_Duration_5-6 hours                  2\n",
       "Sleep_Duration_7-8 hours                  2\n",
       "Sleep_Duration_Less than 5 hours          2\n",
       "Sleep_Duration_More than 8 hours          2\n",
       "Dietary_Habits_Healthy                    2\n",
       "Dietary_Habits_Moderate                   2\n",
       "Dietary_Habits_Unhealthy                  2\n",
       "dtype: int64"
      ]
     },
     "execution_count": 584,
     "metadata": {},
     "output_type": "execute_result"
    }
   ],
   "source": [
    "X.nunique()"
   ]
  },
  {
   "cell_type": "code",
   "execution_count": 585,
   "metadata": {},
   "outputs": [
    {
     "data": {
      "text/plain": [
       "Index(['Gender', 'Age', 'Academic_Pressure', 'CGPA', 'Study_Satisfaction',\n",
       "       'Have_you_ever_had_suicidal_thoughts_', 'Work_Study_Hours',\n",
       "       'Financial_Stress', 'Family_History_of_Mental_Illness', 'Depression',\n",
       "       'City_Agra', 'City_Ahmedabad', 'City_Bangalore', 'City_Bhopal',\n",
       "       'City_Chennai', 'City_Delhi', 'City_Faridabad', 'City_Ghaziabad',\n",
       "       'City_Hyderabad', 'City_Indore', 'City_Jaipur', 'City_Kalyan',\n",
       "       'City_Kanpur', 'City_Kolkata', 'City_Lucknow', 'City_Ludhiana',\n",
       "       'City_Meerut', 'City_Mumbai', 'City_Nagpur', 'City_Nashik',\n",
       "       'City_Patna', 'City_Pune', 'City_Rajkot', 'City_Srinagar', 'City_Surat',\n",
       "       'City_Thane', 'City_Vadodara', 'City_Varanasi', 'City_Vasai-Virar',\n",
       "       'City_Visakhapatnam', 'Degree_Bachelor', 'Degree_Class_12',\n",
       "       'Degree_Master', 'Sleep_Duration_5-6_hours', 'Sleep_Duration_7-8_hours',\n",
       "       'Sleep_Duration_Less_than_5_hours', 'Sleep_Duration_More_than_8_hours',\n",
       "       'Dietary_Habits_Healthy', 'Dietary_Habits_Moderate',\n",
       "       'Dietary_Habits_Unhealthy'],\n",
       "      dtype='object')"
      ]
     },
     "execution_count": 585,
     "metadata": {},
     "output_type": "execute_result"
    }
   ],
   "source": [
    "# to make reading the columns easier in streamlit \n",
    "df.columns = df.columns.str.replace(' ', '_')\n",
    "\n",
    "\n",
    "df.columns\n"
   ]
  },
  {
   "cell_type": "code",
   "execution_count": 586,
   "metadata": {},
   "outputs": [
    {
     "data": {
      "text/plain": [
       "Index(['Gender', 'Age', 'Academic_Pressure', 'CGPA', 'Study_Satisfaction',\n",
       "       'Have_you_ever_had_suicidal_thoughts_', 'Work_Study_Hours',\n",
       "       'Financial_Stress', 'Family_History_of_Mental_Illness', 'City_Agra',\n",
       "       'City_Ahmedabad', 'City_Bangalore', 'City_Bhopal', 'City_Chennai',\n",
       "       'City_Delhi', 'City_Faridabad', 'City_Ghaziabad', 'City_Hyderabad',\n",
       "       'City_Indore', 'City_Jaipur', 'City_Kalyan', 'City_Kanpur',\n",
       "       'City_Kolkata', 'City_Lucknow', 'City_Ludhiana', 'City_Meerut',\n",
       "       'City_Mumbai', 'City_Nagpur', 'City_Nashik', 'City_Patna', 'City_Pune',\n",
       "       'City_Rajkot', 'City_Srinagar', 'City_Surat', 'City_Thane',\n",
       "       'City_Vadodara', 'City_Varanasi', 'City_Vasai-Virar',\n",
       "       'City_Visakhapatnam', 'Degree_Bachelor', 'Degree_Class_12',\n",
       "       'Degree_Master', 'Sleep_Duration_5-6_hours', 'Sleep_Duration_7-8_hours',\n",
       "       'Sleep_Duration_Less_than_5_hours', 'Sleep_Duration_More_than_8_hours',\n",
       "       'Dietary_Habits_Healthy', 'Dietary_Habits_Moderate',\n",
       "       'Dietary_Habits_Unhealthy'],\n",
       "      dtype='object')"
      ]
     },
     "execution_count": 586,
     "metadata": {},
     "output_type": "execute_result"
    }
   ],
   "source": [
    "# to make reading the columns easier in streamlit \n",
    "X.columns = X.columns.str.replace(' ', '_')\n",
    "X.columns"
   ]
  },
  {
   "cell_type": "code",
   "execution_count": 587,
   "metadata": {},
   "outputs": [],
   "source": [
    "# creating a new cdv file with the current df\n",
    "df.to_csv('csv_files/update_ohe_file.csv', index=False)"
   ]
  },
  {
   "cell_type": "code",
   "execution_count": 588,
   "metadata": {},
   "outputs": [],
   "source": [
    "# split data into train and test\n",
    "from sklearn.model_selection import train_test_split\n",
    "X_train, X_test, y_train, y_test = train_test_split(X, y, test_size=0.2, random_state=42)\n"
   ]
  },
  {
   "cell_type": "code",
   "execution_count": 589,
   "metadata": {},
   "outputs": [
    {
     "name": "stdout",
     "output_type": "stream",
     "text": [
      "R2 SCORE: 0.5137916579773179\n",
      "Mean Squared Error: 0.11793042725708597\n",
      "Mean Absolute Error: 0.2339308135173673\n",
      "City_Faridabad-0.01%\n",
      "Degree_Class_12-0.01%\n",
      "City_Surat-0.01%\n",
      "City_Bangalore-0.01%\n",
      "City_Kalyan-0.01%\n",
      "City_Mumbai-0.02%\n",
      "Dietary_Habits_Moderate-0.02%\n",
      "City_Thane-0.02%\n",
      "City_Kanpur-0.02%\n",
      "City_Pune-0.02%\n",
      "City_Chennai-0.02%\n",
      "City_Delhi-0.02%\n",
      "City_Vadodara-0.03%\n",
      "City_Visakhapatnam-0.03%\n",
      "City_Ludhiana-0.03%\n",
      "City_Bhopal-0.03%\n",
      "Degree_Master-0.03%\n",
      "Degree_Bachelor-0.03%\n",
      "City_Ghaziabad-0.04%\n",
      "Sleep_Duration_7-8_hours-0.04%\n",
      "City_Meerut-0.04%\n",
      "City_Patna-0.04%\n",
      "City_Srinagar-0.04%\n",
      "City_Kolkata-0.04%\n",
      "City_Vasai-Virar-0.05%\n",
      "City_Agra-0.05%\n",
      "City_Nashik-0.05%\n",
      "City_Varanasi-0.05%\n",
      "Sleep_Duration_5-6_hours-0.05%\n",
      "City_Nagpur-0.05%\n",
      "City_Rajkot-0.05%\n",
      "City_Indore-0.06%\n",
      "City_Lucknow-0.06%\n",
      "Gender-0.07%\n",
      "City_Ahmedabad-0.09%\n",
      "City_Hyderabad-0.09%\n",
      "City_Jaipur-0.11%\n",
      "Sleep_Duration_More_than_8_hours-0.15%\n",
      "Family_History_of_Mental_Illness-0.18%\n",
      "Sleep_Duration_Less_than_5_hours-0.36%\n",
      "Dietary_Habits_Healthy-0.89%\n",
      "CGPA-1.26%\n",
      "Study_Satisfaction-1.40%\n",
      "Dietary_Habits_Unhealthy-1.52%\n",
      "Work_Study_Hours-2.56%\n",
      "Age-4.57%\n",
      "Financial_Stress-9.73%\n",
      "Academic_Pressure-23.79%\n",
      "Have_you_ever_had_suicidal_thoughts_-52.16%\n"
     ]
    }
   ],
   "source": [
    "# gbr \n",
    "\n",
    "# imports\n",
    "from sklearn.ensemble import GradientBoostingRegressor\n",
    "from sklearn import ensemble\n",
    "from sklearn.metrics import r2_score\n",
    "\n",
    "# training model\n",
    "gbr=ensemble.GradientBoostingRegressor(\n",
    "    n_estimators=1000,\n",
    "    learning_rate=0.1,\n",
    "    max_depth=3,\n",
    "    min_samples_split=2,\n",
    "    loss='huber'\n",
    ")\n",
    "gbr.fit(X_train, y_train)\n",
    "\n",
    "# r2 score\n",
    "y_pred_GBR=gbr.predict(X_test)\n",
    "R2_score=r2_score(y_test, y_pred_GBR)\n",
    "print('R2 SCORE:', R2_score)\n",
    "\n",
    "\n",
    "# to check the mean squared error of the model\n",
    "from sklearn.metrics import mean_squared_error\n",
    "mean_squared_error(y_test, y_pred_GBR)\n",
    "print('Mean Squared Error:', mean_squared_error(y_test, y_pred_GBR))\n",
    "\n",
    "# to check the mean absolute error of the model\n",
    "from sklearn.metrics import mean_absolute_error\n",
    "mean_absolute_error(y_test, y_pred_GBR)\n",
    "print('Mean Absolute Error:', mean_absolute_error(y_test, y_pred_GBR))\n",
    "\n",
    "\n",
    "# FEATURE IMPORTANCE\n",
    "# feature_importance\n",
    "\n",
    "feature_columns=np.array(X.columns)\n",
    "\n",
    "importance=gbr.feature_importances_\n",
    "\n",
    "index_by_importance=importance.argsort()\n",
    "\n",
    "for index in index_by_importance:\n",
    "    print(\"{}-{:.2f}%\".format(feature_columns[index],importance[index]*100.0))\n",
    "\n"
   ]
  },
  {
   "cell_type": "code",
   "execution_count": 590,
   "metadata": {},
   "outputs": [
    {
     "name": "stdout",
     "output_type": "stream",
     "text": [
      "<function accuracy_score at 0x000001BB09734AE0>\n",
      "Confusion Matrix:\n",
      " [[1797  499]\n",
      " [ 413 2841]]\n",
      "Classification Report:\n",
      "               precision    recall  f1-score   support\n",
      "\n",
      "           0       0.81      0.78      0.80      2296\n",
      "           1       0.85      0.87      0.86      3254\n",
      "\n",
      "    accuracy                           0.84      5550\n",
      "   macro avg       0.83      0.83      0.83      5550\n",
      "weighted avg       0.84      0.84      0.84      5550\n",
      "\n"
     ]
    }
   ],
   "source": [
    "# GBC \n",
    "\n",
    "# IMPORTS\n",
    "from sklearn.ensemble import GradientBoostingClassifier\n",
    "from sklearn import ensemble\n",
    "\n",
    "# train data\n",
    "gbc=ensemble.GradientBoostingClassifier(\n",
    "    n_estimators=1000,\n",
    "    learning_rate=0.1,\n",
    "    max_depth=3,\n",
    "    min_samples_split=2,\n",
    "    loss='exponential'\n",
    ")\n",
    "gbc.fit(X_train, y_train)\n",
    "\n",
    "# # to check the model accuracy\n",
    "from sklearn.metrics import accuracy_score\n",
    "y_pred = gbc.predict(X_test)\n",
    "accuracy_score(y_test, y_pred)\n",
    "print(accuracy_score)\n",
    "\n",
    "\n",
    "# confusion matrix of the gbc model\n",
    "from sklearn.metrics import confusion_matrix\n",
    "conf_mat_gbc = confusion_matrix(y_test, y_pred)\n",
    "print('Confusion Matrix:\\n', conf_mat_gbc)\n",
    "\n",
    "# classification report of the gbc model\n",
    "from sklearn.metrics import classification_report\n",
    "class_rep_gbc = classification_report(y_test, y_pred)\n",
    "print('Classification Report:\\n', class_rep_gbc)\n",
    "\n"
   ]
  },
  {
   "cell_type": "code",
   "execution_count": 591,
   "metadata": {},
   "outputs": [
    {
     "name": "stdout",
     "output_type": "stream",
     "text": [
      "<function accuracy_score at 0x000001BB09734AE0>\n"
     ]
    }
   ],
   "source": [
    "# # to check the model accuracy\n",
    "from sklearn.metrics import accuracy_score\n",
    "y_pred_gbc = gbc.predict(X_test)\n",
    "accuracy_score(y_test, y_pred_gbc)\n",
    "print(accuracy_score)"
   ]
  },
  {
   "cell_type": "code",
   "execution_count": 592,
   "metadata": {},
   "outputs": [
    {
     "name": "stdout",
     "output_type": "stream",
     "text": [
      "Accuracy: 0.8367567567567568\n",
      "              precision    recall  f1-score   support\n",
      "\n",
      "           0       0.82      0.78      0.80      2296\n",
      "           1       0.85      0.88      0.86      3254\n",
      "\n",
      "    accuracy                           0.84      5550\n",
      "   macro avg       0.83      0.83      0.83      5550\n",
      "weighted avg       0.84      0.84      0.84      5550\n",
      "\n"
     ]
    }
   ],
   "source": [
    "# logistic regression\n",
    "# imports\n",
    "from sklearn.linear_model import LogisticRegression\n",
    "from sklearn.metrics import accuracy_score\n",
    "from sklearn.metrics import classification_report\n",
    "\n",
    "# train data\n",
    "LR=LogisticRegression(solver='lbfgs', max_iter=1000)\n",
    "LR.fit(X_train, y_train)\n",
    "# accuracy score\n",
    "y_pred_LR=LR.predict(X_test)\n",
    "accuracy=accuracy_score(y_test, y_pred_LR)\n",
    "print('Accuracy:', accuracy)\n",
    "\n",
    "# classification report\n",
    "print(classification_report(y_test, y_pred_LR))\n"
   ]
  },
  {
   "cell_type": "code",
   "execution_count": 593,
   "metadata": {},
   "outputs": [
    {
     "name": "stdout",
     "output_type": "stream",
     "text": [
      "              precision    recall  f1-score   support\n",
      "\n",
      "           0       0.82      0.78      0.80      2296\n",
      "           1       0.85      0.88      0.86      3254\n",
      "\n",
      "    accuracy                           0.84      5550\n",
      "   macro avg       0.83      0.83      0.83      5550\n",
      "weighted avg       0.84      0.84      0.84      5550\n",
      "\n"
     ]
    }
   ],
   "source": [
    "print (classification_report(y_test,y_pred_LR))"
   ]
  },
  {
   "cell_type": "code",
   "execution_count": 594,
   "metadata": {},
   "outputs": [
    {
     "name": "stdout",
     "output_type": "stream",
     "text": [
      "Accuracy: 0.8369369369369369\n",
      "              precision    recall  f1-score   support\n",
      "\n",
      "           0       0.82      0.77      0.80      2296\n",
      "           1       0.85      0.88      0.86      3254\n",
      "\n",
      "    accuracy                           0.84      5550\n",
      "   macro avg       0.83      0.83      0.83      5550\n",
      "weighted avg       0.84      0.84      0.84      5550\n",
      "\n"
     ]
    }
   ],
   "source": [
    "# linear discriminant analysis\n",
    "\n",
    "# imports\n",
    "from sklearn.discriminant_analysis import LinearDiscriminantAnalysis\n",
    "from sklearn.metrics import accuracy_score\n",
    "\n",
    "\n",
    "# train model\n",
    "LDA=LinearDiscriminantAnalysis()\n",
    "LDA.fit(X_train, y_train)\n",
    "\n",
    "# accuracy\n",
    "y_pred_LDA=LDA.predict(X_test)\n",
    "accuracy=accuracy_score(y_test, y_pred_LDA)\n",
    "print('Accuracy:', accuracy)\n",
    "\n",
    "# classification report\n",
    "print(classification_report(y_test, y_pred_LDA))\n",
    "\n",
    "\n",
    "\n"
   ]
  },
  {
   "cell_type": "code",
   "execution_count": 595,
   "metadata": {},
   "outputs": [
    {
     "name": "stdout",
     "output_type": "stream",
     "text": [
      "Accuracy: 0.7972972972972973\n",
      "              precision    recall  f1-score   support\n",
      "\n",
      "           0       0.79      0.70      0.74      2296\n",
      "           1       0.80      0.87      0.83      3254\n",
      "\n",
      "    accuracy                           0.80      5550\n",
      "   macro avg       0.80      0.78      0.79      5550\n",
      "weighted avg       0.80      0.80      0.80      5550\n",
      "\n"
     ]
    }
   ],
   "source": [
    "# k neighbors classifier\n",
    "\n",
    "# imports\n",
    "from sklearn.neighbors import KNeighborsClassifier\n",
    "from sklearn.metrics import accuracy_score\n",
    "\n",
    "# train data\n",
    "KNN=KNeighborsClassifier()\n",
    "KNN.fit(X_train, y_train)\n",
    "\n",
    "# accuracy\n",
    "y_pred_KNN=KNN.predict(X_test)\n",
    "accuracy=accuracy_score(y_test, y_pred_KNN)\n",
    "print('Accuracy:', accuracy)\n",
    "\n",
    "# classification report\n",
    "print(classification_report(y_test, y_pred_KNN))\n",
    "\n",
    "\n"
   ]
  },
  {
   "cell_type": "code",
   "execution_count": 596,
   "metadata": {},
   "outputs": [
    {
     "name": "stdout",
     "output_type": "stream",
     "text": [
      "Accuracy: 0.7607207207207207\n",
      "              precision    recall  f1-score   support\n",
      "\n",
      "           0       0.71      0.70      0.71      2296\n",
      "           1       0.79      0.80      0.80      3254\n",
      "\n",
      "    accuracy                           0.76      5550\n",
      "   macro avg       0.75      0.75      0.75      5550\n",
      "weighted avg       0.76      0.76      0.76      5550\n",
      "\n",
      "City_Nashik-0.22%\n",
      "City_Kanpur-0.29%\n",
      "City_Meerut-0.30%\n",
      "City_Mumbai-0.30%\n",
      "City_Indore-0.33%\n",
      "City_Varanasi-0.35%\n",
      "City_Ghaziabad-0.37%\n",
      "City_Faridabad-0.39%\n",
      "City_Patna-0.41%\n",
      "City_Rajkot-0.41%\n",
      "City_Delhi-0.41%\n",
      "City_Bangalore-0.42%\n",
      "Degree_Class_12-0.43%\n",
      "City_Thane-0.44%\n",
      "City_Nagpur-0.44%\n",
      "City_Pune-0.47%\n",
      "City_Chennai-0.47%\n",
      "City_Vadodara-0.48%\n",
      "City_Ludhiana-0.48%\n",
      "City_Bhopal-0.51%\n",
      "City_Kolkata-0.53%\n",
      "City_Srinagar-0.54%\n",
      "City_Vasai-Virar-0.55%\n",
      "City_Surat-0.56%\n",
      "City_Ahmedabad-0.57%\n",
      "City_Hyderabad-0.58%\n",
      "City_Lucknow-0.58%\n",
      "City_Jaipur-0.59%\n",
      "City_Kalyan-0.60%\n",
      "City_Agra-0.62%\n",
      "Dietary_Habits_Moderate-0.64%\n",
      "City_Visakhapatnam-0.64%\n",
      "Sleep_Duration_7-8_hours-0.73%\n",
      "Degree_Master-0.87%\n",
      "Sleep_Duration_5-6_hours-0.92%\n",
      "Sleep_Duration_More_than_8_hours-0.97%\n",
      "Family_History_of_Mental_Illness-0.99%\n",
      "Sleep_Duration_Less_than_5_hours-1.04%\n",
      "Degree_Bachelor-1.04%\n",
      "Dietary_Habits_Healthy-1.18%\n",
      "Gender-1.19%\n",
      "Dietary_Habits_Unhealthy-1.23%\n",
      "Study_Satisfaction-3.53%\n",
      "Work_Study_Hours-5.96%\n",
      "Financial_Stress-6.59%\n",
      "Age-6.79%\n",
      "CGPA-8.19%\n",
      "Academic_Pressure-13.66%\n",
      "Have_you_ever_had_suicidal_thoughts_-30.22%\n"
     ]
    }
   ],
   "source": [
    "# decision tree classifier\n",
    "from sklearn.tree import DecisionTreeClassifier\n",
    "from sklearn.metrics import accuracy_score\n",
    "\n",
    "# train data\n",
    "DTC=DecisionTreeClassifier()\n",
    "DTC.fit(X_train, y_train)\n",
    "\n",
    "# accuracy\n",
    "y_pred_DTC=DTC.predict(X_test)\n",
    "accuracy=accuracy_score(y_test, y_pred_DTC)\n",
    "print('Accuracy:', accuracy)\n",
    "\n",
    "# classification report\n",
    "print(classification_report(y_test, y_pred_DTC))\n",
    "\n",
    "# feature importance for dtc\n",
    "\n",
    "feature_columns=np.array(X.columns)\n",
    "\n",
    "dtc_importance=DTC.feature_importances_\n",
    "\n",
    "index_by_importance=dtc_importance.argsort()\n",
    "\n",
    "for index in index_by_importance:\n",
    "    print(\"{}-{:.2f}%\".format(feature_columns[index],dtc_importance[index]*100.0))\n",
    "\n",
    "\n"
   ]
  },
  {
   "cell_type": "code",
   "execution_count": 597,
   "metadata": {},
   "outputs": [
    {
     "name": "stdout",
     "output_type": "stream",
     "text": [
      "Accuracy: 0.7612612612612613\n",
      "              precision    recall  f1-score   support\n",
      "\n",
      "           0       0.70      0.74      0.72      2296\n",
      "           1       0.81      0.77      0.79      3254\n",
      "\n",
      "    accuracy                           0.76      5550\n",
      "   macro avg       0.75      0.76      0.76      5550\n",
      "weighted avg       0.76      0.76      0.76      5550\n",
      "\n"
     ]
    }
   ],
   "source": [
    "# guassian naive bayes\n",
    "from sklearn.naive_bayes import GaussianNB\n",
    "from sklearn.metrics import accuracy_score\n",
    "\n",
    "# train data\n",
    "GNB=GaussianNB()\n",
    "GNB.fit(X_train, y_train)\n",
    "\n",
    "\n",
    "# accuracy\n",
    "y_pred_GNB=GNB.predict(X_test)\n",
    "accuracy=accuracy_score(y_test, y_pred_GNB)\n",
    "print('Accuracy:', accuracy)\n",
    "\n",
    "# classification report\n",
    "print(classification_report(y_test, y_pred_GNB))"
   ]
  },
  {
   "cell_type": "code",
   "execution_count": 598,
   "metadata": {},
   "outputs": [
    {
     "name": "stdout",
     "output_type": "stream",
     "text": [
      "Accuracy: 0.8356756756756757\n",
      "              precision    recall  f1-score   support\n",
      "\n",
      "           0       0.82      0.77      0.79      2296\n",
      "           1       0.84      0.88      0.86      3254\n",
      "\n",
      "    accuracy                           0.84      5550\n",
      "   macro avg       0.83      0.83      0.83      5550\n",
      "weighted avg       0.84      0.84      0.83      5550\n",
      "\n"
     ]
    }
   ],
   "source": [
    "# svc\n",
    "\n",
    "# imports\n",
    "from sklearn.svm import SVC\n",
    "from sklearn.metrics import accuracy_score\n",
    "\n",
    "# train data\n",
    "SVM=SVC(gamma='auto')\n",
    "SVM.fit(X_train, y_train)\n",
    "\n",
    "# accuracy\n",
    "y_pred_SVC=SVM.predict(X_test)\n",
    "accuracy=accuracy_score(y_test, y_pred_SVC)\n",
    "print('Accuracy:', accuracy)\n",
    "\n",
    "# classification report\n",
    "print(classification_report(y_test, y_pred_SVC))"
   ]
  },
  {
   "cell_type": "code",
   "execution_count": 599,
   "metadata": {},
   "outputs": [
    {
     "data": {
      "text/html": [
       "<div>\n",
       "<style scoped>\n",
       "    .dataframe tbody tr th:only-of-type {\n",
       "        vertical-align: middle;\n",
       "    }\n",
       "\n",
       "    .dataframe tbody tr th {\n",
       "        vertical-align: top;\n",
       "    }\n",
       "\n",
       "    .dataframe thead th {\n",
       "        text-align: right;\n",
       "    }\n",
       "</style>\n",
       "<table border=\"1\" class=\"dataframe\">\n",
       "  <thead>\n",
       "    <tr style=\"text-align: right;\">\n",
       "      <th></th>\n",
       "      <th>Gender</th>\n",
       "      <th>Age</th>\n",
       "      <th>Academic_Pressure</th>\n",
       "      <th>CGPA</th>\n",
       "      <th>Study_Satisfaction</th>\n",
       "      <th>Have_you_ever_had_suicidal_thoughts_</th>\n",
       "      <th>Work_Study_Hours</th>\n",
       "      <th>Financial_Stress</th>\n",
       "      <th>Family_History_of_Mental_Illness</th>\n",
       "      <th>Depression</th>\n",
       "    </tr>\n",
       "  </thead>\n",
       "  <tbody>\n",
       "    <tr>\n",
       "      <th>count</th>\n",
       "      <td>27749.000000</td>\n",
       "      <td>27749.000000</td>\n",
       "      <td>27749.000000</td>\n",
       "      <td>27749.000000</td>\n",
       "      <td>27749.000000</td>\n",
       "      <td>27749.000000</td>\n",
       "      <td>27749.000000</td>\n",
       "      <td>27749.000000</td>\n",
       "      <td>27749.000000</td>\n",
       "      <td>27749.000000</td>\n",
       "    </tr>\n",
       "    <tr>\n",
       "      <th>mean</th>\n",
       "      <td>0.557570</td>\n",
       "      <td>25.794263</td>\n",
       "      <td>3.142744</td>\n",
       "      <td>7.658764</td>\n",
       "      <td>2.945151</td>\n",
       "      <td>0.633320</td>\n",
       "      <td>7.162384</td>\n",
       "      <td>3.139428</td>\n",
       "      <td>0.483945</td>\n",
       "      <td>0.586075</td>\n",
       "    </tr>\n",
       "    <tr>\n",
       "      <th>std</th>\n",
       "      <td>0.496684</td>\n",
       "      <td>4.862535</td>\n",
       "      <td>1.380578</td>\n",
       "      <td>1.465673</td>\n",
       "      <td>1.359918</td>\n",
       "      <td>0.481907</td>\n",
       "      <td>3.705626</td>\n",
       "      <td>1.437135</td>\n",
       "      <td>0.499751</td>\n",
       "      <td>0.492544</td>\n",
       "    </tr>\n",
       "    <tr>\n",
       "      <th>min</th>\n",
       "      <td>0.000000</td>\n",
       "      <td>18.000000</td>\n",
       "      <td>0.000000</td>\n",
       "      <td>0.000000</td>\n",
       "      <td>1.000000</td>\n",
       "      <td>0.000000</td>\n",
       "      <td>0.000000</td>\n",
       "      <td>1.000000</td>\n",
       "      <td>0.000000</td>\n",
       "      <td>0.000000</td>\n",
       "    </tr>\n",
       "    <tr>\n",
       "      <th>25%</th>\n",
       "      <td>0.000000</td>\n",
       "      <td>21.000000</td>\n",
       "      <td>2.000000</td>\n",
       "      <td>6.290000</td>\n",
       "      <td>2.000000</td>\n",
       "      <td>0.000000</td>\n",
       "      <td>4.000000</td>\n",
       "      <td>2.000000</td>\n",
       "      <td>0.000000</td>\n",
       "      <td>0.000000</td>\n",
       "    </tr>\n",
       "    <tr>\n",
       "      <th>50%</th>\n",
       "      <td>1.000000</td>\n",
       "      <td>25.000000</td>\n",
       "      <td>3.000000</td>\n",
       "      <td>7.770000</td>\n",
       "      <td>3.000000</td>\n",
       "      <td>1.000000</td>\n",
       "      <td>8.000000</td>\n",
       "      <td>3.000000</td>\n",
       "      <td>0.000000</td>\n",
       "      <td>1.000000</td>\n",
       "    </tr>\n",
       "    <tr>\n",
       "      <th>75%</th>\n",
       "      <td>1.000000</td>\n",
       "      <td>30.000000</td>\n",
       "      <td>4.000000</td>\n",
       "      <td>8.920000</td>\n",
       "      <td>4.000000</td>\n",
       "      <td>1.000000</td>\n",
       "      <td>10.000000</td>\n",
       "      <td>4.000000</td>\n",
       "      <td>1.000000</td>\n",
       "      <td>1.000000</td>\n",
       "    </tr>\n",
       "    <tr>\n",
       "      <th>max</th>\n",
       "      <td>1.000000</td>\n",
       "      <td>34.000000</td>\n",
       "      <td>5.000000</td>\n",
       "      <td>10.000000</td>\n",
       "      <td>5.000000</td>\n",
       "      <td>1.000000</td>\n",
       "      <td>12.000000</td>\n",
       "      <td>5.000000</td>\n",
       "      <td>1.000000</td>\n",
       "      <td>1.000000</td>\n",
       "    </tr>\n",
       "  </tbody>\n",
       "</table>\n",
       "</div>"
      ],
      "text/plain": [
       "             Gender           Age  Academic_Pressure          CGPA  \\\n",
       "count  27749.000000  27749.000000       27749.000000  27749.000000   \n",
       "mean       0.557570     25.794263           3.142744      7.658764   \n",
       "std        0.496684      4.862535           1.380578      1.465673   \n",
       "min        0.000000     18.000000           0.000000      0.000000   \n",
       "25%        0.000000     21.000000           2.000000      6.290000   \n",
       "50%        1.000000     25.000000           3.000000      7.770000   \n",
       "75%        1.000000     30.000000           4.000000      8.920000   \n",
       "max        1.000000     34.000000           5.000000     10.000000   \n",
       "\n",
       "       Study_Satisfaction  Have_you_ever_had_suicidal_thoughts_  \\\n",
       "count        27749.000000                          27749.000000   \n",
       "mean             2.945151                              0.633320   \n",
       "std              1.359918                              0.481907   \n",
       "min              1.000000                              0.000000   \n",
       "25%              2.000000                              0.000000   \n",
       "50%              3.000000                              1.000000   \n",
       "75%              4.000000                              1.000000   \n",
       "max              5.000000                              1.000000   \n",
       "\n",
       "       Work_Study_Hours  Financial_Stress  Family_History_of_Mental_Illness  \\\n",
       "count      27749.000000      27749.000000                      27749.000000   \n",
       "mean           7.162384          3.139428                          0.483945   \n",
       "std            3.705626          1.437135                          0.499751   \n",
       "min            0.000000          1.000000                          0.000000   \n",
       "25%            4.000000          2.000000                          0.000000   \n",
       "50%            8.000000          3.000000                          0.000000   \n",
       "75%           10.000000          4.000000                          1.000000   \n",
       "max           12.000000          5.000000                          1.000000   \n",
       "\n",
       "         Depression  \n",
       "count  27749.000000  \n",
       "mean       0.586075  \n",
       "std        0.492544  \n",
       "min        0.000000  \n",
       "25%        0.000000  \n",
       "50%        1.000000  \n",
       "75%        1.000000  \n",
       "max        1.000000  "
      ]
     },
     "execution_count": 599,
     "metadata": {},
     "output_type": "execute_result"
    }
   ],
   "source": [
    "df.describe()"
   ]
  },
  {
   "cell_type": "code",
   "execution_count": 600,
   "metadata": {},
   "outputs": [
    {
     "data": {
      "text/plain": [
       "['model/LinearRegressionModel.pkl']"
      ]
     },
     "execution_count": 600,
     "metadata": {},
     "output_type": "execute_result"
    }
   ],
   "source": [
    "# dumping the model\n",
    "import joblib\n",
    "# choosing lr as the best model since the accuracy is the highest\n",
    "joblib.dump(LR, 'model/LinearRegressionModel.pkl')\n"
   ]
  },
  {
   "cell_type": "code",
   "execution_count": 601,
   "metadata": {},
   "outputs": [],
   "source": [
    "# joblib.dump(gbr,'model/gbrModel.pkl')"
   ]
  },
  {
   "cell_type": "code",
   "execution_count": 602,
   "metadata": {},
   "outputs": [],
   "source": [
    "# joblib.dump(LDA,'model/LDAmodel.pkl')"
   ]
  },
  {
   "cell_type": "code",
   "execution_count": 603,
   "metadata": {},
   "outputs": [],
   "source": [
    "data=pd.read_csv('csv_files/semi_cleaned_depression_file.csv')"
   ]
  },
  {
   "cell_type": "code",
   "execution_count": 604,
   "metadata": {},
   "outputs": [
    {
     "data": {
      "text/html": [
       "<div>\n",
       "<style scoped>\n",
       "    .dataframe tbody tr th:only-of-type {\n",
       "        vertical-align: middle;\n",
       "    }\n",
       "\n",
       "    .dataframe tbody tr th {\n",
       "        vertical-align: top;\n",
       "    }\n",
       "\n",
       "    .dataframe thead th {\n",
       "        text-align: right;\n",
       "    }\n",
       "</style>\n",
       "<table border=\"1\" class=\"dataframe\">\n",
       "  <thead>\n",
       "    <tr style=\"text-align: right;\">\n",
       "      <th></th>\n",
       "      <th>Gender</th>\n",
       "      <th>Age</th>\n",
       "      <th>City</th>\n",
       "      <th>Academic_Pressure</th>\n",
       "      <th>CGPA</th>\n",
       "      <th>Study_Satisfaction</th>\n",
       "      <th>Sleep_Duration</th>\n",
       "      <th>Dietary_Habits</th>\n",
       "      <th>Degree</th>\n",
       "      <th>Have_you_ever_had_suicidal_thoughts_</th>\n",
       "      <th>Work_Study_Hours</th>\n",
       "      <th>Financial_Stress</th>\n",
       "      <th>Family_History_of_Mental_Illness</th>\n",
       "      <th>Depression</th>\n",
       "    </tr>\n",
       "  </thead>\n",
       "  <tbody>\n",
       "    <tr>\n",
       "      <th>0</th>\n",
       "      <td>1</td>\n",
       "      <td>33.0</td>\n",
       "      <td>Visakhapatnam</td>\n",
       "      <td>5.0</td>\n",
       "      <td>8.97</td>\n",
       "      <td>2.0</td>\n",
       "      <td>5-6 hours</td>\n",
       "      <td>Healthy</td>\n",
       "      <td>Bachelor</td>\n",
       "      <td>1</td>\n",
       "      <td>3.0</td>\n",
       "      <td>1.0</td>\n",
       "      <td>0</td>\n",
       "      <td>1</td>\n",
       "    </tr>\n",
       "    <tr>\n",
       "      <th>1</th>\n",
       "      <td>0</td>\n",
       "      <td>24.0</td>\n",
       "      <td>Bangalore</td>\n",
       "      <td>2.0</td>\n",
       "      <td>5.90</td>\n",
       "      <td>5.0</td>\n",
       "      <td>5-6 hours</td>\n",
       "      <td>Moderate</td>\n",
       "      <td>Bachelor</td>\n",
       "      <td>0</td>\n",
       "      <td>3.0</td>\n",
       "      <td>2.0</td>\n",
       "      <td>1</td>\n",
       "      <td>0</td>\n",
       "    </tr>\n",
       "    <tr>\n",
       "      <th>2</th>\n",
       "      <td>1</td>\n",
       "      <td>31.0</td>\n",
       "      <td>Srinagar</td>\n",
       "      <td>3.0</td>\n",
       "      <td>7.03</td>\n",
       "      <td>5.0</td>\n",
       "      <td>Less than 5 hours</td>\n",
       "      <td>Healthy</td>\n",
       "      <td>Bachelor</td>\n",
       "      <td>0</td>\n",
       "      <td>9.0</td>\n",
       "      <td>1.0</td>\n",
       "      <td>1</td>\n",
       "      <td>0</td>\n",
       "    </tr>\n",
       "    <tr>\n",
       "      <th>3</th>\n",
       "      <td>0</td>\n",
       "      <td>28.0</td>\n",
       "      <td>Varanasi</td>\n",
       "      <td>3.0</td>\n",
       "      <td>5.59</td>\n",
       "      <td>2.0</td>\n",
       "      <td>7-8 hours</td>\n",
       "      <td>Moderate</td>\n",
       "      <td>Bachelor</td>\n",
       "      <td>1</td>\n",
       "      <td>4.0</td>\n",
       "      <td>5.0</td>\n",
       "      <td>1</td>\n",
       "      <td>1</td>\n",
       "    </tr>\n",
       "    <tr>\n",
       "      <th>4</th>\n",
       "      <td>0</td>\n",
       "      <td>25.0</td>\n",
       "      <td>Jaipur</td>\n",
       "      <td>4.0</td>\n",
       "      <td>8.13</td>\n",
       "      <td>3.0</td>\n",
       "      <td>5-6 hours</td>\n",
       "      <td>Moderate</td>\n",
       "      <td>Master</td>\n",
       "      <td>1</td>\n",
       "      <td>1.0</td>\n",
       "      <td>1.0</td>\n",
       "      <td>0</td>\n",
       "      <td>0</td>\n",
       "    </tr>\n",
       "    <tr>\n",
       "      <th>...</th>\n",
       "      <td>...</td>\n",
       "      <td>...</td>\n",
       "      <td>...</td>\n",
       "      <td>...</td>\n",
       "      <td>...</td>\n",
       "      <td>...</td>\n",
       "      <td>...</td>\n",
       "      <td>...</td>\n",
       "      <td>...</td>\n",
       "      <td>...</td>\n",
       "      <td>...</td>\n",
       "      <td>...</td>\n",
       "      <td>...</td>\n",
       "      <td>...</td>\n",
       "    </tr>\n",
       "    <tr>\n",
       "      <th>27744</th>\n",
       "      <td>0</td>\n",
       "      <td>27.0</td>\n",
       "      <td>Surat</td>\n",
       "      <td>5.0</td>\n",
       "      <td>5.75</td>\n",
       "      <td>5.0</td>\n",
       "      <td>5-6 hours</td>\n",
       "      <td>Unhealthy</td>\n",
       "      <td>Class 12</td>\n",
       "      <td>1</td>\n",
       "      <td>7.0</td>\n",
       "      <td>1.0</td>\n",
       "      <td>1</td>\n",
       "      <td>0</td>\n",
       "    </tr>\n",
       "    <tr>\n",
       "      <th>27745</th>\n",
       "      <td>1</td>\n",
       "      <td>27.0</td>\n",
       "      <td>Ludhiana</td>\n",
       "      <td>2.0</td>\n",
       "      <td>9.40</td>\n",
       "      <td>3.0</td>\n",
       "      <td>Less than 5 hours</td>\n",
       "      <td>Healthy</td>\n",
       "      <td>Master</td>\n",
       "      <td>0</td>\n",
       "      <td>0.0</td>\n",
       "      <td>3.0</td>\n",
       "      <td>1</td>\n",
       "      <td>0</td>\n",
       "    </tr>\n",
       "    <tr>\n",
       "      <th>27746</th>\n",
       "      <td>1</td>\n",
       "      <td>31.0</td>\n",
       "      <td>Faridabad</td>\n",
       "      <td>3.0</td>\n",
       "      <td>6.61</td>\n",
       "      <td>4.0</td>\n",
       "      <td>5-6 hours</td>\n",
       "      <td>Unhealthy</td>\n",
       "      <td>Master</td>\n",
       "      <td>0</td>\n",
       "      <td>12.0</td>\n",
       "      <td>2.0</td>\n",
       "      <td>0</td>\n",
       "      <td>0</td>\n",
       "    </tr>\n",
       "    <tr>\n",
       "      <th>27747</th>\n",
       "      <td>0</td>\n",
       "      <td>18.0</td>\n",
       "      <td>Ludhiana</td>\n",
       "      <td>5.0</td>\n",
       "      <td>6.88</td>\n",
       "      <td>2.0</td>\n",
       "      <td>Less than 5 hours</td>\n",
       "      <td>Healthy</td>\n",
       "      <td>Class 12</td>\n",
       "      <td>1</td>\n",
       "      <td>10.0</td>\n",
       "      <td>5.0</td>\n",
       "      <td>0</td>\n",
       "      <td>1</td>\n",
       "    </tr>\n",
       "    <tr>\n",
       "      <th>27748</th>\n",
       "      <td>1</td>\n",
       "      <td>27.0</td>\n",
       "      <td>Patna</td>\n",
       "      <td>4.0</td>\n",
       "      <td>9.24</td>\n",
       "      <td>1.0</td>\n",
       "      <td>Less than 5 hours</td>\n",
       "      <td>Healthy</td>\n",
       "      <td>Bachelor</td>\n",
       "      <td>1</td>\n",
       "      <td>2.0</td>\n",
       "      <td>3.0</td>\n",
       "      <td>1</td>\n",
       "      <td>1</td>\n",
       "    </tr>\n",
       "  </tbody>\n",
       "</table>\n",
       "<p>27749 rows × 14 columns</p>\n",
       "</div>"
      ],
      "text/plain": [
       "       Gender   Age           City  Academic_Pressure  CGPA  \\\n",
       "0           1  33.0  Visakhapatnam                5.0  8.97   \n",
       "1           0  24.0      Bangalore                2.0  5.90   \n",
       "2           1  31.0       Srinagar                3.0  7.03   \n",
       "3           0  28.0       Varanasi                3.0  5.59   \n",
       "4           0  25.0         Jaipur                4.0  8.13   \n",
       "...       ...   ...            ...                ...   ...   \n",
       "27744       0  27.0          Surat                5.0  5.75   \n",
       "27745       1  27.0       Ludhiana                2.0  9.40   \n",
       "27746       1  31.0      Faridabad                3.0  6.61   \n",
       "27747       0  18.0       Ludhiana                5.0  6.88   \n",
       "27748       1  27.0          Patna                4.0  9.24   \n",
       "\n",
       "       Study_Satisfaction     Sleep_Duration Dietary_Habits    Degree  \\\n",
       "0                     2.0          5-6 hours        Healthy  Bachelor   \n",
       "1                     5.0          5-6 hours       Moderate  Bachelor   \n",
       "2                     5.0  Less than 5 hours        Healthy  Bachelor   \n",
       "3                     2.0          7-8 hours       Moderate  Bachelor   \n",
       "4                     3.0          5-6 hours       Moderate    Master   \n",
       "...                   ...                ...            ...       ...   \n",
       "27744                 5.0          5-6 hours      Unhealthy  Class 12   \n",
       "27745                 3.0  Less than 5 hours        Healthy    Master   \n",
       "27746                 4.0          5-6 hours      Unhealthy    Master   \n",
       "27747                 2.0  Less than 5 hours        Healthy  Class 12   \n",
       "27748                 1.0  Less than 5 hours        Healthy  Bachelor   \n",
       "\n",
       "       Have_you_ever_had_suicidal_thoughts_  Work_Study_Hours  \\\n",
       "0                                         1               3.0   \n",
       "1                                         0               3.0   \n",
       "2                                         0               9.0   \n",
       "3                                         1               4.0   \n",
       "4                                         1               1.0   \n",
       "...                                     ...               ...   \n",
       "27744                                     1               7.0   \n",
       "27745                                     0               0.0   \n",
       "27746                                     0              12.0   \n",
       "27747                                     1              10.0   \n",
       "27748                                     1               2.0   \n",
       "\n",
       "       Financial_Stress  Family_History_of_Mental_Illness  Depression  \n",
       "0                   1.0                                 0           1  \n",
       "1                   2.0                                 1           0  \n",
       "2                   1.0                                 1           0  \n",
       "3                   5.0                                 1           1  \n",
       "4                   1.0                                 0           0  \n",
       "...                 ...                               ...         ...  \n",
       "27744               1.0                                 1           0  \n",
       "27745               3.0                                 1           0  \n",
       "27746               2.0                                 0           0  \n",
       "27747               5.0                                 0           1  \n",
       "27748               3.0                                 1           1  \n",
       "\n",
       "[27749 rows x 14 columns]"
      ]
     },
     "execution_count": 604,
     "metadata": {},
     "output_type": "execute_result"
    }
   ],
   "source": [
    "data"
   ]
  },
  {
   "cell_type": "code",
   "execution_count": 605,
   "metadata": {},
   "outputs": [],
   "source": [
    "# after the feature importance in another file can say sleep,history,diet,academic and financial stress play big part and suicidal thoughts too \n",
    "# city,gender,degree doesnt affect to much. as they are not above  1.5% in both gbr and dtc\n",
    "# so we can say that the most important features are sleep,history,diet,academic and financial\n",
    "\n",
    "data=data.drop(['City','Gender','Degree',],axis=1)"
   ]
  },
  {
   "cell_type": "code",
   "execution_count": 606,
   "metadata": {},
   "outputs": [
    {
     "data": {
      "text/plain": [
       "Age                                      17\n",
       "Academic_Pressure                         6\n",
       "CGPA                                    331\n",
       "Study_Satisfaction                        5\n",
       "Sleep_Duration                            4\n",
       "Dietary_Habits                            3\n",
       "Have_you_ever_had_suicidal_thoughts_      2\n",
       "Work_Study_Hours                         13\n",
       "Financial_Stress                          5\n",
       "Family_History_of_Mental_Illness          2\n",
       "Depression                                2\n",
       "dtype: int64"
      ]
     },
     "execution_count": 606,
     "metadata": {},
     "output_type": "execute_result"
    }
   ],
   "source": [
    "data.nunique()"
   ]
  },
  {
   "cell_type": "code",
   "execution_count": 607,
   "metadata": {},
   "outputs": [
    {
     "data": {
      "text/plain": [
       "Age                                     float64\n",
       "Academic_Pressure                       float64\n",
       "CGPA                                    float64\n",
       "Study_Satisfaction                      float64\n",
       "Sleep_Duration                           object\n",
       "Dietary_Habits                           object\n",
       "Have_you_ever_had_suicidal_thoughts_      int64\n",
       "Work_Study_Hours                        float64\n",
       "Financial_Stress                        float64\n",
       "Family_History_of_Mental_Illness          int64\n",
       "Depression                                int64\n",
       "dtype: object"
      ]
     },
     "execution_count": 607,
     "metadata": {},
     "output_type": "execute_result"
    }
   ],
   "source": [
    "data.dtypes"
   ]
  },
  {
   "cell_type": "code",
   "execution_count": 608,
   "metadata": {},
   "outputs": [
    {
     "name": "stdout",
     "output_type": "stream",
     "text": [
      "Number of Missing Values in Each Column:\n",
      " Age                                     0\n",
      "Academic_Pressure                       0\n",
      "CGPA                                    0\n",
      "Study_Satisfaction                      0\n",
      "Sleep_Duration                          0\n",
      "Dietary_Habits                          0\n",
      "Have_you_ever_had_suicidal_thoughts_    0\n",
      "Work_Study_Hours                        0\n",
      "Financial_Stress                        0\n",
      "Family_History_of_Mental_Illness        0\n",
      "Depression                              0\n",
      "dtype: int64\n"
     ]
    }
   ],
   "source": [
    "missing_values_count = data.isnull().sum()\n",
    "print(\"Number of Missing Values in Each Column:\\n\", missing_values_count)"
   ]
  },
  {
   "cell_type": "code",
   "execution_count": 609,
   "metadata": {},
   "outputs": [],
   "source": [
    "# this is the clean dataset after data cleaning and exploration\n",
    "\n",
    "data.to_csv('csv_files/final_depression_dataset.csv',index=False)"
   ]
  },
  {
   "cell_type": "code",
   "execution_count": 610,
   "metadata": {},
   "outputs": [],
   "source": [
    "# since sleep and diet is object with more than 2 value we do one hard encoding on them before training the data\n",
    "\n",
    "data = pd.get_dummies(data, columns=[ 'Sleep_Duration', 'Dietary_Habits'])"
   ]
  },
  {
   "cell_type": "code",
   "execution_count": 611,
   "metadata": {},
   "outputs": [
    {
     "data": {
      "text/html": [
       "<div>\n",
       "<style scoped>\n",
       "    .dataframe tbody tr th:only-of-type {\n",
       "        vertical-align: middle;\n",
       "    }\n",
       "\n",
       "    .dataframe tbody tr th {\n",
       "        vertical-align: top;\n",
       "    }\n",
       "\n",
       "    .dataframe thead th {\n",
       "        text-align: right;\n",
       "    }\n",
       "</style>\n",
       "<table border=\"1\" class=\"dataframe\">\n",
       "  <thead>\n",
       "    <tr style=\"text-align: right;\">\n",
       "      <th></th>\n",
       "      <th>Age</th>\n",
       "      <th>Academic_Pressure</th>\n",
       "      <th>CGPA</th>\n",
       "      <th>Study_Satisfaction</th>\n",
       "      <th>Have_you_ever_had_suicidal_thoughts_</th>\n",
       "      <th>Work_Study_Hours</th>\n",
       "      <th>Financial_Stress</th>\n",
       "      <th>Family_History_of_Mental_Illness</th>\n",
       "      <th>Depression</th>\n",
       "      <th>Sleep_Duration_5-6 hours</th>\n",
       "      <th>Sleep_Duration_7-8 hours</th>\n",
       "      <th>Sleep_Duration_Less than 5 hours</th>\n",
       "      <th>Sleep_Duration_More than 8 hours</th>\n",
       "      <th>Dietary_Habits_Healthy</th>\n",
       "      <th>Dietary_Habits_Moderate</th>\n",
       "      <th>Dietary_Habits_Unhealthy</th>\n",
       "    </tr>\n",
       "  </thead>\n",
       "  <tbody>\n",
       "    <tr>\n",
       "      <th>16734</th>\n",
       "      <td>30.0</td>\n",
       "      <td>5.0</td>\n",
       "      <td>7.35</td>\n",
       "      <td>2.0</td>\n",
       "      <td>1</td>\n",
       "      <td>10.0</td>\n",
       "      <td>1.0</td>\n",
       "      <td>1</td>\n",
       "      <td>1</td>\n",
       "      <td>False</td>\n",
       "      <td>False</td>\n",
       "      <td>True</td>\n",
       "      <td>False</td>\n",
       "      <td>False</td>\n",
       "      <td>True</td>\n",
       "      <td>False</td>\n",
       "    </tr>\n",
       "    <tr>\n",
       "      <th>15404</th>\n",
       "      <td>25.0</td>\n",
       "      <td>5.0</td>\n",
       "      <td>5.46</td>\n",
       "      <td>5.0</td>\n",
       "      <td>1</td>\n",
       "      <td>6.0</td>\n",
       "      <td>1.0</td>\n",
       "      <td>1</td>\n",
       "      <td>1</td>\n",
       "      <td>False</td>\n",
       "      <td>False</td>\n",
       "      <td>False</td>\n",
       "      <td>True</td>\n",
       "      <td>False</td>\n",
       "      <td>False</td>\n",
       "      <td>True</td>\n",
       "    </tr>\n",
       "    <tr>\n",
       "      <th>2929</th>\n",
       "      <td>23.0</td>\n",
       "      <td>3.0</td>\n",
       "      <td>7.72</td>\n",
       "      <td>3.0</td>\n",
       "      <td>0</td>\n",
       "      <td>8.0</td>\n",
       "      <td>5.0</td>\n",
       "      <td>1</td>\n",
       "      <td>1</td>\n",
       "      <td>False</td>\n",
       "      <td>False</td>\n",
       "      <td>True</td>\n",
       "      <td>False</td>\n",
       "      <td>False</td>\n",
       "      <td>False</td>\n",
       "      <td>True</td>\n",
       "    </tr>\n",
       "  </tbody>\n",
       "</table>\n",
       "</div>"
      ],
      "text/plain": [
       "        Age  Academic_Pressure  CGPA  Study_Satisfaction  \\\n",
       "16734  30.0                5.0  7.35                 2.0   \n",
       "15404  25.0                5.0  5.46                 5.0   \n",
       "2929   23.0                3.0  7.72                 3.0   \n",
       "\n",
       "       Have_you_ever_had_suicidal_thoughts_  Work_Study_Hours  \\\n",
       "16734                                     1              10.0   \n",
       "15404                                     1               6.0   \n",
       "2929                                      0               8.0   \n",
       "\n",
       "       Financial_Stress  Family_History_of_Mental_Illness  Depression  \\\n",
       "16734               1.0                                 1           1   \n",
       "15404               1.0                                 1           1   \n",
       "2929                5.0                                 1           1   \n",
       "\n",
       "       Sleep_Duration_5-6 hours  Sleep_Duration_7-8 hours  \\\n",
       "16734                     False                     False   \n",
       "15404                     False                     False   \n",
       "2929                      False                     False   \n",
       "\n",
       "       Sleep_Duration_Less than 5 hours  Sleep_Duration_More than 8 hours  \\\n",
       "16734                              True                             False   \n",
       "15404                             False                              True   \n",
       "2929                               True                             False   \n",
       "\n",
       "       Dietary_Habits_Healthy  Dietary_Habits_Moderate  \\\n",
       "16734                   False                     True   \n",
       "15404                   False                    False   \n",
       "2929                    False                    False   \n",
       "\n",
       "       Dietary_Habits_Unhealthy  \n",
       "16734                     False  \n",
       "15404                      True  \n",
       "2929                       True  "
      ]
     },
     "execution_count": 611,
     "metadata": {},
     "output_type": "execute_result"
    }
   ],
   "source": [
    "data.sample(3)"
   ]
  },
  {
   "cell_type": "code",
   "execution_count": 612,
   "metadata": {},
   "outputs": [],
   "source": [
    "# split data into X and y\n",
    "X=df.drop('Depression', axis=1)\n",
    "y=df['Depression']"
   ]
  },
  {
   "cell_type": "code",
   "execution_count": 613,
   "metadata": {},
   "outputs": [
    {
     "data": {
      "text/plain": [
       "Age                                     float64\n",
       "Academic_Pressure                       float64\n",
       "CGPA                                    float64\n",
       "Study_Satisfaction                      float64\n",
       "Have_you_ever_had_suicidal_thoughts_      int64\n",
       "Work_Study_Hours                        float64\n",
       "Financial_Stress                        float64\n",
       "Family_History_of_Mental_Illness          int64\n",
       "Depression                                int64\n",
       "Sleep_Duration_5-6 hours                   bool\n",
       "Sleep_Duration_7-8 hours                   bool\n",
       "Sleep_Duration_Less than 5 hours           bool\n",
       "Sleep_Duration_More than 8 hours           bool\n",
       "Dietary_Habits_Healthy                     bool\n",
       "Dietary_Habits_Moderate                    bool\n",
       "Dietary_Habits_Unhealthy                   bool\n",
       "dtype: object"
      ]
     },
     "execution_count": 613,
     "metadata": {},
     "output_type": "execute_result"
    }
   ],
   "source": [
    "data.dtypes"
   ]
  },
  {
   "cell_type": "code",
   "execution_count": 614,
   "metadata": {},
   "outputs": [],
   "source": [
    "# split data into train and test\n",
    "from sklearn.model_selection import train_test_split\n",
    "X_train, X_test, y_train, y_test = train_test_split(X, y, test_size=0.3, random_state=42)\n"
   ]
  },
  {
   "cell_type": "code",
   "execution_count": 615,
   "metadata": {},
   "outputs": [
    {
     "name": "stdout",
     "output_type": "stream",
     "text": [
      "0.8378378378378378\n",
      "Confusion Matrix:\n",
      " [[2716  720]\n",
      " [ 630 4259]]\n",
      "Classification Report:\n",
      "               precision    recall  f1-score   support\n",
      "\n",
      "           0       0.81      0.79      0.80      3436\n",
      "           1       0.86      0.87      0.86      4889\n",
      "\n",
      "    accuracy                           0.84      8325\n",
      "   macro avg       0.83      0.83      0.83      8325\n",
      "weighted avg       0.84      0.84      0.84      8325\n",
      "\n"
     ]
    }
   ],
   "source": [
    "# gbc without hyperparameter tuning\n",
    "from sklearn.ensemble import GradientBoostingClassifier\n",
    "from sklearn import ensemble\n",
    "\n",
    "gbc=ensemble.GradientBoostingClassifier(\n",
    "    n_estimators=1000,\n",
    "    learning_rate=0.1,\n",
    "    max_depth=3,\n",
    "    min_samples_split=2,\n",
    "    loss='exponential'\n",
    ")\n",
    "gbc.fit(X_train, y_train)\n",
    "\n",
    "# to check the model accuracy\n",
    "from sklearn.metrics import accuracy_score\n",
    "y_pred_gbc = gbc.predict(X_test)\n",
    "accuracy_score(y_test, y_pred_gbc)\n",
    "print(accuracy_score(y_test, y_pred_gbc))\n",
    "\n",
    "\n",
    "# confusion matrix of the gbc model\n",
    "from sklearn.metrics import confusion_matrix\n",
    "conf_mat_gbc = confusion_matrix(y_test, y_pred_gbc)\n",
    "print('Confusion Matrix:\\n', conf_mat_gbc)\n",
    "\n",
    "# classification report of the gbc model\n",
    "from sklearn.metrics import classification_report\n",
    "class_rep_gbc = classification_report(y_test, y_pred_gbc)\n",
    "print('Classification Report:\\n', class_rep_gbc)"
   ]
  },
  {
   "cell_type": "code",
   "execution_count": 616,
   "metadata": {},
   "outputs": [
    {
     "name": "stdout",
     "output_type": "stream",
     "text": [
      "R2 Score: 0.5213752376346785\n",
      "Mean Squared Error: 0.1160111873685453\n",
      "Mean Absolute Error: 0.2310883097261735\n",
      "Degree_Class_12-0.01%\n",
      "City_Thane-0.01%\n",
      "City_Pune-0.01%\n",
      "City_Surat-0.01%\n",
      "Dietary_Habits_Moderate-0.01%\n",
      "City_Visakhapatnam-0.02%\n",
      "City_Faridabad-0.02%\n",
      "City_Kanpur-0.02%\n",
      "City_Ludhiana-0.02%\n",
      "City_Delhi-0.02%\n",
      "City_Bangalore-0.02%\n",
      "City_Bhopal-0.02%\n",
      "Degree_Bachelor-0.02%\n",
      "City_Patna-0.03%\n",
      "City_Kolkata-0.03%\n",
      "City_Agra-0.03%\n",
      "City_Kalyan-0.03%\n",
      "Degree_Master-0.04%\n",
      "City_Mumbai-0.04%\n",
      "City_Ghaziabad-0.04%\n",
      "City_Nagpur-0.05%\n",
      "City_Vasai-Virar-0.05%\n",
      "City_Vadodara-0.05%\n",
      "Sleep_Duration_7-8_hours-0.05%\n",
      "City_Indore-0.05%\n",
      "City_Srinagar-0.05%\n",
      "City_Varanasi-0.05%\n",
      "City_Hyderabad-0.06%\n",
      "City_Chennai-0.06%\n",
      "City_Lucknow-0.06%\n",
      "Gender-0.07%\n",
      "City_Nashik-0.07%\n",
      "Sleep_Duration_5-6_hours-0.07%\n",
      "City_Meerut-0.08%\n",
      "City_Ahmedabad-0.08%\n",
      "City_Rajkot-0.12%\n",
      "City_Jaipur-0.14%\n",
      "Sleep_Duration_More_than_8_hours-0.15%\n",
      "Family_History_of_Mental_Illness-0.23%\n",
      "Sleep_Duration_Less_than_5_hours-0.38%\n",
      "Dietary_Habits_Healthy-1.01%\n",
      "Study_Satisfaction-1.40%\n",
      "Dietary_Habits_Unhealthy-1.41%\n",
      "CGPA-1.47%\n",
      "Work_Study_Hours-2.55%\n",
      "Age-4.43%\n",
      "Financial_Stress-9.73%\n",
      "Academic_Pressure-23.89%\n",
      "Have_you_ever_had_suicidal_thoughts_-51.74%\n"
     ]
    }
   ],
   "source": [
    "# gbr with hyperparameter tuning\n",
    "\n",
    "from sklearn.ensemble import GradientBoostingRegressor\n",
    "from sklearn import ensemble\n",
    "\n",
    "gbr=ensemble.GradientBoostingRegressor(\n",
    "    n_estimators=1000,\n",
    "    learning_rate=0.1,\n",
    "    max_depth=3,\n",
    "    min_samples_split=2,\n",
    "    loss='huber'\n",
    ")\n",
    "gbr.fit(X_train, y_train)\n",
    "\n",
    "\n",
    "# to check the r2 scoreof the model\n",
    "from sklearn.metrics import r2_score\n",
    "y_pred_GB=gbr.predict(X_test)\n",
    "r2_score(y_test, y_pred_GB)\n",
    "print('R2 Score:', r2_score(y_test, y_pred_GB))\n",
    "\n",
    "# to check the mean squared error of the model\n",
    "from sklearn.metrics import mean_squared_error\n",
    "mean_squared_error(y_test, y_pred_GB)\n",
    "print('Mean Squared Error:', mean_squared_error(y_test, y_pred_GB))\n",
    "\n",
    "# to check the mean absolute error of the model\n",
    "from sklearn.metrics import mean_absolute_error\n",
    "mean_absolute_error(y_test, y_pred_GB)\n",
    "print('Mean Absolute Error:', mean_absolute_error(y_test, y_pred_GB))\n",
    "\n",
    "# feature_importance\n",
    "\n",
    "feature_columns=np.array(X.columns)\n",
    "\n",
    "importance=gbr.feature_importances_\n",
    "\n",
    "index_by_importance=importance.argsort()\n",
    "\n",
    "for index in index_by_importance:\n",
    "    print(\"{}-{:.2f}%\".format(feature_columns[index],importance[index]*100.0))\n",
    "\n",
    "\n"
   ]
  },
  {
   "cell_type": "code",
   "execution_count": 617,
   "metadata": {},
   "outputs": [
    {
     "name": "stdout",
     "output_type": "stream",
     "text": [
      "Accuracy: 0.8387987987987988\n",
      "              precision    recall  f1-score   support\n",
      "\n",
      "           0       0.82      0.79      0.80      3436\n",
      "           1       0.85      0.88      0.86      4889\n",
      "\n",
      "    accuracy                           0.84      8325\n",
      "   macro avg       0.84      0.83      0.83      8325\n",
      "weighted avg       0.84      0.84      0.84      8325\n",
      "\n"
     ]
    }
   ],
   "source": [
    "# logistic regression\n",
    "# imports\n",
    "from sklearn.linear_model import LogisticRegression\n",
    "from sklearn.metrics import accuracy_score\n",
    "from sklearn.metrics import classification_report\n",
    "\n",
    "# train data\n",
    "LR=LogisticRegression(solver='lbfgs', max_iter=1000)\n",
    "LR.fit(X_train, y_train)\n",
    "# accuracy score\n",
    "y_pred_LR=LR.predict(X_test)\n",
    "accuracy=accuracy_score(y_test, y_pred_LR)\n",
    "print('Accuracy:', accuracy)\n",
    "\n",
    "# classification report\n",
    "print(classification_report(y_test, y_pred_LR))"
   ]
  },
  {
   "cell_type": "code",
   "execution_count": 618,
   "metadata": {},
   "outputs": [
    {
     "name": "stdout",
     "output_type": "stream",
     "text": [
      "Accuracy: 0.8387987987987988\n",
      "              precision    recall  f1-score   support\n",
      "\n",
      "           0       0.82      0.78      0.80      3436\n",
      "           1       0.85      0.88      0.87      4889\n",
      "\n",
      "    accuracy                           0.84      8325\n",
      "   macro avg       0.84      0.83      0.83      8325\n",
      "weighted avg       0.84      0.84      0.84      8325\n",
      "\n"
     ]
    }
   ],
   "source": [
    "# linear discriminant analysis\n",
    "\n",
    "# imports\n",
    "from sklearn.discriminant_analysis import LinearDiscriminantAnalysis\n",
    "from sklearn.metrics import accuracy_score\n",
    "\n",
    "# train model\n",
    "LDA=LinearDiscriminantAnalysis()\n",
    "LDA.fit(X_train, y_train)\n",
    "\n",
    "# accuracy\n",
    "y_pred_LDA=LDA.predict(X_test)\n",
    "accuracy=accuracy_score(y_test, y_pred_LDA)\n",
    "print('Accuracy:', accuracy)\n",
    "\n",
    "# classification report\n",
    "print(classification_report(y_test, y_pred_LDA))"
   ]
  },
  {
   "cell_type": "code",
   "execution_count": 619,
   "metadata": {},
   "outputs": [
    {
     "name": "stdout",
     "output_type": "stream",
     "text": [
      "Accuracy: 0.7941141141141141\n",
      "              precision    recall  f1-score   support\n",
      "\n",
      "           0       0.78      0.71      0.74      3436\n",
      "           1       0.81      0.86      0.83      4889\n",
      "\n",
      "    accuracy                           0.79      8325\n",
      "   macro avg       0.79      0.78      0.78      8325\n",
      "weighted avg       0.79      0.79      0.79      8325\n",
      "\n"
     ]
    }
   ],
   "source": [
    "# k neighbors classifier\n",
    "\n",
    "# imports\n",
    "from sklearn.neighbors import KNeighborsClassifier\n",
    "from sklearn.metrics import accuracy_score\n",
    "\n",
    "# train data\n",
    "KNN=KNeighborsClassifier()\n",
    "KNN.fit(X_train, y_train)\n",
    "\n",
    "# accuracy\n",
    "y_pred_KNN=KNN.predict(X_test)\n",
    "accuracy=accuracy_score(y_test, y_pred_KNN)\n",
    "print('Accuracy:', accuracy)\n",
    "\n",
    "# classification report\n",
    "print(classification_report(y_test, y_pred_KNN))"
   ]
  },
  {
   "cell_type": "code",
   "execution_count": 620,
   "metadata": {},
   "outputs": [
    {
     "name": "stdout",
     "output_type": "stream",
     "text": [
      "Accuracy: 0.7700900900900901\n",
      "              precision    recall  f1-score   support\n",
      "\n",
      "           0       0.72      0.73      0.72      3436\n",
      "           1       0.81      0.80      0.80      4889\n",
      "\n",
      "    accuracy                           0.77      8325\n",
      "   macro avg       0.76      0.76      0.76      8325\n",
      "weighted avg       0.77      0.77      0.77      8325\n",
      "\n",
      "City_Nashik-0.22%\n",
      "City_Bangalore-0.29%\n",
      "City_Faridabad-0.30%\n",
      "City_Varanasi-0.35%\n",
      "Degree_Class_12-0.36%\n",
      "City_Mumbai-0.37%\n",
      "City_Vadodara-0.38%\n",
      "City_Ghaziabad-0.39%\n",
      "City_Delhi-0.39%\n",
      "City_Meerut-0.40%\n",
      "City_Nagpur-0.40%\n",
      "City_Kolkata-0.42%\n",
      "City_Chennai-0.44%\n",
      "City_Rajkot-0.44%\n",
      "City_Indore-0.46%\n",
      "City_Patna-0.47%\n",
      "City_Kanpur-0.48%\n",
      "City_Pune-0.49%\n",
      "City_Ahmedabad-0.53%\n",
      "City_Ludhiana-0.54%\n",
      "City_Vasai-Virar-0.54%\n",
      "City_Visakhapatnam-0.55%\n",
      "City_Bhopal-0.56%\n",
      "City_Thane-0.57%\n",
      "City_Hyderabad-0.58%\n",
      "Dietary_Habits_Moderate-0.59%\n",
      "City_Lucknow-0.60%\n",
      "City_Kalyan-0.60%\n",
      "City_Jaipur-0.62%\n",
      "City_Surat-0.62%\n",
      "City_Agra-0.63%\n",
      "City_Srinagar-0.69%\n",
      "Degree_Master-0.80%\n",
      "Degree_Bachelor-0.84%\n",
      "Sleep_Duration_More_than_8_hours-0.85%\n",
      "Sleep_Duration_5-6_hours-0.93%\n",
      "Family_History_of_Mental_Illness-0.99%\n",
      "Dietary_Habits_Healthy-1.02%\n",
      "Sleep_Duration_7-8_hours-1.07%\n",
      "Sleep_Duration_Less_than_5_hours-1.08%\n",
      "Gender-1.10%\n",
      "Dietary_Habits_Unhealthy-1.20%\n",
      "Study_Satisfaction-3.43%\n",
      "Work_Study_Hours-5.70%\n",
      "Age-6.47%\n",
      "Financial_Stress-6.65%\n",
      "CGPA-8.52%\n",
      "Academic_Pressure-13.88%\n",
      "Have_you_ever_had_suicidal_thoughts_-30.22%\n"
     ]
    }
   ],
   "source": [
    "# decision tree classifier\n",
    "from sklearn.tree import DecisionTreeClassifier\n",
    "from sklearn.metrics import accuracy_score\n",
    "\n",
    "# train data\n",
    "DTC=DecisionTreeClassifier()\n",
    "DTC.fit(X_train, y_train)\n",
    "\n",
    "# accuracy\n",
    "y_pred_DTC=DTC.predict(X_test)\n",
    "accuracy=accuracy_score(y_test, y_pred_DTC)\n",
    "print('Accuracy:', accuracy)\n",
    "\n",
    "# classification report\n",
    "print(classification_report(y_test, y_pred_DTC))\n",
    "\n",
    "# feature importance for dtc\n",
    "\n",
    "feature_columns=np.array(X.columns)\n",
    "\n",
    "dtc_importance=DTC.feature_importances_\n",
    "\n",
    "index_by_importance=dtc_importance.argsort()\n",
    "\n",
    "for index in index_by_importance:\n",
    "    print(\"{}-{:.2f}%\".format(feature_columns[index],dtc_importance[index]*100.0))\n"
   ]
  },
  {
   "cell_type": "code",
   "execution_count": 621,
   "metadata": {},
   "outputs": [
    {
     "name": "stdout",
     "output_type": "stream",
     "text": [
      "Accuracy: 0.7577177177177177\n",
      "              precision    recall  f1-score   support\n",
      "\n",
      "           0       0.69      0.75      0.72      3436\n",
      "           1       0.81      0.77      0.79      4889\n",
      "\n",
      "    accuracy                           0.76      8325\n",
      "   macro avg       0.75      0.76      0.75      8325\n",
      "weighted avg       0.76      0.76      0.76      8325\n",
      "\n"
     ]
    }
   ],
   "source": [
    "# guassian naive bayes\n",
    "from sklearn.naive_bayes import GaussianNB\n",
    "from sklearn.metrics import accuracy_score\n",
    "\n",
    "# train data\n",
    "GNB=GaussianNB()\n",
    "GNB.fit(X_train, y_train)\n",
    "\n",
    "\n",
    "# accuracy\n",
    "y_pred_GNB=GNB.predict(X_test)\n",
    "accuracy=accuracy_score(y_test, y_pred_GNB)\n",
    "print('Accuracy:', accuracy)\n",
    "\n",
    "# classification report\n",
    "print(classification_report(y_test, y_pred_GNB))"
   ]
  },
  {
   "cell_type": "code",
   "execution_count": 622,
   "metadata": {},
   "outputs": [
    {
     "name": "stdout",
     "output_type": "stream",
     "text": [
      "Accuracy: 0.8372372372372372\n",
      "              precision    recall  f1-score   support\n",
      "\n",
      "           0       0.82      0.78      0.80      3436\n",
      "           1       0.85      0.88      0.86      4889\n",
      "\n",
      "    accuracy                           0.84      8325\n",
      "   macro avg       0.83      0.83      0.83      8325\n",
      "weighted avg       0.84      0.84      0.84      8325\n",
      "\n"
     ]
    }
   ],
   "source": [
    "# svc\n",
    "\n",
    "# imports\n",
    "from sklearn.svm import SVC\n",
    "from sklearn.metrics import accuracy_score\n",
    "\n",
    "# train data\n",
    "SVM=SVC(gamma='auto')\n",
    "SVM.fit(X_train, y_train)\n",
    "\n",
    "# accuracy\n",
    "y_pred_SVC=SVM.predict(X_test)\n",
    "accuracy=accuracy_score(y_test, y_pred_SVC)\n",
    "print('Accuracy:', accuracy)\n",
    "\n",
    "# classification report\n",
    "print(classification_report(y_test, y_pred_SVC))"
   ]
  },
  {
   "cell_type": "code",
   "execution_count": 623,
   "metadata": {},
   "outputs": [
    {
     "data": {
      "text/plain": [
       "['model/LinearRegressionModel.pkl']"
      ]
     },
     "execution_count": 623,
     "metadata": {},
     "output_type": "execute_result"
    }
   ],
   "source": [
    "joblib.dump(LR, 'model/LinearRegressionModel.pkl')"
   ]
  },
  {
   "cell_type": "code",
   "execution_count": 624,
   "metadata": {},
   "outputs": [],
   "source": [
    "# joblib.dump(LDA,'model/LDAmodel.pkl')"
   ]
  },
  {
   "cell_type": "code",
   "execution_count": 625,
   "metadata": {},
   "outputs": [],
   "source": [
    "# joblib.dump(gbr,'model/gbrModel.pkl')"
   ]
  },
  {
   "cell_type": "code",
   "execution_count": 626,
   "metadata": {},
   "outputs": [],
   "source": [
    "# joblib.dump(SVM,'model/SVMmodel.pkl')"
   ]
  }
 ],
 "metadata": {
  "kernelspec": {
   "display_name": "Python 3",
   "language": "python",
   "name": "python3"
  },
  "language_info": {
   "codemirror_mode": {
    "name": "ipython",
    "version": 3
   },
   "file_extension": ".py",
   "mimetype": "text/x-python",
   "name": "python",
   "nbconvert_exporter": "python",
   "pygments_lexer": "ipython3",
   "version": "3.11.9"
  }
 },
 "nbformat": 4,
 "nbformat_minor": 2
}
