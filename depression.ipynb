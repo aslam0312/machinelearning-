{
 "cells": [
  {
   "cell_type": "code",
   "execution_count": 304,
   "metadata": {},
   "outputs": [],
   "source": [
    "import pandas as pd\n",
    "import matplotlib.pyplot as plt\n",
    "import seaborn as sns\n",
    "import numpy as np"
   ]
  },
  {
   "cell_type": "code",
   "execution_count": 305,
   "metadata": {},
   "outputs": [],
   "source": [
    "df=df = pd.read_csv('StudentDepressionDataset.csv')"
   ]
  },
  {
   "cell_type": "code",
   "execution_count": 306,
   "metadata": {},
   "outputs": [
    {
     "data": {
      "text/html": [
       "<div>\n",
       "<style scoped>\n",
       "    .dataframe tbody tr th:only-of-type {\n",
       "        vertical-align: middle;\n",
       "    }\n",
       "\n",
       "    .dataframe tbody tr th {\n",
       "        vertical-align: top;\n",
       "    }\n",
       "\n",
       "    .dataframe thead th {\n",
       "        text-align: right;\n",
       "    }\n",
       "</style>\n",
       "<table border=\"1\" class=\"dataframe\">\n",
       "  <thead>\n",
       "    <tr style=\"text-align: right;\">\n",
       "      <th></th>\n",
       "      <th>id</th>\n",
       "      <th>Gender</th>\n",
       "      <th>Age</th>\n",
       "      <th>City</th>\n",
       "      <th>Profession</th>\n",
       "      <th>Academic Pressure</th>\n",
       "      <th>Work Pressure</th>\n",
       "      <th>CGPA</th>\n",
       "      <th>Study Satisfaction</th>\n",
       "      <th>Job Satisfaction</th>\n",
       "      <th>Sleep Duration</th>\n",
       "      <th>Dietary Habits</th>\n",
       "      <th>Degree</th>\n",
       "      <th>Have you ever had suicidal thoughts ?</th>\n",
       "      <th>Work/Study Hours</th>\n",
       "      <th>Financial Stress</th>\n",
       "      <th>Family History of Mental Illness</th>\n",
       "      <th>Depression</th>\n",
       "    </tr>\n",
       "  </thead>\n",
       "  <tbody>\n",
       "    <tr>\n",
       "      <th>24368</th>\n",
       "      <td>122702</td>\n",
       "      <td>Female</td>\n",
       "      <td>19.0</td>\n",
       "      <td>Bangalore</td>\n",
       "      <td>Student</td>\n",
       "      <td>1.0</td>\n",
       "      <td>0.0</td>\n",
       "      <td>7.25</td>\n",
       "      <td>4.0</td>\n",
       "      <td>0.0</td>\n",
       "      <td>More than 8 hours</td>\n",
       "      <td>Unhealthy</td>\n",
       "      <td>Class 12</td>\n",
       "      <td>Yes</td>\n",
       "      <td>1.0</td>\n",
       "      <td>1.0</td>\n",
       "      <td>No</td>\n",
       "      <td>0</td>\n",
       "    </tr>\n",
       "    <tr>\n",
       "      <th>20565</th>\n",
       "      <td>104107</td>\n",
       "      <td>Male</td>\n",
       "      <td>19.0</td>\n",
       "      <td>Mumbai</td>\n",
       "      <td>Student</td>\n",
       "      <td>3.0</td>\n",
       "      <td>0.0</td>\n",
       "      <td>9.56</td>\n",
       "      <td>5.0</td>\n",
       "      <td>0.0</td>\n",
       "      <td>Less than 5 hours</td>\n",
       "      <td>Healthy</td>\n",
       "      <td>Class 12</td>\n",
       "      <td>No</td>\n",
       "      <td>8.0</td>\n",
       "      <td>4.0</td>\n",
       "      <td>Yes</td>\n",
       "      <td>1</td>\n",
       "    </tr>\n",
       "    <tr>\n",
       "      <th>7828</th>\n",
       "      <td>39311</td>\n",
       "      <td>Male</td>\n",
       "      <td>25.0</td>\n",
       "      <td>Kolkata</td>\n",
       "      <td>Student</td>\n",
       "      <td>4.0</td>\n",
       "      <td>0.0</td>\n",
       "      <td>7.48</td>\n",
       "      <td>3.0</td>\n",
       "      <td>0.0</td>\n",
       "      <td>More than 8 hours</td>\n",
       "      <td>Unhealthy</td>\n",
       "      <td>B.Com</td>\n",
       "      <td>No</td>\n",
       "      <td>6.0</td>\n",
       "      <td>2.0</td>\n",
       "      <td>No</td>\n",
       "      <td>1</td>\n",
       "    </tr>\n",
       "  </tbody>\n",
       "</table>\n",
       "</div>"
      ],
      "text/plain": [
       "           id  Gender   Age       City Profession  Academic Pressure  \\\n",
       "24368  122702  Female  19.0  Bangalore    Student                1.0   \n",
       "20565  104107    Male  19.0     Mumbai    Student                3.0   \n",
       "7828    39311    Male  25.0    Kolkata    Student                4.0   \n",
       "\n",
       "       Work Pressure  CGPA  Study Satisfaction  Job Satisfaction  \\\n",
       "24368            0.0  7.25                 4.0               0.0   \n",
       "20565            0.0  9.56                 5.0               0.0   \n",
       "7828             0.0  7.48                 3.0               0.0   \n",
       "\n",
       "          Sleep Duration Dietary Habits    Degree  \\\n",
       "24368  More than 8 hours      Unhealthy  Class 12   \n",
       "20565  Less than 5 hours        Healthy  Class 12   \n",
       "7828   More than 8 hours      Unhealthy     B.Com   \n",
       "\n",
       "      Have you ever had suicidal thoughts ?  Work/Study Hours  \\\n",
       "24368                                   Yes               1.0   \n",
       "20565                                    No               8.0   \n",
       "7828                                     No               6.0   \n",
       "\n",
       "       Financial Stress Family History of Mental Illness  Depression  \n",
       "24368               1.0                               No           0  \n",
       "20565               4.0                              Yes           1  \n",
       "7828                2.0                               No           1  "
      ]
     },
     "execution_count": 306,
     "metadata": {},
     "output_type": "execute_result"
    }
   ],
   "source": [
    "df.sample(3)"
   ]
  },
  {
   "cell_type": "code",
   "execution_count": 307,
   "metadata": {},
   "outputs": [
    {
     "data": {
      "text/plain": [
       "Index(['id', 'Gender', 'Age', 'City', 'Profession', 'Academic_Pressure',\n",
       "       'Work_Pressure', 'CGPA', 'Study_Satisfaction', 'Job_Satisfaction',\n",
       "       'Sleep_Duration', 'Dietary_Habits', 'Degree',\n",
       "       'Have_you_ever_had_suicidal_thoughts_', 'Work/Study_Hours',\n",
       "       'Financial_Stress', 'Family_History_of_Mental_Illness', 'Depression'],\n",
       "      dtype='object')"
      ]
     },
     "execution_count": 307,
     "metadata": {},
     "output_type": "execute_result"
    }
   ],
   "source": [
    "# CHANGING THE NAME OF THE COLUMNS WITH ? SUCH AS 'Have_you_ever_had_suicidal_thoughts' TO 'Have_you_ever_had_suicidal_thoughts'\n",
    "df.columns = df.columns.str.replace('?', '')\n",
    "# CHANGING THE NAME OF THE COLUMNS WITH GAP WITHOUT SPACE SUCH AS 'Financial Stress' TO 'Financial_Stress', 'Study Satisfaction' TO 'Study_Satisfaction'\n",
    "df.columns = df.columns.str.replace(' ', '_')\n",
    "\n",
    "df.columns"
   ]
  },
  {
   "cell_type": "code",
   "execution_count": 308,
   "metadata": {},
   "outputs": [
    {
     "data": {
      "text/plain": [
       "(27901, 17)"
      ]
     },
     "execution_count": 308,
     "metadata": {},
     "output_type": "execute_result"
    }
   ],
   "source": [
    "# remove id column as it is not needed\n",
    "df.drop('id', axis=1, inplace=True)\n",
    "df.shape\n",
    "\n"
   ]
  },
  {
   "cell_type": "code",
   "execution_count": 309,
   "metadata": {},
   "outputs": [
    {
     "data": {
      "text/plain": [
       "Gender                                    2\n",
       "Age                                      34\n",
       "City                                     52\n",
       "Profession                               14\n",
       "Academic_Pressure                         6\n",
       "Work_Pressure                             3\n",
       "CGPA                                    332\n",
       "Study_Satisfaction                        6\n",
       "Job_Satisfaction                          5\n",
       "Sleep_Duration                            5\n",
       "Dietary_Habits                            4\n",
       "Degree                                   28\n",
       "Have_you_ever_had_suicidal_thoughts_      2\n",
       "Work/Study_Hours                         13\n",
       "Financial_Stress                          5\n",
       "Family_History_of_Mental_Illness          2\n",
       "Depression                                2\n",
       "dtype: int64"
      ]
     },
     "execution_count": 309,
     "metadata": {},
     "output_type": "execute_result"
    }
   ],
   "source": [
    "df.nunique()"
   ]
  },
  {
   "cell_type": "code",
   "execution_count": 310,
   "metadata": {},
   "outputs": [
    {
     "name": "stdout",
     "output_type": "stream",
     "text": [
      "Number of Missing Values in Each Column:\n",
      " Gender                                  0\n",
      "Age                                     0\n",
      "City                                    0\n",
      "Profession                              0\n",
      "Academic_Pressure                       0\n",
      "Work_Pressure                           0\n",
      "CGPA                                    0\n",
      "Study_Satisfaction                      0\n",
      "Job_Satisfaction                        0\n",
      "Sleep_Duration                          0\n",
      "Dietary_Habits                          0\n",
      "Degree                                  0\n",
      "Have_you_ever_had_suicidal_thoughts_    0\n",
      "Work/Study_Hours                        0\n",
      "Financial_Stress                        3\n",
      "Family_History_of_Mental_Illness        0\n",
      "Depression                              0\n",
      "dtype: int64\n"
     ]
    }
   ],
   "source": [
    "missing_values_count = df.isnull().sum()\n",
    "print(\"Number of Missing Values in Each Column:\\n\", missing_values_count)"
   ]
  },
  {
   "cell_type": "code",
   "execution_count": 311,
   "metadata": {},
   "outputs": [
    {
     "name": "stderr",
     "output_type": "stream",
     "text": [
      "C:\\Users\\aslam\\AppData\\Local\\Temp\\ipykernel_39420\\3794617652.py:2: FutureWarning: A value is trying to be set on a copy of a DataFrame or Series through chained assignment using an inplace method.\n",
      "The behavior will change in pandas 3.0. This inplace method will never work because the intermediate object on which we are setting values always behaves as a copy.\n",
      "\n",
      "For example, when doing 'df[col].method(value, inplace=True)', try using 'df.method({col: value}, inplace=True)' or df[col] = df[col].method(value) instead, to perform the operation inplace on the original object.\n",
      "\n",
      "\n",
      "  df['Financial_Stress'].fillna(df['Financial_Stress'].mean(), inplace=True)\n"
     ]
    },
    {
     "data": {
      "text/plain": [
       "Gender                                  0\n",
       "Age                                     0\n",
       "City                                    0\n",
       "Profession                              0\n",
       "Academic_Pressure                       0\n",
       "Work_Pressure                           0\n",
       "CGPA                                    0\n",
       "Study_Satisfaction                      0\n",
       "Job_Satisfaction                        0\n",
       "Sleep_Duration                          0\n",
       "Dietary_Habits                          0\n",
       "Degree                                  0\n",
       "Have_you_ever_had_suicidal_thoughts_    0\n",
       "Work/Study_Hours                        0\n",
       "Financial_Stress                        0\n",
       "Family_History_of_Mental_Illness        0\n",
       "Depression                              0\n",
       "dtype: int64"
      ]
     },
     "execution_count": 311,
     "metadata": {},
     "output_type": "execute_result"
    }
   ],
   "source": [
    "# make missing values of financial stress to be the mean of the column\n",
    "df['Financial_Stress'].fillna(df['Financial_Stress'].mean(), inplace=True)\n",
    "# ensure that there are no missing values\n",
    "df.isnull().sum()\n"
   ]
  },
  {
   "cell_type": "code",
   "execution_count": 312,
   "metadata": {},
   "outputs": [
    {
     "data": {
      "text/plain": [
       "(27901, 17)"
      ]
     },
     "execution_count": 312,
     "metadata": {},
     "output_type": "execute_result"
    }
   ],
   "source": [
    "df.shape"
   ]
  },
  {
   "cell_type": "code",
   "execution_count": 313,
   "metadata": {},
   "outputs": [
    {
     "data": {
      "text/plain": [
       "Financial_Stress\n",
       "5.000000    6715\n",
       "4.000000    5775\n",
       "3.000000    5226\n",
       "1.000000    5121\n",
       "2.000000    5061\n",
       "3.139867       3\n",
       "Name: count, dtype: int64"
      ]
     },
     "execution_count": 313,
     "metadata": {},
     "output_type": "execute_result"
    }
   ],
   "source": [
    "# checking unique values in financial stress column\n",
    "df['Financial_Stress'].value_counts()"
   ]
  },
  {
   "cell_type": "code",
   "execution_count": 314,
   "metadata": {},
   "outputs": [],
   "source": [
    "# removing rows with values of age appearing less than or equal to 4 times as they are not enough to make a good prediction\n",
    "df = df[df['Financial_Stress'].map(df['Financial_Stress'].value_counts()) >=4]"
   ]
  },
  {
   "cell_type": "code",
   "execution_count": 315,
   "metadata": {},
   "outputs": [
    {
     "data": {
      "text/html": [
       "<div>\n",
       "<style scoped>\n",
       "    .dataframe tbody tr th:only-of-type {\n",
       "        vertical-align: middle;\n",
       "    }\n",
       "\n",
       "    .dataframe tbody tr th {\n",
       "        vertical-align: top;\n",
       "    }\n",
       "\n",
       "    .dataframe thead th {\n",
       "        text-align: right;\n",
       "    }\n",
       "</style>\n",
       "<table border=\"1\" class=\"dataframe\">\n",
       "  <thead>\n",
       "    <tr style=\"text-align: right;\">\n",
       "      <th></th>\n",
       "      <th>Gender</th>\n",
       "      <th>Age</th>\n",
       "      <th>City</th>\n",
       "      <th>Profession</th>\n",
       "      <th>Academic_Pressure</th>\n",
       "      <th>Work_Pressure</th>\n",
       "      <th>CGPA</th>\n",
       "      <th>Study_Satisfaction</th>\n",
       "      <th>Job_Satisfaction</th>\n",
       "      <th>Sleep_Duration</th>\n",
       "      <th>Dietary_Habits</th>\n",
       "      <th>Degree</th>\n",
       "      <th>Have_you_ever_had_suicidal_thoughts_</th>\n",
       "      <th>Work/Study_Hours</th>\n",
       "      <th>Financial_Stress</th>\n",
       "      <th>Family_History_of_Mental_Illness</th>\n",
       "      <th>Depression</th>\n",
       "    </tr>\n",
       "  </thead>\n",
       "  <tbody>\n",
       "    <tr>\n",
       "      <th>7353</th>\n",
       "      <td>Male</td>\n",
       "      <td>24.0</td>\n",
       "      <td>Patna</td>\n",
       "      <td>Student</td>\n",
       "      <td>1.0</td>\n",
       "      <td>0.0</td>\n",
       "      <td>5.74</td>\n",
       "      <td>1.0</td>\n",
       "      <td>0.0</td>\n",
       "      <td>Less than 5 hours</td>\n",
       "      <td>Moderate</td>\n",
       "      <td>B.Ed</td>\n",
       "      <td>No</td>\n",
       "      <td>12.0</td>\n",
       "      <td>5.0</td>\n",
       "      <td>Yes</td>\n",
       "      <td>0</td>\n",
       "    </tr>\n",
       "    <tr>\n",
       "      <th>17744</th>\n",
       "      <td>Male</td>\n",
       "      <td>18.0</td>\n",
       "      <td>Bangalore</td>\n",
       "      <td>Student</td>\n",
       "      <td>1.0</td>\n",
       "      <td>0.0</td>\n",
       "      <td>7.85</td>\n",
       "      <td>2.0</td>\n",
       "      <td>0.0</td>\n",
       "      <td>7-8 hours</td>\n",
       "      <td>Moderate</td>\n",
       "      <td>Class 12</td>\n",
       "      <td>No</td>\n",
       "      <td>7.0</td>\n",
       "      <td>2.0</td>\n",
       "      <td>No</td>\n",
       "      <td>1</td>\n",
       "    </tr>\n",
       "    <tr>\n",
       "      <th>21084</th>\n",
       "      <td>Female</td>\n",
       "      <td>19.0</td>\n",
       "      <td>Srinagar</td>\n",
       "      <td>Student</td>\n",
       "      <td>3.0</td>\n",
       "      <td>0.0</td>\n",
       "      <td>8.04</td>\n",
       "      <td>1.0</td>\n",
       "      <td>0.0</td>\n",
       "      <td>More than 8 hours</td>\n",
       "      <td>Moderate</td>\n",
       "      <td>Class 12</td>\n",
       "      <td>No</td>\n",
       "      <td>6.0</td>\n",
       "      <td>1.0</td>\n",
       "      <td>Yes</td>\n",
       "      <td>0</td>\n",
       "    </tr>\n",
       "  </tbody>\n",
       "</table>\n",
       "</div>"
      ],
      "text/plain": [
       "       Gender   Age       City Profession  Academic_Pressure  Work_Pressure  \\\n",
       "7353     Male  24.0      Patna    Student                1.0            0.0   \n",
       "17744    Male  18.0  Bangalore    Student                1.0            0.0   \n",
       "21084  Female  19.0   Srinagar    Student                3.0            0.0   \n",
       "\n",
       "       CGPA  Study_Satisfaction  Job_Satisfaction     Sleep_Duration  \\\n",
       "7353   5.74                 1.0               0.0  Less than 5 hours   \n",
       "17744  7.85                 2.0               0.0          7-8 hours   \n",
       "21084  8.04                 1.0               0.0  More than 8 hours   \n",
       "\n",
       "      Dietary_Habits    Degree Have_you_ever_had_suicidal_thoughts_  \\\n",
       "7353        Moderate      B.Ed                                   No   \n",
       "17744       Moderate  Class 12                                   No   \n",
       "21084       Moderate  Class 12                                   No   \n",
       "\n",
       "       Work/Study_Hours  Financial_Stress Family_History_of_Mental_Illness  \\\n",
       "7353               12.0               5.0                              Yes   \n",
       "17744               7.0               2.0                               No   \n",
       "21084               6.0               1.0                              Yes   \n",
       "\n",
       "       Depression  \n",
       "7353            0  \n",
       "17744           1  \n",
       "21084           0  "
      ]
     },
     "execution_count": 315,
     "metadata": {},
     "output_type": "execute_result"
    }
   ],
   "source": [
    "df.sample(3)"
   ]
  },
  {
   "cell_type": "code",
   "execution_count": 318,
   "metadata": {},
   "outputs": [
    {
     "data": {
      "text/plain": [
       "Gender                                    2\n",
       "Age                                      34\n",
       "City                                     52\n",
       "Profession                               14\n",
       "Academic_Pressure                         6\n",
       "Work_Pressure                             3\n",
       "CGPA                                    332\n",
       "Study_Satisfaction                        6\n",
       "Job_Satisfaction                          5\n",
       "Sleep_Duration                            5\n",
       "Dietary_Habits                            4\n",
       "Degree                                   28\n",
       "Have_you_ever_had_suicidal_thoughts_      2\n",
       "Work/Study_Hours                         13\n",
       "Financial_Stress                          5\n",
       "Family_History_of_Mental_Illness          2\n",
       "Depression                                2\n",
       "dtype: int64"
      ]
     },
     "execution_count": 318,
     "metadata": {},
     "output_type": "execute_result"
    }
   ],
   "source": [
    "df.nunique()"
   ]
  },
  {
   "cell_type": "code",
   "execution_count": 317,
   "metadata": {},
   "outputs": [
    {
     "data": {
      "image/png": "[encoded data removed]",
      "text/plain": [
       "<Figure size 800x500 with 1 Axes>"
      ]
     },
     "metadata": {},
     "output_type": "display_data"
    },
    {
     "data": {
      "image/png": "[encoded data removed]",
      "text/plain": [
       "<Figure size 800x500 with 1 Axes>"
      ]
     },
     "metadata": {},
     "output_type": "display_data"
    },
    {
     "data": {
      "image/png": "[encoded data removed]",
      "text/plain": [
       "<Figure size 800x500 with 1 Axes>"
      ]
     },
     "metadata": {},
     "output_type": "display_data"
    },
    {
     "data": {
      "image/png": "[encoded data removed]",
      "text/plain": [
       "<Figure size 800x500 with 1 Axes>"
      ]
     },
     "metadata": {},
     "output_type": "display_data"
    },
    {
     "data": {
      "image/png": "[encoded data removed]",
      "text/plain": [
       "<Figure size 800x500 with 1 Axes>"
      ]
     },
     "metadata": {},
     "output_type": "display_data"
    },
    {
     "data": {
      "image/png": "[encoded data removed]",
      "text/plain": [
       "<Figure size 800x500 with 1 Axes>"
      ]
     },
     "metadata": {},
     "output_type": "display_data"
    },
    {
     "data": {
      "image/png": "[encoded data removed]",
      "text/plain": [
       "<Figure size 800x500 with 1 Axes>"
      ]
     },
     "metadata": {},
     "output_type": "display_data"
    }
   ],
   "source": [
    "def create_bar_chart(df, column_name):\n",
    "\n",
    "  value_counts = df[column_name].value_counts()\n",
    "  plt.figure(figsize=(8, 5))  # Adjust figure size as needed\n",
    "  plt.bar(value_counts.index, value_counts)\n",
    "  plt.xlabel(column_name)\n",
    "  plt.ylabel('Count')\n",
    "  plt.title(f'Distribution of {column_name}')\n",
    "  plt.xticks(rotation=45) \n",
    "  plt.show()\n",
    "\n",
    "# Example usage:\n",
    "# Assuming you have a DataFrame named 'df'\n",
    "\n",
    "create_bar_chart(df, 'Job_Satisfaction') \n",
    "create_bar_chart(df, 'Profession')\n",
    "create_bar_chart(df, 'Work_Pressure') \n",
    "create_bar_chart(df,'Sleep_Duration')\n",
    "create_bar_chart(df,'Study_Satisfaction')\n",
    "create_bar_chart(df,'Degree')\n",
    "create_bar_chart(df,'Dietary_Habits')\n"
   ]
  },
  {
   "cell_type": "code",
   "execution_count": 274,
   "metadata": {},
   "outputs": [],
   "source": [
    "# while evaluating the df.nununique() and visuals \n",
    "# job satisfaction is mostly 0, so we can drop it, as it will not be useful\n",
    "# profession is mostly student, so we can drop it, as it will not be useful\n",
    "# work pressure is mostly 0, so we can drop it, as it will not be useful\n",
    "df.drop(['Job_Satisfaction', 'Profession','Work_Pressure'], axis=1, inplace=True)\n"
   ]
  },
  {
   "cell_type": "code",
   "execution_count": 276,
   "metadata": {},
   "outputs": [
    {
     "data": {
      "text/plain": [
       "(27823, 14)"
      ]
     },
     "execution_count": 276,
     "metadata": {},
     "output_type": "execute_result"
    }
   ],
   "source": [
    "# from nununique and visual of barchart \n",
    "#  Remove Rows with 'Others' in Sleep Duration, Dietary Habits, Degree as they appear to less times\n",
    "#  reminder better to do a visual for the others\n",
    "df = df[~df['Sleep_Duration'].str.contains('Others', na=False)]\n",
    "df = df[~df['Dietary_Habits'].str.contains('Others', na=False)]\n",
    "df = df[~df['Degree'].str.contains('Others', na=False)]\n",
    "\n",
    "#  Remove Rows with Study Satisfaction Value Equal to 0\n",
    "df = df[df['Study_Satisfaction'] != 0]\n",
    "\n",
    "# check the shape of the data after cleaning\n",
    "df.shape\n"
   ]
  },
  {
   "cell_type": "code",
   "execution_count": 277,
   "metadata": {},
   "outputs": [
    {
     "data": {
      "text/plain": [
       "Gender                                    2\n",
       "Age                                      34\n",
       "City                                     52\n",
       "Academic_Pressure                         6\n",
       "CGPA                                    332\n",
       "Study_Satisfaction                        5\n",
       "Sleep_Duration                            4\n",
       "Dietary_Habits                            3\n",
       "Degree                                   27\n",
       "Have_you_ever_had_suicidal_thoughts_      2\n",
       "Work/Study_Hours                         13\n",
       "Financial_Stress                          5\n",
       "Family_History_of_Mental_Illness          2\n",
       "Depression                                2\n",
       "dtype: int64"
      ]
     },
     "execution_count": 277,
     "metadata": {},
     "output_type": "execute_result"
    }
   ],
   "source": [
    "df.nunique()"
   ]
  },
  {
   "cell_type": "code",
   "execution_count": 278,
   "metadata": {},
   "outputs": [
    {
     "data": {
      "text/plain": [
       "Age\n",
       "24.0    2254\n",
       "20.0    2230\n",
       "28.0    2126\n",
       "29.0    1946\n",
       "33.0    1890\n",
       "25.0    1781\n",
       "21.0    1724\n",
       "23.0    1638\n",
       "18.0    1581\n",
       "19.0    1559\n",
       "34.0    1464\n",
       "27.0    1457\n",
       "31.0    1423\n",
       "32.0    1255\n",
       "22.0    1157\n",
       "26.0    1152\n",
       "30.0    1138\n",
       "35.0      10\n",
       "38.0       7\n",
       "36.0       7\n",
       "42.0       4\n",
       "39.0       3\n",
       "48.0       3\n",
       "46.0       2\n",
       "43.0       2\n",
       "37.0       2\n",
       "44.0       1\n",
       "51.0       1\n",
       "49.0       1\n",
       "58.0       1\n",
       "54.0       1\n",
       "59.0       1\n",
       "56.0       1\n",
       "41.0       1\n",
       "Name: count, dtype: int64"
      ]
     },
     "execution_count": 278,
     "metadata": {},
     "output_type": "execute_result"
    }
   ],
   "source": [
    "df['Age'].value_counts()"
   ]
  },
  {
   "cell_type": "code",
   "execution_count": 279,
   "metadata": {},
   "outputs": [
    {
     "data": {
      "text/plain": [
       "(27775, 14)"
      ]
     },
     "execution_count": 279,
     "metadata": {},
     "output_type": "execute_result"
    }
   ],
   "source": [
    "# removing rows with values of age appearing less than or equal to 10 times as they are not enough to make a good prediction\n",
    "df = df[df['Age'].map(df['Age'].value_counts()) >= 11]\n",
    "\n",
    "# check the shape of the data after cleaning\n",
    "df.shape"
   ]
  },
  {
   "cell_type": "code",
   "execution_count": 280,
   "metadata": {},
   "outputs": [
    {
     "data": {
      "text/plain": [
       "Gender                                    2\n",
       "Age                                      17\n",
       "City                                     52\n",
       "Academic_Pressure                         6\n",
       "CGPA                                    331\n",
       "Study_Satisfaction                        5\n",
       "Sleep_Duration                            4\n",
       "Dietary_Habits                            3\n",
       "Degree                                   27\n",
       "Have_you_ever_had_suicidal_thoughts_      2\n",
       "Work/Study_Hours                         13\n",
       "Financial_Stress                          5\n",
       "Family_History_of_Mental_Illness          2\n",
       "Depression                                2\n",
       "dtype: int64"
      ]
     },
     "execution_count": 280,
     "metadata": {},
     "output_type": "execute_result"
    }
   ],
   "source": [
    "df.nunique()"
   ]
  },
  {
   "cell_type": "code",
   "execution_count": 281,
   "metadata": {},
   "outputs": [
    {
     "data": {
      "text/plain": [
       "City\n",
       "Kalyan                1565\n",
       "Srinagar              1365\n",
       "Hyderabad             1335\n",
       "Vasai-Virar           1286\n",
       "Lucknow               1150\n",
       "Thane                 1138\n",
       "Ludhiana              1106\n",
       "Agra                  1089\n",
       "Surat                 1076\n",
       "Kolkata               1055\n",
       "Jaipur                1035\n",
       "Patna                  999\n",
       "Pune                   966\n",
       "Visakhapatnam          964\n",
       "Ahmedabad              944\n",
       "Bhopal                 929\n",
       "Chennai                883\n",
       "Meerut                 820\n",
       "Rajkot                 810\n",
       "Bangalore              765\n",
       "Delhi                  765\n",
       "Ghaziabad              741\n",
       "Mumbai                 694\n",
       "Vadodara               690\n",
       "Varanasi               682\n",
       "Nagpur                 646\n",
       "Indore                 642\n",
       "Kanpur                 607\n",
       "Nashik                 544\n",
       "Faridabad              458\n",
       "Saanvi                   2\n",
       "Bhavna                   2\n",
       "City                     2\n",
       "Harsha                   2\n",
       "Less Delhi               1\n",
       "M.Tech                   1\n",
       "3.0                      1\n",
       "Less than 5 Kalyan       1\n",
       "Mira                     1\n",
       "Vaanya                   1\n",
       "Gaurav                   1\n",
       "Harsh                    1\n",
       "Reyansh                  1\n",
       "Kibara                   1\n",
       "Rashi                    1\n",
       "ME                       1\n",
       "M.Com                    1\n",
       "Nalyan                   1\n",
       "Mihir                    1\n",
       "Nalini                   1\n",
       "Nandini                  1\n",
       "Khaziabad                1\n",
       "Name: count, dtype: int64"
      ]
     },
     "execution_count": 281,
     "metadata": {},
     "output_type": "execute_result"
    }
   ],
   "source": [
    "df['City'].value_counts()"
   ]
  },
  {
   "cell_type": "code",
   "execution_count": 282,
   "metadata": {},
   "outputs": [],
   "source": [
    "# removing rows with values of City appearing less than or equal to 3 times as they are not enough to make a good prediction\n",
    "df = df[df['City'].map(df['City'].value_counts()) >= 3]"
   ]
  },
  {
   "cell_type": "code",
   "execution_count": 283,
   "metadata": {},
   "outputs": [
    {
     "data": {
      "text/plain": [
       "(27749, 14)"
      ]
     },
     "execution_count": 283,
     "metadata": {},
     "output_type": "execute_result"
    }
   ],
   "source": [
    "df.shape"
   ]
  },
  {
   "cell_type": "code",
   "execution_count": 284,
   "metadata": {},
   "outputs": [
    {
     "data": {
      "text/plain": [
       "Degree\n",
       "Class 12    6054\n",
       "B.Ed        1859\n",
       "B.Com       1501\n",
       "B.Arch      1474\n",
       "BCA         1429\n",
       "MSc         1185\n",
       "B.Tech      1151\n",
       "MCA         1037\n",
       "M.Tech      1018\n",
       "BHM          923\n",
       "BSc          882\n",
       "M.Ed         815\n",
       "B.Pharm      809\n",
       "M.Com        731\n",
       "BBA          696\n",
       "MBBS         689\n",
       "LLB          668\n",
       "BE           609\n",
       "BA           595\n",
       "M.Pharm      580\n",
       "MD           569\n",
       "MBA          560\n",
       "MA           544\n",
       "PhD          515\n",
       "LLM          481\n",
       "MHM          191\n",
       "ME           184\n",
       "Name: count, dtype: int64"
      ]
     },
     "execution_count": 284,
     "metadata": {},
     "output_type": "execute_result"
    }
   ],
   "source": [
    "# there is too  many degrees, so we can group them into 3 categories by using our existing knowledge of degrees\n",
    "df['Degree'].value_counts()\n"
   ]
  },
  {
   "cell_type": "code",
   "execution_count": 285,
   "metadata": {},
   "outputs": [],
   "source": [
    "# we can see that there are many degrees, so we can group them into 3 categories for better encoding later \n",
    "\n",
    "# making class 12th as higher secondary\n",
    "df['Degree'] = df['Degree'].replace('Class 12th', 'Higher Secondary')\n"
   ]
  },
  {
   "cell_type": "code",
   "execution_count": 286,
   "metadata": {},
   "outputs": [],
   "source": [
    "# making bachelors\n",
    "bachelors_replacements = {\n",
    "    'B.Ed': 'Bachelor',\n",
    "    'B.Com': 'Bachelor',\n",
    "    'B.Pharm': 'Bachelor',\n",
    "    'BCA': 'Bachelor',\n",
    "    'BE': 'Bachelor',\n",
    "    'BHM': 'Bachelor',\n",
    "    'MBBS': 'Bachelor', \n",
    "    'LLB': 'Bachelor',\n",
    "    'BA': 'Bachelor',\n",
    "    'B.Arch': 'Bachelor',\n",
    "    'BBA': 'Bachelor',\n",
    "    'B.Tech': 'Bachelor',\n",
    "    'BSc': 'Bachelor',\n",
    "}\n",
    "\n",
    "# Apply replacements\n",
    "df['Degree'] = df['Degree'].replace(bachelors_replacements)"
   ]
  },
  {
   "cell_type": "code",
   "execution_count": 287,
   "metadata": {},
   "outputs": [],
   "source": [
    "# making masters\n",
    "master_replacements = {\n",
    "    'M.Tech': 'Master',\n",
    "    'MCA': 'Master',\n",
    "    'MBA': 'Master',\n",
    "    'MSc': 'Master',\n",
    "    'M.Com': 'Master',\n",
    "    'MA': 'Master',\n",
    "    'MHM': 'Master',\n",
    "    'M.Arch': 'Master',\n",
    "    'M.Pharm': 'Master',\n",
    "    'ME': 'Master',  \n",
    "    'LLM': 'Master',\n",
    "    'MD': 'Master',  \n",
    "    'M.Ed': 'Master',\n",
    "    'PhD': 'Master' \n",
    "}\n",
    "\n",
    "# Apply replacements\n",
    "df['Degree'] = df['Degree'].replace(master_replacements)\n",
    "\n"
   ]
  },
  {
   "cell_type": "code",
   "execution_count": 288,
   "metadata": {},
   "outputs": [
    {
     "data": {
      "text/html": [
       "<div>\n",
       "<style scoped>\n",
       "    .dataframe tbody tr th:only-of-type {\n",
       "        vertical-align: middle;\n",
       "    }\n",
       "\n",
       "    .dataframe tbody tr th {\n",
       "        vertical-align: top;\n",
       "    }\n",
       "\n",
       "    .dataframe thead th {\n",
       "        text-align: right;\n",
       "    }\n",
       "</style>\n",
       "<table border=\"1\" class=\"dataframe\">\n",
       "  <thead>\n",
       "    <tr style=\"text-align: right;\">\n",
       "      <th></th>\n",
       "      <th>Gender</th>\n",
       "      <th>Age</th>\n",
       "      <th>City</th>\n",
       "      <th>Academic_Pressure</th>\n",
       "      <th>CGPA</th>\n",
       "      <th>Study_Satisfaction</th>\n",
       "      <th>Sleep_Duration</th>\n",
       "      <th>Dietary_Habits</th>\n",
       "      <th>Degree</th>\n",
       "      <th>Have_you_ever_had_suicidal_thoughts_</th>\n",
       "      <th>Work/Study_Hours</th>\n",
       "      <th>Financial_Stress</th>\n",
       "      <th>Family_History_of_Mental_Illness</th>\n",
       "      <th>Depression</th>\n",
       "    </tr>\n",
       "  </thead>\n",
       "  <tbody>\n",
       "    <tr>\n",
       "      <th>18782</th>\n",
       "      <td>Male</td>\n",
       "      <td>31.0</td>\n",
       "      <td>Ludhiana</td>\n",
       "      <td>4.0</td>\n",
       "      <td>6.21</td>\n",
       "      <td>5.0</td>\n",
       "      <td>More than 8 hours</td>\n",
       "      <td>Unhealthy</td>\n",
       "      <td>Master</td>\n",
       "      <td>Yes</td>\n",
       "      <td>11.0</td>\n",
       "      <td>5.0</td>\n",
       "      <td>Yes</td>\n",
       "      <td>1</td>\n",
       "    </tr>\n",
       "    <tr>\n",
       "      <th>13445</th>\n",
       "      <td>Female</td>\n",
       "      <td>31.0</td>\n",
       "      <td>Jaipur</td>\n",
       "      <td>5.0</td>\n",
       "      <td>8.17</td>\n",
       "      <td>2.0</td>\n",
       "      <td>7-8 hours</td>\n",
       "      <td>Moderate</td>\n",
       "      <td>Master</td>\n",
       "      <td>No</td>\n",
       "      <td>1.0</td>\n",
       "      <td>3.0</td>\n",
       "      <td>Yes</td>\n",
       "      <td>0</td>\n",
       "    </tr>\n",
       "    <tr>\n",
       "      <th>8749</th>\n",
       "      <td>Male</td>\n",
       "      <td>25.0</td>\n",
       "      <td>Nagpur</td>\n",
       "      <td>4.0</td>\n",
       "      <td>5.74</td>\n",
       "      <td>3.0</td>\n",
       "      <td>Less than 5 hours</td>\n",
       "      <td>Unhealthy</td>\n",
       "      <td>Master</td>\n",
       "      <td>Yes</td>\n",
       "      <td>8.0</td>\n",
       "      <td>5.0</td>\n",
       "      <td>No</td>\n",
       "      <td>0</td>\n",
       "    </tr>\n",
       "  </tbody>\n",
       "</table>\n",
       "</div>"
      ],
      "text/plain": [
       "       Gender   Age      City  Academic_Pressure  CGPA  Study_Satisfaction  \\\n",
       "18782    Male  31.0  Ludhiana                4.0  6.21                 5.0   \n",
       "13445  Female  31.0    Jaipur                5.0  8.17                 2.0   \n",
       "8749     Male  25.0    Nagpur                4.0  5.74                 3.0   \n",
       "\n",
       "          Sleep_Duration Dietary_Habits  Degree  \\\n",
       "18782  More than 8 hours      Unhealthy  Master   \n",
       "13445          7-8 hours       Moderate  Master   \n",
       "8749   Less than 5 hours      Unhealthy  Master   \n",
       "\n",
       "      Have_you_ever_had_suicidal_thoughts_  Work/Study_Hours  \\\n",
       "18782                                  Yes              11.0   \n",
       "13445                                   No               1.0   \n",
       "8749                                   Yes               8.0   \n",
       "\n",
       "       Financial_Stress Family_History_of_Mental_Illness  Depression  \n",
       "18782               5.0                              Yes           1  \n",
       "13445               3.0                              Yes           0  \n",
       "8749                5.0                               No           0  "
      ]
     },
     "execution_count": 288,
     "metadata": {},
     "output_type": "execute_result"
    }
   ],
   "source": [
    "df.sample(3)"
   ]
  },
  {
   "cell_type": "code",
   "execution_count": 289,
   "metadata": {},
   "outputs": [],
   "source": [
    "# mental illness,sucidial thoughts, and gender are objects but only got 2 answers but in string  so we can convert them to binary\n",
    "df['Family_History_of_Mental_Illness'] = df['Family_History_of_Mental_Illness'].map({'Yes': 1, 'No': 0})\n",
    "df['Have_you_ever_had_suicidal_thoughts_'] = df['Have_you_ever_had_suicidal_thoughts_'].map({'Yes': 1, 'No': 0})\n",
    "df['Gender']=df['Gender'].map({'Male':1 , 'Female':0})\n",
    "# renaming for better use\n",
    "df = df.rename(columns={'Work/Study_Hours': 'Work_Study_Hours'})"
   ]
  },
  {
   "cell_type": "code",
   "execution_count": 290,
   "metadata": {},
   "outputs": [
    {
     "data": {
      "text/html": [
       "<div>\n",
       "<style scoped>\n",
       "    .dataframe tbody tr th:only-of-type {\n",
       "        vertical-align: middle;\n",
       "    }\n",
       "\n",
       "    .dataframe tbody tr th {\n",
       "        vertical-align: top;\n",
       "    }\n",
       "\n",
       "    .dataframe thead th {\n",
       "        text-align: right;\n",
       "    }\n",
       "</style>\n",
       "<table border=\"1\" class=\"dataframe\">\n",
       "  <thead>\n",
       "    <tr style=\"text-align: right;\">\n",
       "      <th></th>\n",
       "      <th>Gender</th>\n",
       "      <th>Age</th>\n",
       "      <th>City</th>\n",
       "      <th>Academic_Pressure</th>\n",
       "      <th>CGPA</th>\n",
       "      <th>Study_Satisfaction</th>\n",
       "      <th>Sleep_Duration</th>\n",
       "      <th>Dietary_Habits</th>\n",
       "      <th>Degree</th>\n",
       "      <th>Have_you_ever_had_suicidal_thoughts_</th>\n",
       "      <th>Work_Study_Hours</th>\n",
       "      <th>Financial_Stress</th>\n",
       "      <th>Family_History_of_Mental_Illness</th>\n",
       "      <th>Depression</th>\n",
       "    </tr>\n",
       "  </thead>\n",
       "  <tbody>\n",
       "    <tr>\n",
       "      <th>0</th>\n",
       "      <td>1</td>\n",
       "      <td>33.0</td>\n",
       "      <td>Visakhapatnam</td>\n",
       "      <td>5.0</td>\n",
       "      <td>8.97</td>\n",
       "      <td>2.0</td>\n",
       "      <td>5-6 hours</td>\n",
       "      <td>Healthy</td>\n",
       "      <td>Bachelor</td>\n",
       "      <td>1</td>\n",
       "      <td>3.0</td>\n",
       "      <td>1.0</td>\n",
       "      <td>0</td>\n",
       "      <td>1</td>\n",
       "    </tr>\n",
       "    <tr>\n",
       "      <th>1</th>\n",
       "      <td>0</td>\n",
       "      <td>24.0</td>\n",
       "      <td>Bangalore</td>\n",
       "      <td>2.0</td>\n",
       "      <td>5.90</td>\n",
       "      <td>5.0</td>\n",
       "      <td>5-6 hours</td>\n",
       "      <td>Moderate</td>\n",
       "      <td>Bachelor</td>\n",
       "      <td>0</td>\n",
       "      <td>3.0</td>\n",
       "      <td>2.0</td>\n",
       "      <td>1</td>\n",
       "      <td>0</td>\n",
       "    </tr>\n",
       "    <tr>\n",
       "      <th>2</th>\n",
       "      <td>1</td>\n",
       "      <td>31.0</td>\n",
       "      <td>Srinagar</td>\n",
       "      <td>3.0</td>\n",
       "      <td>7.03</td>\n",
       "      <td>5.0</td>\n",
       "      <td>Less than 5 hours</td>\n",
       "      <td>Healthy</td>\n",
       "      <td>Bachelor</td>\n",
       "      <td>0</td>\n",
       "      <td>9.0</td>\n",
       "      <td>1.0</td>\n",
       "      <td>1</td>\n",
       "      <td>0</td>\n",
       "    </tr>\n",
       "    <tr>\n",
       "      <th>3</th>\n",
       "      <td>0</td>\n",
       "      <td>28.0</td>\n",
       "      <td>Varanasi</td>\n",
       "      <td>3.0</td>\n",
       "      <td>5.59</td>\n",
       "      <td>2.0</td>\n",
       "      <td>7-8 hours</td>\n",
       "      <td>Moderate</td>\n",
       "      <td>Bachelor</td>\n",
       "      <td>1</td>\n",
       "      <td>4.0</td>\n",
       "      <td>5.0</td>\n",
       "      <td>1</td>\n",
       "      <td>1</td>\n",
       "    </tr>\n",
       "    <tr>\n",
       "      <th>4</th>\n",
       "      <td>0</td>\n",
       "      <td>25.0</td>\n",
       "      <td>Jaipur</td>\n",
       "      <td>4.0</td>\n",
       "      <td>8.13</td>\n",
       "      <td>3.0</td>\n",
       "      <td>5-6 hours</td>\n",
       "      <td>Moderate</td>\n",
       "      <td>Master</td>\n",
       "      <td>1</td>\n",
       "      <td>1.0</td>\n",
       "      <td>1.0</td>\n",
       "      <td>0</td>\n",
       "      <td>0</td>\n",
       "    </tr>\n",
       "    <tr>\n",
       "      <th>...</th>\n",
       "      <td>...</td>\n",
       "      <td>...</td>\n",
       "      <td>...</td>\n",
       "      <td>...</td>\n",
       "      <td>...</td>\n",
       "      <td>...</td>\n",
       "      <td>...</td>\n",
       "      <td>...</td>\n",
       "      <td>...</td>\n",
       "      <td>...</td>\n",
       "      <td>...</td>\n",
       "      <td>...</td>\n",
       "      <td>...</td>\n",
       "      <td>...</td>\n",
       "    </tr>\n",
       "    <tr>\n",
       "      <th>27896</th>\n",
       "      <td>0</td>\n",
       "      <td>27.0</td>\n",
       "      <td>Surat</td>\n",
       "      <td>5.0</td>\n",
       "      <td>5.75</td>\n",
       "      <td>5.0</td>\n",
       "      <td>5-6 hours</td>\n",
       "      <td>Unhealthy</td>\n",
       "      <td>Class 12</td>\n",
       "      <td>1</td>\n",
       "      <td>7.0</td>\n",
       "      <td>1.0</td>\n",
       "      <td>1</td>\n",
       "      <td>0</td>\n",
       "    </tr>\n",
       "    <tr>\n",
       "      <th>27897</th>\n",
       "      <td>1</td>\n",
       "      <td>27.0</td>\n",
       "      <td>Ludhiana</td>\n",
       "      <td>2.0</td>\n",
       "      <td>9.40</td>\n",
       "      <td>3.0</td>\n",
       "      <td>Less than 5 hours</td>\n",
       "      <td>Healthy</td>\n",
       "      <td>Master</td>\n",
       "      <td>0</td>\n",
       "      <td>0.0</td>\n",
       "      <td>3.0</td>\n",
       "      <td>1</td>\n",
       "      <td>0</td>\n",
       "    </tr>\n",
       "    <tr>\n",
       "      <th>27898</th>\n",
       "      <td>1</td>\n",
       "      <td>31.0</td>\n",
       "      <td>Faridabad</td>\n",
       "      <td>3.0</td>\n",
       "      <td>6.61</td>\n",
       "      <td>4.0</td>\n",
       "      <td>5-6 hours</td>\n",
       "      <td>Unhealthy</td>\n",
       "      <td>Master</td>\n",
       "      <td>0</td>\n",
       "      <td>12.0</td>\n",
       "      <td>2.0</td>\n",
       "      <td>0</td>\n",
       "      <td>0</td>\n",
       "    </tr>\n",
       "    <tr>\n",
       "      <th>27899</th>\n",
       "      <td>0</td>\n",
       "      <td>18.0</td>\n",
       "      <td>Ludhiana</td>\n",
       "      <td>5.0</td>\n",
       "      <td>6.88</td>\n",
       "      <td>2.0</td>\n",
       "      <td>Less than 5 hours</td>\n",
       "      <td>Healthy</td>\n",
       "      <td>Class 12</td>\n",
       "      <td>1</td>\n",
       "      <td>10.0</td>\n",
       "      <td>5.0</td>\n",
       "      <td>0</td>\n",
       "      <td>1</td>\n",
       "    </tr>\n",
       "    <tr>\n",
       "      <th>27900</th>\n",
       "      <td>1</td>\n",
       "      <td>27.0</td>\n",
       "      <td>Patna</td>\n",
       "      <td>4.0</td>\n",
       "      <td>9.24</td>\n",
       "      <td>1.0</td>\n",
       "      <td>Less than 5 hours</td>\n",
       "      <td>Healthy</td>\n",
       "      <td>Bachelor</td>\n",
       "      <td>1</td>\n",
       "      <td>2.0</td>\n",
       "      <td>3.0</td>\n",
       "      <td>1</td>\n",
       "      <td>1</td>\n",
       "    </tr>\n",
       "  </tbody>\n",
       "</table>\n",
       "<p>27749 rows × 14 columns</p>\n",
       "</div>"
      ],
      "text/plain": [
       "       Gender   Age           City  Academic_Pressure  CGPA  \\\n",
       "0           1  33.0  Visakhapatnam                5.0  8.97   \n",
       "1           0  24.0      Bangalore                2.0  5.90   \n",
       "2           1  31.0       Srinagar                3.0  7.03   \n",
       "3           0  28.0       Varanasi                3.0  5.59   \n",
       "4           0  25.0         Jaipur                4.0  8.13   \n",
       "...       ...   ...            ...                ...   ...   \n",
       "27896       0  27.0          Surat                5.0  5.75   \n",
       "27897       1  27.0       Ludhiana                2.0  9.40   \n",
       "27898       1  31.0      Faridabad                3.0  6.61   \n",
       "27899       0  18.0       Ludhiana                5.0  6.88   \n",
       "27900       1  27.0          Patna                4.0  9.24   \n",
       "\n",
       "       Study_Satisfaction     Sleep_Duration Dietary_Habits    Degree  \\\n",
       "0                     2.0          5-6 hours        Healthy  Bachelor   \n",
       "1                     5.0          5-6 hours       Moderate  Bachelor   \n",
       "2                     5.0  Less than 5 hours        Healthy  Bachelor   \n",
       "3                     2.0          7-8 hours       Moderate  Bachelor   \n",
       "4                     3.0          5-6 hours       Moderate    Master   \n",
       "...                   ...                ...            ...       ...   \n",
       "27896                 5.0          5-6 hours      Unhealthy  Class 12   \n",
       "27897                 3.0  Less than 5 hours        Healthy    Master   \n",
       "27898                 4.0          5-6 hours      Unhealthy    Master   \n",
       "27899                 2.0  Less than 5 hours        Healthy  Class 12   \n",
       "27900                 1.0  Less than 5 hours        Healthy  Bachelor   \n",
       "\n",
       "       Have_you_ever_had_suicidal_thoughts_  Work_Study_Hours  \\\n",
       "0                                         1               3.0   \n",
       "1                                         0               3.0   \n",
       "2                                         0               9.0   \n",
       "3                                         1               4.0   \n",
       "4                                         1               1.0   \n",
       "...                                     ...               ...   \n",
       "27896                                     1               7.0   \n",
       "27897                                     0               0.0   \n",
       "27898                                     0              12.0   \n",
       "27899                                     1              10.0   \n",
       "27900                                     1               2.0   \n",
       "\n",
       "       Financial_Stress  Family_History_of_Mental_Illness  Depression  \n",
       "0                   1.0                                 0           1  \n",
       "1                   2.0                                 1           0  \n",
       "2                   1.0                                 1           0  \n",
       "3                   5.0                                 1           1  \n",
       "4                   1.0                                 0           0  \n",
       "...                 ...                               ...         ...  \n",
       "27896               1.0                                 1           0  \n",
       "27897               3.0                                 1           0  \n",
       "27898               2.0                                 0           0  \n",
       "27899               5.0                                 0           1  \n",
       "27900               3.0                                 1           1  \n",
       "\n",
       "[27749 rows x 14 columns]"
      ]
     },
     "execution_count": 290,
     "metadata": {},
     "output_type": "execute_result"
    }
   ],
   "source": [
    "df"
   ]
  },
  {
   "cell_type": "code",
   "execution_count": 291,
   "metadata": {},
   "outputs": [],
   "source": [
    "# creating a new cdv file with the current df\n",
    "df.to_csv('csv_files/semi_cleaned_depression_file.csv', index=False)"
   ]
  },
  {
   "cell_type": "code",
   "execution_count": 292,
   "metadata": {},
   "outputs": [],
   "source": [
    "# doing one hot encoding for the categorical variables\n",
    "df = pd.get_dummies(df, columns=['City', 'Degree', 'Sleep_Duration', 'Dietary_Habits'])\n"
   ]
  },
  {
   "cell_type": "code",
   "execution_count": 293,
   "metadata": {},
   "outputs": [
    {
     "data": {
      "text/plain": [
       "(27749, 50)"
      ]
     },
     "execution_count": 293,
     "metadata": {},
     "output_type": "execute_result"
    }
   ],
   "source": [
    "df.shape"
   ]
  },
  {
   "cell_type": "code",
   "execution_count": 294,
   "metadata": {},
   "outputs": [
    {
     "name": "stdout",
     "output_type": "stream",
     "text": [
      "<class 'pandas.core.frame.DataFrame'>\n",
      "Index: 27749 entries, 0 to 27900\n",
      "Data columns (total 50 columns):\n",
      " #   Column                                Non-Null Count  Dtype  \n",
      "---  ------                                --------------  -----  \n",
      " 0   Gender                                27749 non-null  int64  \n",
      " 1   Age                                   27749 non-null  float64\n",
      " 2   Academic_Pressure                     27749 non-null  float64\n",
      " 3   CGPA                                  27749 non-null  float64\n",
      " 4   Study_Satisfaction                    27749 non-null  float64\n",
      " 5   Have_you_ever_had_suicidal_thoughts_  27749 non-null  int64  \n",
      " 6   Work_Study_Hours                      27749 non-null  float64\n",
      " 7   Financial_Stress                      27749 non-null  float64\n",
      " 8   Family_History_of_Mental_Illness      27749 non-null  int64  \n",
      " 9   Depression                            27749 non-null  int64  \n",
      " 10  City_Agra                             27749 non-null  bool   \n",
      " 11  City_Ahmedabad                        27749 non-null  bool   \n",
      " 12  City_Bangalore                        27749 non-null  bool   \n",
      " 13  City_Bhopal                           27749 non-null  bool   \n",
      " 14  City_Chennai                          27749 non-null  bool   \n",
      " 15  City_Delhi                            27749 non-null  bool   \n",
      " 16  City_Faridabad                        27749 non-null  bool   \n",
      " 17  City_Ghaziabad                        27749 non-null  bool   \n",
      " 18  City_Hyderabad                        27749 non-null  bool   \n",
      " 19  City_Indore                           27749 non-null  bool   \n",
      " 20  City_Jaipur                           27749 non-null  bool   \n",
      " 21  City_Kalyan                           27749 non-null  bool   \n",
      " 22  City_Kanpur                           27749 non-null  bool   \n",
      " 23  City_Kolkata                          27749 non-null  bool   \n",
      " 24  City_Lucknow                          27749 non-null  bool   \n",
      " 25  City_Ludhiana                         27749 non-null  bool   \n",
      " 26  City_Meerut                           27749 non-null  bool   \n",
      " 27  City_Mumbai                           27749 non-null  bool   \n",
      " 28  City_Nagpur                           27749 non-null  bool   \n",
      " 29  City_Nashik                           27749 non-null  bool   \n",
      " 30  City_Patna                            27749 non-null  bool   \n",
      " 31  City_Pune                             27749 non-null  bool   \n",
      " 32  City_Rajkot                           27749 non-null  bool   \n",
      " 33  City_Srinagar                         27749 non-null  bool   \n",
      " 34  City_Surat                            27749 non-null  bool   \n",
      " 35  City_Thane                            27749 non-null  bool   \n",
      " 36  City_Vadodara                         27749 non-null  bool   \n",
      " 37  City_Varanasi                         27749 non-null  bool   \n",
      " 38  City_Vasai-Virar                      27749 non-null  bool   \n",
      " 39  City_Visakhapatnam                    27749 non-null  bool   \n",
      " 40  Degree_Bachelor                       27749 non-null  bool   \n",
      " 41  Degree_Class 12                       27749 non-null  bool   \n",
      " 42  Degree_Master                         27749 non-null  bool   \n",
      " 43  Sleep_Duration_5-6 hours              27749 non-null  bool   \n",
      " 44  Sleep_Duration_7-8 hours              27749 non-null  bool   \n",
      " 45  Sleep_Duration_Less than 5 hours      27749 non-null  bool   \n",
      " 46  Sleep_Duration_More than 8 hours      27749 non-null  bool   \n",
      " 47  Dietary_Habits_Healthy                27749 non-null  bool   \n",
      " 48  Dietary_Habits_Moderate               27749 non-null  bool   \n",
      " 49  Dietary_Habits_Unhealthy              27749 non-null  bool   \n",
      "dtypes: bool(40), float64(6), int64(4)\n",
      "memory usage: 3.4 MB\n"
     ]
    }
   ],
   "source": [
    "df.info ()"
   ]
  },
  {
   "cell_type": "code",
   "execution_count": 295,
   "metadata": {},
   "outputs": [],
   "source": [
    "# split data into X and y\n",
    "X=df.drop('Depression', axis=1)\n",
    "y=df['Depression']\n"
   ]
  },
  {
   "cell_type": "code",
   "execution_count": 296,
   "metadata": {},
   "outputs": [
    {
     "data": {
      "text/plain": [
       "Gender                                    2\n",
       "Age                                      17\n",
       "Academic_Pressure                         6\n",
       "CGPA                                    331\n",
       "Study_Satisfaction                        5\n",
       "Have_you_ever_had_suicidal_thoughts_      2\n",
       "Work_Study_Hours                         13\n",
       "Financial_Stress                          5\n",
       "Family_History_of_Mental_Illness          2\n",
       "City_Agra                                 2\n",
       "City_Ahmedabad                            2\n",
       "City_Bangalore                            2\n",
       "City_Bhopal                               2\n",
       "City_Chennai                              2\n",
       "City_Delhi                                2\n",
       "City_Faridabad                            2\n",
       "City_Ghaziabad                            2\n",
       "City_Hyderabad                            2\n",
       "City_Indore                               2\n",
       "City_Jaipur                               2\n",
       "City_Kalyan                               2\n",
       "City_Kanpur                               2\n",
       "City_Kolkata                              2\n",
       "City_Lucknow                              2\n",
       "City_Ludhiana                             2\n",
       "City_Meerut                               2\n",
       "City_Mumbai                               2\n",
       "City_Nagpur                               2\n",
       "City_Nashik                               2\n",
       "City_Patna                                2\n",
       "City_Pune                                 2\n",
       "City_Rajkot                               2\n",
       "City_Srinagar                             2\n",
       "City_Surat                                2\n",
       "City_Thane                                2\n",
       "City_Vadodara                             2\n",
       "City_Varanasi                             2\n",
       "City_Vasai-Virar                          2\n",
       "City_Visakhapatnam                        2\n",
       "Degree_Bachelor                           2\n",
       "Degree_Class 12                           2\n",
       "Degree_Master                             2\n",
       "Sleep_Duration_5-6 hours                  2\n",
       "Sleep_Duration_7-8 hours                  2\n",
       "Sleep_Duration_Less than 5 hours          2\n",
       "Sleep_Duration_More than 8 hours          2\n",
       "Dietary_Habits_Healthy                    2\n",
       "Dietary_Habits_Moderate                   2\n",
       "Dietary_Habits_Unhealthy                  2\n",
       "dtype: int64"
      ]
     },
     "execution_count": 296,
     "metadata": {},
     "output_type": "execute_result"
    }
   ],
   "source": [
    "X.nunique()"
   ]
  },
  {
   "cell_type": "code",
   "execution_count": 297,
   "metadata": {},
   "outputs": [
    {
     "data": {
      "text/plain": [
       "Index(['Gender', 'Age', 'Academic_Pressure', 'CGPA', 'Study_Satisfaction',\n",
       "       'Have_you_ever_had_suicidal_thoughts_', 'Work_Study_Hours',\n",
       "       'Financial_Stress', 'Family_History_of_Mental_Illness', 'Depression',\n",
       "       'City_Agra', 'City_Ahmedabad', 'City_Bangalore', 'City_Bhopal',\n",
       "       'City_Chennai', 'City_Delhi', 'City_Faridabad', 'City_Ghaziabad',\n",
       "       'City_Hyderabad', 'City_Indore', 'City_Jaipur', 'City_Kalyan',\n",
       "       'City_Kanpur', 'City_Kolkata', 'City_Lucknow', 'City_Ludhiana',\n",
       "       'City_Meerut', 'City_Mumbai', 'City_Nagpur', 'City_Nashik',\n",
       "       'City_Patna', 'City_Pune', 'City_Rajkot', 'City_Srinagar', 'City_Surat',\n",
       "       'City_Thane', 'City_Vadodara', 'City_Varanasi', 'City_Vasai-Virar',\n",
       "       'City_Visakhapatnam', 'Degree_Bachelor', 'Degree_Class_12',\n",
       "       'Degree_Master', 'Sleep_Duration_5-6_hours', 'Sleep_Duration_7-8_hours',\n",
       "       'Sleep_Duration_Less_than_5_hours', 'Sleep_Duration_More_than_8_hours',\n",
       "       'Dietary_Habits_Healthy', 'Dietary_Habits_Moderate',\n",
       "       'Dietary_Habits_Unhealthy'],\n",
       "      dtype='object')"
      ]
     },
     "execution_count": 297,
     "metadata": {},
     "output_type": "execute_result"
    }
   ],
   "source": [
    "# to make reading the columns easier in streamlit \n",
    "df.columns = df.columns.str.replace(' ', '_')\n",
    "\n",
    "\n",
    "df.columns\n"
   ]
  },
  {
   "cell_type": "code",
   "execution_count": 298,
   "metadata": {},
   "outputs": [
    {
     "data": {
      "text/plain": [
       "Index(['Gender', 'Age', 'Academic_Pressure', 'CGPA', 'Study_Satisfaction',\n",
       "       'Have_you_ever_had_suicidal_thoughts_', 'Work_Study_Hours',\n",
       "       'Financial_Stress', 'Family_History_of_Mental_Illness', 'City_Agra',\n",
       "       'City_Ahmedabad', 'City_Bangalore', 'City_Bhopal', 'City_Chennai',\n",
       "       'City_Delhi', 'City_Faridabad', 'City_Ghaziabad', 'City_Hyderabad',\n",
       "       'City_Indore', 'City_Jaipur', 'City_Kalyan', 'City_Kanpur',\n",
       "       'City_Kolkata', 'City_Lucknow', 'City_Ludhiana', 'City_Meerut',\n",
       "       'City_Mumbai', 'City_Nagpur', 'City_Nashik', 'City_Patna', 'City_Pune',\n",
       "       'City_Rajkot', 'City_Srinagar', 'City_Surat', 'City_Thane',\n",
       "       'City_Vadodara', 'City_Varanasi', 'City_Vasai-Virar',\n",
       "       'City_Visakhapatnam', 'Degree_Bachelor', 'Degree_Class_12',\n",
       "       'Degree_Master', 'Sleep_Duration_5-6_hours', 'Sleep_Duration_7-8_hours',\n",
       "       'Sleep_Duration_Less_than_5_hours', 'Sleep_Duration_More_than_8_hours',\n",
       "       'Dietary_Habits_Healthy', 'Dietary_Habits_Moderate',\n",
       "       'Dietary_Habits_Unhealthy'],\n",
       "      dtype='object')"
      ]
     },
     "execution_count": 298,
     "metadata": {},
     "output_type": "execute_result"
    }
   ],
   "source": [
    "# to make reading the columns easier in streamlit \n",
    "X.columns = X.columns.str.replace(' ', '_')\n",
    "X.columns"
   ]
  },
  {
   "cell_type": "code",
   "execution_count": 299,
   "metadata": {},
   "outputs": [],
   "source": [
    "# creating a new cdv file with the current df\n",
    "df.to_csv('csv_files/update_ohe_file.csv', index=False)"
   ]
  },
  {
   "cell_type": "code",
   "execution_count": 300,
   "metadata": {},
   "outputs": [],
   "source": [
    "# split data into train and test\n",
    "from sklearn.model_selection import train_test_split\n",
    "X_train, X_test, y_train, y_test = train_test_split(X, y, test_size=0.2, random_state=42)\n"
   ]
  },
  {
   "cell_type": "code",
   "execution_count": 301,
   "metadata": {},
   "outputs": [
    {
     "ename": "KeyboardInterrupt",
     "evalue": "",
     "output_type": "error",
     "traceback": [
      "\u001b[1;31m---------------------------------------------------------------------------\u001b[0m",
      "\u001b[1;31mKeyboardInterrupt\u001b[0m                         Traceback (most recent call last)",
      "Cell \u001b[1;32mIn[301], line 16\u001b[0m\n\u001b[0;32m      8\u001b[0m \u001b[38;5;66;03m# training model\u001b[39;00m\n\u001b[0;32m      9\u001b[0m gbr\u001b[38;5;241m=\u001b[39mensemble\u001b[38;5;241m.\u001b[39mGradientBoostingRegressor(\n\u001b[0;32m     10\u001b[0m     n_estimators\u001b[38;5;241m=\u001b[39m\u001b[38;5;241m1000\u001b[39m,\n\u001b[0;32m     11\u001b[0m     learning_rate\u001b[38;5;241m=\u001b[39m\u001b[38;5;241m0.1\u001b[39m,\n\u001b[1;32m   (...)\u001b[0m\n\u001b[0;32m     14\u001b[0m     loss\u001b[38;5;241m=\u001b[39m\u001b[38;5;124m'\u001b[39m\u001b[38;5;124mhuber\u001b[39m\u001b[38;5;124m'\u001b[39m\n\u001b[0;32m     15\u001b[0m )\n\u001b[1;32m---> 16\u001b[0m \u001b[43mgbr\u001b[49m\u001b[38;5;241;43m.\u001b[39;49m\u001b[43mfit\u001b[49m\u001b[43m(\u001b[49m\u001b[43mX_train\u001b[49m\u001b[43m,\u001b[49m\u001b[43m \u001b[49m\u001b[43my_train\u001b[49m\u001b[43m)\u001b[49m\n\u001b[0;32m     18\u001b[0m \u001b[38;5;66;03m# r2 score\u001b[39;00m\n\u001b[0;32m     19\u001b[0m y_pred_GBR\u001b[38;5;241m=\u001b[39mgbr\u001b[38;5;241m.\u001b[39mpredict(X_test)\n",
      "File \u001b[1;32m~\\AppData\\Local\\Packages\\PythonSoftwareFoundation.Python.3.11_qbz5n2kfra8p0\\LocalCache\\local-packages\\Python311\\site-packages\\sklearn\\base.py:1389\u001b[0m, in \u001b[0;36m_fit_context.<locals>.decorator.<locals>.wrapper\u001b[1;34m(estimator, *args, **kwargs)\u001b[0m\n\u001b[0;32m   1382\u001b[0m     estimator\u001b[38;5;241m.\u001b[39m_validate_params()\n\u001b[0;32m   1384\u001b[0m \u001b[38;5;28;01mwith\u001b[39;00m config_context(\n\u001b[0;32m   1385\u001b[0m     skip_parameter_validation\u001b[38;5;241m=\u001b[39m(\n\u001b[0;32m   1386\u001b[0m         prefer_skip_nested_validation \u001b[38;5;129;01mor\u001b[39;00m global_skip_validation\n\u001b[0;32m   1387\u001b[0m     )\n\u001b[0;32m   1388\u001b[0m ):\n\u001b[1;32m-> 1389\u001b[0m     \u001b[38;5;28;01mreturn\u001b[39;00m \u001b[43mfit_method\u001b[49m\u001b[43m(\u001b[49m\u001b[43mestimator\u001b[49m\u001b[43m,\u001b[49m\u001b[43m \u001b[49m\u001b[38;5;241;43m*\u001b[39;49m\u001b[43margs\u001b[49m\u001b[43m,\u001b[49m\u001b[43m \u001b[49m\u001b[38;5;241;43m*\u001b[39;49m\u001b[38;5;241;43m*\u001b[39;49m\u001b[43mkwargs\u001b[49m\u001b[43m)\u001b[49m\n",
      "File \u001b[1;32m~\\AppData\\Local\\Packages\\PythonSoftwareFoundation.Python.3.11_qbz5n2kfra8p0\\LocalCache\\local-packages\\Python311\\site-packages\\sklearn\\ensemble\\_gb.py:787\u001b[0m, in \u001b[0;36mBaseGradientBoosting.fit\u001b[1;34m(self, X, y, sample_weight, monitor)\u001b[0m\n\u001b[0;32m    784\u001b[0m     \u001b[38;5;28mself\u001b[39m\u001b[38;5;241m.\u001b[39m_resize_state()\n\u001b[0;32m    786\u001b[0m \u001b[38;5;66;03m# fit the boosting stages\u001b[39;00m\n\u001b[1;32m--> 787\u001b[0m n_stages \u001b[38;5;241m=\u001b[39m \u001b[38;5;28;43mself\u001b[39;49m\u001b[38;5;241;43m.\u001b[39;49m\u001b[43m_fit_stages\u001b[49m\u001b[43m(\u001b[49m\n\u001b[0;32m    788\u001b[0m \u001b[43m    \u001b[49m\u001b[43mX_train\u001b[49m\u001b[43m,\u001b[49m\n\u001b[0;32m    789\u001b[0m \u001b[43m    \u001b[49m\u001b[43my_train\u001b[49m\u001b[43m,\u001b[49m\n\u001b[0;32m    790\u001b[0m \u001b[43m    \u001b[49m\u001b[43mraw_predictions\u001b[49m\u001b[43m,\u001b[49m\n\u001b[0;32m    791\u001b[0m \u001b[43m    \u001b[49m\u001b[43msample_weight_train\u001b[49m\u001b[43m,\u001b[49m\n\u001b[0;32m    792\u001b[0m \u001b[43m    \u001b[49m\u001b[38;5;28;43mself\u001b[39;49m\u001b[38;5;241;43m.\u001b[39;49m\u001b[43m_rng\u001b[49m\u001b[43m,\u001b[49m\n\u001b[0;32m    793\u001b[0m \u001b[43m    \u001b[49m\u001b[43mX_val\u001b[49m\u001b[43m,\u001b[49m\n\u001b[0;32m    794\u001b[0m \u001b[43m    \u001b[49m\u001b[43my_val\u001b[49m\u001b[43m,\u001b[49m\n\u001b[0;32m    795\u001b[0m \u001b[43m    \u001b[49m\u001b[43msample_weight_val\u001b[49m\u001b[43m,\u001b[49m\n\u001b[0;32m    796\u001b[0m \u001b[43m    \u001b[49m\u001b[43mbegin_at_stage\u001b[49m\u001b[43m,\u001b[49m\n\u001b[0;32m    797\u001b[0m \u001b[43m    \u001b[49m\u001b[43mmonitor\u001b[49m\u001b[43m,\u001b[49m\n\u001b[0;32m    798\u001b[0m \u001b[43m\u001b[49m\u001b[43m)\u001b[49m\n\u001b[0;32m    800\u001b[0m \u001b[38;5;66;03m# change shape of arrays after fit (early-stopping or additional ests)\u001b[39;00m\n\u001b[0;32m    801\u001b[0m \u001b[38;5;28;01mif\u001b[39;00m n_stages \u001b[38;5;241m!=\u001b[39m \u001b[38;5;28mself\u001b[39m\u001b[38;5;241m.\u001b[39mestimators_\u001b[38;5;241m.\u001b[39mshape[\u001b[38;5;241m0\u001b[39m]:\n",
      "File \u001b[1;32m~\\AppData\\Local\\Packages\\PythonSoftwareFoundation.Python.3.11_qbz5n2kfra8p0\\LocalCache\\local-packages\\Python311\\site-packages\\sklearn\\ensemble\\_gb.py:883\u001b[0m, in \u001b[0;36mBaseGradientBoosting._fit_stages\u001b[1;34m(self, X, y, raw_predictions, sample_weight, random_state, X_val, y_val, sample_weight_val, begin_at_stage, monitor)\u001b[0m\n\u001b[0;32m    876\u001b[0m         initial_loss \u001b[38;5;241m=\u001b[39m factor \u001b[38;5;241m*\u001b[39m \u001b[38;5;28mself\u001b[39m\u001b[38;5;241m.\u001b[39m_loss(\n\u001b[0;32m    877\u001b[0m             y_true\u001b[38;5;241m=\u001b[39my_oob_masked,\n\u001b[0;32m    878\u001b[0m             raw_prediction\u001b[38;5;241m=\u001b[39mraw_predictions[\u001b[38;5;241m~\u001b[39msample_mask],\n\u001b[0;32m    879\u001b[0m             sample_weight\u001b[38;5;241m=\u001b[39msample_weight_oob_masked,\n\u001b[0;32m    880\u001b[0m         )\n\u001b[0;32m    882\u001b[0m \u001b[38;5;66;03m# fit next stage of trees\u001b[39;00m\n\u001b[1;32m--> 883\u001b[0m raw_predictions \u001b[38;5;241m=\u001b[39m \u001b[38;5;28;43mself\u001b[39;49m\u001b[38;5;241;43m.\u001b[39;49m\u001b[43m_fit_stage\u001b[49m\u001b[43m(\u001b[49m\n\u001b[0;32m    884\u001b[0m \u001b[43m    \u001b[49m\u001b[43mi\u001b[49m\u001b[43m,\u001b[49m\n\u001b[0;32m    885\u001b[0m \u001b[43m    \u001b[49m\u001b[43mX\u001b[49m\u001b[43m,\u001b[49m\n\u001b[0;32m    886\u001b[0m \u001b[43m    \u001b[49m\u001b[43my\u001b[49m\u001b[43m,\u001b[49m\n\u001b[0;32m    887\u001b[0m \u001b[43m    \u001b[49m\u001b[43mraw_predictions\u001b[49m\u001b[43m,\u001b[49m\n\u001b[0;32m    888\u001b[0m \u001b[43m    \u001b[49m\u001b[43msample_weight\u001b[49m\u001b[43m,\u001b[49m\n\u001b[0;32m    889\u001b[0m \u001b[43m    \u001b[49m\u001b[43msample_mask\u001b[49m\u001b[43m,\u001b[49m\n\u001b[0;32m    890\u001b[0m \u001b[43m    \u001b[49m\u001b[43mrandom_state\u001b[49m\u001b[43m,\u001b[49m\n\u001b[0;32m    891\u001b[0m \u001b[43m    \u001b[49m\u001b[43mX_csc\u001b[49m\u001b[38;5;241;43m=\u001b[39;49m\u001b[43mX_csc\u001b[49m\u001b[43m,\u001b[49m\n\u001b[0;32m    892\u001b[0m \u001b[43m    \u001b[49m\u001b[43mX_csr\u001b[49m\u001b[38;5;241;43m=\u001b[39;49m\u001b[43mX_csr\u001b[49m\u001b[43m,\u001b[49m\n\u001b[0;32m    893\u001b[0m \u001b[43m\u001b[49m\u001b[43m)\u001b[49m\n\u001b[0;32m    895\u001b[0m \u001b[38;5;66;03m# track loss\u001b[39;00m\n\u001b[0;32m    896\u001b[0m \u001b[38;5;28;01mif\u001b[39;00m do_oob:\n",
      "File \u001b[1;32m~\\AppData\\Local\\Packages\\PythonSoftwareFoundation.Python.3.11_qbz5n2kfra8p0\\LocalCache\\local-packages\\Python311\\site-packages\\sklearn\\ensemble\\_gb.py:495\u001b[0m, in \u001b[0;36mBaseGradientBoosting._fit_stage\u001b[1;34m(self, i, X, y, raw_predictions, sample_weight, sample_mask, random_state, X_csc, X_csr)\u001b[0m\n\u001b[0;32m    493\u001b[0m \u001b[38;5;66;03m# update tree leaves\u001b[39;00m\n\u001b[0;32m    494\u001b[0m X_for_tree_update \u001b[38;5;241m=\u001b[39m X_csr \u001b[38;5;28;01mif\u001b[39;00m X_csr \u001b[38;5;129;01mis\u001b[39;00m \u001b[38;5;129;01mnot\u001b[39;00m \u001b[38;5;28;01mNone\u001b[39;00m \u001b[38;5;28;01melse\u001b[39;00m X\n\u001b[1;32m--> 495\u001b[0m \u001b[43m_update_terminal_regions\u001b[49m\u001b[43m(\u001b[49m\n\u001b[0;32m    496\u001b[0m \u001b[43m    \u001b[49m\u001b[38;5;28;43mself\u001b[39;49m\u001b[38;5;241;43m.\u001b[39;49m\u001b[43m_loss\u001b[49m\u001b[43m,\u001b[49m\n\u001b[0;32m    497\u001b[0m \u001b[43m    \u001b[49m\u001b[43mtree\u001b[49m\u001b[38;5;241;43m.\u001b[39;49m\u001b[43mtree_\u001b[49m\u001b[43m,\u001b[49m\n\u001b[0;32m    498\u001b[0m \u001b[43m    \u001b[49m\u001b[43mX_for_tree_update\u001b[49m\u001b[43m,\u001b[49m\n\u001b[0;32m    499\u001b[0m \u001b[43m    \u001b[49m\u001b[43my\u001b[49m\u001b[43m,\u001b[49m\n\u001b[0;32m    500\u001b[0m \u001b[43m    \u001b[49m\u001b[43mneg_g_view\u001b[49m\u001b[43m[\u001b[49m\u001b[43m:\u001b[49m\u001b[43m,\u001b[49m\u001b[43m \u001b[49m\u001b[43mk\u001b[49m\u001b[43m]\u001b[49m\u001b[43m,\u001b[49m\n\u001b[0;32m    501\u001b[0m \u001b[43m    \u001b[49m\u001b[43mraw_predictions\u001b[49m\u001b[43m,\u001b[49m\n\u001b[0;32m    502\u001b[0m \u001b[43m    \u001b[49m\u001b[43msample_weight\u001b[49m\u001b[43m,\u001b[49m\n\u001b[0;32m    503\u001b[0m \u001b[43m    \u001b[49m\u001b[43msample_mask\u001b[49m\u001b[43m,\u001b[49m\n\u001b[0;32m    504\u001b[0m \u001b[43m    \u001b[49m\u001b[43mlearning_rate\u001b[49m\u001b[38;5;241;43m=\u001b[39;49m\u001b[38;5;28;43mself\u001b[39;49m\u001b[38;5;241;43m.\u001b[39;49m\u001b[43mlearning_rate\u001b[49m\u001b[43m,\u001b[49m\n\u001b[0;32m    505\u001b[0m \u001b[43m    \u001b[49m\u001b[43mk\u001b[49m\u001b[38;5;241;43m=\u001b[39;49m\u001b[43mk\u001b[49m\u001b[43m,\u001b[49m\n\u001b[0;32m    506\u001b[0m \u001b[43m\u001b[49m\u001b[43m)\u001b[49m\n\u001b[0;32m    508\u001b[0m \u001b[38;5;66;03m# add tree to ensemble\u001b[39;00m\n\u001b[0;32m    509\u001b[0m \u001b[38;5;28mself\u001b[39m\u001b[38;5;241m.\u001b[39mestimators_[i, k] \u001b[38;5;241m=\u001b[39m tree\n",
      "File \u001b[1;32m~\\AppData\\Local\\Packages\\PythonSoftwareFoundation.Python.3.11_qbz5n2kfra8p0\\LocalCache\\local-packages\\Python311\\site-packages\\sklearn\\ensemble\\_gb.py:255\u001b[0m, in \u001b[0;36m_update_terminal_regions\u001b[1;34m(loss, tree, X, y, neg_gradient, raw_prediction, sample_weight, sample_mask, learning_rate, k)\u001b[0m\n\u001b[0;32m    253\u001b[0m y_ \u001b[38;5;241m=\u001b[39m y\u001b[38;5;241m.\u001b[39mtake(indices, axis\u001b[38;5;241m=\u001b[39m\u001b[38;5;241m0\u001b[39m)\n\u001b[0;32m    254\u001b[0m sw \u001b[38;5;241m=\u001b[39m \u001b[38;5;28;01mNone\u001b[39;00m \u001b[38;5;28;01mif\u001b[39;00m sample_weight \u001b[38;5;129;01mis\u001b[39;00m \u001b[38;5;28;01mNone\u001b[39;00m \u001b[38;5;28;01melse\u001b[39;00m sample_weight[indices]\n\u001b[1;32m--> 255\u001b[0m update \u001b[38;5;241m=\u001b[39m \u001b[43mcompute_update\u001b[49m\u001b[43m(\u001b[49m\u001b[43my_\u001b[49m\u001b[43m,\u001b[49m\u001b[43m \u001b[49m\u001b[43mindices\u001b[49m\u001b[43m,\u001b[49m\u001b[43m \u001b[49m\u001b[43mneg_gradient\u001b[49m\u001b[43m,\u001b[49m\u001b[43m \u001b[49m\u001b[43mraw_prediction\u001b[49m\u001b[43m,\u001b[49m\u001b[43m \u001b[49m\u001b[43mk\u001b[49m\u001b[43m)\u001b[49m\n\u001b[0;32m    257\u001b[0m \u001b[38;5;66;03m# TODO: Multiply here by learning rate instead of everywhere else.\u001b[39;00m\n\u001b[0;32m    258\u001b[0m tree\u001b[38;5;241m.\u001b[39mvalue[leaf, \u001b[38;5;241m0\u001b[39m, \u001b[38;5;241m0\u001b[39m] \u001b[38;5;241m=\u001b[39m update\n",
      "File \u001b[1;32m~\\AppData\\Local\\Packages\\PythonSoftwareFoundation.Python.3.11_qbz5n2kfra8p0\\LocalCache\\local-packages\\Python311\\site-packages\\sklearn\\ensemble\\_gb.py:243\u001b[0m, in \u001b[0;36m_update_terminal_regions.<locals>.compute_update\u001b[1;34m(y_, indices, neg_gradient, raw_prediction, k)\u001b[0m\n\u001b[0;32m    242\u001b[0m \u001b[38;5;28;01mdef\u001b[39;00m \u001b[38;5;21mcompute_update\u001b[39m(y_, indices, neg_gradient, raw_prediction, k):\n\u001b[1;32m--> 243\u001b[0m     \u001b[38;5;28;01mreturn\u001b[39;00m \u001b[43mloss\u001b[49m\u001b[38;5;241;43m.\u001b[39;49m\u001b[43mfit_intercept_only\u001b[49m\u001b[43m(\u001b[49m\n\u001b[0;32m    244\u001b[0m \u001b[43m        \u001b[49m\u001b[43my_true\u001b[49m\u001b[38;5;241;43m=\u001b[39;49m\u001b[43my_\u001b[49m\u001b[43m \u001b[49m\u001b[38;5;241;43m-\u001b[39;49m\u001b[43m \u001b[49m\u001b[43mraw_prediction\u001b[49m\u001b[43m[\u001b[49m\u001b[43mindices\u001b[49m\u001b[43m,\u001b[49m\u001b[43m \u001b[49m\u001b[43mk\u001b[49m\u001b[43m]\u001b[49m\u001b[43m,\u001b[49m\n\u001b[0;32m    245\u001b[0m \u001b[43m        \u001b[49m\u001b[43msample_weight\u001b[49m\u001b[38;5;241;43m=\u001b[39;49m\u001b[43msw\u001b[49m\u001b[43m,\u001b[49m\n\u001b[0;32m    246\u001b[0m \u001b[43m    \u001b[49m\u001b[43m)\u001b[49m\n",
      "File \u001b[1;32m~\\AppData\\Local\\Packages\\PythonSoftwareFoundation.Python.3.11_qbz5n2kfra8p0\\LocalCache\\local-packages\\Python311\\site-packages\\sklearn\\_loss\\loss.py:710\u001b[0m, in \u001b[0;36mHuberLoss.fit_intercept_only\u001b[1;34m(self, y_true, sample_weight)\u001b[0m\n\u001b[0;32m    708\u001b[0m     median \u001b[38;5;241m=\u001b[39m np\u001b[38;5;241m.\u001b[39mpercentile(y_true, \u001b[38;5;241m50\u001b[39m, axis\u001b[38;5;241m=\u001b[39m\u001b[38;5;241m0\u001b[39m)\n\u001b[0;32m    709\u001b[0m \u001b[38;5;28;01melse\u001b[39;00m:\n\u001b[1;32m--> 710\u001b[0m     median \u001b[38;5;241m=\u001b[39m \u001b[43m_weighted_percentile\u001b[49m\u001b[43m(\u001b[49m\u001b[43my_true\u001b[49m\u001b[43m,\u001b[49m\u001b[43m \u001b[49m\u001b[43msample_weight\u001b[49m\u001b[43m,\u001b[49m\u001b[43m \u001b[49m\u001b[38;5;241;43m50\u001b[39;49m\u001b[43m)\u001b[49m\n\u001b[0;32m    711\u001b[0m diff \u001b[38;5;241m=\u001b[39m y_true \u001b[38;5;241m-\u001b[39m median\n\u001b[0;32m    712\u001b[0m term \u001b[38;5;241m=\u001b[39m np\u001b[38;5;241m.\u001b[39msign(diff) \u001b[38;5;241m*\u001b[39m np\u001b[38;5;241m.\u001b[39mminimum(\u001b[38;5;28mself\u001b[39m\u001b[38;5;241m.\u001b[39mcloss\u001b[38;5;241m.\u001b[39mdelta, np\u001b[38;5;241m.\u001b[39mabs(diff))\n",
      "File \u001b[1;32m~\\AppData\\Local\\Packages\\PythonSoftwareFoundation.Python.3.11_qbz5n2kfra8p0\\LocalCache\\local-packages\\Python311\\site-packages\\sklearn\\utils\\stats.py:43\u001b[0m, in \u001b[0;36m_weighted_percentile\u001b[1;34m(array, sample_weight, percentile)\u001b[0m\n\u001b[0;32m     41\u001b[0m \u001b[38;5;28;01mif\u001b[39;00m array\u001b[38;5;241m.\u001b[39mshape \u001b[38;5;241m!=\u001b[39m sample_weight\u001b[38;5;241m.\u001b[39mshape \u001b[38;5;129;01mand\u001b[39;00m array\u001b[38;5;241m.\u001b[39mshape[\u001b[38;5;241m0\u001b[39m] \u001b[38;5;241m==\u001b[39m sample_weight\u001b[38;5;241m.\u001b[39mshape[\u001b[38;5;241m0\u001b[39m]:\n\u001b[0;32m     42\u001b[0m     sample_weight \u001b[38;5;241m=\u001b[39m np\u001b[38;5;241m.\u001b[39mtile(sample_weight, (array\u001b[38;5;241m.\u001b[39mshape[\u001b[38;5;241m1\u001b[39m], \u001b[38;5;241m1\u001b[39m))\u001b[38;5;241m.\u001b[39mT\n\u001b[1;32m---> 43\u001b[0m sorted_idx \u001b[38;5;241m=\u001b[39m \u001b[43mnp\u001b[49m\u001b[38;5;241;43m.\u001b[39;49m\u001b[43margsort\u001b[49m\u001b[43m(\u001b[49m\u001b[43marray\u001b[49m\u001b[43m,\u001b[49m\u001b[43m \u001b[49m\u001b[43maxis\u001b[49m\u001b[38;5;241;43m=\u001b[39;49m\u001b[38;5;241;43m0\u001b[39;49m\u001b[43m)\u001b[49m\n\u001b[0;32m     44\u001b[0m sorted_weights \u001b[38;5;241m=\u001b[39m np\u001b[38;5;241m.\u001b[39mtake_along_axis(sample_weight, sorted_idx, axis\u001b[38;5;241m=\u001b[39m\u001b[38;5;241m0\u001b[39m)\n\u001b[0;32m     46\u001b[0m \u001b[38;5;66;03m# Find index of median prediction for each sample\u001b[39;00m\n",
      "File \u001b[1;32m~\\AppData\\Local\\Packages\\PythonSoftwareFoundation.Python.3.11_qbz5n2kfra8p0\\LocalCache\\local-packages\\Python311\\site-packages\\numpy\\_core\\fromnumeric.py:1243\u001b[0m, in \u001b[0;36margsort\u001b[1;34m(a, axis, kind, order, stable)\u001b[0m\n\u001b[0;32m   1130\u001b[0m \u001b[38;5;129m@array_function_dispatch\u001b[39m(_argsort_dispatcher)\n\u001b[0;32m   1131\u001b[0m \u001b[38;5;28;01mdef\u001b[39;00m \u001b[38;5;21margsort\u001b[39m(a, axis\u001b[38;5;241m=\u001b[39m\u001b[38;5;241m-\u001b[39m\u001b[38;5;241m1\u001b[39m, kind\u001b[38;5;241m=\u001b[39m\u001b[38;5;28;01mNone\u001b[39;00m, order\u001b[38;5;241m=\u001b[39m\u001b[38;5;28;01mNone\u001b[39;00m, \u001b[38;5;241m*\u001b[39m, stable\u001b[38;5;241m=\u001b[39m\u001b[38;5;28;01mNone\u001b[39;00m):\n\u001b[0;32m   1132\u001b[0m \u001b[38;5;250m    \u001b[39m\u001b[38;5;124;03m\"\"\"\u001b[39;00m\n\u001b[0;32m   1133\u001b[0m \u001b[38;5;124;03m    Returns the indices that would sort an array.\u001b[39;00m\n\u001b[0;32m   1134\u001b[0m \n\u001b[1;32m   (...)\u001b[0m\n\u001b[0;32m   1241\u001b[0m \n\u001b[0;32m   1242\u001b[0m \u001b[38;5;124;03m    \"\"\"\u001b[39;00m\n\u001b[1;32m-> 1243\u001b[0m     \u001b[38;5;28;01mreturn\u001b[39;00m \u001b[43m_wrapfunc\u001b[49m\u001b[43m(\u001b[49m\n\u001b[0;32m   1244\u001b[0m \u001b[43m        \u001b[49m\u001b[43ma\u001b[49m\u001b[43m,\u001b[49m\u001b[43m \u001b[49m\u001b[38;5;124;43m'\u001b[39;49m\u001b[38;5;124;43margsort\u001b[39;49m\u001b[38;5;124;43m'\u001b[39;49m\u001b[43m,\u001b[49m\u001b[43m \u001b[49m\u001b[43maxis\u001b[49m\u001b[38;5;241;43m=\u001b[39;49m\u001b[43maxis\u001b[49m\u001b[43m,\u001b[49m\u001b[43m \u001b[49m\u001b[43mkind\u001b[49m\u001b[38;5;241;43m=\u001b[39;49m\u001b[43mkind\u001b[49m\u001b[43m,\u001b[49m\u001b[43m \u001b[49m\u001b[43morder\u001b[49m\u001b[38;5;241;43m=\u001b[39;49m\u001b[43morder\u001b[49m\u001b[43m,\u001b[49m\u001b[43m \u001b[49m\u001b[43mstable\u001b[49m\u001b[38;5;241;43m=\u001b[39;49m\u001b[43mstable\u001b[49m\n\u001b[0;32m   1245\u001b[0m \u001b[43m    \u001b[49m\u001b[43m)\u001b[49m\n",
      "File \u001b[1;32m~\\AppData\\Local\\Packages\\PythonSoftwareFoundation.Python.3.11_qbz5n2kfra8p0\\LocalCache\\local-packages\\Python311\\site-packages\\numpy\\_core\\fromnumeric.py:57\u001b[0m, in \u001b[0;36m_wrapfunc\u001b[1;34m(obj, method, *args, **kwds)\u001b[0m\n\u001b[0;32m     54\u001b[0m     \u001b[38;5;28;01mreturn\u001b[39;00m _wrapit(obj, method, \u001b[38;5;241m*\u001b[39margs, \u001b[38;5;241m*\u001b[39m\u001b[38;5;241m*\u001b[39mkwds)\n\u001b[0;32m     56\u001b[0m \u001b[38;5;28;01mtry\u001b[39;00m:\n\u001b[1;32m---> 57\u001b[0m     \u001b[38;5;28;01mreturn\u001b[39;00m \u001b[43mbound\u001b[49m\u001b[43m(\u001b[49m\u001b[38;5;241;43m*\u001b[39;49m\u001b[43margs\u001b[49m\u001b[43m,\u001b[49m\u001b[43m \u001b[49m\u001b[38;5;241;43m*\u001b[39;49m\u001b[38;5;241;43m*\u001b[39;49m\u001b[43mkwds\u001b[49m\u001b[43m)\u001b[49m\n\u001b[0;32m     58\u001b[0m \u001b[38;5;28;01mexcept\u001b[39;00m \u001b[38;5;167;01mTypeError\u001b[39;00m:\n\u001b[0;32m     59\u001b[0m     \u001b[38;5;66;03m# A TypeError occurs if the object does have such a method in its\u001b[39;00m\n\u001b[0;32m     60\u001b[0m     \u001b[38;5;66;03m# class, but its signature is not identical to that of NumPy's. This\u001b[39;00m\n\u001b[1;32m   (...)\u001b[0m\n\u001b[0;32m     64\u001b[0m     \u001b[38;5;66;03m# Call _wrapit from within the except clause to ensure a potential\u001b[39;00m\n\u001b[0;32m     65\u001b[0m     \u001b[38;5;66;03m# exception has a traceback chain.\u001b[39;00m\n\u001b[0;32m     66\u001b[0m     \u001b[38;5;28;01mreturn\u001b[39;00m _wrapit(obj, method, \u001b[38;5;241m*\u001b[39margs, \u001b[38;5;241m*\u001b[39m\u001b[38;5;241m*\u001b[39mkwds)\n",
      "\u001b[1;31mKeyboardInterrupt\u001b[0m: "
     ]
    }
   ],
   "source": [
    "# gbr \n",
    "\n",
    "# imports\n",
    "from sklearn.ensemble import GradientBoostingRegressor\n",
    "from sklearn import ensemble\n",
    "from sklearn.metrics import r2_score\n",
    "\n",
    "# training model\n",
    "gbr=ensemble.GradientBoostingRegressor(\n",
    "    n_estimators=1000,\n",
    "    learning_rate=0.1,\n",
    "    max_depth=3,\n",
    "    min_samples_split=2,\n",
    "    loss='huber'\n",
    ")\n",
    "gbr.fit(X_train, y_train)\n",
    "\n",
    "# r2 score\n",
    "y_pred_GBR=gbr.predict(X_test)\n",
    "R2_score=r2_score(y_test, y_pred_GBR)\n",
    "print('R2 SCORE:', R2_score)\n",
    "\n",
    "\n",
    "# to check the mean squared error of the model\n",
    "from sklearn.metrics import mean_squared_error\n",
    "mean_squared_error(y_test, y_pred_GBR)\n",
    "print('Mean Squared Error:', mean_squared_error(y_test, y_pred_GBR))\n",
    "\n",
    "# to check the mean absolute error of the model\n",
    "from sklearn.metrics import mean_absolute_error\n",
    "mean_absolute_error(y_test, y_pred_GBR)\n",
    "print('Mean Absolute Error:', mean_absolute_error(y_test, y_pred_GBR))\n",
    "\n",
    "\n",
    "# FEATURE IMPORTANCE\n",
    "# feature_importance\n",
    "\n",
    "feature_columns=np.array(X.columns)\n",
    "\n",
    "importance=gbr.feature_importances_\n",
    "\n",
    "index_by_importance=importance.argsort()\n",
    "\n",
    "for index in index_by_importance:\n",
    "    print(\"{}-{:.2f}%\".format(feature_columns[index],importance[index]*100.0))\n",
    "\n"
   ]
  },
  {
   "cell_type": "code",
   "execution_count": null,
   "metadata": {},
   "outputs": [],
   "source": [
    "# GBC \n",
    "\n",
    "# IMPORTS\n",
    "from sklearn.ensemble import GradientBoostingClassifier\n",
    "from sklearn import ensemble\n",
    "\n",
    "# train data\n",
    "gbc=ensemble.GradientBoostingClassifier(\n",
    "    n_estimators=1000,\n",
    "    learning_rate=0.1,\n",
    "    max_depth=3,\n",
    "    min_samples_split=2,\n",
    "    loss='exponential'\n",
    ")\n",
    "gbc.fit(X_train, y_train)\n",
    "\n",
    "# # to check the model accuracy\n",
    "from sklearn.metrics import accuracy_score\n",
    "y_pred = gbc.predict(X_test)\n",
    "accuracy_score(y_test, y_pred)\n",
    "print(accuracy_score)\n",
    "\n",
    "\n",
    "# confusion matrix of the gbc model\n",
    "from sklearn.metrics import confusion_matrix\n",
    "conf_mat_gbc = confusion_matrix(y_test, y_pred)\n",
    "print('Confusion Matrix:\\n', conf_mat_gbc)\n",
    "\n",
    "# classification report of the gbc model\n",
    "from sklearn.metrics import classification_report\n",
    "class_rep_gbc = classification_report(y_test, y_pred)\n",
    "print('Classification Report:\\n', class_rep_gbc)\n",
    "\n"
   ]
  },
  {
   "cell_type": "code",
   "execution_count": null,
   "metadata": {},
   "outputs": [],
   "source": [
    "# # to check the model accuracy\n",
    "from sklearn.metrics import accuracy_score\n",
    "y_pred_gbc = gbc.predict(X_test)\n",
    "accuracy_score(y_test, y_pred_gbc)\n",
    "print(accuracy_score)"
   ]
  },
  {
   "cell_type": "code",
   "execution_count": null,
   "metadata": {},
   "outputs": [],
   "source": [
    "# logistic regression\n",
    "# imports\n",
    "from sklearn.linear_model import LogisticRegression\n",
    "from sklearn.metrics import accuracy_score\n",
    "from sklearn.metrics import classification_report\n",
    "\n",
    "# train data\n",
    "LR=LogisticRegression(solver='lbfgs', max_iter=1000)\n",
    "LR.fit(X_train, y_train)\n",
    "# accuracy score\n",
    "y_pred_LR=LR.predict(X_test)\n",
    "accuracy=accuracy_score(y_test, y_pred_LR)\n",
    "print('Accuracy:', accuracy)\n",
    "\n",
    "# classification report\n",
    "print(classification_report(y_test, y_pred_LR))\n"
   ]
  },
  {
   "cell_type": "code",
   "execution_count": null,
   "metadata": {},
   "outputs": [],
   "source": [
    "print (classification_report(y_test,y_pred_LR))"
   ]
  },
  {
   "cell_type": "code",
   "execution_count": null,
   "metadata": {},
   "outputs": [],
   "source": [
    "# linear discriminant analysis\n",
    "\n",
    "# imports\n",
    "from sklearn.discriminant_analysis import LinearDiscriminantAnalysis\n",
    "from sklearn.metrics import accuracy_score\n",
    "\n",
    "\n",
    "# train model\n",
    "LDA=LinearDiscriminantAnalysis()\n",
    "LDA.fit(X_train, y_train)\n",
    "\n",
    "# accuracy\n",
    "y_pred_LDA=LDA.predict(X_test)\n",
    "accuracy=accuracy_score(y_test, y_pred_LDA)\n",
    "print('Accuracy:', accuracy)\n",
    "\n",
    "# classification report\n",
    "print(classification_report(y_test, y_pred_LDA))\n",
    "\n",
    "\n",
    "\n"
   ]
  },
  {
   "cell_type": "code",
   "execution_count": null,
   "metadata": {},
   "outputs": [],
   "source": [
    "# k neighbors classifier\n",
    "\n",
    "# imports\n",
    "from sklearn.neighbors import KNeighborsClassifier\n",
    "from sklearn.metrics import accuracy_score\n",
    "\n",
    "# train data\n",
    "KNN=KNeighborsClassifier()\n",
    "KNN.fit(X_train, y_train)\n",
    "\n",
    "# accuracy\n",
    "y_pred_KNN=KNN.predict(X_test)\n",
    "accuracy=accuracy_score(y_test, y_pred_KNN)\n",
    "print('Accuracy:', accuracy)\n",
    "\n",
    "# classification report\n",
    "print(classification_report(y_test, y_pred_KNN))\n",
    "\n",
    "\n"
   ]
  },
  {
   "cell_type": "code",
   "execution_count": null,
   "metadata": {},
   "outputs": [],
   "source": [
    "# decision tree classifier\n",
    "from sklearn.tree import DecisionTreeClassifier\n",
    "from sklearn.metrics import accuracy_score\n",
    "\n",
    "# train data\n",
    "DTC=DecisionTreeClassifier()\n",
    "DTC.fit(X_train, y_train)\n",
    "\n",
    "# accuracy\n",
    "y_pred_DTC=DTC.predict(X_test)\n",
    "accuracy=accuracy_score(y_test, y_pred_DTC)\n",
    "print('Accuracy:', accuracy)\n",
    "\n",
    "# classification report\n",
    "print(classification_report(y_test, y_pred_DTC))\n",
    "\n",
    "# feature importance for dtc\n",
    "\n",
    "feature_columns=np.array(X.columns)\n",
    "\n",
    "dtc_importance=DTC.feature_importances_\n",
    "\n",
    "index_by_importance=dtc_importance.argsort()\n",
    "\n",
    "for index in index_by_importance:\n",
    "    print(\"{}-{:.2f}%\".format(feature_columns[index],dtc_importance[index]*100.0))\n",
    "\n",
    "\n"
   ]
  },
  {
   "cell_type": "code",
   "execution_count": null,
   "metadata": {},
   "outputs": [],
   "source": [
    "# guassian naive bayes\n",
    "from sklearn.naive_bayes import GaussianNB\n",
    "from sklearn.metrics import accuracy_score\n",
    "\n",
    "# train data\n",
    "GNB=GaussianNB()\n",
    "GNB.fit(X_train, y_train)\n",
    "\n",
    "\n",
    "# accuracy\n",
    "y_pred_GNB=GNB.predict(X_test)\n",
    "accuracy=accuracy_score(y_test, y_pred_GNB)\n",
    "print('Accuracy:', accuracy)\n",
    "\n",
    "# classification report\n",
    "print(classification_report(y_test, y_pred_GNB))"
   ]
  },
  {
   "cell_type": "code",
   "execution_count": null,
   "metadata": {},
   "outputs": [],
   "source": [
    "# svc\n",
    "\n",
    "# imports\n",
    "from sklearn.svm import SVC\n",
    "from sklearn.metrics import accuracy_score\n",
    "\n",
    "# train data\n",
    "SVM=SVC(gamma='auto')\n",
    "SVM.fit(X_train, y_train)\n",
    "\n",
    "# accuracy\n",
    "y_pred_SVC=SVM.predict(X_test)\n",
    "accuracy=accuracy_score(y_test, y_pred_SVC)\n",
    "print('Accuracy:', accuracy)\n",
    "\n",
    "# classification report\n",
    "print(classification_report(y_test, y_pred_SVC))"
   ]
  },
  {
   "cell_type": "code",
   "execution_count": null,
   "metadata": {},
   "outputs": [],
   "source": [
    "df.describe()"
   ]
  },
  {
   "cell_type": "code",
   "execution_count": null,
   "metadata": {},
   "outputs": [],
   "source": [
    "# dumping the model\n",
    "import joblib\n",
    "# choosing lr as the best model since the accuracy is the highest\n",
    "joblib.dump(LR, 'model/LinearRegressionModel.pkl')\n"
   ]
  },
  {
   "cell_type": "code",
   "execution_count": null,
   "metadata": {},
   "outputs": [],
   "source": [
    "joblib.dump(gbr,'model/gbrModel.pkl')"
   ]
  },
  {
   "cell_type": "code",
   "execution_count": null,
   "metadata": {},
   "outputs": [],
   "source": [
    "joblib.dump(LDA,'model/LDAmodel.pkl')"
   ]
  },
  {
   "cell_type": "code",
   "execution_count": 213,
   "metadata": {},
   "outputs": [],
   "source": [
    "data=pd.read_csv('csv_files/semi_cleaned_depression_file.csv')"
   ]
  },
  {
   "cell_type": "code",
   "execution_count": null,
   "metadata": {},
   "outputs": [],
   "source": [
    "data"
   ]
  },
  {
   "cell_type": "code",
   "execution_count": 215,
   "metadata": {},
   "outputs": [],
   "source": [
    "# after the feature importance in another file can say sleep,history,diet,academic and financial stress play big part and suicidal thoughts too \n",
    "# city,gender,degree doesnt affect to much. as they are not above  1.5% in both gbr and dtc\n",
    "# so we can say that the most important features are sleep,history,diet,academic and financial\n",
    "\n",
    "data=data.drop(['City','Gender','Degree',],axis=1)"
   ]
  },
  {
   "cell_type": "code",
   "execution_count": null,
   "metadata": {},
   "outputs": [],
   "source": [
    "data.nunique()"
   ]
  },
  {
   "cell_type": "code",
   "execution_count": null,
   "metadata": {},
   "outputs": [],
   "source": [
    "data.dtypes"
   ]
  },
  {
   "cell_type": "code",
   "execution_count": null,
   "metadata": {},
   "outputs": [],
   "source": [
    "missing_values_count = data.isnull().sum()\n",
    "print(\"Number of Missing Values in Each Column:\\n\", missing_values_count)"
   ]
  },
  {
   "cell_type": "code",
   "execution_count": 219,
   "metadata": {},
   "outputs": [],
   "source": [
    "# this is the clean dataset after data cleaning and exploration\n",
    "\n",
    "data.to_csv('csv_files/final_depression_dataset.csv',index=False)"
   ]
  },
  {
   "cell_type": "code",
   "execution_count": 220,
   "metadata": {},
   "outputs": [],
   "source": [
    "# since sleep and diet is object with more than 2 value we do one hard encoding on them before training the data\n",
    "\n",
    "data = pd.get_dummies(data, columns=[ 'Sleep_Duration', 'Dietary_Habits'])"
   ]
  },
  {
   "cell_type": "code",
   "execution_count": null,
   "metadata": {},
   "outputs": [],
   "source": [
    "data.sample(3)"
   ]
  },
  {
   "cell_type": "code",
   "execution_count": 222,
   "metadata": {},
   "outputs": [],
   "source": [
    "# split data into X and y\n",
    "X=df.drop('Depression', axis=1)\n",
    "y=df['Depression']"
   ]
  },
  {
   "cell_type": "code",
   "execution_count": null,
   "metadata": {},
   "outputs": [],
   "source": [
    "data.dtypes"
   ]
  },
  {
   "cell_type": "code",
   "execution_count": 224,
   "metadata": {},
   "outputs": [],
   "source": [
    "# split data into train and test\n",
    "from sklearn.model_selection import train_test_split\n",
    "X_train, X_test, y_train, y_test = train_test_split(X, y, test_size=0.3, random_state=42)\n"
   ]
  },
  {
   "cell_type": "code",
   "execution_count": null,
   "metadata": {},
   "outputs": [],
   "source": [
    "# gbc without hyperparameter tuning\n",
    "from sklearn.ensemble import GradientBoostingClassifier\n",
    "from sklearn import ensemble\n",
    "\n",
    "gbc=ensemble.GradientBoostingClassifier(\n",
    "    n_estimators=1000,\n",
    "    learning_rate=0.1,\n",
    "    max_depth=3,\n",
    "    min_samples_split=2,\n",
    "    loss='exponential'\n",
    ")\n",
    "gbc.fit(X_train, y_train)\n",
    "\n",
    "# to check the model accuracy\n",
    "from sklearn.metrics import accuracy_score\n",
    "y_pred_gbc = gbc.predict(X_test)\n",
    "accuracy_score(y_test, y_pred_gbc)\n",
    "print(accuracy_score(y_test, y_pred_gbc))\n",
    "\n",
    "\n",
    "# confusion matrix of the gbc model\n",
    "from sklearn.metrics import confusion_matrix\n",
    "conf_mat_gbc = confusion_matrix(y_test, y_pred_gbc)\n",
    "print('Confusion Matrix:\\n', conf_mat_gbc)\n",
    "\n",
    "# classification report of the gbc model\n",
    "from sklearn.metrics import classification_report\n",
    "class_rep_gbc = classification_report(y_test, y_pred_gbc)\n",
    "print('Classification Report:\\n', class_rep_gbc)"
   ]
  },
  {
   "cell_type": "code",
   "execution_count": null,
   "metadata": {},
   "outputs": [],
   "source": [
    "# gbr with hyperparameter tuning\n",
    "\n",
    "from sklearn.ensemble import GradientBoostingRegressor\n",
    "from sklearn import ensemble\n",
    "\n",
    "gbr=ensemble.GradientBoostingRegressor(\n",
    "    n_estimators=1000,\n",
    "    learning_rate=0.1,\n",
    "    max_depth=3,\n",
    "    min_samples_split=2,\n",
    "    loss='huber'\n",
    ")\n",
    "gbr.fit(X_train, y_train)\n",
    "\n",
    "\n",
    "# to check the r2 scoreof the model\n",
    "from sklearn.metrics import r2_score\n",
    "y_pred_GB=gbr.predict(X_test)\n",
    "r2_score(y_test, y_pred_GB)\n",
    "print('R2 Score:', r2_score(y_test, y_pred_GB))\n",
    "\n",
    "# to check the mean squared error of the model\n",
    "from sklearn.metrics import mean_squared_error\n",
    "mean_squared_error(y_test, y_pred_GB)\n",
    "print('Mean Squared Error:', mean_squared_error(y_test, y_pred_GB))\n",
    "\n",
    "# to check the mean absolute error of the model\n",
    "from sklearn.metrics import mean_absolute_error\n",
    "mean_absolute_error(y_test, y_pred_GB)\n",
    "print('Mean Absolute Error:', mean_absolute_error(y_test, y_pred_GB))\n",
    "\n",
    "# feature_importance\n",
    "\n",
    "feature_columns=np.array(X.columns)\n",
    "\n",
    "importance=gbr.feature_importances_\n",
    "\n",
    "index_by_importance=importance.argsort()\n",
    "\n",
    "for index in index_by_importance:\n",
    "    print(\"{}-{:.2f}%\".format(feature_columns[index],importance[index]*100.0))\n",
    "\n",
    "\n"
   ]
  },
  {
   "cell_type": "code",
   "execution_count": null,
   "metadata": {},
   "outputs": [],
   "source": [
    "# logistic regression\n",
    "# imports\n",
    "from sklearn.linear_model import LogisticRegression\n",
    "from sklearn.metrics import accuracy_score\n",
    "from sklearn.metrics import classification_report\n",
    "\n",
    "# train data\n",
    "LR=LogisticRegression(solver='lbfgs', max_iter=1000)\n",
    "LR.fit(X_train, y_train)\n",
    "# accuracy score\n",
    "y_pred_LR=LR.predict(X_test)\n",
    "accuracy=accuracy_score(y_test, y_pred_LR)\n",
    "print('Accuracy:', accuracy)\n",
    "\n",
    "# classification report\n",
    "print(classification_report(y_test, y_pred_LR))"
   ]
  },
  {
   "cell_type": "code",
   "execution_count": null,
   "metadata": {},
   "outputs": [],
   "source": [
    "# linear discriminant analysis\n",
    "\n",
    "# imports\n",
    "from sklearn.discriminant_analysis import LinearDiscriminantAnalysis\n",
    "from sklearn.metrics import accuracy_score\n",
    "\n",
    "# train model\n",
    "LDA=LinearDiscriminantAnalysis()\n",
    "LDA.fit(X_train, y_train)\n",
    "\n",
    "# accuracy\n",
    "y_pred_LDA=LDA.predict(X_test)\n",
    "accuracy=accuracy_score(y_test, y_pred_LDA)\n",
    "print('Accuracy:', accuracy)\n",
    "\n",
    "# classification report\n",
    "print(classification_report(y_test, y_pred_LDA))"
   ]
  },
  {
   "cell_type": "code",
   "execution_count": null,
   "metadata": {},
   "outputs": [],
   "source": [
    "# k neighbors classifier\n",
    "\n",
    "# imports\n",
    "from sklearn.neighbors import KNeighborsClassifier\n",
    "from sklearn.metrics import accuracy_score\n",
    "\n",
    "# train data\n",
    "KNN=KNeighborsClassifier()\n",
    "KNN.fit(X_train, y_train)\n",
    "\n",
    "# accuracy\n",
    "y_pred_KNN=KNN.predict(X_test)\n",
    "accuracy=accuracy_score(y_test, y_pred_KNN)\n",
    "print('Accuracy:', accuracy)\n",
    "\n",
    "# classification report\n",
    "print(classification_report(y_test, y_pred_KNN))"
   ]
  },
  {
   "cell_type": "code",
   "execution_count": null,
   "metadata": {},
   "outputs": [],
   "source": [
    "# decision tree classifier\n",
    "from sklearn.tree import DecisionTreeClassifier\n",
    "from sklearn.metrics import accuracy_score\n",
    "\n",
    "# train data\n",
    "DTC=DecisionTreeClassifier()\n",
    "DTC.fit(X_train, y_train)\n",
    "\n",
    "# accuracy\n",
    "y_pred_DTC=DTC.predict(X_test)\n",
    "accuracy=accuracy_score(y_test, y_pred_DTC)\n",
    "print('Accuracy:', accuracy)\n",
    "\n",
    "# classification report\n",
    "print(classification_report(y_test, y_pred_DTC))\n",
    "\n",
    "# feature importance for dtc\n",
    "\n",
    "feature_columns=np.array(X.columns)\n",
    "\n",
    "dtc_importance=DTC.feature_importances_\n",
    "\n",
    "index_by_importance=dtc_importance.argsort()\n",
    "\n",
    "for index in index_by_importance:\n",
    "    print(\"{}-{:.2f}%\".format(feature_columns[index],dtc_importance[index]*100.0))\n"
   ]
  },
  {
   "cell_type": "code",
   "execution_count": null,
   "metadata": {},
   "outputs": [],
   "source": [
    "# guassian naive bayes\n",
    "from sklearn.naive_bayes import GaussianNB\n",
    "from sklearn.metrics import accuracy_score\n",
    "\n",
    "# train data\n",
    "GNB=GaussianNB()\n",
    "GNB.fit(X_train, y_train)\n",
    "\n",
    "\n",
    "# accuracy\n",
    "y_pred_GNB=GNB.predict(X_test)\n",
    "accuracy=accuracy_score(y_test, y_pred_GNB)\n",
    "print('Accuracy:', accuracy)\n",
    "\n",
    "# classification report\n",
    "print(classification_report(y_test, y_pred_GNB))"
   ]
  },
  {
   "cell_type": "code",
   "execution_count": null,
   "metadata": {},
   "outputs": [],
   "source": [
    "# svc\n",
    "\n",
    "# imports\n",
    "from sklearn.svm import SVC\n",
    "from sklearn.metrics import accuracy_score\n",
    "\n",
    "# train data\n",
    "SVM=SVC(gamma='auto')\n",
    "SVM.fit(X_train, y_train)\n",
    "\n",
    "# accuracy\n",
    "y_pred_SVC=SVM.predict(X_test)\n",
    "accuracy=accuracy_score(y_test, y_pred_SVC)\n",
    "print('Accuracy:', accuracy)\n",
    "\n",
    "# classification report\n",
    "print(classification_report(y_test, y_pred_SVC))"
   ]
  },
  {
   "cell_type": "code",
   "execution_count": null,
   "metadata": {},
   "outputs": [],
   "source": [
    "joblib.dump(LR, 'model/LinearRegressionModel.pkl')"
   ]
  },
  {
   "cell_type": "code",
   "execution_count": null,
   "metadata": {},
   "outputs": [],
   "source": [
    "joblib.dump(LDA,'model/LDAmodel.pkl')"
   ]
  },
  {
   "cell_type": "code",
   "execution_count": null,
   "metadata": {},
   "outputs": [],
   "source": [
    "joblib.dump(gbr,'model/gbrModel.pkl')"
   ]
  },
  {
   "cell_type": "code",
   "execution_count": null,
   "metadata": {},
   "outputs": [],
   "source": [
    "joblib.dump(SVM,'model/SVMmodel.pkl')"
   ]
  }
 ],
 "metadata": {
  "kernelspec": {
   "display_name": "Python 3",
   "language": "python",
   "name": "python3"
  },
  "language_info": {
   "codemirror_mode": {
    "name": "ipython",
    "version": 3
   },
   "file_extension": ".py",
   "mimetype": "text/x-python",
   "name": "python",
   "nbconvert_exporter": "python",
   "pygments_lexer": "ipython3",
   "version": "3.11.9"
  }
 },
 "nbformat": 4,
 "nbformat_minor": 2
}
